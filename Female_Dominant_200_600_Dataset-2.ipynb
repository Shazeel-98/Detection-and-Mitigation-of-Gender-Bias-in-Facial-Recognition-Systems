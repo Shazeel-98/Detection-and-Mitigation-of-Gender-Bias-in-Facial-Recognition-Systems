{
  "cells": [
    {
      "cell_type": "code",
      "execution_count": null,
      "metadata": {
        "id": "jvwpsl2Oxyqb"
      },
      "outputs": [],
      "source": [
        "from google.colab.patches import cv2_imshow\n",
        "from skimage import io\n",
        "import os\n",
        "\n",
        "\n",
        "import pandas as pd\n",
        "import numpy as np\n",
        "import os\n",
        "import tensorflow as tf\n",
        "import cv2\n",
        "\n",
        "from  matplotlib import pyplot as plt\n",
        "import matplotlib.image as mpimg\n",
        "from matplotlib.image import imread\n",
        "import random\n",
        "import seaborn as sns\n",
        "from tqdm.notebook import tqdm\n",
        "from PIL import Image\n",
        "\n",
        "from sklearn.metrics import confusion_matrix\n",
        "from sklearn.metrics import ConfusionMatrixDisplay\n",
        "import tensorflow as tf\n",
        "from keras_preprocessing.image import load_img\n",
        "from keras.models import Sequential, Model\n",
        "from keras.layers import Dense, Conv2D, Dropout, Flatten, MaxPooling2D, BatchNormalization, Input"
      ]
    },
    {
      "cell_type": "code",
      "execution_count": null,
      "metadata": {
        "id": "8UCj6bHmY34k"
      },
      "outputs": [],
      "source": [
        "!pip install -q keras"
      ]
    },
    {
      "cell_type": "code",
      "execution_count": null,
      "metadata": {
        "id": "FOmZN3h2Al0c"
      },
      "outputs": [],
      "source": [
        "!pip install tensorflow"
      ]
    },
    {
      "cell_type": "code",
      "execution_count": null,
      "metadata": {
        "colab": {
          "base_uri": "https://localhost:8080/"
        },
        "id": "8zVR1anqvmMM",
        "outputId": "b32bbf16-8f26-44e3-d797-6a66aae27ceb"
      },
      "outputs": [
        {
          "output_type": "stream",
          "name": "stdout",
          "text": [
            "Done\n"
          ]
        }
      ],
      "source": [
        "from zipfile import ZipFile\n",
        "filename = \"Female Dominant 200 600.zip\"\n",
        "\n",
        "with ZipFile(filename, 'r') as zip:\n",
        "  zip.extractall()\n",
        "  print(\"Done\")"
      ]
    },
    {
      "cell_type": "code",
      "execution_count": null,
      "metadata": {
        "id": "D8T_qxTYv6kY"
      },
      "outputs": [],
      "source": []
    },
    {
      "cell_type": "code",
      "execution_count": null,
      "metadata": {
        "colab": {
          "base_uri": "https://localhost:8080/"
        },
        "id": "jqk-_igDv6nJ",
        "outputId": "19a1037b-67ec-4681-97ba-9139dce83398"
      },
      "outputs": [
        {
          "output_type": "execute_result",
          "data": {
            "text/plain": [
              "800"
            ]
          },
          "metadata": {},
          "execution_count": 3
        }
      ],
      "source": [
        "len(os.listdir('Female Dominant 200 600'))"
      ]
    },
    {
      "cell_type": "code",
      "execution_count": null,
      "metadata": {
        "colab": {
          "base_uri": "https://localhost:8080/"
        },
        "id": "5BBGE-sZv6px",
        "outputId": "8845636d-b60d-4260-8dda-230aaff5a0c4"
      },
      "outputs": [
        {
          "output_type": "stream",
          "name": "stdout",
          "text": [
            "Number of images: 800\n",
            "24_1_3_20170104234737428.jpg.chip.jpg\n"
          ]
        }
      ],
      "source": [
        "f_list = os.listdir('Female Dominant 200 600')\n",
        "\n",
        "\n",
        "f_num = len(f_list)\n",
        "print('Number of images:', f_num)\n",
        "print(f_list[0])"
      ]
    },
    {
      "cell_type": "code",
      "source": [
        "df = pd.DataFrame(f_list, columns = ['train_name'])\n",
        "\n",
        "df['train_gender'] = df.apply(lambda x : x['train_name'].split('_')[1], axis = 1).astype('int')\n",
        "\n",
        "df['train_demographical_area'] = df.apply(lambda x : x['train_name'].split('_')[2], axis = 1).astype('int')\n",
        "df.head()"
      ],
      "metadata": {
        "colab": {
          "base_uri": "https://localhost:8080/",
          "height": 204
        },
        "id": "NozN6MNN8Lsl",
        "outputId": "70a99e97-e6e7-4656-c382-de4ac8cc733a"
      },
      "execution_count": null,
      "outputs": [
        {
          "output_type": "execute_result",
          "data": {
            "text/plain": [
              "                              train_name  train_gender  \\\n",
              "0  24_1_3_20170104234737428.jpg.chip.jpg             1   \n",
              "1  30_1_0_20170109012829305.jpg.chip.jpg             1   \n",
              "2  29_1_2_20170116163921292.jpg.chip.jpg             1   \n",
              "3  28_1_1_20170112230737559.jpg.chip.jpg             1   \n",
              "4  21_0_3_20170104230524803.jpg.chip.jpg             0   \n",
              "\n",
              "   train_demographical_area  \n",
              "0                         3  \n",
              "1                         0  \n",
              "2                         2  \n",
              "3                         1  \n",
              "4                         3  "
            ],
            "text/html": [
              "\n",
              "  <div id=\"df-70e01342-fc78-4a22-9611-8ff4f0b72caf\">\n",
              "    <div class=\"colab-df-container\">\n",
              "      <div>\n",
              "<style scoped>\n",
              "    .dataframe tbody tr th:only-of-type {\n",
              "        vertical-align: middle;\n",
              "    }\n",
              "\n",
              "    .dataframe tbody tr th {\n",
              "        vertical-align: top;\n",
              "    }\n",
              "\n",
              "    .dataframe thead th {\n",
              "        text-align: right;\n",
              "    }\n",
              "</style>\n",
              "<table border=\"1\" class=\"dataframe\">\n",
              "  <thead>\n",
              "    <tr style=\"text-align: right;\">\n",
              "      <th></th>\n",
              "      <th>train_name</th>\n",
              "      <th>train_gender</th>\n",
              "      <th>train_demographical_area</th>\n",
              "    </tr>\n",
              "  </thead>\n",
              "  <tbody>\n",
              "    <tr>\n",
              "      <th>0</th>\n",
              "      <td>24_1_3_20170104234737428.jpg.chip.jpg</td>\n",
              "      <td>1</td>\n",
              "      <td>3</td>\n",
              "    </tr>\n",
              "    <tr>\n",
              "      <th>1</th>\n",
              "      <td>30_1_0_20170109012829305.jpg.chip.jpg</td>\n",
              "      <td>1</td>\n",
              "      <td>0</td>\n",
              "    </tr>\n",
              "    <tr>\n",
              "      <th>2</th>\n",
              "      <td>29_1_2_20170116163921292.jpg.chip.jpg</td>\n",
              "      <td>1</td>\n",
              "      <td>2</td>\n",
              "    </tr>\n",
              "    <tr>\n",
              "      <th>3</th>\n",
              "      <td>28_1_1_20170112230737559.jpg.chip.jpg</td>\n",
              "      <td>1</td>\n",
              "      <td>1</td>\n",
              "    </tr>\n",
              "    <tr>\n",
              "      <th>4</th>\n",
              "      <td>21_0_3_20170104230524803.jpg.chip.jpg</td>\n",
              "      <td>0</td>\n",
              "      <td>3</td>\n",
              "    </tr>\n",
              "  </tbody>\n",
              "</table>\n",
              "</div>\n",
              "      <button class=\"colab-df-convert\" onclick=\"convertToInteractive('df-70e01342-fc78-4a22-9611-8ff4f0b72caf')\"\n",
              "              title=\"Convert this dataframe to an interactive table.\"\n",
              "              style=\"display:none;\">\n",
              "        \n",
              "  <svg xmlns=\"http://www.w3.org/2000/svg\" height=\"24px\"viewBox=\"0 0 24 24\"\n",
              "       width=\"24px\">\n",
              "    <path d=\"M0 0h24v24H0V0z\" fill=\"none\"/>\n",
              "    <path d=\"M18.56 5.44l.94 2.06.94-2.06 2.06-.94-2.06-.94-.94-2.06-.94 2.06-2.06.94zm-11 1L8.5 8.5l.94-2.06 2.06-.94-2.06-.94L8.5 2.5l-.94 2.06-2.06.94zm10 10l.94 2.06.94-2.06 2.06-.94-2.06-.94-.94-2.06-.94 2.06-2.06.94z\"/><path d=\"M17.41 7.96l-1.37-1.37c-.4-.4-.92-.59-1.43-.59-.52 0-1.04.2-1.43.59L10.3 9.45l-7.72 7.72c-.78.78-.78 2.05 0 2.83L4 21.41c.39.39.9.59 1.41.59.51 0 1.02-.2 1.41-.59l7.78-7.78 2.81-2.81c.8-.78.8-2.07 0-2.86zM5.41 20L4 18.59l7.72-7.72 1.47 1.35L5.41 20z\"/>\n",
              "  </svg>\n",
              "      </button>\n",
              "      \n",
              "  <style>\n",
              "    .colab-df-container {\n",
              "      display:flex;\n",
              "      flex-wrap:wrap;\n",
              "      gap: 12px;\n",
              "    }\n",
              "\n",
              "    .colab-df-convert {\n",
              "      background-color: #E8F0FE;\n",
              "      border: none;\n",
              "      border-radius: 50%;\n",
              "      cursor: pointer;\n",
              "      display: none;\n",
              "      fill: #1967D2;\n",
              "      height: 32px;\n",
              "      padding: 0 0 0 0;\n",
              "      width: 32px;\n",
              "    }\n",
              "\n",
              "    .colab-df-convert:hover {\n",
              "      background-color: #E2EBFA;\n",
              "      box-shadow: 0px 1px 2px rgba(60, 64, 67, 0.3), 0px 1px 3px 1px rgba(60, 64, 67, 0.15);\n",
              "      fill: #174EA6;\n",
              "    }\n",
              "\n",
              "    [theme=dark] .colab-df-convert {\n",
              "      background-color: #3B4455;\n",
              "      fill: #D2E3FC;\n",
              "    }\n",
              "\n",
              "    [theme=dark] .colab-df-convert:hover {\n",
              "      background-color: #434B5C;\n",
              "      box-shadow: 0px 1px 3px 1px rgba(0, 0, 0, 0.15);\n",
              "      filter: drop-shadow(0px 1px 2px rgba(0, 0, 0, 0.3));\n",
              "      fill: #FFFFFF;\n",
              "    }\n",
              "  </style>\n",
              "\n",
              "      <script>\n",
              "        const buttonEl =\n",
              "          document.querySelector('#df-70e01342-fc78-4a22-9611-8ff4f0b72caf button.colab-df-convert');\n",
              "        buttonEl.style.display =\n",
              "          google.colab.kernel.accessAllowed ? 'block' : 'none';\n",
              "\n",
              "        async function convertToInteractive(key) {\n",
              "          const element = document.querySelector('#df-70e01342-fc78-4a22-9611-8ff4f0b72caf');\n",
              "          const dataTable =\n",
              "            await google.colab.kernel.invokeFunction('convertToInteractive',\n",
              "                                                     [key], {});\n",
              "          if (!dataTable) return;\n",
              "\n",
              "          const docLinkHtml = 'Like what you see? Visit the ' +\n",
              "            '<a target=\"_blank\" href=https://colab.research.google.com/notebooks/data_table.ipynb>data table notebook</a>'\n",
              "            + ' to learn more about interactive tables.';\n",
              "          element.innerHTML = '';\n",
              "          dataTable['output_type'] = 'display_data';\n",
              "          await google.colab.output.renderOutput(dataTable, element);\n",
              "          const docLink = document.createElement('div');\n",
              "          docLink.innerHTML = docLinkHtml;\n",
              "          element.appendChild(docLink);\n",
              "        }\n",
              "      </script>\n",
              "    </div>\n",
              "  </div>\n",
              "  "
            ]
          },
          "metadata": {},
          "execution_count": 5
        }
      ]
    },
    {
      "cell_type": "code",
      "execution_count": null,
      "metadata": {
        "colab": {
          "base_uri": "https://localhost:8080/",
          "height": 281
        },
        "id": "CWos9AyTzvjb",
        "outputId": "924835da-ad46-425d-edf8-abc81422809a"
      },
      "outputs": [
        {
          "output_type": "execute_result",
          "data": {
            "text/plain": [
              "Text(0.5, 1.0, 'Demographic Region Distribution in Dataset')"
            ]
          },
          "metadata": {},
          "execution_count": 6
        },
        {
          "output_type": "display_data",
          "data": {
            "text/plain": [
              "<Figure size 432x288 with 1 Axes>"
            ],
            "image/png": "[encoded data removed]"
          },
          "metadata": {}
        }
      ],
      "source": [
        "df['train_demographical_area'].value_counts().plot.pie(autopct=\"%1.1f%%\", labels = ['White' , 'Black' , 'Asian' , 'Indian'])\n",
        "plt.legend()\n",
        "plt.title(\"Demographic Region Distribution in Dataset\")"
      ]
    },
    {
      "cell_type": "code",
      "execution_count": null,
      "metadata": {
        "colab": {
          "base_uri": "https://localhost:8080/",
          "height": 281
        },
        "id": "PmKAHR8KzsQk",
        "outputId": "9536f8f0-ad50-4473-b1b5-d68486e9ad1a"
      },
      "outputs": [
        {
          "output_type": "execute_result",
          "data": {
            "text/plain": [
              "Text(0.5, 1.0, 'Gender Distribution in Dataset')"
            ]
          },
          "metadata": {},
          "execution_count": 7
        },
        {
          "output_type": "display_data",
          "data": {
            "text/plain": [
              "<Figure size 432x288 with 1 Axes>"
            ],
            "image/png": "[encoded data removed]"
          },
          "metadata": {}
        }
      ],
      "source": [
        "df['train_gender'].value_counts().plot.pie(autopct=\"%1.1f%%\", labels = ['Male' , 'Female'])\n",
        "plt.legend()\n",
        "plt.title('Gender Distribution in Dataset')"
      ]
    },
    {
      "cell_type": "code",
      "execution_count": null,
      "metadata": {
        "colab": {
          "base_uri": "https://localhost:8080/"
        },
        "id": "QroT_NBpTWf0",
        "outputId": "fc62f2a0-fec4-4774-8654-2c05755be474"
      },
      "outputs": [
        {
          "output_type": "stream",
          "name": "stdout",
          "text": [
            "Done\n"
          ]
        }
      ],
      "source": [
        "from zipfile import ZipFile\n",
        "filename = \"all.zip\"\n",
        "\n",
        "with ZipFile(filename, 'r') as zip:\n",
        "  zip.extractall()\n",
        "  print(\"Done\")"
      ]
    },
    {
      "cell_type": "code",
      "execution_count": null,
      "metadata": {
        "colab": {
          "base_uri": "https://localhost:8080/"
        },
        "id": "YXLZAl-CXyWD",
        "outputId": "41371124-9da9-48db-a005-50e152e93354"
      },
      "outputs": [
        {
          "output_type": "stream",
          "name": "stdout",
          "text": [
            "Number of images: 104\n",
            "['24_1_3_20170104234737428.jpg.chip.jpg', '30_1_0_20170109012829305.jpg.chip.jpg', '29_1_2_20170116163921292.jpg.chip.jpg', '28_1_1_20170112230737559.jpg.chip.jpg', '21_0_3_20170104230524803.jpg.chip.jpg', '25_1_3_20170104222350215.jpg.chip.jpg', '22_1_3_20170104222547654.jpg.chip.jpg', '29_1_1_20170112205844564.jpg.chip.jpg', '23_0_2_20170116172858865.jpg.chip.jpg', '22_0_0_20170111181750310.jpg.chip.jpg', '37_1_3_20170109141945326.jpg.chip.jpg', '25_0_1_20170113145615148.jpg.chip.jpg', '25_1_2_20170104020339110.jpg.chip.jpg', '23_0_0_20170117144550331.jpg.chip.jpg', '24_0_1_20170113132543250.jpg.chip.jpg', '25_0_2_20170104192902767.jpg.chip.jpg', '25_1_0_20170104022204452.jpg.chip.jpg', '26_1_1_20170112233658982.jpg.chip.jpg', '29_1_0_20170109002758865.jpg.chip.jpg', '28_1_1_20170112233537928.jpg.chip.jpg', '22_1_1_20170112214852574.jpg.chip.jpg', '21_1_1_20170112193009590.jpg.chip.jpg', '26_1_1_20170112235910121.jpg.chip.jpg', '25_0_1_20170113150958863.jpg.chip.jpg', '24_1_0_20170104022714148.jpg.chip.jpg', '23_1_0_20170105183727831.jpg.chip.jpg', '24_1_3_20170104232545657.jpg.chip.jpg', '34_1_3_20170109141950796.jpg.chip.jpg', '23_1_0_20170112234027666.jpg.chip.jpg', '25_1_3_20170104222218775.jpg.chip.jpg', '35_1_3_20170109135835957.jpg.chip.jpg', '21_0_0_20170117141910383.jpg.chip.jpg', '32_1_2_20170109135928794.jpg.chip.jpg', '34_1_0_20170104022106301.jpg.chip.jpg', '24_0_1_20170113133945657.jpg.chip.jpg', '25_0_3_20170104230516489.jpg.chip.jpg', '23_1_2_20170116164541818.jpg.chip.jpg', '26_1_2_20170116163413372.jpg.chip.jpg', '30_1_3_20170117181327196.jpg.chip.jpg', '21_0_0_20170117141529337.jpg.chip.jpg', '23_1_0_20170105002627948.jpg.chip.jpg', '34_1_1_20170112231510054.jpg.chip.jpg', '28_1_2_20170109141410232.jpg.chip.jpg', '28_1_2_20170116161312148.jpg.chip.jpg', '25_1_0_20170104023032454.jpg.chip.jpg', '37_1_3_20170119202307060.jpg.chip.jpg', '24_1_2_20170105184025097.jpg.chip.jpg', '38_1_0_20170104183625399.jpg.chip.jpg', '21_0_2_20170116170741864.jpg.chip.jpg', '22_1_1_20170112192911566.jpg.chip.jpg', '26_1_0_20170105183935352.jpg.chip.jpg', '24_0_3_20170104230213449.jpg.chip.jpg', '34_1_0_20170104174537956.jpg.chip.jpg', '32_1_2_20170116164625227.jpg.chip.jpg', '29_1_2_20170116163011756.jpg.chip.jpg', '27_1_2_20170116163739668.jpg.chip.jpg', '21_1_3_20170104222121713.jpg.chip.jpg', '38_1_2_20170116164609841.jpg.chip.jpg', '24_1_1_20170112230733998.jpg.chip.jpg', '21_0_1_20170113133117587.jpg.chip.jpg', '23_1_1_20170112203943260.jpg.chip.jpg', '21_1_3_20170104222758121.jpg.chip.jpg', '37_1_2_20170116184911351.jpg.chip.jpg', '38_1_3_20170105002639123.jpg.chip.jpg', '21_1_1_20170112193012350.jpg.chip.jpg', '24_0_3_20170115230942077.jpg.chip.jpg', '28_1_2_20170105162418251.jpg.chip.jpg', '37_1_3_20170119152842760.jpg.chip.jpg', '29_1_2_20170116163132225.jpg.chip.jpg', '23_1_3_20170119164419982.jpg.chip.jpg', '21_0_0_20170117193719188.jpg.chip.jpg', '29_1_2_20170116164242023.jpg.chip.jpg', '35_1_2_20170105162414267.jpg.chip.jpg', '22_0_3_20170119155849290.jpg.chip.jpg', '28_1_0_20170116220243853.jpg.chip.jpg', '22_0_0_20170104230045815.jpg.chip.jpg', '25_1_0_20170104021242700.jpg.chip.jpg', '27_1_0_20170109013152498.jpg.chip.jpg', '37_1_1_20170113001818716.jpg.chip.jpg', '23_0_0_20170117144406947.jpg.chip.jpg', '22_1_0_20170103180211110.jpg.chip.jpg', '24_1_0_20170105000615467.jpg.chip.jpg', '29_1_1_20170105183913087.jpg.chip.jpg', '35_1_2_20170116164706883.jpg.chip.jpg', '35_1_0_20170116201544674.jpg.chip.jpg', '29_1_0_20170105163239939.jpg.chip.jpg', '21_0_1_20170113133218153.jpg.chip.jpg', '24_0_2_20170104021847349.jpg.chip.jpg', '26_1_2_20170116164549452.jpg.chip.jpg', '24_0_2_20161219192221394.jpg.chip.jpg', '32_1_1_20170112213013302.jpg.chip.jpg', '25_1_1_20170112205034330.jpg.chip.jpg', '25_1_2_20170104021040316.jpg.chip.jpg', '22_0_3_20170117143018402.jpg.chip.jpg', '25_0_3_20170104230227202.jpg.chip.jpg', '35_1_3_20170104235558235.jpg.chip.jpg', '26_1_1_20170112235515129.jpg.chip.jpg', '25_0_0_20170104011143168.jpg.chip.jpg', '28_1_3_20170119194448739.jpg.chip.jpg', '23_1_3_20170117185811408.jpg.chip.jpg', '37_1_1_20170115235037275.jpg.chip.jpg', '21_1_1_20170112202838467.jpg.chip.jpg', '24_1_2_20170105162251371.jpg.chip.jpg', '24_0_1_20170113134042697.jpg.chip.jpg', '29_1_3_20170104232346298.jpg.chip.jpg', '35_1_1_20170112210358868.jpg.chip.jpg', '37_1_0_20170103181740689.jpg.chip.jpg', '25_1_3_20170104222509455.jpg.chip.jpg', '22_1_1_20170112230505525.jpg.chip.jpg', '37_1_3_20170119163035788.jpg.chip.jpg', '24_1_1_20170112231700838.jpg.chip.jpg', '27_1_1_20170112234451680.jpg.chip.jpg', '37_1_1_20170116021749594.jpg.chip.jpg', '21_0_2_20170112192931470.jpg.chip.jpg', '25_0_1_20170113151453752.jpg.chip.jpg', '32_1_3_20170109132040475.jpg.chip.jpg', '21_0_3_20170104225826937.jpg.chip.jpg', '23_1_2_20170104020053452.jpg.chip.jpg', '25_0_1_20170113151354352.jpg.chip.jpg', '38_1_3_20170104232742666.jpg.chip.jpg', '21_1_0_20170105002525812.jpg.chip.jpg', '29_1_0_20170105172818813.jpg.chip.jpg', '37_1_0_20170103182952754.jpg.chip.jpg', '26_1_0_20170104235143076.jpg.chip.jpg', '35_1_0_20170116201625242.jpg.chip.jpg', '26_1_1_20170112235057871.jpg.chip.jpg', '30_1_3_20170117145238579.jpg.chip.jpg', '32_1_0_20170103182605514.jpg.chip.jpg', '34_1_1_20170108230211421.jpg.chip.jpg', '34_1_1_20170104165020320.jpg.chip.jpg', '27_1_3_20170119155634673.jpg.chip.jpg', '22_0_1_20170113133327736.jpg.chip.jpg', '22_0_1_20170113133303935.jpg.chip.jpg', '29_1_0_20170111182452813.jpg.chip.jpg', '24_1_2_20170104021559044.jpg.chip.jpg', '23_0_3_20170119164205782.jpg.chip.jpg', '26_1_3_20170104232518026.jpg.chip.jpg', '29_1_2_20170116164937910.jpg.chip.jpg', '34_1_2_20170104201443273.jpg.chip.jpg', '32_1_0_20170103181503793.jpg.chip.jpg', '23_1_1_20170103212737732.jpg.chip.jpg', '24_1_0_20170105003235308.jpg.chip.jpg', '27_1_2_20170116163658895.jpg.chip.jpg', '22_1_0_20170103235726923.jpg.chip.jpg', '23_0_0_20170117144526121.jpg.chip.jpg', '34_1_0_20170103230321513.jpg.chip.jpg', '25_0_0_20170113174036233.jpg.chip.jpg', '21_1_1_20170112193102422.jpg.chip.jpg', '21_1_2_20170104015820531.jpg.chip.jpg', '29_1_0_20170109132341425.jpg.chip.jpg', '30_1_3_20170117181352869.jpg.chip.jpg', '29_1_3_20170104214540068.jpg.chip.jpg', '23_0_1_20170113133840296.jpg.chip.jpg', '37_1_2_20170105172724340.jpg.chip.jpg', '28_1_2_20170105162338411.jpg.chip.jpg', '23_0_1_20170113150723591.jpg.chip.jpg', '30_1_0_20170109141417666.jpg.chip.jpg', '23_1_0_20170112234126720.jpg.chip.jpg', '35_1_0_20170116203950507.jpg.chip.jpg', '24_0_3_20170104230211113.jpg.chip.jpg', '24_1_3_20170104232256105.jpg.chip.jpg', '24_1_2_20170109213251114.jpg.chip.jpg', '21_1_2_20170105002530429.jpg.chip.jpg', '27_1_1_20170113000852746.jpg.chip.jpg', '35_1_0_20170114033327130.jpg.chip.jpg', '25_1_1_20170112205059883.jpg.chip.jpg', '23_1_3_20170119164040174.jpg.chip.jpg', '25_0_2_20170104021424381.jpg.chip.jpg', '37_1_1_20170116021920799.jpg.chip.jpg', '26_1_0_20170105183649031.jpg.chip.jpg', '23_1_1_20170112192422750.jpg.chip.jpg', '23_0_0_20170117144545593.jpg.chip.jpg', '24_1_0_20170105162704533.jpg.chip.jpg', '22_0_3_20170119160301570.jpg.chip.jpg', '38_1_2_20170116161943473.jpg.chip.jpg', '35_1_2_20170116164727094.jpg.chip.jpg', '26_1_1_20170112234340711.jpg.chip.jpg', '28_1_2_20170105000553851.jpg.chip.jpg', '37_1_1_20170112220140249.jpg.chip.jpg', '22_0_0_20170110232213323.jpg.chip.jpg', '27_1_1_20170113001034770.jpg.chip.jpg', '23_0_3_20170119164331517.jpg.chip.jpg', '35_1_2_20170109010122762.jpg.chip.jpg', '21_1_3_20170104222118687.jpg.chip.jpg', '34_1_3_20170119152703935.jpg.chip.jpg', '23_1_2_20170116172757270.jpg.chip.jpg', '22_0_1_20170110223418177.jpg.chip.jpg', '38_1_1_20170112235946602.jpg.chip.jpg', '30_1_1_20170113195544997.jpg.chip.jpg', '35_1_1_20170112204654001.jpg.chip.jpg', '30_1_0_20170116191956794.jpg.chip.jpg', '21_0_0_20170117142053066.jpg.chip.jpg', '37_1_2_20170105172732733.jpg.chip.jpg', '35_1_3_20170109140914004.jpg.chip.jpg', '22_1_2_20170104231245440.jpg.chip.jpg', '27_1_2_20170116163736839.jpg.chip.jpg', '21_1_0_20170104234933489.jpg.chip.jpg', '27_1_3_20170119193219282.jpg.chip.jpg', '32_1_0_20170103180822745.jpg.chip.jpg', '21_0_1_20170113145729669.jpg.chip.jpg', '32_1_2_20170116162312021.jpg.chip.jpg', '32_1_2_20170109141342355.jpg.chip.jpg', '35_1_2_20170116164633129.jpg.chip.jpg', '34_1_1_20170113000209880.jpg.chip.jpg', '21_1_2_20170104015832388.jpg.chip.jpg', '37_1_3_20170119193409372.jpg.chip.jpg', '28_1_0_20170116202056699.jpg.chip.jpg', '34_1_2_20170104023010725.jpg.chip.jpg', '25_1_3_20170104214624646.jpg.chip.jpg', '32_1_3_20170109134532682.jpg.chip.jpg', '23_0_2_20170108224712804.jpg.chip.jpg', '21_1_1_20170112202847954.jpg.chip.jpg', '22_0_2_20170116161333666.jpg.chip.jpg', '25_1_2_20170104015850244.jpg.chip.jpg', '27_1_1_20170112234549479.jpg.chip.jpg', '29_1_3_20170104222730103.jpg.chip.jpg', '22_1_0_20170105002545990.jpg.chip.jpg', '25_0_0_20170113181532013.jpg.chip.jpg', '22_1_3_20170104222126558.jpg.chip.jpg', '32_1_2_20170109141403511.jpg.chip.jpg', '21_1_0_20170105183508735.jpg.chip.jpg', '24_0_3_20170104230147273.jpg.chip.jpg', '25_0_3_20170104214432805.jpg.chip.jpg', '27_1_0_20170105000743720.jpg.chip.jpg', '22_0_3_20170119144723733.jpg.chip.jpg', '29_1_2_20170116163350492.jpg.chip.jpg', '22_1_3_20170104222220913.jpg.chip.jpg', '32_1_1_20170112213704768.jpg.chip.jpg', '21_0_3_20170117141619327.jpg.chip.jpg', '23_1_0_20170112234128328.jpg.chip.jpg', '37_1_2_20170116192038085.jpg.chip.jpg', '38_1_2_20170113190418047.jpg.chip.jpg', '32_1_0_20170103181759833.jpg.chip.jpg', '29_1_3_20170104232524938.jpg.chip.jpg', '38_1_2_20170109002952813.jpg.chip.jpg', '26_1_3_20170104234454339.jpg.chip.jpg', '22_0_0_20170108224621224.jpg.chip.jpg', '22_1_1_20170112203821018.jpg.chip.jpg', '24_1_2_20170104022044502.jpg.chip.jpg', '22_1_2_20170114033415747.jpg.chip.jpg', '32_1_3_20170104235736013.jpg.chip.jpg', '23_0_2_20170114024549242.jpg.chip.jpg', '23_1_2_20170104020318141.jpg.chip.jpg', '28_1_0_20170116214232243.jpg.chip.jpg', '24_0_2_20170104020029454.jpg.chip.jpg', '38_1_2_20170109132801338.jpg.chip.jpg', '24_1_2_20170104021917324.jpg.chip.jpg', '30_1_3_20170117150440114.jpg.chip.jpg', '28_1_0_20170116220300753.jpg.chip.jpg', '38_1_3_20170104235012233.jpg.chip.jpg', '24_0_3_20170117144123778.jpg.chip.jpg', '26_1_2_20170116163008149.jpg.chip.jpg', '25_0_2_20170116174816852.jpg.chip.jpg', '22_1_0_20170104021327948.jpg.chip.jpg', '26_1_0_20170105163517523.jpg.chip.jpg', '24_0_0_20170116215529092.jpg.chip.jpg', '28_1_3_20170119194934347.jpg.chip.jpg', '38_1_0_20170104184650846.jpg.chip.jpg', '27_1_0_20170104021653885.jpg.chip.jpg', '24_0_1_20170113132554696.jpg.chip.jpg', '21_1_1_20170112193015117.jpg.chip.jpg', '22_0_2_20170104015701971.jpg.chip.jpg', '30_1_0_20170105170137612.jpg.chip.jpg', '25_1_2_20170104020655188.jpg.chip.jpg', '22_1_0_20170104165415377.jpg.chip.jpg', '37_1_0_20170103183019306.jpg.chip.jpg', '29_1_2_20170116163331282.jpg.chip.jpg', '28_1_1_20170112234152465.jpg.chip.jpg', '23_0_3_20170119164316726.jpg.chip.jpg', '35_1_2_20170112191512046.jpg.chip.jpg', '21_0_1_20170113133118839.jpg.chip.jpg', '28_1_3_20170119194821963.jpg.chip.jpg', '34_1_2_20170116191659122.jpg.chip.jpg', '32_1_1_20170112215155305.jpg.chip.jpg', '26_1_1_20170112235540169.jpg.chip.jpg', '34_1_1_20170112213659687.jpg.chip.jpg', '23_0_2_20170116172908582.jpg.chip.jpg', '22_1_2_20170116161424702.jpg.chip.jpg', '28_1_1_20170112234500344.jpg.chip.jpg', '35_1_3_20170104234658417.jpg.chip.jpg', '29_1_1_20170112214912446.jpg.chip.jpg', '25_0_3_20170104214610101.jpg.chip.jpg', '32_1_0_20170103182609772.jpg.chip.jpg', '34_1_2_20170109140259136.jpg.chip.jpg', '22_1_3_20170104222151616.jpg.chip.jpg', '23_1_2_20170107213827250.jpg.chip.jpg', '22_0_0_20170104225920241.jpg.chip.jpg', '22_0_1_20170113132532656.jpg.chip.jpg', '24_0_0_20170114030346768.jpg.chip.jpg', '24_1_0_20170104234820025.jpg.chip.jpg', '24_0_0_20170114032026665.jpg.chip.jpg', '23_1_0_20170111182452759.jpg.chip.jpg', '21_1_0_20170104231331482.jpg.chip.jpg', '23_0_3_20170119164313321.jpg.chip.jpg', '24_0_2_20170104020112732.jpg.chip.jpg', '24_1_3_20170104231931545.jpg.chip.jpg', '23_1_0_20170112234220808.jpg.chip.jpg', '27_1_0_20170105162221371.jpg.chip.jpg', '22_1_3_20170104222214551.jpg.chip.jpg', '30_1_2_20170105161432042.jpg.chip.jpg', '23_1_1_20170112204436531.jpg.chip.jpg', '37_1_0_20170103183012994.jpg.chip.jpg', '23_1_1_20170112203929794.jpg.chip.jpg', '32_1_0_20170103182600698.jpg.chip.jpg', '35_1_0_20170116201420399.jpg.chip.jpg', '27_1_3_20170119155424633.jpg.chip.jpg', '29_1_0_20170109134431956.jpg.chip.jpg', '23_1_2_20170104021026844.jpg.chip.jpg', '23_0_3_20170119164159892.jpg.chip.jpg', '32_1_1_20170112210630029.jpg.chip.jpg', '22_1_1_20170105183837056.jpg.chip.jpg', '21_1_3_20170104222120446.jpg.chip.jpg', '23_1_3_20170119164425613.jpg.chip.jpg', '38_1_1_20170112211709309.jpg.chip.jpg', '27_1_2_20170116163625314.jpg.chip.jpg', '23_0_1_20170113150854335.jpg.chip.jpg', '37_1_1_20170116001322849.jpg.chip.jpg', '25_0_1_20170113145218790.jpg.chip.jpg', '30_1_2_20170104022925822.jpg.chip.jpg', '27_1_2_20170116163651888.jpg.chip.jpg', '26_1_3_20170104235019355.jpg.chip.jpg', '30_1_0_20170108225424420.jpg.chip.jpg', '24_1_1_20170112231628815.jpg.chip.jpg', '22_0_2_20170104021111388.jpg.chip.jpg', '21_1_0_20170109213123896.jpg.chip.jpg', '23_1_3_20170119164326981.jpg.chip.jpg', '22_0_3_20170119151253871.jpg.chip.jpg', '28_1_3_20170119164514645.jpg.chip.jpg', '26_1_2_20170116163019946.jpg.chip.jpg', '22_1_3_20170104222612607.jpg.chip.jpg', '26_1_0_20170105002839534.jpg.chip.jpg', '38_1_0_20170103183214380.jpg.chip.jpg', '37_1_2_20170105162546659.jpg.chip.jpg', '27_1_0_20170109132133665.jpg.chip.jpg', '24_1_1_20170112204854107.jpg.chip.jpg', '21_0_3_20170119150216454.jpg.chip.jpg', '34_1_3_20170119152405425.jpg.chip.jpg', '21_1_1_20170112202846794.jpg.chip.jpg', '30_1_1_20170113011704335.jpg.chip.jpg', '37_1_0_20170103163519252.jpg.chip.jpg', '29_1_2_20170116164927601.jpg.chip.jpg', '22_1_2_20170116162023656.jpg.chip.jpg', '24_1_2_20170104021300885.jpg.chip.jpg', '32_1_0_20170103182614674.jpg.chip.jpg', '24_1_1_20170112204824258.jpg.chip.jpg', '30_1_0_20170116191315733.jpg.chip.jpg', '38_1_0_20170104002144725.jpg.chip.jpg', '25_0_1_20170113150701015.jpg.chip.jpg', '21_0_3_20170117141644440.jpg.chip.jpg', '32_1_1_20170112213321285.jpg.chip.jpg', '35_1_3_20170104231728913.jpg.chip.jpg', '32_1_1_20170112215044104.jpg.chip.jpg', '26_1_0_20170104235427939.jpg.chip.jpg', '38_1_0_20170104171708706.jpg.chip.jpg', '30_1_1_20170114024643760.jpg.chip.jpg', '25_1_0_20170105000610412.jpg.chip.jpg', '37_1_3_20170119202521964.jpg.chip.jpg', '24_0_1_20170103212749284.jpg.chip.jpg', '30_1_2_20170104020950540.jpg.chip.jpg', '34_1_0_20170104170153185.jpg.chip.jpg', '22_0_1_20170102233341092.jpg.chip.jpg', '38_1_3_20170104235005720.jpg.chip.jpg', '25_1_1_20170103182259857.jpg.chip.jpg', '23_1_3_20170119155754275.jpg.chip.jpg', '27_1_3_20170119163731380.jpg.chip.jpg', '32_1_3_20170104232241306.jpg.chip.jpg', '38_1_0_20170103184101115.jpg.chip.jpg', '22_1_3_20170104222553543.jpg.chip.jpg', '23_0_1_20170114032011297.jpg.chip.jpg', '35_1_1_20170112193019582.jpg.chip.jpg', '25_0_3_20170104214558568.jpg.chip.jpg', '25_1_1_20170112193002220.jpg.chip.jpg', '22_0_2_20170104021129925.jpg.chip.jpg', '21_0_3_20170104230718873.jpg.chip.jpg', '22_0_3_20170117154523094.jpg.chip.jpg', '27_1_2_20170116163734036.jpg.chip.jpg', '29_1_1_20170109134854367.jpg.chip.jpg', '21_1_1_20170112193104310.jpg.chip.jpg', '25_1_3_20170104222511735.jpg.chip.jpg', '32_1_2_20170116164214489.jpg.chip.jpg', '22_0_0_20170105161701210.jpg.chip.jpg', '28_1_2_20170104021815094.jpg.chip.jpg', '24_0_1_20170112204730931.jpg.chip.jpg', '24_0_0_20170115230945548.jpg.chip.jpg', '22_1_2_20170104022012028.jpg.chip.jpg', '25_1_1_20170103230312265.jpg.chip.jpg', '34_1_1_20170112234631399.jpg.chip.jpg', '38_1_0_20170104183632893.jpg.chip.jpg', '30_1_3_20170117181341092.jpg.chip.jpg', '23_0_2_20170116172805150.jpg.chip.jpg', '24_1_2_20170104021837189.jpg.chip.jpg', '34_1_3_20170119155627753.jpg.chip.jpg', '23_0_3_20170119164051638.jpg.chip.jpg', '30_1_3_20170117181345172.jpg.chip.jpg', '22_0_0_20170104230116624.jpg.chip.jpg', '32_1_3_20170104235603636.jpg.chip.jpg', '30_1_1_20170113012621729.jpg.chip.jpg', '28_1_2_20170104022917342.jpg.chip.jpg', '35_1_3_20170104235206234.jpg.chip.jpg', '28_1_1_20170112231943575.jpg.chip.jpg', '38_1_1_20170112231516417.jpg.chip.jpg', '25_0_0_20170105162443771.jpg.chip.jpg', '35_1_1_20170112191352903.jpg.chip.jpg', '30_1_1_20170113013050208.jpg.chip.jpg', '30_1_3_20170117181342861.jpg.chip.jpg', '28_1_2_20170104023041166.jpg.chip.jpg', '34_1_2_20170105172720493.jpg.chip.jpg', '22_1_0_20170103183738666.jpg.chip.jpg', '37_1_3_20170109132653966.jpg.chip.jpg', '28_1_3_20170119154512882.jpg.chip.jpg', '30_1_2_20170105002521620.jpg.chip.jpg', '23_0_0_20170117144620972.jpg.chip.jpg', '38_1_2_20170116153446750.jpg.chip.jpg', '29_1_0_20170105165153564.jpg.chip.jpg', '23_0_2_20170116172856091.jpg.chip.jpg', '38_1_3_20170104214200582.jpg.chip.jpg', '29_1_0_20170109134017138.jpg.chip.jpg', '25_0_0_20170105184137702.jpg.chip.jpg', '24_0_2_20161219192432539.jpg.chip.jpg', '38_1_3_20170109140636847.jpg.chip.jpg', '25_0_3_20170104214602149.jpg.chip.jpg', '37_1_2_20170104005945096.jpg.chip.jpg', '26_1_3_20170104235113586.jpg.chip.jpg', '21_0_0_20170117142115098.jpg.chip.jpg', '25_1_3_20161220222256467.jpg.chip.jpg', '21_0_0_20170117141603616.jpg.chip.jpg', '24_1_3_20170104234808251.jpg.chip.jpg', '21_0_1_20170114030009371.jpg.chip.jpg', '23_0_3_20170119164352326.jpg.chip.jpg', '23_0_3_20170119164314853.jpg.chip.jpg', '34_1_0_20170105001216267.jpg.chip.jpg', '29_1_3_20170104232621386.jpg.chip.jpg', '29_1_1_20170112204807283.jpg.chip.jpg', '28_1_1_20170112235036823.jpg.chip.jpg', '24_0_1_20170113132717504.jpg.chip.jpg', '21_1_1_20170112193005893.jpg.chip.jpg', '25_1_2_20170104020903060.jpg.chip.jpg', '35_1_2_20170116164245925.jpg.chip.jpg', '27_1_3_20170119194359132.jpg.chip.jpg', '29_1_1_20170112211222837.jpg.chip.jpg', '34_1_2_20170105164106036.jpg.chip.jpg', '24_1_1_20170112231342878.jpg.chip.jpg', '35_1_3_20170104223440424.jpg.chip.jpg', '23_1_1_20170103223013127.jpg.chip.jpg', '23_0_0_20170117144517953.jpg.chip.jpg', '26_1_3_20170104235111171.jpg.chip.jpg', '25_1_0_20170104234942017.jpg.chip.jpg', '24_1_1_20170112231707948.jpg.chip.jpg', '22_1_2_20170116162441662.jpg.chip.jpg', '37_1_0_20170103183016626.jpg.chip.jpg', '25_1_2_20170104021412148.jpg.chip.jpg', '37_1_1_20170114024523051.jpg.chip.jpg', '28_1_3_20170119194616045.jpg.chip.jpg', '24_1_0_20170104022030117.jpg.chip.jpg', '38_1_2_20170109002533677.jpg.chip.jpg', '34_1_3_20170119165307574.jpg.chip.jpg', '23_1_2_20170116172803446.jpg.chip.jpg', '29_1_3_20170104223300263.jpg.chip.jpg', '22_0_1_20170113132548672.jpg.chip.jpg', '30_1_0_20170116201303368.jpg.chip.jpg', '34_1_0_20170104235402171.jpg.chip.jpg', '26_1_2_20170116171202584.jpg.chip.jpg', '23_1_2_20170105162602515.jpg.chip.jpg', '24_0_0_20170116213539070.jpg.chip.jpg', '21_0_2_20170103234754659.jpg.chip.jpg', '21_0_1_20170113133115864.jpg.chip.jpg', '34_1_1_20170113000302889.jpg.chip.jpg', '23_1_1_20170112204431018.jpg.chip.jpg', '37_1_1_20170116160739474.jpg.chip.jpg', '25_0_0_20170104004153743.jpg.chip.jpg', '38_1_1_20170112231328158.jpg.chip.jpg', '25_0_0_20170110231839623.jpg.chip.jpg', '29_1_2_20170116163403273.jpg.chip.jpg', '28_1_0_20170116211814489.jpg.chip.jpg', '24_0_3_20170104230150057.jpg.chip.jpg', '28_1_3_20170119194949914.jpg.chip.jpg', '25_0_2_20170116170511407.jpg.chip.jpg', '25_0_1_20170113151512351.jpg.chip.jpg', '38_1_3_20170104234724459.jpg.chip.jpg', '21_0_0_20170117193733557.jpg.chip.jpg', '37_1_1_20170116022100642.jpg.chip.jpg', '35_1_3_20170104235136827.jpg.chip.jpg', '37_1_1_20170117164315529.jpg.chip.jpg', '27_1_0_20170109132420616.jpg.chip.jpg', '25_0_2_20170116165108577.jpg.chip.jpg', '22_0_3_20170117143056386.jpg.chip.jpg', '22_1_3_20170104222152991.jpg.chip.jpg', '21_0_0_20170117141823641.jpg.chip.jpg', '25_0_2_20170116172425264.jpg.chip.jpg', '37_1_3_20170117183437046.jpg.chip.jpg', '35_1_1_20170112204427427.jpg.chip.jpg', '27_1_1_20170113002029522.jpg.chip.jpg', '23_1_0_20170112234124928.jpg.chip.jpg', '26_1_1_20170112231645231.jpg.chip.jpg', '22_1_0_20170105183534558.jpg.chip.jpg', '22_0_0_20170110232146790.jpg.chip.jpg', '22_1_2_20170104022959942.jpg.chip.jpg', '22_0_0_20170110232206562.jpg.chip.jpg', '25_1_0_20170104183350805.jpg.chip.jpg', '27_1_2_20170116163645443.jpg.chip.jpg', '34_1_0_20170104173038042.jpg.chip.jpg', '35_1_1_20170112205159460.jpg.chip.jpg', '25_1_0_20170103183722595.jpg.chip.jpg', '22_1_0_20170105184130182.jpg.chip.jpg', '30_1_1_20170113011807912.jpg.chip.jpg', '27_1_2_20170116163705155.jpg.chip.jpg', '37_1_0_20170103183009635.jpg.chip.jpg', '29_1_3_20170104232729436.jpg.chip.jpg', '25_0_3_20170104230440360.jpg.chip.jpg', '26_1_0_20170105183644799.jpg.chip.jpg', '24_0_2_20170104234829387.jpg.chip.jpg', '32_1_2_20170113002101524.jpg.chip.jpg', '32_1_3_20170109140230761.jpg.chip.jpg', '27_1_3_20170119164348390.jpg.chip.jpg', '34_1_3_20170119163642029.jpg.chip.jpg', '23_1_2_20170105162514564.jpg.chip.jpg', '37_1_0_20170103175351545.jpg.chip.jpg', '25_1_2_20170104015838780.jpg.chip.jpg', '29_1_0_20170105002624350.jpg.chip.jpg', '35_1_1_20170112203826226.jpg.chip.jpg', '21_1_3_20170104222116782.jpg.chip.jpg', '23_1_1_20170112234139392.jpg.chip.jpg', '27_1_0_20170109002819172.jpg.chip.jpg', '30_1_0_20170105165034356.jpg.chip.jpg', '26_1_3_20170104235148954.jpg.chip.jpg', '23_0_2_20170116172906979.jpg.chip.jpg', '32_1_3_20170105003157142.jpg.chip.jpg', '25_1_2_20170104021048828.jpg.chip.jpg', '23_0_0_20170117144552915.jpg.chip.jpg', '24_0_2_20170104015809173.jpg.chip.jpg', '21_1_3_20170104223626119.jpg.chip.jpg', '32_1_2_20170109135854714.jpg.chip.jpg', '25_0_3_20170104214444117.jpg.chip.jpg', '25_1_1_20170112205043660.jpg.chip.jpg', '35_1_2_20170116165645870.jpg.chip.jpg', '38_1_1_20170112234250209.jpg.chip.jpg', '34_1_3_20170119200614779.jpg.chip.jpg', '23_1_0_20170112234244982.jpg.chip.jpg', '25_0_2_20170116161438706.jpg.chip.jpg', '32_1_3_20170104235157578.jpg.chip.jpg', '24_0_2_20161219190613907.jpg.chip.jpg', '26_1_1_20170112235543761.jpg.chip.jpg', '32_1_0_20170103182408417.jpg.chip.jpg', '26_1_2_20170116163914678.jpg.chip.jpg', '24_1_0_20170105000720347.jpg.chip.jpg', '24_1_0_20170104234624491.jpg.chip.jpg', '38_1_1_20170113000746434.jpg.chip.jpg', '35_1_1_20170112210437469.jpg.chip.jpg', '34_1_1_20170112213636293.jpg.chip.jpg', '22_0_2_20170104021125111.jpg.chip.jpg', '21_1_0_20170109213135260.jpg.chip.jpg', '24_1_1_20170112230626278.jpg.chip.jpg', '24_1_1_20170112220135559.jpg.chip.jpg', '26_1_0_20170105183657951.jpg.chip.jpg', '37_1_2_20170109013335990.jpg.chip.jpg', '30_1_1_20170113012657328.jpg.chip.jpg', '27_1_2_20170116163742635.jpg.chip.jpg', '22_1_1_20170112203855123.jpg.chip.jpg', '24_1_2_20170112204451203.jpg.chip.jpg', '22_0_2_20170116161434440.jpg.chip.jpg', '21_0_0_20170117142009042.jpg.chip.jpg', '32_1_3_20170109134440488.jpg.chip.jpg', '21_1_3_20170104231602346.jpg.chip.jpg', '22_1_2_20170105183412088.jpg.chip.jpg', '26_1_2_20170116163558042.jpg.chip.jpg', '24_0_1_20170103181218960.jpg.chip.jpg', '29_1_1_20170112205213493.jpg.chip.jpg', '21_0_3_20170104225749698.jpg.chip.jpg', '22_0_1_20170113133332897.jpg.chip.jpg', '35_1_2_20170104173050489.jpg.chip.jpg', '28_1_0_20170116214208669.jpg.chip.jpg', '27_1_3_20170119194417435.jpg.chip.jpg', '35_1_1_20170112210403180.jpg.chip.jpg', '35_1_0_20170116201620219.jpg.chip.jpg', '32_1_2_20170116163345446.jpg.chip.jpg', '35_1_1_20170112191127473.jpg.chip.jpg', '24_0_2_20170104020102786.jpg.chip.jpg', '21_1_3_20170104231324474.jpg.chip.jpg', '22_0_2_20170104022354725.jpg.chip.jpg', '23_0_1_20170113195604509.jpg.chip.jpg', '28_1_0_20170116211818606.jpg.chip.jpg', '24_0_1_20170113134010217.jpg.chip.jpg', '22_0_1_20170113132348359.jpg.chip.jpg', '22_0_3_20170119160226043.jpg.chip.jpg', '35_1_0_20170116201640357.jpg.chip.jpg', '30_1_0_20170109012211696.jpg.chip.jpg', '22_1_3_20170104214416853.jpg.chip.jpg', '25_1_3_20170104222454999.jpg.chip.jpg', '23_0_2_20170116172840539.jpg.chip.jpg', '38_1_0_20170103183311778.jpg.chip.jpg', '23_1_0_20170112234202903.jpg.chip.jpg', '21_0_3_20170104225910065.jpg.chip.jpg', '38_1_3_20170105001035965.jpg.chip.jpg', '26_1_3_20170104232550697.jpg.chip.jpg', '35_1_3_20170104232853676.jpg.chip.jpg', '21_0_2_20170116161452673.jpg.chip.jpg', '26_1_3_20170104235102538.jpg.chip.jpg', '34_1_0_20170103183211424.jpg.chip.jpg', '27_1_3_20170119194359962.jpg.chip.jpg', '30_1_2_20170104021318733.jpg.chip.jpg', '38_1_3_20170105003415085.jpg.chip.jpg', '23_0_2_20170116172912257.jpg.chip.jpg', '25_0_0_20170104011300160.jpg.chip.jpg', '22_1_0_20170103163248351.jpg.chip.jpg', '30_1_1_20170113010438590.jpg.chip.jpg', '29_1_1_20170112210246493.jpg.chip.jpg', '24_0_3_20170117145945091.jpg.chip.jpg', '35_1_0_20170113005254692.jpg.chip.jpg', '30_1_0_20170109001620649.jpg.chip.jpg', '25_1_1_20170112191319941.jpg.chip.jpg', '34_1_2_20170104022134829.jpg.chip.jpg', '25_1_1_20170112192328981.jpg.chip.jpg', '27_1_0_20170105183347327.jpg.chip.jpg', '22_0_2_20170104021322853.jpg.chip.jpg', '22_0_0_20170110231835011.jpg.chip.jpg', '27_1_1_20170113001031147.jpg.chip.jpg', '30_1_2_20170104192931704.jpg.chip.jpg', '23_1_1_20170112234052856.jpg.chip.jpg', '24_0_0_20170116201407910.jpg.chip.jpg', '24_0_3_20170104214521685.jpg.chip.jpg', '24_0_0_20170116205530259.jpg.chip.jpg', '32_1_2_20170116174801584.jpg.chip.jpg', '24_1_3_20170104231950346.jpg.chip.jpg', '25_1_1_20170112191300605.jpg.chip.jpg', '37_1_3_20170119202520478.jpg.chip.jpg', '34_1_1_20170112234456968.jpg.chip.jpg', '29_1_1_20170112211746397.jpg.chip.jpg', '22_0_2_20170104021348142.jpg.chip.jpg', '21_1_0_20170105183522855.jpg.chip.jpg', '23_1_1_20170112234048553.jpg.chip.jpg', '24_1_2_20170104234618170.jpg.chip.jpg', '25_1_1_20170112192945622.jpg.chip.jpg', '26_1_2_20170116162412165.jpg.chip.jpg', '22_1_1_20170112202834858.jpg.chip.jpg', '38_1_1_20170112215245858.jpg.chip.jpg', '29_1_3_20170104223010439.jpg.chip.jpg', '25_1_2_20170104020239939.jpg.chip.jpg', '21_0_2_20170116170638620.jpg.chip.jpg', '26_1_0_20170105003228731.jpg.chip.jpg', '23_1_3_20170119164422814.jpg.chip.jpg', '28_1_2_20170109002652355.jpg.chip.jpg', '25_0_1_20170113151735327.jpg.chip.jpg', '34_1_2_20170104204327523.jpg.chip.jpg', '25_0_3_20170104214613229.jpg.chip.jpg', '25_1_0_20170104022944286.jpg.chip.jpg', '21_1_2_20170105000725292.jpg.chip.jpg', '27_1_1_20170113000855147.jpg.chip.jpg', '24_1_3_20170104232305465.jpg.chip.jpg', '21_1_2_20170105183505385.jpg.chip.jpg', '26_1_0_20170105163250483.jpg.chip.jpg', '37_1_0_20170103182837146.jpg.chip.jpg', '34_1_0_20170104233858010.jpg.chip.jpg', '23_1_2_20170116163648817.jpg.chip.jpg', '25_1_0_20170104165326705.jpg.chip.jpg', '23_0_0_20170117144555155.jpg.chip.jpg', '21_0_1_20170113180920187.jpg.chip.jpg', '29_1_3_20170104232640192.jpg.chip.jpg', '28_1_2_20170108224230864.jpg.chip.jpg', '30_1_2_20170104021619821.jpg.chip.jpg', '32_1_1_20170112210500948.jpg.chip.jpg', '37_1_1_20170116023833744.jpg.chip.jpg', '28_1_1_20170112234742977.jpg.chip.jpg', '22_1_3_20170104222607551.jpg.chip.jpg', '32_1_1_20170112215208374.jpg.chip.jpg', '22_0_2_20170104020041910.jpg.chip.jpg', '27_1_2_20170116163729639.jpg.chip.jpg', '23_0_3_20170119164224534.jpg.chip.jpg', '37_1_0_20170103182950794.jpg.chip.jpg', '22_1_1_20170112203832467.jpg.chip.jpg', '34_1_1_20170112204814042.jpg.chip.jpg', '27_1_0_20170104234600194.jpg.chip.jpg', '22_0_1_20170113133320370.jpg.chip.jpg', '21_1_3_20170104222653479.jpg.chip.jpg', '23_0_1_20170113150913751.jpg.chip.jpg', '37_1_2_20170105164301196.jpg.chip.jpg', '22_1_1_20170112230530733.jpg.chip.jpg', '30_1_1_20170113011218830.jpg.chip.jpg', '21_1_2_20170104021952837.jpg.chip.jpg', '22_1_1_20170112230450501.jpg.chip.jpg', '24_1_1_20170112230612966.jpg.chip.jpg', '22_0_3_20170119150454309.jpg.chip.jpg', '24_0_0_20170116214204433.jpg.chip.jpg', '28_1_1_20170112234143831.jpg.chip.jpg', '22_1_2_20170108224643996.jpg.chip.jpg', '21_0_2_20170116164809162.jpg.chip.jpg', '21_0_3_20170104214322765.jpg.chip.jpg', '37_1_1_20170117172409586.jpg.chip.jpg', '25_0_3_20170104220223342.jpg.chip.jpg', '21_1_2_20170104021056028.jpg.chip.jpg', '21_1_0_20170104234439209.jpg.chip.jpg', '30_1_3_20170117181328835.jpg.chip.jpg', '25_0_2_20170116174828896.jpg.chip.jpg', '26_1_1_20170112235250049.jpg.chip.jpg', '21_0_1_20170113133205762.jpg.chip.jpg', '24_1_3_20170104231953658.jpg.chip.jpg', '32_1_1_20170112212952111.jpg.chip.jpg', '23_0_1_20170113133908465.jpg.chip.jpg', '21_1_2_20170104020235605.jpg.chip.jpg', '24_1_3_20170104231937977.jpg.chip.jpg', '34_1_3_20170119164445358.jpg.chip.jpg', '34_1_3_20170119152656528.jpg.chip.jpg', '21_0_2_20170107213417643.jpg.chip.jpg', '23_1_3_20170119164432343.jpg.chip.jpg', '28_1_3_20170119194924075.jpg.chip.jpg', '24_0_1_20170113134105544.jpg.chip.jpg', '26_1_2_20170116173312689.jpg.chip.jpg', '23_0_1_20170114030131616.jpg.chip.jpg', '38_1_2_20170116162028800.jpg.chip.jpg', '21_1_3_20170104222522503.jpg.chip.jpg', '24_0_3_20170117145631891.jpg.chip.jpg', '21_0_2_20170117193634310.jpg.chip.jpg', '28_1_1_20170112234526480.jpg.chip.jpg', '32_1_3_20170104232404770.jpg.chip.jpg', '25_0_2_20170116165101483.jpg.chip.jpg', '30_1_1_20170113011304520.jpg.chip.jpg', '27_1_3_20170119193234322.jpg.chip.jpg', '24_0_3_20170104230212395.jpg.chip.jpg', '29_1_1_20170112211511508.jpg.chip.jpg', '24_0_0_20170116205634434.jpg.chip.jpg', '21_0_1_20170113195431788.jpg.chip.jpg', '23_0_2_20170116172904718.jpg.chip.jpg', '25_1_3_20170104222315121.jpg.chip.jpg', '25_1_0_20170104021710995.jpg.chip.jpg', '30_1_3_20170117154720797.jpg.chip.jpg', '38_1_1_20170112204552523.jpg.chip.jpg', '29_1_0_20170109010152767.jpg.chip.jpg', '30_1_3_20170117153305045.jpg.chip.jpg', '38_1_3_20170105002602973.jpg.chip.jpg', '23_1_3_20170119152429983.jpg.chip.jpg', '27_1_1_20170113001019472.jpg.chip.jpg', '25_0_2_20170116161907519.jpg.chip.jpg', '25_0_1_20170113151350864.jpg.chip.jpg', '27_1_1_20170113001021322.jpg.chip.jpg', '21_1_0_20170104020509980.jpg.chip.jpg', '34_1_0_20170103183147490.jpg.chip.jpg', '22_0_3_20170119150653870.jpg.chip.jpg', '29_1_2_20170116164713504.jpg.chip.jpg', '24_0_2_20170103223924087.jpg.chip.jpg', '25_1_3_20170104222305855.jpg.chip.jpg', '30_1_2_20170104020413511.jpg.chip.jpg', '21_0_3_20161220221819298.jpg.chip.jpg', '34_1_3_20170105002136348.jpg.chip.jpg', '26_1_1_20170112233445111.jpg.chip.jpg', '32_1_0_20170103182602906.jpg.chip.jpg', '30_1_2_20170104020459348.jpg.chip.jpg', '38_1_0_20170104171602219.jpg.chip.jpg', '26_1_3_20170104232952337.jpg.chip.jpg', '23_0_1_20170113133855489.jpg.chip.jpg', '27_1_1_20170113011238888.jpg.chip.jpg', '27_1_3_20170119194407555.jpg.chip.jpg', '38_1_2_20170108224407554.jpg.chip.jpg', '35_1_3_20170104231848138.jpg.chip.jpg', '23_0_1_20170113195548821.jpg.chip.jpg', '28_1_0_20170116205749382.jpg.chip.jpg', '25_0_0_20170104214616710.jpg.chip.jpg', '23_0_0_20170117144439657.jpg.chip.jpg', '24_1_3_20170104231939707.jpg.chip.jpg', '29_1_3_20170104232728113.jpg.chip.jpg', '25_1_3_20170104222459455.jpg.chip.jpg', '25_0_1_20170113145422493.jpg.chip.jpg', '23_0_3_20170119164041958.jpg.chip.jpg', '25_0_0_20170105163328603.jpg.chip.jpg', '35_1_0_20170116201535811.jpg.chip.jpg', '24_1_0_20170104022800709.jpg.chip.jpg', '32_1_0_20170103181859185.jpg.chip.jpg', '21_1_2_20170103201800511.jpg.chip.jpg', '38_1_1_20170112231350830.jpg.chip.jpg', '28_1_3_20170119194940491.jpg.chip.jpg', '38_1_2_20170109140654630.jpg.chip.jpg', '21_0_0_20170117142012992.jpg.chip.jpg', '28_1_3_20170119194459995.jpg.chip.jpg', '35_1_0_20170116201540728.jpg.chip.jpg', '25_1_2_20170104020610884.jpg.chip.jpg', '22_1_2_20170104021940541.jpg.chip.jpg', '28_1_1_20170112234557232.jpg.chip.jpg', '34_1_2_20170116171155691.jpg.chip.jpg', '27_1_0_20170105183939496.jpg.chip.jpg', '30_1_2_20170104164904841.jpg.chip.jpg', '21_1_1_20170112192955750.jpg.chip.jpg', '32_1_1_20170112215200081.jpg.chip.jpg', '22_1_0_20170103163108007.jpg.chip.jpg', '24_0_0_20170116204032263.jpg.chip.jpg', '23_1_3_20170119164424022.jpg.chip.jpg', '38_1_0_20170104184812557.jpg.chip.jpg', '28_1_0_20170116213524092.jpg.chip.jpg', '22_0_1_20170113133326664.jpg.chip.jpg', '37_1_3_20170119202513781.jpg.chip.jpg', '35_1_2_20170116175203095.jpg.chip.jpg', '21_0_1_20170105002506437.jpg.chip.jpg', '38_1_1_20170112233741014.jpg.chip.jpg', '28_1_0_20170116214251849.jpg.chip.jpg', '26_1_3_20170104235016242.jpg.chip.jpg', '21_1_2_20170104020048292.jpg.chip.jpg', '21_1_0_20170109213126942.jpg.chip.jpg', '24_1_0_20170104233906146.jpg.chip.jpg', '23_0_0_20170117144618155.jpg.chip.jpg', '21_0_2_20170116170907317.jpg.chip.jpg', '34_1_2_20170108224608753.jpg.chip.jpg', '26_1_2_20170116163918033.jpg.chip.jpg', '21_0_2_20170116165220655.jpg.chip.jpg']\n"
          ]
        }
      ],
      "source": [
        "t_list = os.listdir('all')\n",
        "\n",
        "\n",
        "t_num = len(t_list)\n",
        "print('Number of images:', t_num)\n",
        "print(f_list)"
      ]
    },
    {
      "cell_type": "code",
      "execution_count": null,
      "metadata": {
        "colab": {
          "base_uri": "https://localhost:8080/",
          "height": 204
        },
        "id": "vaZ8Rta4XdpS",
        "outputId": "a97f4d2e-c393-4a97-eb47-6f52dadd1b3a"
      },
      "outputs": [
        {
          "output_type": "execute_result",
          "data": {
            "text/plain": [
              "                               test_name  test_gender\n",
              "0  31_1_3_20170119155508987.jpg.chip.jpg            1\n",
              "1  31_1_2_20170104020928085.jpg.chip.jpg            1\n",
              "2  31_1_1_20170103183224642.jpg.chip.jpg            1\n",
              "3  31_1_1_20170112210531485.jpg.chip.jpg            1\n",
              "4  31_1_3_20170119200201348.jpg.chip.jpg            1"
            ],
            "text/html": [
              "\n",
              "  <div id=\"df-1f2644e1-0c5b-40f1-b748-65d99e02a62d\">\n",
              "    <div class=\"colab-df-container\">\n",
              "      <div>\n",
              "<style scoped>\n",
              "    .dataframe tbody tr th:only-of-type {\n",
              "        vertical-align: middle;\n",
              "    }\n",
              "\n",
              "    .dataframe tbody tr th {\n",
              "        vertical-align: top;\n",
              "    }\n",
              "\n",
              "    .dataframe thead th {\n",
              "        text-align: right;\n",
              "    }\n",
              "</style>\n",
              "<table border=\"1\" class=\"dataframe\">\n",
              "  <thead>\n",
              "    <tr style=\"text-align: right;\">\n",
              "      <th></th>\n",
              "      <th>test_name</th>\n",
              "      <th>test_gender</th>\n",
              "    </tr>\n",
              "  </thead>\n",
              "  <tbody>\n",
              "    <tr>\n",
              "      <th>0</th>\n",
              "      <td>31_1_3_20170119155508987.jpg.chip.jpg</td>\n",
              "      <td>1</td>\n",
              "    </tr>\n",
              "    <tr>\n",
              "      <th>1</th>\n",
              "      <td>31_1_2_20170104020928085.jpg.chip.jpg</td>\n",
              "      <td>1</td>\n",
              "    </tr>\n",
              "    <tr>\n",
              "      <th>2</th>\n",
              "      <td>31_1_1_20170103183224642.jpg.chip.jpg</td>\n",
              "      <td>1</td>\n",
              "    </tr>\n",
              "    <tr>\n",
              "      <th>3</th>\n",
              "      <td>31_1_1_20170112210531485.jpg.chip.jpg</td>\n",
              "      <td>1</td>\n",
              "    </tr>\n",
              "    <tr>\n",
              "      <th>4</th>\n",
              "      <td>31_1_3_20170119200201348.jpg.chip.jpg</td>\n",
              "      <td>1</td>\n",
              "    </tr>\n",
              "  </tbody>\n",
              "</table>\n",
              "</div>\n",
              "      <button class=\"colab-df-convert\" onclick=\"convertToInteractive('df-1f2644e1-0c5b-40f1-b748-65d99e02a62d')\"\n",
              "              title=\"Convert this dataframe to an interactive table.\"\n",
              "              style=\"display:none;\">\n",
              "        \n",
              "  <svg xmlns=\"http://www.w3.org/2000/svg\" height=\"24px\"viewBox=\"0 0 24 24\"\n",
              "       width=\"24px\">\n",
              "    <path d=\"M0 0h24v24H0V0z\" fill=\"none\"/>\n",
              "    <path d=\"M18.56 5.44l.94 2.06.94-2.06 2.06-.94-2.06-.94-.94-2.06-.94 2.06-2.06.94zm-11 1L8.5 8.5l.94-2.06 2.06-.94-2.06-.94L8.5 2.5l-.94 2.06-2.06.94zm10 10l.94 2.06.94-2.06 2.06-.94-2.06-.94-.94-2.06-.94 2.06-2.06.94z\"/><path d=\"M17.41 7.96l-1.37-1.37c-.4-.4-.92-.59-1.43-.59-.52 0-1.04.2-1.43.59L10.3 9.45l-7.72 7.72c-.78.78-.78 2.05 0 2.83L4 21.41c.39.39.9.59 1.41.59.51 0 1.02-.2 1.41-.59l7.78-7.78 2.81-2.81c.8-.78.8-2.07 0-2.86zM5.41 20L4 18.59l7.72-7.72 1.47 1.35L5.41 20z\"/>\n",
              "  </svg>\n",
              "      </button>\n",
              "      \n",
              "  <style>\n",
              "    .colab-df-container {\n",
              "      display:flex;\n",
              "      flex-wrap:wrap;\n",
              "      gap: 12px;\n",
              "    }\n",
              "\n",
              "    .colab-df-convert {\n",
              "      background-color: #E8F0FE;\n",
              "      border: none;\n",
              "      border-radius: 50%;\n",
              "      cursor: pointer;\n",
              "      display: none;\n",
              "      fill: #1967D2;\n",
              "      height: 32px;\n",
              "      padding: 0 0 0 0;\n",
              "      width: 32px;\n",
              "    }\n",
              "\n",
              "    .colab-df-convert:hover {\n",
              "      background-color: #E2EBFA;\n",
              "      box-shadow: 0px 1px 2px rgba(60, 64, 67, 0.3), 0px 1px 3px 1px rgba(60, 64, 67, 0.15);\n",
              "      fill: #174EA6;\n",
              "    }\n",
              "\n",
              "    [theme=dark] .colab-df-convert {\n",
              "      background-color: #3B4455;\n",
              "      fill: #D2E3FC;\n",
              "    }\n",
              "\n",
              "    [theme=dark] .colab-df-convert:hover {\n",
              "      background-color: #434B5C;\n",
              "      box-shadow: 0px 1px 3px 1px rgba(0, 0, 0, 0.15);\n",
              "      filter: drop-shadow(0px 1px 2px rgba(0, 0, 0, 0.3));\n",
              "      fill: #FFFFFF;\n",
              "    }\n",
              "  </style>\n",
              "\n",
              "      <script>\n",
              "        const buttonEl =\n",
              "          document.querySelector('#df-1f2644e1-0c5b-40f1-b748-65d99e02a62d button.colab-df-convert');\n",
              "        buttonEl.style.display =\n",
              "          google.colab.kernel.accessAllowed ? 'block' : 'none';\n",
              "\n",
              "        async function convertToInteractive(key) {\n",
              "          const element = document.querySelector('#df-1f2644e1-0c5b-40f1-b748-65d99e02a62d');\n",
              "          const dataTable =\n",
              "            await google.colab.kernel.invokeFunction('convertToInteractive',\n",
              "                                                     [key], {});\n",
              "          if (!dataTable) return;\n",
              "\n",
              "          const docLinkHtml = 'Like what you see? Visit the ' +\n",
              "            '<a target=\"_blank\" href=https://colab.research.google.com/notebooks/data_table.ipynb>data table notebook</a>'\n",
              "            + ' to learn more about interactive tables.';\n",
              "          element.innerHTML = '';\n",
              "          dataTable['output_type'] = 'display_data';\n",
              "          await google.colab.output.renderOutput(dataTable, element);\n",
              "          const docLink = document.createElement('div');\n",
              "          docLink.innerHTML = docLinkHtml;\n",
              "          element.appendChild(docLink);\n",
              "        }\n",
              "      </script>\n",
              "    </div>\n",
              "  </div>\n",
              "  "
            ]
          },
          "metadata": {},
          "execution_count": 10
        }
      ],
      "source": [
        "\n",
        "df_test = pd.DataFrame(t_list, columns = ['test_name'])\n",
        "\n",
        "df_test['test_gender'] = df_test.apply(lambda x : x['test_name'].split('_')[1], axis = 1).astype('int')\n",
        "\n",
        "df_test.head()"
      ]
    },
    {
      "cell_type": "code",
      "execution_count": null,
      "metadata": {
        "colab": {
          "base_uri": "https://localhost:8080/"
        },
        "id": "5F4dyfKQbwpI",
        "outputId": "7984d387-b95d-4b1e-a863-6f1dbd13f1f3"
      },
      "outputs": [
        {
          "output_type": "stream",
          "name": "stdout",
          "text": [
            "[1 1 1 1 1 1 0 1 0 1 1 1 1 1 1 1 0 1 1 1 0 1 0 0 1 0 1 0 0 1 0 0 0 1 0 0 0\n",
            " 0 1 0 0 1 1 0 0 1 0 0 0 0 0 1 1 1 0 1 0 1 1 1 0 0 1 0 0 1 0 1 0 1 1 1 0 1\n",
            " 0 0 1 0 1 1 1 1 1 0 0 1 0 1 0 0 1 0 0 1 0 0 1 0 1 0 0 0 0 0]\n"
          ]
        }
      ],
      "source": [
        "test_gender = np.array(df_test['test_gender'])\n",
        "\n",
        "print(test_gender)"
      ]
    },
    {
      "cell_type": "code",
      "execution_count": null,
      "metadata": {
        "id": "C-7-iGhzXdv3"
      },
      "outputs": [],
      "source": [
        "def test_dataset(images):\n",
        "    dataset = []\n",
        "    for image in tqdm(images):\n",
        "        image = \"all/\"+image\n",
        "        img = load_img(image, grayscale=True)\n",
        "        img = img.resize((128, 128))\n",
        "        img = np.array(img)\n",
        "        dataset.append(img)\n",
        "\n",
        "    dataset = np.array(dataset)\n",
        "\n",
        "    return dataset"
      ]
    },
    {
      "cell_type": "code",
      "execution_count": null,
      "metadata": {
        "colab": {
          "base_uri": "https://localhost:8080/",
          "height": 103,
          "referenced_widgets": [
            "26cb47f003954ebcbf0f7639beb66c00",
            "f92bcad9dde7444ab7cdeca24017cd63",
            "0f054312c7b7406cab6d52965931ad73",
            "2e8dd21c2ca049eeb78c2a46c194f267",
            "520e1be9fc5445ca9de43be84c2357a6",
            "fac245e583dd404eb1113bda117b17ce",
            "b01dd9981f77478c89ac7788e224150c",
            "11d08233e61947919942e2bdc40b6cd1",
            "cafc6c33cd69481cbddd8d48795c53dd",
            "15b781622a0a41058f5f1a970f1cc3bf",
            "ff5126395df64f0081ec4599bbc55931"
          ]
        },
        "id": "MW3LRVfbXd2l",
        "outputId": "4b129fc5-4c3e-405f-9df0-4ccd377f5a2a"
      },
      "outputs": [
        {
          "output_type": "display_data",
          "data": {
            "text/plain": [
              "  0%|          | 0/104 [00:00<?, ?it/s]"
            ],
            "application/vnd.jupyter.widget-view+json": {
              "version_major": 2,
              "version_minor": 0,
              "model_id": "26cb47f003954ebcbf0f7639beb66c00"
            }
          },
          "metadata": {}
        },
        {
          "output_type": "stream",
          "name": "stderr",
          "text": [
            "/usr/local/lib/python3.8/dist-packages/keras_preprocessing/image/utils.py:107: UserWarning: grayscale is deprecated. Please use color_mode = \"grayscale\"\n",
            "  warnings.warn('grayscale is deprecated. Please use '\n"
          ]
        }
      ],
      "source": [
        "testset = test_dataset(df_test['test_name'])"
      ]
    },
    {
      "cell_type": "code",
      "execution_count": null,
      "metadata": {
        "id": "fTEue_mpBEWm"
      },
      "outputs": [],
      "source": []
    },
    {
      "cell_type": "code",
      "execution_count": null,
      "metadata": {
        "id": "v5bVhbL8BEZL"
      },
      "outputs": [],
      "source": [
        "gender_dict = {0:\"Male\", 1:\"Female\"}"
      ]
    },
    {
      "cell_type": "code",
      "source": [
        "input_shape = (128, 128, 1)"
      ],
      "metadata": {
        "id": "ELSOW_Eq8bUY"
      },
      "execution_count": null,
      "outputs": []
    },
    {
      "cell_type": "code",
      "execution_count": null,
      "metadata": {
        "id": "iOlZ04GGYEmQ"
      },
      "outputs": [],
      "source": [
        "inputs = Input((input_shape))\n",
        "# convolutional layers\n",
        "convolution_1 = Conv2D(32, kernel_size=(3, 3), activation='relu') (inputs)\n",
        "maxpool_1 = MaxPooling2D(pool_size=(2, 2)) (convolution_1)\n",
        "\n",
        "convolution_2 = Conv2D(64, kernel_size=(3, 3), activation='relu') (maxpool_1)\n",
        "maxpool_2 = MaxPooling2D(pool_size=(2, 2)) (convolution_2)\n",
        "\n",
        "convolution_3 = Conv2D(128, kernel_size=(3, 3), activation='relu') (maxpool_2)\n",
        "maxpool_3 = MaxPooling2D(pool_size=(2, 2)) (convolution_3)\n",
        "\n",
        "convolution_4 = Conv2D(256, kernel_size=(3, 3), activation='relu') (maxpool_3)\n",
        "maxpool_4 = MaxPooling2D(pool_size=(2, 2)) (convolution_4)\n",
        "\n",
        "flatten = Flatten() (maxpool_4)\n",
        "\n",
        "# fully connected layers\n",
        "dense_1 = Dense(256, activation='relu') (flatten)\n",
        "\n",
        "\n",
        "dropout_1 = Dropout(0.3) (dense_1)\n",
        "\n",
        "\n",
        "output_1 = Dense(1, activation='sigmoid', name='gender_out') (dropout_1)\n",
        "\n",
        "\n",
        "model = Model(inputs=[inputs], outputs=[output_1])\n",
        "\n",
        "model.compile(loss=['binary_crossentropy'], optimizer='adam', metrics=['accuracy'])"
      ]
    },
    {
      "cell_type": "code",
      "execution_count": null,
      "metadata": {
        "id": "ENmGFuVTPFgD",
        "colab": {
          "base_uri": "https://localhost:8080/"
        },
        "outputId": "5d7ee120-ccf4-49dd-fada-580464c0e87c"
      },
      "outputs": [
        {
          "output_type": "stream",
          "name": "stdout",
          "text": [
            "Model: \"model\"\n",
            "_________________________________________________________________\n",
            " Layer (type)                Output Shape              Param #   \n",
            "=================================================================\n",
            " input_1 (InputLayer)        [(None, 128, 128, 1)]     0         \n",
            "                                                                 \n",
            " conv2d (Conv2D)             (None, 126, 126, 32)      320       \n",
            "                                                                 \n",
            " max_pooling2d (MaxPooling2D  (None, 63, 63, 32)       0         \n",
            " )                                                               \n",
            "                                                                 \n",
            " conv2d_1 (Conv2D)           (None, 61, 61, 64)        18496     \n",
            "                                                                 \n",
            " max_pooling2d_1 (MaxPooling  (None, 30, 30, 64)       0         \n",
            " 2D)                                                             \n",
            "                                                                 \n",
            " conv2d_2 (Conv2D)           (None, 28, 28, 128)       73856     \n",
            "                                                                 \n",
            " max_pooling2d_2 (MaxPooling  (None, 14, 14, 128)      0         \n",
            " 2D)                                                             \n",
            "                                                                 \n",
            " conv2d_3 (Conv2D)           (None, 12, 12, 256)       295168    \n",
            "                                                                 \n",
            " max_pooling2d_3 (MaxPooling  (None, 6, 6, 256)        0         \n",
            " 2D)                                                             \n",
            "                                                                 \n",
            " flatten (Flatten)           (None, 9216)              0         \n",
            "                                                                 \n",
            " dense (Dense)               (None, 256)               2359552   \n",
            "                                                                 \n",
            " dropout (Dropout)           (None, 256)               0         \n",
            "                                                                 \n",
            " gender_out (Dense)          (None, 1)                 257       \n",
            "                                                                 \n",
            "=================================================================\n",
            "Total params: 2,747,649\n",
            "Trainable params: 2,747,649\n",
            "Non-trainable params: 0\n",
            "_________________________________________________________________\n"
          ]
        }
      ],
      "source": [
        "model.summary()"
      ]
    },
    {
      "cell_type": "code",
      "execution_count": null,
      "metadata": {
        "id": "ek6zULBRCaoM"
      },
      "outputs": [],
      "source": [
        "clahe = cv2.createCLAHE(clipLimit = 3, tileGridSize=(8,8))\n",
        "\n",
        "\n",
        "\n",
        "def extract_Clahe_features(images):\n",
        "    Clahe_features = []\n",
        "    for image in tqdm(images):\n",
        "        image = \"Female Dominant 200 600/\"+image\n",
        "        img = load_img(image, grayscale=True)\n",
        "        img = img.resize((128, 128) )\n",
        "        img = np.array(img)\n",
        "        clahe_img = clahe.apply(img)\n",
        "        Clahe_features.append(img)\n",
        "\n",
        "    Clahe_features = np.array(Clahe_features)\n",
        "\n",
        "    return Clahe_features\n",
        ""
      ]
    },
    {
      "cell_type": "code",
      "execution_count": null,
      "metadata": {
        "colab": {
          "base_uri": "https://localhost:8080/",
          "height": 49,
          "referenced_widgets": [
            "dbf42d6aa39d410cb220aaf0d1f02035",
            "a79c101a328a49db8f46f815390b2356",
            "f1dec11497ce461d82f770389deb05cb",
            "d26951b3bae84becbda5d392e681a9b3",
            "65a3ccaffb664219a397c9b54b868aee",
            "afeb92dda5ae42338dd01221c2def7d7",
            "e3e354a3dfde4432a94fde2e235a0ce3",
            "6aeb2dd1442d4fd7b89c9e21ac15374d",
            "b4dc65d8d0e54bde82f3acf6c7f0d462",
            "013ede4c73fb48f2af02c8cd87c6ffb0",
            "f2b41cf7bd28450ba246072d78862a97"
          ]
        },
        "id": "LqLeobiCCazg",
        "outputId": "92a8ef10-dcd4-4f0a-acaf-5299a3b9e712"
      },
      "outputs": [
        {
          "output_type": "display_data",
          "data": {
            "text/plain": [
              "  0%|          | 0/800 [00:00<?, ?it/s]"
            ],
            "application/vnd.jupyter.widget-view+json": {
              "version_major": 2,
              "version_minor": 0,
              "model_id": "dbf42d6aa39d410cb220aaf0d1f02035"
            }
          },
          "metadata": {}
        }
      ],
      "source": [
        "X_Clahe = extract_Clahe_features(df['train_name'])"
      ]
    },
    {
      "cell_type": "code",
      "execution_count": null,
      "metadata": {
        "colab": {
          "base_uri": "https://localhost:8080/"
        },
        "id": "OZiMYHiKWUuH",
        "outputId": "c511224c-8ba5-4a3d-c9a4-0b7acb23559a"
      },
      "outputs": [
        {
          "output_type": "stream",
          "name": "stdout",
          "text": [
            "[1 1 1 1 0 1 1 1 0 0 1 0 1 0 0 0 1 1 1 1 1 1 1 0 1 1 1 1 1 1 1 0 1 1 0 0 1\n",
            " 1 1 0 1 1 1 1 1 1 1 1 0 1 1 0 1 1 1 1 1 1 1 0 1 1 1 1 1 0 1 1 1 1 0 1 1 0\n",
            " 1 0 1 1 1 0 1 1 1 1 1 1 0 0 1 0 1 1 1 0 0 1 1 0 1 1 1 1 1 0 1 1 1 1 1 1 1\n",
            " 1 1 0 0 1 0 1 0 1 1 1 1 1 1 1 1 1 1 1 1 0 0 1 1 0 1 1 1 1 1 1 1 1 0 1 0 1\n",
            " 1 1 1 1 0 1 1 0 1 1 1 0 1 1 1 1 1 1 1 0 1 1 1 0 1 0 1 1 1 1 1 0 1 0 1 1 1\n",
            " 1 0 1 1 1 1 0 1 1 1 1 1 1 1 0 1 1 1 1 1 1 1 1 1 1 0 1 0 1 1 1 1 0 1 1 1 0\n",
            " 0 1 0 1 1 1 0 1 1 1 1 1 1 1 0 1 1 1 1 0 1 1 0 1 1 1 1 1 0 1 0 1 1 0 1 1 1\n",
            " 0 1 0 1 1 1 1 1 1 0 1 0 1 1 1 1 1 0 1 1 1 1 0 1 1 1 1 0 0 0 1 0 1 1 0 0 1\n",
            " 1 1 1 1 1 1 1 1 1 1 1 1 0 1 1 1 1 1 1 0 1 0 1 1 1 1 1 0 1 1 0 1 1 1 1 1 1\n",
            " 1 1 0 1 1 1 1 1 1 1 1 1 1 1 0 0 1 1 1 1 1 1 1 1 0 1 1 0 1 1 1 1 1 1 1 0 1\n",
            " 0 1 0 0 0 1 1 1 1 1 0 1 0 0 1 1 1 1 1 0 1 1 0 1 0 1 1 1 1 1 1 0 1 1 1 1 1\n",
            " 1 1 1 1 0 1 1 0 1 1 0 0 1 0 1 1 0 1 0 1 0 0 0 1 1 1 1 0 1 1 1 1 1 1 1 1 1\n",
            " 0 1 1 1 1 1 1 1 1 1 1 1 1 1 0 1 1 1 1 0 0 0 1 1 1 0 1 0 1 1 0 1 0 0 1 0 1\n",
            " 1 1 1 0 0 1 0 0 1 1 1 1 1 1 0 1 0 1 1 1 1 1 1 1 1 1 1 0 1 0 1 1 1 1 1 1 1\n",
            " 1 1 1 1 1 1 1 0 1 1 0 0 1 1 0 1 1 1 1 1 0 1 0 1 1 1 1 1 1 1 1 0 1 1 1 1 1\n",
            " 1 1 1 1 0 0 1 1 1 1 0 1 0 0 1 1 1 1 1 1 1 0 1 0 0 1 0 0 0 1 1 1 1 0 1 1 0\n",
            " 1 1 1 0 1 1 1 1 1 0 0 1 1 1 0 1 1 1 1 1 1 0 0 1 1 1 0 0 0 1 1 1 1 1 1 0 1\n",
            " 1 1 1 1 1 1 1 1 0 1 1 1 0 1 0 1 1 1 1 1 1 1 1 1 1 0 0 1 1 1 1 1 1 1 1 0 1\n",
            " 0 1 1 1 1 0 1 0 1 1 1 1 1 1 0 0 1 1 0 0 1 0 1 1 1 0 1 0 1 1 0 1 1 1 1 0 1\n",
            " 1 0 1 0 1 1 0 0 1 1 0 1 1 0 1 0 0 0 1 1 1 1 1 1 1 1 1 0 0 1 1 1 0 1 0 1 1\n",
            " 0 1 1 1 1 1 1 0 1 1 1 1 0 1 0 0 1 1 1 0 0 0 1 1 1 1 1 1 1 0 1 1 1 1 1 1 1\n",
            " 1 1 1 1 0 1 1 1 0 1 1 0 1 1 1 1 1 1 0 0 1 1 0]\n"
          ]
        }
      ],
      "source": [
        "y_gender = np.array(df['train_gender'])\n",
        "\n",
        "print(y_gender)"
      ]
    },
    {
      "cell_type": "code",
      "execution_count": null,
      "metadata": {
        "id": "zuG4VLnxH9I6"
      },
      "outputs": [],
      "source": [
        "X_Clahe = X_Clahe/255.0"
      ]
    },
    {
      "cell_type": "markdown",
      "source": [
        "Hyperparameter 1"
      ],
      "metadata": {
        "id": "LZ6fZl-CBTg0"
      }
    },
    {
      "cell_type": "code",
      "execution_count": null,
      "metadata": {
        "colab": {
          "base_uri": "https://localhost:8080/"
        },
        "id": "uxQlk9P8N3lZ",
        "outputId": "019b98fc-7155-406e-f5cd-412667b6e68e"
      },
      "outputs": [
        {
          "output_type": "stream",
          "name": "stdout",
          "text": [
            "Epoch 1/10\n",
            "19/19 [==============================] - 22s 1s/step - loss: 0.0552 - accuracy: 0.9768 - val_loss: 0.3947 - val_accuracy: 0.9000\n",
            "Epoch 2/10\n",
            "19/19 [==============================] - 21s 1s/step - loss: 0.0399 - accuracy: 0.9875 - val_loss: 0.5029 - val_accuracy: 0.9167\n",
            "Epoch 3/10\n",
            "19/19 [==============================] - 23s 1s/step - loss: 0.0108 - accuracy: 0.9982 - val_loss: 0.5827 - val_accuracy: 0.9125\n",
            "Epoch 4/10\n",
            "19/19 [==============================] - 21s 1s/step - loss: 0.0055 - accuracy: 1.0000 - val_loss: 0.5967 - val_accuracy: 0.9167\n",
            "Epoch 5/10\n",
            "19/19 [==============================] - 21s 1s/step - loss: 0.0016 - accuracy: 1.0000 - val_loss: 0.6959 - val_accuracy: 0.9083\n",
            "Epoch 6/10\n",
            "19/19 [==============================] - 21s 1s/step - loss: 0.0011 - accuracy: 1.0000 - val_loss: 0.6833 - val_accuracy: 0.9125\n",
            "Epoch 7/10\n",
            "19/19 [==============================] - 22s 1s/step - loss: 6.9767e-04 - accuracy: 1.0000 - val_loss: 0.9295 - val_accuracy: 0.9000\n",
            "Epoch 8/10\n",
            "19/19 [==============================] - 22s 1s/step - loss: 7.8683e-04 - accuracy: 1.0000 - val_loss: 0.8218 - val_accuracy: 0.9042\n",
            "Epoch 9/10\n",
            "19/19 [==============================] - 21s 1s/step - loss: 3.7121e-04 - accuracy: 1.0000 - val_loss: 0.8366 - val_accuracy: 0.9042\n",
            "Epoch 10/10\n",
            "19/19 [==============================] - 22s 1s/step - loss: 3.1097e-04 - accuracy: 1.0000 - val_loss: 0.8153 - val_accuracy: 0.9125\n"
          ]
        }
      ],
      "source": [
        "model.compile(loss=['binary_crossentropy'], optimizer='adam', metrics=['accuracy'])\n",
        "history1 = model.fit(x=X_Clahe, y=y_gender, batch_size=30, epochs=10, validation_split=0.3)"
      ]
    },
    {
      "cell_type": "code",
      "execution_count": null,
      "metadata": {
        "colab": {
          "base_uri": "https://localhost:8080/",
          "height": 367
        },
        "id": "LeQHiU-J1M4Y",
        "outputId": "c89000ef-90ca-4959-8f11-0938556feb03"
      },
      "outputs": [
        {
          "output_type": "stream",
          "name": "stdout",
          "text": [
            "4/4 [==============================] - 1s 233ms/step\n"
          ]
        },
        {
          "output_type": "display_data",
          "data": {
            "text/plain": [
              "<Figure size 360x360 with 1 Axes>"
            ],
            "image/png": "[encoded data removed]"
          },
          "metadata": {
            "needs_background": "light"
          }
        }
      ],
      "source": [
        "pred1 = model.predict(testset)\n",
        "rounded_pred1 = np.round(pred1)\n",
        "\n",
        "res1 = tf.math.confusion_matrix(test_gender,rounded_pred1)\n",
        "import seaborn as sn\n",
        "\n",
        "plt.figure(figsize=(5,5))\n",
        "ax= plt.subplot()\n",
        "sn.heatmap(res1, annot=True, fmt = 'd', ax= ax ,cbar=False)\n",
        "\n",
        "# labels, title and ticks\n",
        "ax.set_xlabel('Predicted Gender');ax.set_ylabel('True Gender');\n",
        "ax.set_title('Confusion Matrix');\n",
        "ax.xaxis.set_ticklabels(['Male', 'Female']); ax.yaxis.set_ticklabels(['Male', 'Female']);"
      ]
    },
    {
      "cell_type": "code",
      "execution_count": null,
      "metadata": {
        "colab": {
          "base_uri": "https://localhost:8080/"
        },
        "id": "GJvUBDu4iaO9",
        "outputId": "23895b32-9749-4b54-a9ac-e8aedf05661d"
      },
      "outputs": [
        {
          "output_type": "stream",
          "name": "stdout",
          "text": [
            "4/4 [==============================] - 2s 214ms/step - loss: 64.8621 - accuracy: 0.8269\n"
          ]
        },
        {
          "output_type": "execute_result",
          "data": {
            "text/plain": [
              "[64.86207580566406, 0.8269230723381042]"
            ]
          },
          "metadata": {},
          "execution_count": 28
        }
      ],
      "source": [
        "model.evaluate(testset, test_gender)"
      ]
    },
    {
      "cell_type": "code",
      "execution_count": null,
      "metadata": {
        "id": "EfDWbrqXhHZ8"
      },
      "outputs": [],
      "source": [
        "!rm -rf 'Train Dataset'"
      ]
    },
    {
      "cell_type": "markdown",
      "source": [
        "HyperParameter 2"
      ],
      "metadata": {
        "id": "RdWyPEqAAp13"
      }
    },
    {
      "cell_type": "code",
      "source": [
        "model.compile(loss=['binary_crossentropy'], optimizer='adam', metrics=['accuracy'])\n",
        "history2 = model.fit(x=X_Clahe, y=y_gender, batch_size=40, epochs=10, validation_split=0.3)"
      ],
      "metadata": {
        "id": "D-W0rsVqApEd",
        "colab": {
          "base_uri": "https://localhost:8080/"
        },
        "outputId": "326ebf80-3b1c-4040-e82f-1a42109833cb"
      },
      "execution_count": null,
      "outputs": [
        {
          "output_type": "stream",
          "name": "stdout",
          "text": [
            "Epoch 1/10\n",
            "14/14 [==============================] - 22s 2s/step - loss: 0.6328 - accuracy: 0.7643 - val_loss: 0.5891 - val_accuracy: 0.7167\n",
            "Epoch 2/10\n",
            "14/14 [==============================] - 21s 2s/step - loss: 0.5528 - accuracy: 0.7643 - val_loss: 0.5846 - val_accuracy: 0.7167\n",
            "Epoch 3/10\n",
            "14/14 [==============================] - 22s 2s/step - loss: 0.5178 - accuracy: 0.7643 - val_loss: 0.5277 - val_accuracy: 0.7167\n",
            "Epoch 4/10\n",
            "14/14 [==============================] - 21s 2s/step - loss: 0.4896 - accuracy: 0.7643 - val_loss: 0.4966 - val_accuracy: 0.7417\n",
            "Epoch 5/10\n",
            "14/14 [==============================] - 21s 2s/step - loss: 0.4435 - accuracy: 0.7804 - val_loss: 0.4549 - val_accuracy: 0.7875\n",
            "Epoch 6/10\n",
            "14/14 [==============================] - 21s 2s/step - loss: 0.3756 - accuracy: 0.8304 - val_loss: 0.3680 - val_accuracy: 0.8542\n",
            "Epoch 7/10\n",
            "14/14 [==============================] - 21s 2s/step - loss: 0.3000 - accuracy: 0.8750 - val_loss: 0.4799 - val_accuracy: 0.8208\n",
            "Epoch 8/10\n",
            "14/14 [==============================] - 21s 2s/step - loss: 0.2591 - accuracy: 0.8804 - val_loss: 0.4266 - val_accuracy: 0.8542\n",
            "Epoch 9/10\n",
            "14/14 [==============================] - 21s 2s/step - loss: 0.2220 - accuracy: 0.8946 - val_loss: 0.3534 - val_accuracy: 0.8708\n",
            "Epoch 10/10\n",
            "14/14 [==============================] - 21s 2s/step - loss: 0.1935 - accuracy: 0.9143 - val_loss: 0.4657 - val_accuracy: 0.8500\n"
          ]
        }
      ]
    },
    {
      "cell_type": "code",
      "source": [
        "pred2 = model.predict(testset)\n",
        "rounded_pred2 = np.round(pred2)\n",
        "\n",
        "res2 = tf.math.confusion_matrix(test_gender,rounded_pred2)\n",
        "import seaborn as sn\n",
        "\n",
        "plt.figure(figsize=(5,5))\n",
        "ax= plt.subplot()\n",
        "sn.heatmap(res2, annot=True, fmt = 'd', ax= ax ,cbar=False)\n",
        "\n",
        "# labels, title and ticks\n",
        "ax.set_xlabel('Predicted Gender');ax.set_ylabel('True Gender');\n",
        "ax.set_title('Confusion Matrix');\n",
        "ax.xaxis.set_ticklabels(['Male', 'Female']); ax.yaxis.set_ticklabels(['Male', 'Female']);"
      ],
      "metadata": {
        "id": "YAaxtkGwA0tC",
        "colab": {
          "base_uri": "https://localhost:8080/",
          "height": 367
        },
        "outputId": "a8ae473b-2f71-44e6-f24b-9d2b4be6abd8"
      },
      "execution_count": null,
      "outputs": [
        {
          "output_type": "stream",
          "name": "stdout",
          "text": [
            "4/4 [==============================] - 1s 242ms/step\n"
          ]
        },
        {
          "output_type": "display_data",
          "data": {
            "text/plain": [
              "<Figure size 360x360 with 1 Axes>"
            ],
            "image/png": "[encoded data removed]"
          },
          "metadata": {
            "needs_background": "light"
          }
        }
      ]
    },
    {
      "cell_type": "code",
      "source": [
        "model.evaluate(testset, test_gender)"
      ],
      "metadata": {
        "id": "MKuP4Az0A0Zs",
        "colab": {
          "base_uri": "https://localhost:8080/"
        },
        "outputId": "3d245507-598a-4a89-f671-a7b38a2639a2"
      },
      "execution_count": null,
      "outputs": [
        {
          "output_type": "stream",
          "name": "stdout",
          "text": [
            "4/4 [==============================] - 1s 234ms/step - loss: 38.1581 - accuracy: 0.7596\n"
          ]
        },
        {
          "output_type": "execute_result",
          "data": {
            "text/plain": [
              "[38.15814208984375, 0.7596153616905212]"
            ]
          },
          "metadata": {},
          "execution_count": 38
        }
      ]
    },
    {
      "cell_type": "markdown",
      "source": [
        "Hyperparameter 3"
      ],
      "metadata": {
        "id": "2WWW96GqA6Ju"
      }
    },
    {
      "cell_type": "code",
      "source": [
        "model.compile(loss=['binary_crossentropy'], optimizer='adam', metrics=['accuracy'])\n",
        "history3 = model.fit(x=X_Clahe, y=y_gender, batch_size=30, epochs=20, validation_split=0.3)"
      ],
      "metadata": {
        "id": "5MSiK6SrA3_W",
        "colab": {
          "base_uri": "https://localhost:8080/"
        },
        "outputId": "50220268-cc25-4e03-b69a-eb546539e978"
      },
      "execution_count": null,
      "outputs": [
        {
          "output_type": "stream",
          "name": "stdout",
          "text": [
            "Epoch 1/20\n",
            "19/19 [==============================] - 22s 1s/step - loss: 0.6355 - accuracy: 0.7500 - val_loss: 0.5892 - val_accuracy: 0.7167\n",
            "Epoch 2/20\n",
            "19/19 [==============================] - 21s 1s/step - loss: 0.5481 - accuracy: 0.7643 - val_loss: 0.5615 - val_accuracy: 0.7167\n",
            "Epoch 3/20\n",
            "19/19 [==============================] - 21s 1s/step - loss: 0.5233 - accuracy: 0.7643 - val_loss: 0.5129 - val_accuracy: 0.7208\n",
            "Epoch 4/20\n",
            "19/19 [==============================] - 22s 1s/step - loss: 0.4585 - accuracy: 0.7839 - val_loss: 0.4529 - val_accuracy: 0.7917\n",
            "Epoch 5/20\n",
            "19/19 [==============================] - 23s 1s/step - loss: 0.3760 - accuracy: 0.8321 - val_loss: 0.4155 - val_accuracy: 0.8125\n",
            "Epoch 6/20\n",
            "19/19 [==============================] - 21s 1s/step - loss: 0.3109 - accuracy: 0.8643 - val_loss: 0.4865 - val_accuracy: 0.7958\n",
            "Epoch 7/20\n",
            "19/19 [==============================] - 21s 1s/step - loss: 0.2702 - accuracy: 0.8786 - val_loss: 0.4450 - val_accuracy: 0.8583\n",
            "Epoch 8/20\n",
            "19/19 [==============================] - 21s 1s/step - loss: 0.2412 - accuracy: 0.9000 - val_loss: 0.4715 - val_accuracy: 0.8542\n",
            "Epoch 9/20\n",
            "19/19 [==============================] - 21s 1s/step - loss: 0.1863 - accuracy: 0.9250 - val_loss: 0.3716 - val_accuracy: 0.8458\n",
            "Epoch 10/20\n",
            "19/19 [==============================] - 21s 1s/step - loss: 0.1710 - accuracy: 0.9339 - val_loss: 0.4559 - val_accuracy: 0.8417\n",
            "Epoch 11/20\n",
            "19/19 [==============================] - 21s 1s/step - loss: 0.1499 - accuracy: 0.9482 - val_loss: 0.4903 - val_accuracy: 0.8500\n",
            "Epoch 12/20\n",
            "19/19 [==============================] - 23s 1s/step - loss: 0.1297 - accuracy: 0.9554 - val_loss: 0.6118 - val_accuracy: 0.8417\n",
            "Epoch 13/20\n",
            "19/19 [==============================] - 21s 1s/step - loss: 0.0856 - accuracy: 0.9661 - val_loss: 0.6108 - val_accuracy: 0.8625\n",
            "Epoch 14/20\n",
            "19/19 [==============================] - 22s 1s/step - loss: 0.0937 - accuracy: 0.9661 - val_loss: 0.5711 - val_accuracy: 0.8625\n",
            "Epoch 15/20\n",
            "19/19 [==============================] - 22s 1s/step - loss: 0.0685 - accuracy: 0.9768 - val_loss: 0.5643 - val_accuracy: 0.8708\n",
            "Epoch 16/20\n",
            "19/19 [==============================] - 22s 1s/step - loss: 0.0548 - accuracy: 0.9768 - val_loss: 0.8788 - val_accuracy: 0.8500\n",
            "Epoch 17/20\n",
            "19/19 [==============================] - 22s 1s/step - loss: 0.0403 - accuracy: 0.9893 - val_loss: 0.7329 - val_accuracy: 0.8583\n",
            "Epoch 18/20\n",
            "19/19 [==============================] - 22s 1s/step - loss: 0.0247 - accuracy: 0.9946 - val_loss: 1.3427 - val_accuracy: 0.8333\n",
            "Epoch 19/20\n",
            "19/19 [==============================] - 22s 1s/step - loss: 0.0379 - accuracy: 0.9839 - val_loss: 0.8504 - val_accuracy: 0.8417\n",
            "Epoch 20/20\n",
            "19/19 [==============================] - 23s 1s/step - loss: 0.0181 - accuracy: 0.9946 - val_loss: 1.1862 - val_accuracy: 0.8500\n"
          ]
        }
      ]
    },
    {
      "cell_type": "code",
      "source": [
        "pred3 = model.predict(testset)\n",
        "rounded_pred3 = np.round(pred3)\n",
        "\n",
        "res3 = tf.math.confusion_matrix(test_gender,rounded_pred3)\n",
        "import seaborn as sn\n",
        "\n",
        "plt.figure(figsize=(5,5))\n",
        "ax= plt.subplot()\n",
        "sn.heatmap(res3, annot=True, fmt = 'd', ax= ax ,cbar=False)\n",
        "\n",
        "# labels, title and ticks\n",
        "ax.set_xlabel('Predicted Gender');ax.set_ylabel('True Gender');\n",
        "ax.set_title('Confusion Matrix');\n",
        "ax.xaxis.set_ticklabels(['Male', 'Female']); ax.yaxis.set_ticklabels(['Male', 'Female']);"
      ],
      "metadata": {
        "id": "mmLreJ8tBCKL",
        "colab": {
          "base_uri": "https://localhost:8080/",
          "height": 367
        },
        "outputId": "8b4b654f-8a5e-4923-9a25-ee74b88bdfd2"
      },
      "execution_count": null,
      "outputs": [
        {
          "output_type": "stream",
          "name": "stdout",
          "text": [
            "4/4 [==============================] - 1s 241ms/step\n"
          ]
        },
        {
          "output_type": "display_data",
          "data": {
            "text/plain": [
              "<Figure size 360x360 with 1 Axes>"
            ],
            "image/png": "[encoded data removed]"
          },
          "metadata": {
            "needs_background": "light"
          }
        }
      ]
    },
    {
      "cell_type": "code",
      "source": [
        "model.evaluate(testset, test_gender)"
      ],
      "metadata": {
        "id": "DoZp05KEBB8L",
        "colab": {
          "base_uri": "https://localhost:8080/"
        },
        "outputId": "e2f42f5a-26c6-4c01-ac4d-44f96b84dc6a"
      },
      "execution_count": null,
      "outputs": [
        {
          "output_type": "stream",
          "name": "stdout",
          "text": [
            "4/4 [==============================] - 1s 237ms/step - loss: 75.9614 - accuracy: 0.8942\n"
          ]
        },
        {
          "output_type": "execute_result",
          "data": {
            "text/plain": [
              "[75.96138000488281, 0.8942307829856873]"
            ]
          },
          "metadata": {},
          "execution_count": 42
        }
      ]
    },
    {
      "cell_type": "markdown",
      "source": [
        "Hyperparameter 4"
      ],
      "metadata": {
        "id": "sSMCMt5MBFts"
      }
    },
    {
      "cell_type": "code",
      "source": [
        "model.compile(loss=['binary_crossentropy'], optimizer='adam', metrics=['accuracy'])\n",
        "history4 = model.fit(x=X_Clahe, y=y_gender, batch_size=40, epochs=20, validation_split=0.3)"
      ],
      "metadata": {
        "id": "ys9nMIvSBIOr",
        "colab": {
          "base_uri": "https://localhost:8080/"
        },
        "outputId": "cbff97a2-541a-4e0b-edb4-7ae56d885172"
      },
      "execution_count": null,
      "outputs": [
        {
          "output_type": "stream",
          "name": "stdout",
          "text": [
            "Epoch 1/20\n",
            "14/14 [==============================] - 24s 2s/step - loss: 0.5634 - accuracy: 0.7625 - val_loss: 0.5840 - val_accuracy: 0.7167\n",
            "Epoch 2/20\n",
            "14/14 [==============================] - 22s 2s/step - loss: 0.5439 - accuracy: 0.7643 - val_loss: 0.6476 - val_accuracy: 0.7167\n",
            "Epoch 3/20\n",
            "14/14 [==============================] - 22s 2s/step - loss: 0.5258 - accuracy: 0.7661 - val_loss: 0.5164 - val_accuracy: 0.7125\n",
            "Epoch 4/20\n",
            "14/14 [==============================] - 22s 2s/step - loss: 0.4494 - accuracy: 0.7857 - val_loss: 0.4553 - val_accuracy: 0.7833\n",
            "Epoch 5/20\n",
            "14/14 [==============================] - 22s 2s/step - loss: 0.3537 - accuracy: 0.8018 - val_loss: 0.4094 - val_accuracy: 0.8292\n",
            "Epoch 6/20\n",
            "14/14 [==============================] - 22s 2s/step - loss: 0.2797 - accuracy: 0.8643 - val_loss: 0.4782 - val_accuracy: 0.8375\n",
            "Epoch 7/20\n",
            "14/14 [==============================] - 23s 2s/step - loss: 0.2659 - accuracy: 0.8768 - val_loss: 0.4037 - val_accuracy: 0.8667\n",
            "Epoch 8/20\n",
            "14/14 [==============================] - 22s 2s/step - loss: 0.2391 - accuracy: 0.9054 - val_loss: 0.3761 - val_accuracy: 0.8458\n",
            "Epoch 9/20\n",
            "14/14 [==============================] - 22s 2s/step - loss: 0.2052 - accuracy: 0.9196 - val_loss: 0.3554 - val_accuracy: 0.8750\n",
            "Epoch 10/20\n",
            "14/14 [==============================] - 22s 2s/step - loss: 0.1511 - accuracy: 0.9411 - val_loss: 0.4617 - val_accuracy: 0.8667\n",
            "Epoch 11/20\n",
            "14/14 [==============================] - 21s 2s/step - loss: 0.1274 - accuracy: 0.9518 - val_loss: 0.5825 - val_accuracy: 0.8500\n",
            "Epoch 12/20\n",
            "14/14 [==============================] - 21s 2s/step - loss: 0.1214 - accuracy: 0.9536 - val_loss: 0.5845 - val_accuracy: 0.8625\n",
            "Epoch 13/20\n",
            "14/14 [==============================] - 24s 2s/step - loss: 0.1101 - accuracy: 0.9500 - val_loss: 0.7024 - val_accuracy: 0.8500\n",
            "Epoch 14/20\n",
            "14/14 [==============================] - 21s 2s/step - loss: 0.1023 - accuracy: 0.9625 - val_loss: 0.4589 - val_accuracy: 0.8792\n",
            "Epoch 15/20\n",
            "14/14 [==============================] - 23s 2s/step - loss: 0.0799 - accuracy: 0.9732 - val_loss: 0.7444 - val_accuracy: 0.8500\n",
            "Epoch 16/20\n",
            "14/14 [==============================] - 22s 2s/step - loss: 0.0649 - accuracy: 0.9732 - val_loss: 0.6291 - val_accuracy: 0.8750\n",
            "Epoch 17/20\n",
            "14/14 [==============================] - 22s 2s/step - loss: 0.0500 - accuracy: 0.9804 - val_loss: 0.5657 - val_accuracy: 0.8583\n",
            "Epoch 18/20\n",
            "14/14 [==============================] - 21s 2s/step - loss: 0.0763 - accuracy: 0.9732 - val_loss: 0.6413 - val_accuracy: 0.8667\n",
            "Epoch 19/20\n",
            "14/14 [==============================] - 21s 2s/step - loss: 0.0561 - accuracy: 0.9768 - val_loss: 0.8043 - val_accuracy: 0.8667\n",
            "Epoch 20/20\n",
            "14/14 [==============================] - 21s 2s/step - loss: 0.0420 - accuracy: 0.9875 - val_loss: 0.6741 - val_accuracy: 0.8583\n"
          ]
        }
      ]
    },
    {
      "cell_type": "code",
      "source": [
        "pred4 = model.predict(testset)\n",
        "rounded_pred4 = np.round(pred4)\n",
        "\n",
        "res4 = tf.math.confusion_matrix(test_gender,rounded_pred4)\n",
        "import seaborn as sn\n",
        "\n",
        "plt.figure(figsize=(5,5))\n",
        "ax= plt.subplot()\n",
        "sn.heatmap(res4, annot=True, fmt = 'd', ax= ax ,cbar=False)\n",
        "\n",
        "# labels, title and ticks\n",
        "ax.set_xlabel('Predicted Gender');ax.set_ylabel('True Gender');\n",
        "ax.set_title('Confusion Matrix');\n",
        "ax.xaxis.set_ticklabels(['Male', 'Female']); ax.yaxis.set_ticklabels(['Male', 'Female']);"
      ],
      "metadata": {
        "id": "oj3GzJ1NBJpg",
        "colab": {
          "base_uri": "https://localhost:8080/",
          "height": 367
        },
        "outputId": "76aac524-e135-43da-c09a-f3f6b3159637"
      },
      "execution_count": null,
      "outputs": [
        {
          "output_type": "stream",
          "name": "stdout",
          "text": [
            "4/4 [==============================] - 2s 423ms/step\n"
          ]
        },
        {
          "output_type": "display_data",
          "data": {
            "text/plain": [
              "<Figure size 360x360 with 1 Axes>"
            ],
            "image/png": "[encoded data removed]"
          },
          "metadata": {
            "needs_background": "light"
          }
        }
      ]
    },
    {
      "cell_type": "code",
      "source": [
        "model.evaluate(testset, test_gender)"
      ],
      "metadata": {
        "id": "5Fqv_Dw8BJgQ",
        "colab": {
          "base_uri": "https://localhost:8080/"
        },
        "outputId": "6e1166a0-96c1-492a-911a-e82eb6d65dd2"
      },
      "execution_count": null,
      "outputs": [
        {
          "output_type": "stream",
          "name": "stdout",
          "text": [
            "4/4 [==============================] - 2s 429ms/step - loss: 85.9163 - accuracy: 0.8173\n"
          ]
        },
        {
          "output_type": "execute_result",
          "data": {
            "text/plain": [
              "[85.91631317138672, 0.817307710647583]"
            ]
          },
          "metadata": {},
          "execution_count": 47
        }
      ]
    }
  ],
  "metadata": {
    "colab": {
      "provenance": []
    },
    "kernelspec": {
      "display_name": "Python 3",
      "name": "python3"
    },
    "language_info": {
      "name": "python"
    },
    "widgets": {
      "application/vnd.jupyter.widget-state+json": {
        "26cb47f003954ebcbf0f7639beb66c00": {
          "model_module": "@jupyter-widgets/controls",
          "model_name": "HBoxModel",
          "model_module_version": "1.5.0",
          "state": {
            "_dom_classes": [],
            "_model_module": "@jupyter-widgets/controls",
            "_model_module_version": "1.5.0",
            "_model_name": "HBoxModel",
            "_view_count": null,
            "_view_module": "@jupyter-widgets/controls",
            "_view_module_version": "1.5.0",
            "_view_name": "HBoxView",
            "box_style": "",
            "children": [
              "IPY_MODEL_f92bcad9dde7444ab7cdeca24017cd63",
              "IPY_MODEL_0f054312c7b7406cab6d52965931ad73",
              "IPY_MODEL_2e8dd21c2ca049eeb78c2a46c194f267"
            ],
            "layout": "IPY_MODEL_520e1be9fc5445ca9de43be84c2357a6"
          }
        },
        "f92bcad9dde7444ab7cdeca24017cd63": {
          "model_module": "@jupyter-widgets/controls",
          "model_name": "HTMLModel",
          "model_module_version": "1.5.0",
          "state": {
            "_dom_classes": [],
            "_model_module": "@jupyter-widgets/controls",
            "_model_module_version": "1.5.0",
            "_model_name": "HTMLModel",
            "_view_count": null,
            "_view_module": "@jupyter-widgets/controls",
            "_view_module_version": "1.5.0",
            "_view_name": "HTMLView",
            "description": "",
            "description_tooltip": null,
            "layout": "IPY_MODEL_fac245e583dd404eb1113bda117b17ce",
            "placeholder": "​",
            "style": "IPY_MODEL_b01dd9981f77478c89ac7788e224150c",
            "value": "100%"
          }
        },
        "0f054312c7b7406cab6d52965931ad73": {
          "model_module": "@jupyter-widgets/controls",
          "model_name": "FloatProgressModel",
          "model_module_version": "1.5.0",
          "state": {
            "_dom_classes": [],
            "_model_module": "@jupyter-widgets/controls",
            "_model_module_version": "1.5.0",
            "_model_name": "FloatProgressModel",
            "_view_count": null,
            "_view_module": "@jupyter-widgets/controls",
            "_view_module_version": "1.5.0",
            "_view_name": "ProgressView",
            "bar_style": "success",
            "description": "",
            "description_tooltip": null,
            "layout": "IPY_MODEL_11d08233e61947919942e2bdc40b6cd1",
            "max": 104,
            "min": 0,
            "orientation": "horizontal",
            "style": "IPY_MODEL_cafc6c33cd69481cbddd8d48795c53dd",
            "value": 104
          }
        },
        "2e8dd21c2ca049eeb78c2a46c194f267": {
          "model_module": "@jupyter-widgets/controls",
          "model_name": "HTMLModel",
          "model_module_version": "1.5.0",
          "state": {
            "_dom_classes": [],
            "_model_module": "@jupyter-widgets/controls",
            "_model_module_version": "1.5.0",
            "_model_name": "HTMLModel",
            "_view_count": null,
            "_view_module": "@jupyter-widgets/controls",
            "_view_module_version": "1.5.0",
            "_view_name": "HTMLView",
            "description": "",
            "description_tooltip": null,
            "layout": "IPY_MODEL_15b781622a0a41058f5f1a970f1cc3bf",
            "placeholder": "​",
            "style": "IPY_MODEL_ff5126395df64f0081ec4599bbc55931",
            "value": " 104/104 [00:00&lt;00:00, 512.75it/s]"
          }
        },
        "520e1be9fc5445ca9de43be84c2357a6": {
          "model_module": "@jupyter-widgets/base",
          "model_name": "LayoutModel",
          "model_module_version": "1.2.0",
          "state": {
            "_model_module": "@jupyter-widgets/base",
            "_model_module_version": "1.2.0",
            "_model_name": "LayoutModel",
            "_view_count": null,
            "_view_module": "@jupyter-widgets/base",
            "_view_module_version": "1.2.0",
            "_view_name": "LayoutView",
            "align_content": null,
            "align_items": null,
            "align_self": null,
            "border": null,
            "bottom": null,
            "display": null,
            "flex": null,
            "flex_flow": null,
            "grid_area": null,
            "grid_auto_columns": null,
            "grid_auto_flow": null,
            "grid_auto_rows": null,
            "grid_column": null,
            "grid_gap": null,
            "grid_row": null,
            "grid_template_areas": null,
            "grid_template_columns": null,
            "grid_template_rows": null,
            "height": null,
            "justify_content": null,
            "justify_items": null,
            "left": null,
            "margin": null,
            "max_height": null,
            "max_width": null,
            "min_height": null,
            "min_width": null,
            "object_fit": null,
            "object_position": null,
            "order": null,
            "overflow": null,
            "overflow_x": null,
            "overflow_y": null,
            "padding": null,
            "right": null,
            "top": null,
            "visibility": null,
            "width": null
          }
        },
        "fac245e583dd404eb1113bda117b17ce": {
          "model_module": "@jupyter-widgets/base",
          "model_name": "LayoutModel",
          "model_module_version": "1.2.0",
          "state": {
            "_model_module": "@jupyter-widgets/base",
            "_model_module_version": "1.2.0",
            "_model_name": "LayoutModel",
            "_view_count": null,
            "_view_module": "@jupyter-widgets/base",
            "_view_module_version": "1.2.0",
            "_view_name": "LayoutView",
            "align_content": null,
            "align_items": null,
            "align_self": null,
            "border": null,
            "bottom": null,
            "display": null,
            "flex": null,
            "flex_flow": null,
            "grid_area": null,
            "grid_auto_columns": null,
            "grid_auto_flow": null,
            "grid_auto_rows": null,
            "grid_column": null,
            "grid_gap": null,
            "grid_row": null,
            "grid_template_areas": null,
            "grid_template_columns": null,
            "grid_template_rows": null,
            "height": null,
            "justify_content": null,
            "justify_items": null,
            "left": null,
            "margin": null,
            "max_height": null,
            "max_width": null,
            "min_height": null,
            "min_width": null,
            "object_fit": null,
            "object_position": null,
            "order": null,
            "overflow": null,
            "overflow_x": null,
            "overflow_y": null,
            "padding": null,
            "right": null,
            "top": null,
            "visibility": null,
            "width": null
          }
        },
        "b01dd9981f77478c89ac7788e224150c": {
          "model_module": "@jupyter-widgets/controls",
          "model_name": "DescriptionStyleModel",
          "model_module_version": "1.5.0",
          "state": {
            "_model_module": "@jupyter-widgets/controls",
            "_model_module_version": "1.5.0",
            "_model_name": "DescriptionStyleModel",
            "_view_count": null,
            "_view_module": "@jupyter-widgets/base",
            "_view_module_version": "1.2.0",
            "_view_name": "StyleView",
            "description_width": ""
          }
        },
        "11d08233e61947919942e2bdc40b6cd1": {
          "model_module": "@jupyter-widgets/base",
          "model_name": "LayoutModel",
          "model_module_version": "1.2.0",
          "state": {
            "_model_module": "@jupyter-widgets/base",
            "_model_module_version": "1.2.0",
            "_model_name": "LayoutModel",
            "_view_count": null,
            "_view_module": "@jupyter-widgets/base",
            "_view_module_version": "1.2.0",
            "_view_name": "LayoutView",
            "align_content": null,
            "align_items": null,
            "align_self": null,
            "border": null,
            "bottom": null,
            "display": null,
            "flex": null,
            "flex_flow": null,
            "grid_area": null,
            "grid_auto_columns": null,
            "grid_auto_flow": null,
            "grid_auto_rows": null,
            "grid_column": null,
            "grid_gap": null,
            "grid_row": null,
            "grid_template_areas": null,
            "grid_template_columns": null,
            "grid_template_rows": null,
            "height": null,
            "justify_content": null,
            "justify_items": null,
            "left": null,
            "margin": null,
            "max_height": null,
            "max_width": null,
            "min_height": null,
            "min_width": null,
            "object_fit": null,
            "object_position": null,
            "order": null,
            "overflow": null,
            "overflow_x": null,
            "overflow_y": null,
            "padding": null,
            "right": null,
            "top": null,
            "visibility": null,
            "width": null
          }
        },
        "cafc6c33cd69481cbddd8d48795c53dd": {
          "model_module": "@jupyter-widgets/controls",
          "model_name": "ProgressStyleModel",
          "model_module_version": "1.5.0",
          "state": {
            "_model_module": "@jupyter-widgets/controls",
            "_model_module_version": "1.5.0",
            "_model_name": "ProgressStyleModel",
            "_view_count": null,
            "_view_module": "@jupyter-widgets/base",
            "_view_module_version": "1.2.0",
            "_view_name": "StyleView",
            "bar_color": null,
            "description_width": ""
          }
        },
        "15b781622a0a41058f5f1a970f1cc3bf": {
          "model_module": "@jupyter-widgets/base",
          "model_name": "LayoutModel",
          "model_module_version": "1.2.0",
          "state": {
            "_model_module": "@jupyter-widgets/base",
            "_model_module_version": "1.2.0",
            "_model_name": "LayoutModel",
            "_view_count": null,
            "_view_module": "@jupyter-widgets/base",
            "_view_module_version": "1.2.0",
            "_view_name": "LayoutView",
            "align_content": null,
            "align_items": null,
            "align_self": null,
            "border": null,
            "bottom": null,
            "display": null,
            "flex": null,
            "flex_flow": null,
            "grid_area": null,
            "grid_auto_columns": null,
            "grid_auto_flow": null,
            "grid_auto_rows": null,
            "grid_column": null,
            "grid_gap": null,
            "grid_row": null,
            "grid_template_areas": null,
            "grid_template_columns": null,
            "grid_template_rows": null,
            "height": null,
            "justify_content": null,
            "justify_items": null,
            "left": null,
            "margin": null,
            "max_height": null,
            "max_width": null,
            "min_height": null,
            "min_width": null,
            "object_fit": null,
            "object_position": null,
            "order": null,
            "overflow": null,
            "overflow_x": null,
            "overflow_y": null,
            "padding": null,
            "right": null,
            "top": null,
            "visibility": null,
            "width": null
          }
        },
        "ff5126395df64f0081ec4599bbc55931": {
          "model_module": "@jupyter-widgets/controls",
          "model_name": "DescriptionStyleModel",
          "model_module_version": "1.5.0",
          "state": {
            "_model_module": "@jupyter-widgets/controls",
            "_model_module_version": "1.5.0",
            "_model_name": "DescriptionStyleModel",
            "_view_count": null,
            "_view_module": "@jupyter-widgets/base",
            "_view_module_version": "1.2.0",
            "_view_name": "StyleView",
            "description_width": ""
          }
        },
        "dbf42d6aa39d410cb220aaf0d1f02035": {
          "model_module": "@jupyter-widgets/controls",
          "model_name": "HBoxModel",
          "model_module_version": "1.5.0",
          "state": {
            "_dom_classes": [],
            "_model_module": "@jupyter-widgets/controls",
            "_model_module_version": "1.5.0",
            "_model_name": "HBoxModel",
            "_view_count": null,
            "_view_module": "@jupyter-widgets/controls",
            "_view_module_version": "1.5.0",
            "_view_name": "HBoxView",
            "box_style": "",
            "children": [
              "IPY_MODEL_a79c101a328a49db8f46f815390b2356",
              "IPY_MODEL_f1dec11497ce461d82f770389deb05cb",
              "IPY_MODEL_d26951b3bae84becbda5d392e681a9b3"
            ],
            "layout": "IPY_MODEL_65a3ccaffb664219a397c9b54b868aee"
          }
        },
        "a79c101a328a49db8f46f815390b2356": {
          "model_module": "@jupyter-widgets/controls",
          "model_name": "HTMLModel",
          "model_module_version": "1.5.0",
          "state": {
            "_dom_classes": [],
            "_model_module": "@jupyter-widgets/controls",
            "_model_module_version": "1.5.0",
            "_model_name": "HTMLModel",
            "_view_count": null,
            "_view_module": "@jupyter-widgets/controls",
            "_view_module_version": "1.5.0",
            "_view_name": "HTMLView",
            "description": "",
            "description_tooltip": null,
            "layout": "IPY_MODEL_afeb92dda5ae42338dd01221c2def7d7",
            "placeholder": "​",
            "style": "IPY_MODEL_e3e354a3dfde4432a94fde2e235a0ce3",
            "value": "100%"
          }
        },
        "f1dec11497ce461d82f770389deb05cb": {
          "model_module": "@jupyter-widgets/controls",
          "model_name": "FloatProgressModel",
          "model_module_version": "1.5.0",
          "state": {
            "_dom_classes": [],
            "_model_module": "@jupyter-widgets/controls",
            "_model_module_version": "1.5.0",
            "_model_name": "FloatProgressModel",
            "_view_count": null,
            "_view_module": "@jupyter-widgets/controls",
            "_view_module_version": "1.5.0",
            "_view_name": "ProgressView",
            "bar_style": "success",
            "description": "",
            "description_tooltip": null,
            "layout": "IPY_MODEL_6aeb2dd1442d4fd7b89c9e21ac15374d",
            "max": 800,
            "min": 0,
            "orientation": "horizontal",
            "style": "IPY_MODEL_b4dc65d8d0e54bde82f3acf6c7f0d462",
            "value": 800
          }
        },
        "d26951b3bae84becbda5d392e681a9b3": {
          "model_module": "@jupyter-widgets/controls",
          "model_name": "HTMLModel",
          "model_module_version": "1.5.0",
          "state": {
            "_dom_classes": [],
            "_model_module": "@jupyter-widgets/controls",
            "_model_module_version": "1.5.0",
            "_model_name": "HTMLModel",
            "_view_count": null,
            "_view_module": "@jupyter-widgets/controls",
            "_view_module_version": "1.5.0",
            "_view_name": "HTMLView",
            "description": "",
            "description_tooltip": null,
            "layout": "IPY_MODEL_013ede4c73fb48f2af02c8cd87c6ffb0",
            "placeholder": "​",
            "style": "IPY_MODEL_f2b41cf7bd28450ba246072d78862a97",
            "value": " 800/800 [00:03&lt;00:00, 454.64it/s]"
          }
        },
        "65a3ccaffb664219a397c9b54b868aee": {
          "model_module": "@jupyter-widgets/base",
          "model_name": "LayoutModel",
          "model_module_version": "1.2.0",
          "state": {
            "_model_module": "@jupyter-widgets/base",
            "_model_module_version": "1.2.0",
            "_model_name": "LayoutModel",
            "_view_count": null,
            "_view_module": "@jupyter-widgets/base",
            "_view_module_version": "1.2.0",
            "_view_name": "LayoutView",
            "align_content": null,
            "align_items": null,
            "align_self": null,
            "border": null,
            "bottom": null,
            "display": null,
            "flex": null,
            "flex_flow": null,
            "grid_area": null,
            "grid_auto_columns": null,
            "grid_auto_flow": null,
            "grid_auto_rows": null,
            "grid_column": null,
            "grid_gap": null,
            "grid_row": null,
            "grid_template_areas": null,
            "grid_template_columns": null,
            "grid_template_rows": null,
            "height": null,
            "justify_content": null,
            "justify_items": null,
            "left": null,
            "margin": null,
            "max_height": null,
            "max_width": null,
            "min_height": null,
            "min_width": null,
            "object_fit": null,
            "object_position": null,
            "order": null,
            "overflow": null,
            "overflow_x": null,
            "overflow_y": null,
            "padding": null,
            "right": null,
            "top": null,
            "visibility": null,
            "width": null
          }
        },
        "afeb92dda5ae42338dd01221c2def7d7": {
          "model_module": "@jupyter-widgets/base",
          "model_name": "LayoutModel",
          "model_module_version": "1.2.0",
          "state": {
            "_model_module": "@jupyter-widgets/base",
            "_model_module_version": "1.2.0",
            "_model_name": "LayoutModel",
            "_view_count": null,
            "_view_module": "@jupyter-widgets/base",
            "_view_module_version": "1.2.0",
            "_view_name": "LayoutView",
            "align_content": null,
            "align_items": null,
            "align_self": null,
            "border": null,
            "bottom": null,
            "display": null,
            "flex": null,
            "flex_flow": null,
            "grid_area": null,
            "grid_auto_columns": null,
            "grid_auto_flow": null,
            "grid_auto_rows": null,
            "grid_column": null,
            "grid_gap": null,
            "grid_row": null,
            "grid_template_areas": null,
            "grid_template_columns": null,
            "grid_template_rows": null,
            "height": null,
            "justify_content": null,
            "justify_items": null,
            "left": null,
            "margin": null,
            "max_height": null,
            "max_width": null,
            "min_height": null,
            "min_width": null,
            "object_fit": null,
            "object_position": null,
            "order": null,
            "overflow": null,
            "overflow_x": null,
            "overflow_y": null,
            "padding": null,
            "right": null,
            "top": null,
            "visibility": null,
            "width": null
          }
        },
        "e3e354a3dfde4432a94fde2e235a0ce3": {
          "model_module": "@jupyter-widgets/controls",
          "model_name": "DescriptionStyleModel",
          "model_module_version": "1.5.0",
          "state": {
            "_model_module": "@jupyter-widgets/controls",
            "_model_module_version": "1.5.0",
            "_model_name": "DescriptionStyleModel",
            "_view_count": null,
            "_view_module": "@jupyter-widgets/base",
            "_view_module_version": "1.2.0",
            "_view_name": "StyleView",
            "description_width": ""
          }
        },
        "6aeb2dd1442d4fd7b89c9e21ac15374d": {
          "model_module": "@jupyter-widgets/base",
          "model_name": "LayoutModel",
          "model_module_version": "1.2.0",
          "state": {
            "_model_module": "@jupyter-widgets/base",
            "_model_module_version": "1.2.0",
            "_model_name": "LayoutModel",
            "_view_count": null,
            "_view_module": "@jupyter-widgets/base",
            "_view_module_version": "1.2.0",
            "_view_name": "LayoutView",
            "align_content": null,
            "align_items": null,
            "align_self": null,
            "border": null,
            "bottom": null,
            "display": null,
            "flex": null,
            "flex_flow": null,
            "grid_area": null,
            "grid_auto_columns": null,
            "grid_auto_flow": null,
            "grid_auto_rows": null,
            "grid_column": null,
            "grid_gap": null,
            "grid_row": null,
            "grid_template_areas": null,
            "grid_template_columns": null,
            "grid_template_rows": null,
            "height": null,
            "justify_content": null,
            "justify_items": null,
            "left": null,
            "margin": null,
            "max_height": null,
            "max_width": null,
            "min_height": null,
            "min_width": null,
            "object_fit": null,
            "object_position": null,
            "order": null,
            "overflow": null,
            "overflow_x": null,
            "overflow_y": null,
            "padding": null,
            "right": null,
            "top": null,
            "visibility": null,
            "width": null
          }
        },
        "b4dc65d8d0e54bde82f3acf6c7f0d462": {
          "model_module": "@jupyter-widgets/controls",
          "model_name": "ProgressStyleModel",
          "model_module_version": "1.5.0",
          "state": {
            "_model_module": "@jupyter-widgets/controls",
            "_model_module_version": "1.5.0",
            "_model_name": "ProgressStyleModel",
            "_view_count": null,
            "_view_module": "@jupyter-widgets/base",
            "_view_module_version": "1.2.0",
            "_view_name": "StyleView",
            "bar_color": null,
            "description_width": ""
          }
        },
        "013ede4c73fb48f2af02c8cd87c6ffb0": {
          "model_module": "@jupyter-widgets/base",
          "model_name": "LayoutModel",
          "model_module_version": "1.2.0",
          "state": {
            "_model_module": "@jupyter-widgets/base",
            "_model_module_version": "1.2.0",
            "_model_name": "LayoutModel",
            "_view_count": null,
            "_view_module": "@jupyter-widgets/base",
            "_view_module_version": "1.2.0",
            "_view_name": "LayoutView",
            "align_content": null,
            "align_items": null,
            "align_self": null,
            "border": null,
            "bottom": null,
            "display": null,
            "flex": null,
            "flex_flow": null,
            "grid_area": null,
            "grid_auto_columns": null,
            "grid_auto_flow": null,
            "grid_auto_rows": null,
            "grid_column": null,
            "grid_gap": null,
            "grid_row": null,
            "grid_template_areas": null,
            "grid_template_columns": null,
            "grid_template_rows": null,
            "height": null,
            "justify_content": null,
            "justify_items": null,
            "left": null,
            "margin": null,
            "max_height": null,
            "max_width": null,
            "min_height": null,
            "min_width": null,
            "object_fit": null,
            "object_position": null,
            "order": null,
            "overflow": null,
            "overflow_x": null,
            "overflow_y": null,
            "padding": null,
            "right": null,
            "top": null,
            "visibility": null,
            "width": null
          }
        },
        "f2b41cf7bd28450ba246072d78862a97": {
          "model_module": "@jupyter-widgets/controls",
          "model_name": "DescriptionStyleModel",
          "model_module_version": "1.5.0",
          "state": {
            "_model_module": "@jupyter-widgets/controls",
            "_model_module_version": "1.5.0",
            "_model_name": "DescriptionStyleModel",
            "_view_count": null,
            "_view_module": "@jupyter-widgets/base",
            "_view_module_version": "1.2.0",
            "_view_name": "StyleView",
            "description_width": ""
          }
        }
      }
    }
  },
  "nbformat": 4,
  "nbformat_minor": 0
}