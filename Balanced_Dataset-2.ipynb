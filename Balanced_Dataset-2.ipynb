{
  "cells": [
    {
      "cell_type": "code",
      "execution_count": null,
      "metadata": {
        "id": "jvwpsl2Oxyqb"
      },
      "outputs": [],
      "source": [
        "from google.colab.patches import cv2_imshow\n",
        "from skimage import io\n",
        "import os\n",
        "\n",
        "\n",
        "import pandas as pd\n",
        "import numpy as np\n",
        "import os\n",
        "import tensorflow as tf\n",
        "import cv2\n",
        "\n",
        "from  matplotlib import pyplot as plt\n",
        "import matplotlib.image as mpimg\n",
        "from matplotlib.image import imread\n",
        "import random\n",
        "import seaborn as sns\n",
        "from tqdm.notebook import tqdm\n",
        "from PIL import Image\n",
        "\n",
        "from sklearn.metrics import confusion_matrix\n",
        "from sklearn.metrics import ConfusionMatrixDisplay\n",
        "import tensorflow as tf\n",
        "from keras_preprocessing.image import load_img\n",
        "from keras.models import Sequential, Model\n",
        "from keras.layers import Dense, Conv2D, Dropout, Flatten, MaxPooling2D, BatchNormalization, Input"
      ]
    },
    {
      "cell_type": "code",
      "execution_count": null,
      "metadata": {
        "colab": {
          "base_uri": "https://localhost:8080/"
        },
        "id": "8zVR1anqvmMM",
        "outputId": "18d7adb8-ac2b-441e-e7c0-82544ca42f29"
      },
      "outputs": [
        {
          "output_type": "stream",
          "name": "stdout",
          "text": [
            "Done\n"
          ]
        }
      ],
      "source": [
        "from zipfile import ZipFile\n",
        "filename = \"Balanced.zip\"\n",
        "\n",
        "with ZipFile(filename, 'r') as zip:\n",
        "  zip.extractall()\n",
        "  print(\"Done\")"
      ]
    },
    {
      "cell_type": "code",
      "execution_count": null,
      "metadata": {
        "id": "8UCj6bHmY34k"
      },
      "outputs": [],
      "source": [
        "!pip install -q keras"
      ]
    },
    {
      "cell_type": "code",
      "execution_count": null,
      "metadata": {
        "id": "FOmZN3h2Al0c"
      },
      "outputs": [],
      "source": [
        "!pip install tensorflow"
      ]
    },
    {
      "cell_type": "code",
      "execution_count": null,
      "metadata": {
        "id": "D8T_qxTYv6kY"
      },
      "outputs": [],
      "source": []
    },
    {
      "cell_type": "code",
      "execution_count": null,
      "metadata": {
        "colab": {
          "base_uri": "https://localhost:8080/"
        },
        "id": "jqk-_igDv6nJ",
        "outputId": "481a8773-92d8-4455-b3ef-de77336e588c"
      },
      "outputs": [
        {
          "output_type": "execute_result",
          "data": {
            "text/plain": [
              "800"
            ]
          },
          "metadata": {},
          "execution_count": 55
        }
      ],
      "source": [
        "len(os.listdir('Balanced'))"
      ]
    },
    {
      "cell_type": "code",
      "execution_count": null,
      "metadata": {
        "colab": {
          "base_uri": "https://localhost:8080/"
        },
        "id": "5BBGE-sZv6px",
        "outputId": "618dd3b8-5601-4754-c071-85a0736d2322"
      },
      "outputs": [
        {
          "output_type": "stream",
          "name": "stdout",
          "text": [
            "Number of images: 800\n",
            "24_1_3_20170104234737428.jpg.chip.jpg\n"
          ]
        }
      ],
      "source": [
        "f_list = os.listdir('Balanced')\n",
        "\n",
        "\n",
        "f_num = len(f_list)\n",
        "print('Number of images:', f_num)\n",
        "print(f_list[0])"
      ]
    },
    {
      "cell_type": "code",
      "source": [
        "df = pd.DataFrame(f_list, columns = ['train_name'])\n",
        "\n",
        "df['train_gender'] = df.apply(lambda x : x['train_name'].split('_')[1], axis = 1).astype('int')\n",
        "\n",
        "df['train_demographical_area'] = df.apply(lambda x : x['train_name'].split('_')[2], axis = 1).astype('int')\n",
        "df.head()"
      ],
      "metadata": {
        "colab": {
          "base_uri": "https://localhost:8080/",
          "height": 204
        },
        "id": "NozN6MNN8Lsl",
        "outputId": "6c643a1c-56c2-4a74-8df6-0b66882e2041"
      },
      "execution_count": null,
      "outputs": [
        {
          "output_type": "execute_result",
          "data": {
            "text/plain": [
              "                              train_name  train_gender  \\\n",
              "0  24_1_3_20170104234737428.jpg.chip.jpg             1   \n",
              "1  30_1_0_20170109012829305.jpg.chip.jpg             1   \n",
              "2  28_0_2_20170116162829960.jpg.chip.jpg             0   \n",
              "3  29_0_3_20170119153035762.jpg.chip.jpg             0   \n",
              "4  30_0_2_20170103235423316.jpg.chip.jpg             0   \n",
              "\n",
              "   train_demographical_area  \n",
              "0                         3  \n",
              "1                         0  \n",
              "2                         2  \n",
              "3                         3  \n",
              "4                         2  "
            ],
            "text/html": [
              "\n",
              "  <div id=\"df-9fd11290-c4d0-4843-b8c8-2d5c3a18a81b\">\n",
              "    <div class=\"colab-df-container\">\n",
              "      <div>\n",
              "<style scoped>\n",
              "    .dataframe tbody tr th:only-of-type {\n",
              "        vertical-align: middle;\n",
              "    }\n",
              "\n",
              "    .dataframe tbody tr th {\n",
              "        vertical-align: top;\n",
              "    }\n",
              "\n",
              "    .dataframe thead th {\n",
              "        text-align: right;\n",
              "    }\n",
              "</style>\n",
              "<table border=\"1\" class=\"dataframe\">\n",
              "  <thead>\n",
              "    <tr style=\"text-align: right;\">\n",
              "      <th></th>\n",
              "      <th>train_name</th>\n",
              "      <th>train_gender</th>\n",
              "      <th>train_demographical_area</th>\n",
              "    </tr>\n",
              "  </thead>\n",
              "  <tbody>\n",
              "    <tr>\n",
              "      <th>0</th>\n",
              "      <td>24_1_3_20170104234737428.jpg.chip.jpg</td>\n",
              "      <td>1</td>\n",
              "      <td>3</td>\n",
              "    </tr>\n",
              "    <tr>\n",
              "      <th>1</th>\n",
              "      <td>30_1_0_20170109012829305.jpg.chip.jpg</td>\n",
              "      <td>1</td>\n",
              "      <td>0</td>\n",
              "    </tr>\n",
              "    <tr>\n",
              "      <th>2</th>\n",
              "      <td>28_0_2_20170116162829960.jpg.chip.jpg</td>\n",
              "      <td>0</td>\n",
              "      <td>2</td>\n",
              "    </tr>\n",
              "    <tr>\n",
              "      <th>3</th>\n",
              "      <td>29_0_3_20170119153035762.jpg.chip.jpg</td>\n",
              "      <td>0</td>\n",
              "      <td>3</td>\n",
              "    </tr>\n",
              "    <tr>\n",
              "      <th>4</th>\n",
              "      <td>30_0_2_20170103235423316.jpg.chip.jpg</td>\n",
              "      <td>0</td>\n",
              "      <td>2</td>\n",
              "    </tr>\n",
              "  </tbody>\n",
              "</table>\n",
              "</div>\n",
              "      <button class=\"colab-df-convert\" onclick=\"convertToInteractive('df-9fd11290-c4d0-4843-b8c8-2d5c3a18a81b')\"\n",
              "              title=\"Convert this dataframe to an interactive table.\"\n",
              "              style=\"display:none;\">\n",
              "        \n",
              "  <svg xmlns=\"http://www.w3.org/2000/svg\" height=\"24px\"viewBox=\"0 0 24 24\"\n",
              "       width=\"24px\">\n",
              "    <path d=\"M0 0h24v24H0V0z\" fill=\"none\"/>\n",
              "    <path d=\"M18.56 5.44l.94 2.06.94-2.06 2.06-.94-2.06-.94-.94-2.06-.94 2.06-2.06.94zm-11 1L8.5 8.5l.94-2.06 2.06-.94-2.06-.94L8.5 2.5l-.94 2.06-2.06.94zm10 10l.94 2.06.94-2.06 2.06-.94-2.06-.94-.94-2.06-.94 2.06-2.06.94z\"/><path d=\"M17.41 7.96l-1.37-1.37c-.4-.4-.92-.59-1.43-.59-.52 0-1.04.2-1.43.59L10.3 9.45l-7.72 7.72c-.78.78-.78 2.05 0 2.83L4 21.41c.39.39.9.59 1.41.59.51 0 1.02-.2 1.41-.59l7.78-7.78 2.81-2.81c.8-.78.8-2.07 0-2.86zM5.41 20L4 18.59l7.72-7.72 1.47 1.35L5.41 20z\"/>\n",
              "  </svg>\n",
              "      </button>\n",
              "      \n",
              "  <style>\n",
              "    .colab-df-container {\n",
              "      display:flex;\n",
              "      flex-wrap:wrap;\n",
              "      gap: 12px;\n",
              "    }\n",
              "\n",
              "    .colab-df-convert {\n",
              "      background-color: #E8F0FE;\n",
              "      border: none;\n",
              "      border-radius: 50%;\n",
              "      cursor: pointer;\n",
              "      display: none;\n",
              "      fill: #1967D2;\n",
              "      height: 32px;\n",
              "      padding: 0 0 0 0;\n",
              "      width: 32px;\n",
              "    }\n",
              "\n",
              "    .colab-df-convert:hover {\n",
              "      background-color: #E2EBFA;\n",
              "      box-shadow: 0px 1px 2px rgba(60, 64, 67, 0.3), 0px 1px 3px 1px rgba(60, 64, 67, 0.15);\n",
              "      fill: #174EA6;\n",
              "    }\n",
              "\n",
              "    [theme=dark] .colab-df-convert {\n",
              "      background-color: #3B4455;\n",
              "      fill: #D2E3FC;\n",
              "    }\n",
              "\n",
              "    [theme=dark] .colab-df-convert:hover {\n",
              "      background-color: #434B5C;\n",
              "      box-shadow: 0px 1px 3px 1px rgba(0, 0, 0, 0.15);\n",
              "      filter: drop-shadow(0px 1px 2px rgba(0, 0, 0, 0.3));\n",
              "      fill: #FFFFFF;\n",
              "    }\n",
              "  </style>\n",
              "\n",
              "      <script>\n",
              "        const buttonEl =\n",
              "          document.querySelector('#df-9fd11290-c4d0-4843-b8c8-2d5c3a18a81b button.colab-df-convert');\n",
              "        buttonEl.style.display =\n",
              "          google.colab.kernel.accessAllowed ? 'block' : 'none';\n",
              "\n",
              "        async function convertToInteractive(key) {\n",
              "          const element = document.querySelector('#df-9fd11290-c4d0-4843-b8c8-2d5c3a18a81b');\n",
              "          const dataTable =\n",
              "            await google.colab.kernel.invokeFunction('convertToInteractive',\n",
              "                                                     [key], {});\n",
              "          if (!dataTable) return;\n",
              "\n",
              "          const docLinkHtml = 'Like what you see? Visit the ' +\n",
              "            '<a target=\"_blank\" href=https://colab.research.google.com/notebooks/data_table.ipynb>data table notebook</a>'\n",
              "            + ' to learn more about interactive tables.';\n",
              "          element.innerHTML = '';\n",
              "          dataTable['output_type'] = 'display_data';\n",
              "          await google.colab.output.renderOutput(dataTable, element);\n",
              "          const docLink = document.createElement('div');\n",
              "          docLink.innerHTML = docLinkHtml;\n",
              "          element.appendChild(docLink);\n",
              "        }\n",
              "      </script>\n",
              "    </div>\n",
              "  </div>\n",
              "  "
            ]
          },
          "metadata": {},
          "execution_count": 57
        }
      ]
    },
    {
      "cell_type": "code",
      "execution_count": null,
      "metadata": {
        "colab": {
          "base_uri": "https://localhost:8080/",
          "height": 281
        },
        "id": "CWos9AyTzvjb",
        "outputId": "589b4069-dc2e-425e-8723-5c7810124928"
      },
      "outputs": [
        {
          "output_type": "execute_result",
          "data": {
            "text/plain": [
              "Text(0.5, 1.0, 'Demographic Region Distribution in Dataset')"
            ]
          },
          "metadata": {},
          "execution_count": 31
        },
        {
          "output_type": "display_data",
          "data": {
            "text/plain": [
              "<Figure size 432x288 with 1 Axes>"
            ],
            "image/png": "[encoded data removed]"
          },
          "metadata": {}
        }
      ],
      "source": [
        "df['train_demographical_area'].value_counts().plot.pie(autopct=\"%1.1f%%\", labels = ['White' , 'Black' , 'Asian' , 'Indian'])\n",
        "plt.legend()\n",
        "plt.title(\"Demographic Region Distribution in Dataset\")"
      ]
    },
    {
      "cell_type": "code",
      "execution_count": null,
      "metadata": {
        "colab": {
          "base_uri": "https://localhost:8080/",
          "height": 281
        },
        "id": "PmKAHR8KzsQk",
        "outputId": "1c3020c1-dd5d-421d-e309-00292b3422ad"
      },
      "outputs": [
        {
          "output_type": "execute_result",
          "data": {
            "text/plain": [
              "Text(0.5, 1.0, 'Gender Distribution in Dataset')"
            ]
          },
          "metadata": {},
          "execution_count": 32
        },
        {
          "output_type": "display_data",
          "data": {
            "text/plain": [
              "<Figure size 432x288 with 1 Axes>"
            ],
            "image/png": "[encoded data removed]"
          },
          "metadata": {}
        }
      ],
      "source": [
        "df['train_gender'].value_counts().plot.pie(autopct=\"%1.1f%%\", labels = ['Male' , 'Female'])\n",
        "plt.legend()\n",
        "plt.title('Gender Distribution in Dataset')"
      ]
    },
    {
      "cell_type": "code",
      "execution_count": null,
      "metadata": {
        "colab": {
          "base_uri": "https://localhost:8080/"
        },
        "id": "QroT_NBpTWf0",
        "outputId": "c1155e3c-d4bf-4f1e-d05b-2c1ea695ae6b"
      },
      "outputs": [
        {
          "output_type": "stream",
          "name": "stdout",
          "text": [
            "Done\n"
          ]
        }
      ],
      "source": [
        "from zipfile import ZipFile\n",
        "filename = \"all.zip\"\n",
        "\n",
        "with ZipFile(filename, 'r') as zip:\n",
        "  zip.extractall()\n",
        "  print(\"Done\")"
      ]
    },
    {
      "cell_type": "code",
      "execution_count": null,
      "metadata": {
        "colab": {
          "base_uri": "https://localhost:8080/"
        },
        "id": "YXLZAl-CXyWD",
        "outputId": "20537aaf-ab2c-44f3-8728-eedf938269cf"
      },
      "outputs": [
        {
          "output_type": "stream",
          "name": "stdout",
          "text": [
            "Number of images: 104\n",
            "['24_1_3_20170104234737428.jpg.chip.jpg', '30_1_0_20170109012829305.jpg.chip.jpg', '28_0_2_20170116162829960.jpg.chip.jpg', '29_0_3_20170119153035762.jpg.chip.jpg', '30_0_2_20170103235423316.jpg.chip.jpg', '29_1_2_20170116163921292.jpg.chip.jpg', '28_1_1_20170112230737559.jpg.chip.jpg', '29_0_1_20170104220317630.jpg.chip.jpg', '21_0_3_20170104230524803.jpg.chip.jpg', '27_0_1_20170113175536164.jpg.chip.jpg', '26_0_1_20170113134328745.jpg.chip.jpg', '25_1_3_20170104222350215.jpg.chip.jpg', '28_0_2_20170116162117606.jpg.chip.jpg', '22_1_3_20170104222547654.jpg.chip.jpg', '29_1_1_20170112205844564.jpg.chip.jpg', '23_0_2_20170116172858865.jpg.chip.jpg', '22_0_0_20170111181750310.jpg.chip.jpg', '25_0_1_20170113145615148.jpg.chip.jpg', '25_1_2_20170104020339110.jpg.chip.jpg', '27_0_2_20170116174628743.jpg.chip.jpg', '23_0_0_20170117144550331.jpg.chip.jpg', '24_0_1_20170113132543250.jpg.chip.jpg', '25_0_2_20170104192902767.jpg.chip.jpg', '25_1_0_20170104022204452.jpg.chip.jpg', '26_1_1_20170112233658982.jpg.chip.jpg', '29_1_0_20170109002758865.jpg.chip.jpg', '28_1_1_20170112233537928.jpg.chip.jpg', '22_1_1_20170112214852574.jpg.chip.jpg', '21_1_1_20170112193009590.jpg.chip.jpg', '26_1_1_20170112235910121.jpg.chip.jpg', '25_0_1_20170113150958863.jpg.chip.jpg', '24_1_0_20170104022714148.jpg.chip.jpg', '23_1_0_20170105183727831.jpg.chip.jpg', '24_1_3_20170104232545657.jpg.chip.jpg', '23_1_0_20170112234027666.jpg.chip.jpg', '25_1_3_20170104222218775.jpg.chip.jpg', '21_0_0_20170117141910383.jpg.chip.jpg', '24_0_1_20170113133945657.jpg.chip.jpg', '25_0_3_20170104230516489.jpg.chip.jpg', '23_1_2_20170116164541818.jpg.chip.jpg', '29_0_3_20170119170547814.jpg.chip.jpg', '26_1_2_20170116163413372.jpg.chip.jpg', '30_1_3_20170117181327196.jpg.chip.jpg', '21_0_0_20170117141529337.jpg.chip.jpg', '26_0_3_20170117153628556.jpg.chip.jpg', '23_1_0_20170105002627948.jpg.chip.jpg', '28_0_3_20170104230628769.jpg.chip.jpg', '28_1_2_20170109141410232.jpg.chip.jpg', '28_1_2_20170116161312148.jpg.chip.jpg', '25_1_0_20170104023032454.jpg.chip.jpg', '30_0_3_20170119164115989.jpg.chip.jpg', '29_0_2_20170116214521042.jpg.chip.jpg', '29_0_3_20170117180819737.jpg.chip.jpg', '30_0_2_20170112205508972.jpg.chip.jpg', '24_1_2_20170105184025097.jpg.chip.jpg', '27_0_0_20170117175924156.jpg.chip.jpg', '21_0_2_20170116170741864.jpg.chip.jpg', '26_0_0_20170104172735675.jpg.chip.jpg', '22_1_1_20170112192911566.jpg.chip.jpg', '28_0_0_20170105164905292.jpg.chip.jpg', '26_1_0_20170105183935352.jpg.chip.jpg', '24_0_3_20170104230213449.jpg.chip.jpg', '28_0_0_20170105161713835.jpg.chip.jpg', '30_0_3_20170119195646516.jpg.chip.jpg', '29_1_2_20170116163011756.jpg.chip.jpg', '27_1_2_20170116163739668.jpg.chip.jpg', '21_1_3_20170104222121713.jpg.chip.jpg', '27_0_1_20170113155149675.jpg.chip.jpg', '24_1_1_20170112230733998.jpg.chip.jpg', '21_0_1_20170113133117587.jpg.chip.jpg', '23_1_1_20170112203943260.jpg.chip.jpg', '21_1_3_20170104222758121.jpg.chip.jpg', '21_1_1_20170112193012350.jpg.chip.jpg', '24_0_3_20170115230942077.jpg.chip.jpg', '28_1_2_20170105162418251.jpg.chip.jpg', '29_1_2_20170116163132225.jpg.chip.jpg', '23_1_3_20170119164419982.jpg.chip.jpg', '21_0_0_20170117193719188.jpg.chip.jpg', '29_1_2_20170116164242023.jpg.chip.jpg', '22_0_3_20170119155849290.jpg.chip.jpg', '28_1_0_20170116220243853.jpg.chip.jpg', '22_0_0_20170104230045815.jpg.chip.jpg', '25_1_0_20170104021242700.jpg.chip.jpg', '28_0_1_20170113142237196.jpg.chip.jpg', '27_1_0_20170109013152498.jpg.chip.jpg', '26_0_2_20170116180203819.jpg.chip.jpg', '23_0_0_20170117144406947.jpg.chip.jpg', '22_1_0_20170103180211110.jpg.chip.jpg', '27_0_1_20170113135657435.jpg.chip.jpg', '29_0_3_20170119164635285.jpg.chip.jpg', '24_1_0_20170105000615467.jpg.chip.jpg', '29_1_1_20170105183913087.jpg.chip.jpg', '29_1_0_20170105163239939.jpg.chip.jpg', '21_0_1_20170113133218153.jpg.chip.jpg', '24_0_2_20170104021847349.jpg.chip.jpg', '26_1_2_20170116164549452.jpg.chip.jpg', '24_0_2_20161219192221394.jpg.chip.jpg', '28_0_2_20170116162328748.jpg.chip.jpg', '25_1_1_20170112205034330.jpg.chip.jpg', '25_1_2_20170104021040316.jpg.chip.jpg', '22_0_3_20170117143018402.jpg.chip.jpg', '25_0_3_20170104230227202.jpg.chip.jpg', '26_1_1_20170112235515129.jpg.chip.jpg', '29_0_1_20170104202114602.jpg.chip.jpg', '25_0_0_20170104011143168.jpg.chip.jpg', '28_0_2_20170116162019874.jpg.chip.jpg', '28_1_3_20170119194448739.jpg.chip.jpg', '23_1_3_20170117185811408.jpg.chip.jpg', '27_0_3_20170119193304964.jpg.chip.jpg', '30_0_2_20170107212049636.jpg.chip.jpg', '29_0_0_20170104230319649.jpg.chip.jpg', '21_1_1_20170112202838467.jpg.chip.jpg', '24_1_2_20170105162251371.jpg.chip.jpg', '24_0_1_20170113134042697.jpg.chip.jpg', '29_1_3_20170104232346298.jpg.chip.jpg', '25_1_3_20170104222509455.jpg.chip.jpg', '29_0_3_20170119165856407.jpg.chip.jpg', '22_1_1_20170112230505525.jpg.chip.jpg', '24_1_1_20170112231700838.jpg.chip.jpg', '27_1_1_20170112234451680.jpg.chip.jpg', '21_0_2_20170112192931470.jpg.chip.jpg', '25_0_1_20170113151453752.jpg.chip.jpg', '21_0_3_20170104225826937.jpg.chip.jpg', '23_1_2_20170104020053452.jpg.chip.jpg', '25_0_1_20170113151354352.jpg.chip.jpg', '21_1_0_20170105002525812.jpg.chip.jpg', '29_1_0_20170105172818813.jpg.chip.jpg', '27_0_2_20170116172514816.jpg.chip.jpg', '26_1_0_20170104235143076.jpg.chip.jpg', '30_0_1_20170116191707734.jpg.chip.jpg', '30_0_0_20170117130639687.jpg.chip.jpg', '26_1_1_20170112235057871.jpg.chip.jpg', '30_1_3_20170117145238579.jpg.chip.jpg', '28_0_0_20170103181320400.jpg.chip.jpg', '26_0_0_20170103235702988.jpg.chip.jpg', '30_0_3_20170119155845146.jpg.chip.jpg', '29_0_2_20170116173703903.jpg.chip.jpg', '27_1_3_20170119155634673.jpg.chip.jpg', '30_0_2_20170113132649300.jpg.chip.jpg', '22_0_1_20170113133327736.jpg.chip.jpg', '22_0_1_20170113133303935.jpg.chip.jpg', '26_0_1_20170113134653322.jpg.chip.jpg', '29_1_0_20170111182452813.jpg.chip.jpg', '24_1_2_20170104021559044.jpg.chip.jpg', '23_0_3_20170119164205782.jpg.chip.jpg', '26_1_3_20170104232518026.jpg.chip.jpg', '29_1_2_20170116164937910.jpg.chip.jpg', '27_0_0_20170117192029218.jpg.chip.jpg', '23_1_1_20170103212737732.jpg.chip.jpg', '24_1_0_20170105003235308.jpg.chip.jpg', '27_1_2_20170116163658895.jpg.chip.jpg', '22_1_0_20170103235726923.jpg.chip.jpg', '23_0_0_20170117144526121.jpg.chip.jpg', '29_0_2_20170116205917784.jpg.chip.jpg', '29_0_0_20170104201134466.jpg.chip.jpg', '25_0_0_20170113174036233.jpg.chip.jpg', '21_1_1_20170112193102422.jpg.chip.jpg', '21_1_2_20170104015820531.jpg.chip.jpg', '29_1_0_20170109132341425.jpg.chip.jpg', '30_1_3_20170117181352869.jpg.chip.jpg', '29_1_3_20170104214540068.jpg.chip.jpg', '28_0_1_20170113142348356.jpg.chip.jpg', '23_0_1_20170113133840296.jpg.chip.jpg', '27_0_0_20170117202049702.jpg.chip.jpg', '26_0_1_20170113134356512.jpg.chip.jpg', '30_0_3_20170119195729476.jpg.chip.jpg', '28_1_2_20170105162338411.jpg.chip.jpg', '23_0_1_20170113150723591.jpg.chip.jpg', '30_1_0_20170109141417666.jpg.chip.jpg', '23_1_0_20170112234126720.jpg.chip.jpg', '24_0_3_20170104230211113.jpg.chip.jpg', '24_1_3_20170104232256105.jpg.chip.jpg', '24_1_2_20170109213251114.jpg.chip.jpg', '21_1_2_20170105002530429.jpg.chip.jpg', '27_1_1_20170113000852746.jpg.chip.jpg', '29_0_1_20170113134101015.jpg.chip.jpg', '29_0_3_20170117180751226.jpg.chip.jpg', '25_1_1_20170112205059883.jpg.chip.jpg', '23_1_3_20170119164040174.jpg.chip.jpg', '25_0_2_20170104021424381.jpg.chip.jpg', '26_0_3_20170117153930604.jpg.chip.jpg', '26_1_0_20170105183649031.jpg.chip.jpg', '23_1_1_20170112192422750.jpg.chip.jpg', '23_0_0_20170117144545593.jpg.chip.jpg', '30_0_3_20170119195653219.jpg.chip.jpg', '24_1_0_20170105162704533.jpg.chip.jpg', '22_0_3_20170119160301570.jpg.chip.jpg', '26_1_1_20170112234340711.jpg.chip.jpg', '28_1_2_20170105000553851.jpg.chip.jpg', '22_0_0_20170110232213323.jpg.chip.jpg', '27_1_1_20170113001034770.jpg.chip.jpg', '23_0_3_20170119164331517.jpg.chip.jpg', '21_1_3_20170104222118687.jpg.chip.jpg', '23_1_2_20170116172757270.jpg.chip.jpg', '22_0_1_20170110223418177.jpg.chip.jpg', '30_1_1_20170113195544997.jpg.chip.jpg', '26_0_2_20170116180402719.jpg.chip.jpg', '28_0_1_20170113142412428.jpg.chip.jpg', '30_1_0_20170116191956794.jpg.chip.jpg', '21_0_0_20170117142053066.jpg.chip.jpg', '30_0_0_20170117130638578.jpg.chip.jpg', '27_0_2_20170116172745659.jpg.chip.jpg', '28_0_3_20170113153014880.jpg.chip.jpg', '29_0_2_20170116190156845.jpg.chip.jpg', '22_1_2_20170104231245440.jpg.chip.jpg', '28_0_3_20170104232432992.jpg.chip.jpg', '27_1_2_20170116163736839.jpg.chip.jpg', '21_1_0_20170104234933489.jpg.chip.jpg', '27_1_3_20170119193219282.jpg.chip.jpg', '26_0_3_20170117154452224.jpg.chip.jpg', '30_0_0_20170117131018041.jpg.chip.jpg', '21_0_1_20170113145729669.jpg.chip.jpg', '21_1_2_20170104015832388.jpg.chip.jpg', '28_0_1_20170113145447677.jpg.chip.jpg', '26_0_3_20170117153919644.jpg.chip.jpg', '27_0_3_20170119194317923.jpg.chip.jpg', '28_1_0_20170116202056699.jpg.chip.jpg', '25_1_3_20170104214624646.jpg.chip.jpg', '23_0_2_20170108224712804.jpg.chip.jpg', '21_1_1_20170112202847954.jpg.chip.jpg', '26_0_1_20170113134355472.jpg.chip.jpg', '22_0_2_20170116161333666.jpg.chip.jpg', '25_1_2_20170104015850244.jpg.chip.jpg', '27_1_1_20170112234549479.jpg.chip.jpg', '29_1_3_20170104222730103.jpg.chip.jpg', '22_1_0_20170105002545990.jpg.chip.jpg', '25_0_0_20170113181532013.jpg.chip.jpg', '22_1_3_20170104222126558.jpg.chip.jpg', '21_1_0_20170105183508735.jpg.chip.jpg', '24_0_3_20170104230147273.jpg.chip.jpg', '26_0_1_20170113134354008.jpg.chip.jpg', '27_0_0_20170117192017055.jpg.chip.jpg', '27_0_2_20170116172528863.jpg.chip.jpg', '25_0_3_20170104214432805.jpg.chip.jpg', '26_0_3_20170117154224766.jpg.chip.jpg', '27_1_0_20170105000743720.jpg.chip.jpg', '22_0_3_20170119144723733.jpg.chip.jpg', '26_0_2_20170116180332055.jpg.chip.jpg', '29_1_2_20170116163350492.jpg.chip.jpg', '22_1_3_20170104222220913.jpg.chip.jpg', '21_0_3_20170117141619327.jpg.chip.jpg', '23_1_0_20170112234128328.jpg.chip.jpg', '29_1_3_20170104232524938.jpg.chip.jpg', '26_1_3_20170104234454339.jpg.chip.jpg', '26_0_2_20170116180219752.jpg.chip.jpg', '22_0_0_20170108224621224.jpg.chip.jpg', '22_1_1_20170112203821018.jpg.chip.jpg', '24_1_2_20170104022044502.jpg.chip.jpg', '22_1_2_20170114033415747.jpg.chip.jpg', '23_0_2_20170114024549242.jpg.chip.jpg', '23_1_2_20170104020318141.jpg.chip.jpg', '28_1_0_20170116214232243.jpg.chip.jpg', '24_0_2_20170104020029454.jpg.chip.jpg', '26_0_3_20170117154449286.jpg.chip.jpg', '24_1_2_20170104021917324.jpg.chip.jpg', '30_1_3_20170117150440114.jpg.chip.jpg', '29_0_2_20170116172141170.jpg.chip.jpg', '28_1_0_20170116220300753.jpg.chip.jpg', '24_0_3_20170117144123778.jpg.chip.jpg', '26_1_2_20170116163008149.jpg.chip.jpg', '26_0_0_20170103181224784.jpg.chip.jpg', '27_0_3_20170119194352188.jpg.chip.jpg', '25_0_2_20170116174816852.jpg.chip.jpg', '22_1_0_20170104021327948.jpg.chip.jpg', '26_1_0_20170105163517523.jpg.chip.jpg', '24_0_0_20170116215529092.jpg.chip.jpg', '28_1_3_20170119194934347.jpg.chip.jpg', '27_1_0_20170104021653885.jpg.chip.jpg', '24_0_1_20170113132554696.jpg.chip.jpg', '21_1_1_20170112193015117.jpg.chip.jpg', '22_0_2_20170104015701971.jpg.chip.jpg', '30_1_0_20170105170137612.jpg.chip.jpg', '25_1_2_20170104020655188.jpg.chip.jpg', '22_1_0_20170104165415377.jpg.chip.jpg', '29_0_1_20170112214947864.jpg.chip.jpg', '29_1_2_20170116163331282.jpg.chip.jpg', '28_1_1_20170112234152465.jpg.chip.jpg', '23_0_3_20170119164316726.jpg.chip.jpg', '21_0_1_20170113133118839.jpg.chip.jpg', '28_1_3_20170119194821963.jpg.chip.jpg', '26_1_1_20170112235540169.jpg.chip.jpg', '23_0_2_20170116172908582.jpg.chip.jpg', '22_1_2_20170116161424702.jpg.chip.jpg', '28_1_1_20170112234500344.jpg.chip.jpg', '29_0_1_20170113133331563.jpg.chip.jpg', '27_0_2_20170116170914365.jpg.chip.jpg', '30_0_0_20170117131024540.jpg.chip.jpg', '29_1_1_20170112214912446.jpg.chip.jpg', '27_0_3_20170119194353171.jpg.chip.jpg', '29_0_2_20170116172041615.jpg.chip.jpg', '25_0_3_20170104214610101.jpg.chip.jpg', '22_1_3_20170104222151616.jpg.chip.jpg', '23_1_2_20170107213827250.jpg.chip.jpg', '22_0_0_20170104225920241.jpg.chip.jpg', '22_0_1_20170113132532656.jpg.chip.jpg', '24_0_0_20170114030346768.jpg.chip.jpg', '24_1_0_20170104234820025.jpg.chip.jpg', '24_0_0_20170114032026665.jpg.chip.jpg', '23_1_0_20170111182452759.jpg.chip.jpg', '21_1_0_20170104231331482.jpg.chip.jpg', '23_0_3_20170119164313321.jpg.chip.jpg', '24_0_2_20170104020112732.jpg.chip.jpg', '26_0_1_20170113134349843.jpg.chip.jpg', '24_1_3_20170104231931545.jpg.chip.jpg', '23_1_0_20170112234220808.jpg.chip.jpg', '27_1_0_20170105162221371.jpg.chip.jpg', '22_1_3_20170104222214551.jpg.chip.jpg', '28_0_1_20170113142405196.jpg.chip.jpg', '30_1_2_20170105161432042.jpg.chip.jpg', '23_1_1_20170112204436531.jpg.chip.jpg', '23_1_1_20170112203929794.jpg.chip.jpg', '27_1_3_20170119155424633.jpg.chip.jpg', '29_1_0_20170109134431956.jpg.chip.jpg', '23_1_2_20170104021026844.jpg.chip.jpg', '27_0_3_20170119194326882.jpg.chip.jpg', '23_0_3_20170119164159892.jpg.chip.jpg', '29_0_0_20170104192604087.jpg.chip.jpg', '22_1_1_20170105183837056.jpg.chip.jpg', '21_1_3_20170104222120446.jpg.chip.jpg', '23_1_3_20170119164425613.jpg.chip.jpg', '27_1_2_20170116163625314.jpg.chip.jpg', '23_0_1_20170113150854335.jpg.chip.jpg', '26_0_1_20170113134400497.jpg.chip.jpg', '29_0_0_20170105163720435.jpg.chip.jpg', '30_0_3_20170119153044871.jpg.chip.jpg', '25_0_1_20170113145218790.jpg.chip.jpg', '30_1_2_20170104022925822.jpg.chip.jpg', '28_0_0_20170104202019890.jpg.chip.jpg', '27_1_2_20170116163651888.jpg.chip.jpg', '26_1_3_20170104235019355.jpg.chip.jpg', '30_1_0_20170108225424420.jpg.chip.jpg', '24_1_1_20170112231628815.jpg.chip.jpg', '22_0_2_20170104021111388.jpg.chip.jpg', '21_1_0_20170109213123896.jpg.chip.jpg', '23_1_3_20170119164326981.jpg.chip.jpg', '22_0_3_20170119151253871.jpg.chip.jpg', '28_1_3_20170119164514645.jpg.chip.jpg', '26_1_2_20170116163019946.jpg.chip.jpg', '22_1_3_20170104222612607.jpg.chip.jpg', '26_1_0_20170105002839534.jpg.chip.jpg', '27_1_0_20170109132133665.jpg.chip.jpg', '24_1_1_20170112204854107.jpg.chip.jpg', '21_0_3_20170119150216454.jpg.chip.jpg', '21_1_1_20170112202846794.jpg.chip.jpg', '30_1_1_20170113011704335.jpg.chip.jpg', '26_0_1_20170113134330586.jpg.chip.jpg', '29_0_3_20170119164049077.jpg.chip.jpg', '29_1_2_20170116164927601.jpg.chip.jpg', '22_1_2_20170116162023656.jpg.chip.jpg', '24_1_2_20170104021300885.jpg.chip.jpg', '24_1_1_20170112204824258.jpg.chip.jpg', '29_0_0_20170104201127146.jpg.chip.jpg', '30_1_0_20170116191315733.jpg.chip.jpg', '25_0_1_20170113150701015.jpg.chip.jpg', '21_0_3_20170117141644440.jpg.chip.jpg', '27_0_0_20170117202105807.jpg.chip.jpg', '26_1_0_20170104235427939.jpg.chip.jpg', '30_0_1_20170116010659651.jpg.chip.jpg', '30_1_1_20170114024643760.jpg.chip.jpg', '25_1_0_20170105000610412.jpg.chip.jpg', '24_0_1_20170103212749284.jpg.chip.jpg', '26_0_0_20170103235457445.jpg.chip.jpg', '30_1_2_20170104020950540.jpg.chip.jpg', '22_0_1_20170102233341092.jpg.chip.jpg', '25_1_1_20170103182259857.jpg.chip.jpg', '23_1_3_20170119155754275.jpg.chip.jpg', '27_1_3_20170119163731380.jpg.chip.jpg', '22_1_3_20170104222553543.jpg.chip.jpg', '23_0_1_20170114032011297.jpg.chip.jpg', '30_0_0_20170117130933486.jpg.chip.jpg', '25_0_3_20170104214558568.jpg.chip.jpg', '25_1_1_20170112193002220.jpg.chip.jpg', '22_0_2_20170104021129925.jpg.chip.jpg', '21_0_3_20170104230718873.jpg.chip.jpg', '22_0_3_20170117154523094.jpg.chip.jpg', '27_1_2_20170116163734036.jpg.chip.jpg', '30_0_2_20170116163429712.jpg.chip.jpg', '29_1_1_20170109134854367.jpg.chip.jpg', '21_1_1_20170112193104310.jpg.chip.jpg', '30_0_1_20170116214710372.jpg.chip.jpg', '25_1_3_20170104222511735.jpg.chip.jpg', '28_0_3_20170109002910810.jpg.chip.jpg', '22_0_0_20170105161701210.jpg.chip.jpg', '28_1_2_20170104021815094.jpg.chip.jpg', '24_0_1_20170112204730931.jpg.chip.jpg', '24_0_0_20170115230945548.jpg.chip.jpg', '30_0_0_20170117130641193.jpg.chip.jpg', '22_1_2_20170104022012028.jpg.chip.jpg', '25_1_1_20170103230312265.jpg.chip.jpg', '30_1_3_20170117181341092.jpg.chip.jpg', '23_0_2_20170116172805150.jpg.chip.jpg', '24_1_2_20170104021837189.jpg.chip.jpg', '30_0_1_20170116011020977.jpg.chip.jpg', '29_0_1_20170113133129655.jpg.chip.jpg', '28_0_0_20170105164834828.jpg.chip.jpg', '23_0_3_20170119164051638.jpg.chip.jpg', '30_1_3_20170117181345172.jpg.chip.jpg', '22_0_0_20170104230116624.jpg.chip.jpg', '30_1_1_20170113012621729.jpg.chip.jpg', '29_0_2_20170116182206717.jpg.chip.jpg', '28_1_2_20170104022917342.jpg.chip.jpg', '28_1_1_20170112231943575.jpg.chip.jpg', '25_0_0_20170105162443771.jpg.chip.jpg', '30_1_1_20170113013050208.jpg.chip.jpg', '30_1_3_20170117181342861.jpg.chip.jpg', '28_1_2_20170104023041166.jpg.chip.jpg', '22_1_0_20170103183738666.jpg.chip.jpg', '28_1_3_20170119154512882.jpg.chip.jpg', '29_0_1_20170108235740510.jpg.chip.jpg', '30_1_2_20170105002521620.jpg.chip.jpg', '23_0_0_20170117144620972.jpg.chip.jpg', '29_1_0_20170105165153564.jpg.chip.jpg', '23_0_2_20170116172856091.jpg.chip.jpg', '29_1_0_20170109134017138.jpg.chip.jpg', '25_0_0_20170105184137702.jpg.chip.jpg', '24_0_2_20161219192432539.jpg.chip.jpg', '25_0_3_20170104214602149.jpg.chip.jpg', '26_1_3_20170104235113586.jpg.chip.jpg', '21_0_0_20170117142115098.jpg.chip.jpg', '29_0_3_20170117180817266.jpg.chip.jpg', '25_1_3_20161220222256467.jpg.chip.jpg', '21_0_0_20170117141603616.jpg.chip.jpg', '24_1_3_20170104234808251.jpg.chip.jpg', '21_0_1_20170114030009371.jpg.chip.jpg', '23_0_3_20170119164352326.jpg.chip.jpg', '23_0_3_20170119164314853.jpg.chip.jpg', '27_0_1_20170113135622875.jpg.chip.jpg', '30_0_1_20170116213438554.jpg.chip.jpg', '26_0_0_20170104170627658.jpg.chip.jpg', '29_1_3_20170104232621386.jpg.chip.jpg', '29_1_1_20170112204807283.jpg.chip.jpg', '28_0_2_20170113190312841.jpg.chip.jpg', '28_1_1_20170112235036823.jpg.chip.jpg', '24_0_1_20170113132717504.jpg.chip.jpg', '21_1_1_20170112193005893.jpg.chip.jpg', '25_1_2_20170104020903060.jpg.chip.jpg', '27_1_3_20170119194359132.jpg.chip.jpg', '29_1_1_20170112211222837.jpg.chip.jpg', '28_0_1_20170113142308413.jpg.chip.jpg', '24_1_1_20170112231342878.jpg.chip.jpg', '29_0_3_20170119152247249.jpg.chip.jpg', '29_0_0_20170104202211753.jpg.chip.jpg', '28_0_1_20170113145739893.jpg.chip.jpg', '23_1_1_20170103223013127.jpg.chip.jpg', '23_0_0_20170117144517953.jpg.chip.jpg', '26_1_3_20170104235111171.jpg.chip.jpg', '25_1_0_20170104234942017.jpg.chip.jpg', '24_1_1_20170112231707948.jpg.chip.jpg', '22_1_2_20170116162441662.jpg.chip.jpg', '25_1_2_20170104021412148.jpg.chip.jpg', '28_1_3_20170119194616045.jpg.chip.jpg', '24_1_0_20170104022030117.jpg.chip.jpg', '30_0_3_20170119195732475.jpg.chip.jpg', '23_1_2_20170116172803446.jpg.chip.jpg', '29_1_3_20170104223300263.jpg.chip.jpg', '30_0_1_20170116024856991.jpg.chip.jpg', '22_0_1_20170113132548672.jpg.chip.jpg', '30_1_0_20170116201303368.jpg.chip.jpg', '26_1_2_20170116171202584.jpg.chip.jpg', '23_1_2_20170105162602515.jpg.chip.jpg', '26_0_1_20170113134358506.jpg.chip.jpg', '24_0_0_20170116213539070.jpg.chip.jpg', '21_0_2_20170103234754659.jpg.chip.jpg', '21_0_1_20170113133115864.jpg.chip.jpg', '26_0_0_20170103235356420.jpg.chip.jpg', '23_1_1_20170112204431018.jpg.chip.jpg', '26_0_0_20170104165824281.jpg.chip.jpg', '28_0_3_20170104220258078.jpg.chip.jpg', '26_0_1_20170113134332736.jpg.chip.jpg', '30_0_0_20170117131016260.jpg.chip.jpg', '29_0_0_20170104201322098.jpg.chip.jpg', '25_0_0_20170104004153743.jpg.chip.jpg', '25_0_0_20170110231839623.jpg.chip.jpg', '29_1_2_20170116163403273.jpg.chip.jpg', '28_1_0_20170116211814489.jpg.chip.jpg', '24_0_3_20170104230150057.jpg.chip.jpg', '28_1_3_20170119194949914.jpg.chip.jpg', '25_0_2_20170116170511407.jpg.chip.jpg', '25_0_1_20170113151512351.jpg.chip.jpg', '21_0_0_20170117193733557.jpg.chip.jpg', '27_1_0_20170109132420616.jpg.chip.jpg', '25_0_2_20170116165108577.jpg.chip.jpg', '22_0_3_20170117143056386.jpg.chip.jpg', '28_0_3_20170116024927038.jpg.chip.jpg', '22_1_3_20170104222152991.jpg.chip.jpg', '21_0_0_20170117141823641.jpg.chip.jpg', '25_0_2_20170116172425264.jpg.chip.jpg', '29_0_0_20170104202110730.jpg.chip.jpg', '27_1_1_20170113002029522.jpg.chip.jpg', '23_1_0_20170112234124928.jpg.chip.jpg', '26_1_1_20170112231645231.jpg.chip.jpg', '22_1_0_20170105183534558.jpg.chip.jpg', '22_0_0_20170110232146790.jpg.chip.jpg', '27_0_0_20170117184509194.jpg.chip.jpg', '22_1_2_20170104022959942.jpg.chip.jpg', '22_0_0_20170110232206562.jpg.chip.jpg', '25_1_0_20170104183350805.jpg.chip.jpg', '27_0_0_20170117195011835.jpg.chip.jpg', '27_1_2_20170116163645443.jpg.chip.jpg', '25_1_0_20170103183722595.jpg.chip.jpg', '22_1_0_20170105184130182.jpg.chip.jpg', '30_1_1_20170113011807912.jpg.chip.jpg', '27_0_2_20170116172522727.jpg.chip.jpg', '27_1_2_20170116163705155.jpg.chip.jpg', '29_0_1_20170104172519610.jpg.chip.jpg', '28_0_1_20170113142355492.jpg.chip.jpg', '29_1_3_20170104232729436.jpg.chip.jpg', '25_0_3_20170104230440360.jpg.chip.jpg', '26_1_0_20170105183644799.jpg.chip.jpg', '24_0_2_20170104234829387.jpg.chip.jpg', '27_0_2_20170116171028124.jpg.chip.jpg', '27_1_3_20170119164348390.jpg.chip.jpg', '27_0_3_20170119193411154.jpg.chip.jpg', '23_1_2_20170105162514564.jpg.chip.jpg', '25_1_2_20170104015838780.jpg.chip.jpg', '28_0_0_20170104022908893.jpg.chip.jpg', '27_0_3_20170119193400258.jpg.chip.jpg', '29_1_0_20170105002624350.jpg.chip.jpg', '21_1_3_20170104222116782.jpg.chip.jpg', '23_1_1_20170112234139392.jpg.chip.jpg', '26_0_0_20170104194358449.jpg.chip.jpg', '27_1_0_20170109002819172.jpg.chip.jpg', '30_1_0_20170105165034356.jpg.chip.jpg', '28_0_3_20170104220242582.jpg.chip.jpg', '26_1_3_20170104235148954.jpg.chip.jpg', '23_0_2_20170116172906979.jpg.chip.jpg', '25_1_2_20170104021048828.jpg.chip.jpg', '23_0_0_20170117144552915.jpg.chip.jpg', '24_0_2_20170104015809173.jpg.chip.jpg', '21_1_3_20170104223626119.jpg.chip.jpg', '25_0_3_20170104214444117.jpg.chip.jpg', '25_1_1_20170112205043660.jpg.chip.jpg', '30_0_2_20170116163100468.jpg.chip.jpg', '23_1_0_20170112234244982.jpg.chip.jpg', '28_0_1_20170113141915947.jpg.chip.jpg', '25_0_2_20170116161438706.jpg.chip.jpg', '24_0_2_20161219190613907.jpg.chip.jpg', '26_1_1_20170112235543761.jpg.chip.jpg', '26_1_2_20170116163914678.jpg.chip.jpg', '24_1_0_20170105000720347.jpg.chip.jpg', '24_1_0_20170104234624491.jpg.chip.jpg', '22_0_2_20170104021125111.jpg.chip.jpg', '21_1_0_20170109213135260.jpg.chip.jpg', '29_0_2_20170116193337129.jpg.chip.jpg', '24_1_1_20170112230626278.jpg.chip.jpg', '24_1_1_20170112220135559.jpg.chip.jpg', '26_1_0_20170105183657951.jpg.chip.jpg', '30_0_0_20170117130653432.jpg.chip.jpg', '28_0_3_20170105175516710.jpg.chip.jpg', '30_1_1_20170113012657328.jpg.chip.jpg', '27_1_2_20170116163742635.jpg.chip.jpg', '29_0_0_20170104205704132.jpg.chip.jpg', '27_0_1_20170113150450280.jpg.chip.jpg', '22_1_1_20170112203855123.jpg.chip.jpg', '24_1_2_20170112204451203.jpg.chip.jpg', '22_0_2_20170116161434440.jpg.chip.jpg', '21_0_0_20170117142009042.jpg.chip.jpg', '29_0_3_20170119165447462.jpg.chip.jpg', '21_1_3_20170104231602346.jpg.chip.jpg', '22_1_2_20170105183412088.jpg.chip.jpg', '26_1_2_20170116163558042.jpg.chip.jpg', '29_0_2_20170116190029257.jpg.chip.jpg', '24_0_1_20170103181218960.jpg.chip.jpg', '29_1_1_20170112205213493.jpg.chip.jpg', '21_0_3_20170104225749698.jpg.chip.jpg', '22_0_1_20170113133332897.jpg.chip.jpg', '28_1_0_20170116214208669.jpg.chip.jpg', '27_1_3_20170119194417435.jpg.chip.jpg', '27_0_2_20170116173713171.jpg.chip.jpg', '28_0_0_20170105164855636.jpg.chip.jpg', '24_0_2_20170104020102786.jpg.chip.jpg', '21_1_3_20170104231324474.jpg.chip.jpg', '22_0_2_20170104022354725.jpg.chip.jpg', '23_0_1_20170113195604509.jpg.chip.jpg', '28_1_0_20170116211818606.jpg.chip.jpg', '24_0_1_20170113134010217.jpg.chip.jpg', '22_0_1_20170113132348359.jpg.chip.jpg', '27_0_2_20170116165457643.jpg.chip.jpg', '22_0_3_20170119160226043.jpg.chip.jpg', '30_1_0_20170109012211696.jpg.chip.jpg', '22_1_3_20170104214416853.jpg.chip.jpg', '25_1_3_20170104222454999.jpg.chip.jpg', '23_0_2_20170116172840539.jpg.chip.jpg', '23_1_0_20170112234202903.jpg.chip.jpg', '21_0_3_20170104225910065.jpg.chip.jpg', '26_1_3_20170104232550697.jpg.chip.jpg', '21_0_2_20170116161452673.jpg.chip.jpg', '27_0_3_20170119194349003.jpg.chip.jpg', '26_1_3_20170104235102538.jpg.chip.jpg', '27_1_3_20170119194359962.jpg.chip.jpg', '30_1_2_20170104021318733.jpg.chip.jpg', '23_0_2_20170116172912257.jpg.chip.jpg', '25_0_0_20170104011300160.jpg.chip.jpg', '22_1_0_20170103163248351.jpg.chip.jpg', '30_1_1_20170113010438590.jpg.chip.jpg', '28_0_3_20170104220743173.jpg.chip.jpg', '29_1_1_20170112210246493.jpg.chip.jpg', '24_0_3_20170117145945091.jpg.chip.jpg', '30_1_0_20170109001620649.jpg.chip.jpg', '25_1_1_20170112191319941.jpg.chip.jpg', '25_1_1_20170112192328981.jpg.chip.jpg', '27_1_0_20170105183347327.jpg.chip.jpg', '22_0_2_20170104021322853.jpg.chip.jpg', '22_0_0_20170110231835011.jpg.chip.jpg', '27_1_1_20170113001031147.jpg.chip.jpg', '30_1_2_20170104192931704.jpg.chip.jpg', '23_1_1_20170112234052856.jpg.chip.jpg', '24_0_0_20170116201407910.jpg.chip.jpg', '24_0_3_20170104214521685.jpg.chip.jpg', '24_0_0_20170116205530259.jpg.chip.jpg', '24_1_3_20170104231950346.jpg.chip.jpg', '25_1_1_20170112191300605.jpg.chip.jpg', '29_1_1_20170112211746397.jpg.chip.jpg', '22_0_2_20170104021348142.jpg.chip.jpg', '21_1_0_20170105183522855.jpg.chip.jpg', '23_1_1_20170112234048553.jpg.chip.jpg', '30_0_0_20170117130654291.jpg.chip.jpg', '24_1_2_20170104234618170.jpg.chip.jpg', '25_1_1_20170112192945622.jpg.chip.jpg', '26_1_2_20170116162412165.jpg.chip.jpg', '27_0_3_20170119193403898.jpg.chip.jpg', '26_0_2_20170116180358437.jpg.chip.jpg', '22_1_1_20170112202834858.jpg.chip.jpg', '29_1_3_20170104223010439.jpg.chip.jpg', '25_1_2_20170104020239939.jpg.chip.jpg', '28_0_0_20170105162351171.jpg.chip.jpg', '21_0_2_20170116170638620.jpg.chip.jpg', '26_1_0_20170105003228731.jpg.chip.jpg', '23_1_3_20170119164422814.jpg.chip.jpg', '28_1_2_20170109002652355.jpg.chip.jpg', '25_0_1_20170113151735327.jpg.chip.jpg', '25_0_3_20170104214613229.jpg.chip.jpg', '27_0_1_20170113150706765.jpg.chip.jpg', '25_1_0_20170104022944286.jpg.chip.jpg', '21_1_2_20170105000725292.jpg.chip.jpg', '27_1_1_20170113000855147.jpg.chip.jpg', '24_1_3_20170104232305465.jpg.chip.jpg', '28_0_3_20170104232323178.jpg.chip.jpg', '21_1_2_20170105183505385.jpg.chip.jpg', '26_1_0_20170105163250483.jpg.chip.jpg', '23_1_2_20170116163648817.jpg.chip.jpg', '25_1_0_20170104165326705.jpg.chip.jpg', '23_0_0_20170117144555155.jpg.chip.jpg', '21_0_1_20170113180920187.jpg.chip.jpg', '29_1_3_20170104232640192.jpg.chip.jpg', '28_1_2_20170108224230864.jpg.chip.jpg', '30_1_2_20170104021619821.jpg.chip.jpg', '28_1_1_20170112234742977.jpg.chip.jpg', '22_1_3_20170104222607551.jpg.chip.jpg', '27_0_1_20170113135628651.jpg.chip.jpg', '22_0_2_20170104020041910.jpg.chip.jpg', '27_1_2_20170116163729639.jpg.chip.jpg', '28_0_2_20170116163443678.jpg.chip.jpg', '23_0_3_20170119164224534.jpg.chip.jpg', '26_0_2_20170116180708812.jpg.chip.jpg', '22_1_1_20170112203832467.jpg.chip.jpg', '27_0_2_20170116172036208.jpg.chip.jpg', '27_1_0_20170104234600194.jpg.chip.jpg', '22_0_1_20170113133320370.jpg.chip.jpg', '27_0_0_20170117202102927.jpg.chip.jpg', '21_1_3_20170104222653479.jpg.chip.jpg', '23_0_1_20170113150913751.jpg.chip.jpg', '22_1_1_20170112230530733.jpg.chip.jpg', '30_1_1_20170113011218830.jpg.chip.jpg', '21_1_2_20170104021952837.jpg.chip.jpg', '22_1_1_20170112230450501.jpg.chip.jpg', '24_1_1_20170112230612966.jpg.chip.jpg', '22_0_3_20170119150454309.jpg.chip.jpg', '24_0_0_20170116214204433.jpg.chip.jpg', '28_1_1_20170112234143831.jpg.chip.jpg', '22_1_2_20170108224643996.jpg.chip.jpg', '21_0_2_20170116164809162.jpg.chip.jpg', '21_0_3_20170104214322765.jpg.chip.jpg', '25_0_3_20170104220223342.jpg.chip.jpg', '30_0_2_20161219190337805.jpg.chip.jpg', '21_1_2_20170104021056028.jpg.chip.jpg', '21_1_0_20170104234439209.jpg.chip.jpg', '30_1_3_20170117181328835.jpg.chip.jpg', '25_0_2_20170116174828896.jpg.chip.jpg', '26_0_3_20170117153621606.jpg.chip.jpg', '26_1_1_20170112235250049.jpg.chip.jpg', '21_0_1_20170113133205762.jpg.chip.jpg', '24_1_3_20170104231953658.jpg.chip.jpg', '26_0_2_20170116180011320.jpg.chip.jpg', '23_0_1_20170113133908465.jpg.chip.jpg', '26_0_0_20170104022546750.jpg.chip.jpg', '21_1_2_20170104020235605.jpg.chip.jpg', '27_0_0_20170117175813577.jpg.chip.jpg', '26_0_3_20170117154317645.jpg.chip.jpg', '27_0_3_20170119193359595.jpg.chip.jpg', '24_1_3_20170104231937977.jpg.chip.jpg', '30_0_1_20170116213558934.jpg.chip.jpg', '26_0_3_20170117153922501.jpg.chip.jpg', '30_0_1_20170116010647849.jpg.chip.jpg', '28_0_0_20170103225936561.jpg.chip.jpg', '21_0_2_20170107213417643.jpg.chip.jpg', '29_0_0_20170104235501676.jpg.chip.jpg', '23_1_3_20170119164432343.jpg.chip.jpg', '28_1_3_20170119194924075.jpg.chip.jpg', '24_0_1_20170113134105544.jpg.chip.jpg', '26_1_2_20170116173312689.jpg.chip.jpg', '30_0_0_20170117130646482.jpg.chip.jpg', '28_0_2_20170116163928068.jpg.chip.jpg', '23_0_1_20170114030131616.jpg.chip.jpg', '28_0_2_20170107212142294.jpg.chip.jpg', '27_0_0_20170117175803620.jpg.chip.jpg', '28_0_2_20170112213615815.jpg.chip.jpg', '21_1_3_20170104222522503.jpg.chip.jpg', '24_0_3_20170117145631891.jpg.chip.jpg', '21_0_2_20170117193634310.jpg.chip.jpg', '28_1_1_20170112234526480.jpg.chip.jpg', '25_0_2_20170116165101483.jpg.chip.jpg', '30_1_1_20170113011304520.jpg.chip.jpg', '27_1_3_20170119193234322.jpg.chip.jpg', '24_0_3_20170104230212395.jpg.chip.jpg', '29_1_1_20170112211511508.jpg.chip.jpg', '24_0_0_20170116205634434.jpg.chip.jpg', '26_0_2_20170116180352453.jpg.chip.jpg', '21_0_1_20170113195431788.jpg.chip.jpg', '23_0_2_20170116172904718.jpg.chip.jpg', '25_1_3_20170104222315121.jpg.chip.jpg', '25_1_0_20170104021710995.jpg.chip.jpg', '30_1_3_20170117154720797.jpg.chip.jpg', '29_1_0_20170109010152767.jpg.chip.jpg', '30_1_3_20170117153305045.jpg.chip.jpg', '23_1_3_20170119152429983.jpg.chip.jpg', '27_1_1_20170113001019472.jpg.chip.jpg', '25_0_2_20170116161907519.jpg.chip.jpg', '26_0_2_20170116180330029.jpg.chip.jpg', '25_0_1_20170113151350864.jpg.chip.jpg', '27_1_1_20170113001021322.jpg.chip.jpg', '21_1_0_20170104020509980.jpg.chip.jpg', '30_0_2_20170104022125085.jpg.chip.jpg', '27_0_1_20170113155126130.jpg.chip.jpg', '22_0_3_20170119150653870.jpg.chip.jpg', '28_0_1_20170113145417934.jpg.chip.jpg', '29_1_2_20170116164713504.jpg.chip.jpg', '24_0_2_20170103223924087.jpg.chip.jpg', '25_1_3_20170104222305855.jpg.chip.jpg', '30_1_2_20170104020413511.jpg.chip.jpg', '21_0_3_20161220221819298.jpg.chip.jpg', '26_0_0_20170104200830216.jpg.chip.jpg', '26_1_1_20170112233445111.jpg.chip.jpg', '30_1_2_20170104020459348.jpg.chip.jpg', '26_1_3_20170104232952337.jpg.chip.jpg', '30_0_3_20170119162644734.jpg.chip.jpg', '23_0_1_20170113133855489.jpg.chip.jpg', '30_0_1_20170116214526846.jpg.chip.jpg', '27_1_1_20170113011238888.jpg.chip.jpg', '27_1_3_20170119194407555.jpg.chip.jpg', '23_0_1_20170113195548821.jpg.chip.jpg', '28_1_0_20170116205749382.jpg.chip.jpg', '30_0_1_20170116025831395.jpg.chip.jpg', '25_0_0_20170104214616710.jpg.chip.jpg', '23_0_0_20170117144439657.jpg.chip.jpg', '24_1_3_20170104231939707.jpg.chip.jpg', '27_0_1_20170113142300658.jpg.chip.jpg', '29_1_3_20170104232728113.jpg.chip.jpg', '25_1_3_20170104222459455.jpg.chip.jpg', '25_0_1_20170113145422493.jpg.chip.jpg', '28_0_0_20170105162616443.jpg.chip.jpg', '23_0_3_20170119164041958.jpg.chip.jpg', '25_0_0_20170105163328603.jpg.chip.jpg', '26_0_2_20170116175955916.jpg.chip.jpg', '24_1_0_20170104022800709.jpg.chip.jpg', '30_0_2_20170104022129599.jpg.chip.jpg', '21_1_2_20170103201800511.jpg.chip.jpg', '28_1_3_20170119194940491.jpg.chip.jpg', '21_0_0_20170117142012992.jpg.chip.jpg', '28_1_3_20170119194459995.jpg.chip.jpg', '28_0_2_20170116164225550.jpg.chip.jpg', '25_1_2_20170104020610884.jpg.chip.jpg', '22_1_2_20170104021940541.jpg.chip.jpg', '30_0_3_20170119151354302.jpg.chip.jpg', '28_1_1_20170112234557232.jpg.chip.jpg', '27_1_0_20170105183939496.jpg.chip.jpg', '30_1_2_20170104164904841.jpg.chip.jpg', '21_1_1_20170112192955750.jpg.chip.jpg', '22_1_0_20170103163108007.jpg.chip.jpg', '24_0_0_20170116204032263.jpg.chip.jpg', '23_1_3_20170119164424022.jpg.chip.jpg', '27_0_1_20170113155235889.jpg.chip.jpg', '30_0_3_20170119155828315.jpg.chip.jpg', '28_1_0_20170116213524092.jpg.chip.jpg', '22_0_1_20170113133326664.jpg.chip.jpg', '30_0_2_20170104021209963.jpg.chip.jpg', '26_0_3_20170117153613636.jpg.chip.jpg', '21_0_1_20170105002506437.jpg.chip.jpg', '29_0_1_20170103235915646.jpg.chip.jpg', '28_1_0_20170116214251849.jpg.chip.jpg', '26_1_3_20170104235016242.jpg.chip.jpg', '21_1_2_20170104020048292.jpg.chip.jpg', '21_1_0_20170109213126942.jpg.chip.jpg', '24_1_0_20170104233906146.jpg.chip.jpg', '23_0_0_20170117144618155.jpg.chip.jpg', '21_0_2_20170116170907317.jpg.chip.jpg', '29_0_1_20170113133201673.jpg.chip.jpg', '26_1_2_20170116163918033.jpg.chip.jpg', '21_0_2_20170116165220655.jpg.chip.jpg', '29_0_2_20170116192725270.jpg.chip.jpg']\n"
          ]
        }
      ],
      "source": [
        "t_list = os.listdir('all')\n",
        "\n",
        "\n",
        "t_num = len(t_list)\n",
        "print('Number of images:', _num)\n",
        "print(t_list)"
      ]
    },
    {
      "cell_type": "code",
      "execution_count": null,
      "metadata": {
        "colab": {
          "base_uri": "https://localhost:8080/",
          "height": 204
        },
        "id": "vaZ8Rta4XdpS",
        "outputId": "9c2786a3-18b9-47a9-f96f-422d6f703bf3"
      },
      "outputs": [
        {
          "output_type": "execute_result",
          "data": {
            "text/plain": [
              "                               test_name  test_gender\n",
              "0  31_1_3_20170119155508987.jpg.chip.jpg            1\n",
              "1  31_1_2_20170104020928085.jpg.chip.jpg            1\n",
              "2  31_1_1_20170103183224642.jpg.chip.jpg            1\n",
              "3  31_1_1_20170112210531485.jpg.chip.jpg            1\n",
              "4  31_1_3_20170119200201348.jpg.chip.jpg            1"
            ],
            "text/html": [
              "\n",
              "  <div id=\"df-0d35adb5-873b-4356-ab02-862cd70eeff3\">\n",
              "    <div class=\"colab-df-container\">\n",
              "      <div>\n",
              "<style scoped>\n",
              "    .dataframe tbody tr th:only-of-type {\n",
              "        vertical-align: middle;\n",
              "    }\n",
              "\n",
              "    .dataframe tbody tr th {\n",
              "        vertical-align: top;\n",
              "    }\n",
              "\n",
              "    .dataframe thead th {\n",
              "        text-align: right;\n",
              "    }\n",
              "</style>\n",
              "<table border=\"1\" class=\"dataframe\">\n",
              "  <thead>\n",
              "    <tr style=\"text-align: right;\">\n",
              "      <th></th>\n",
              "      <th>test_name</th>\n",
              "      <th>test_gender</th>\n",
              "    </tr>\n",
              "  </thead>\n",
              "  <tbody>\n",
              "    <tr>\n",
              "      <th>0</th>\n",
              "      <td>31_1_3_20170119155508987.jpg.chip.jpg</td>\n",
              "      <td>1</td>\n",
              "    </tr>\n",
              "    <tr>\n",
              "      <th>1</th>\n",
              "      <td>31_1_2_20170104020928085.jpg.chip.jpg</td>\n",
              "      <td>1</td>\n",
              "    </tr>\n",
              "    <tr>\n",
              "      <th>2</th>\n",
              "      <td>31_1_1_20170103183224642.jpg.chip.jpg</td>\n",
              "      <td>1</td>\n",
              "    </tr>\n",
              "    <tr>\n",
              "      <th>3</th>\n",
              "      <td>31_1_1_20170112210531485.jpg.chip.jpg</td>\n",
              "      <td>1</td>\n",
              "    </tr>\n",
              "    <tr>\n",
              "      <th>4</th>\n",
              "      <td>31_1_3_20170119200201348.jpg.chip.jpg</td>\n",
              "      <td>1</td>\n",
              "    </tr>\n",
              "  </tbody>\n",
              "</table>\n",
              "</div>\n",
              "      <button class=\"colab-df-convert\" onclick=\"convertToInteractive('df-0d35adb5-873b-4356-ab02-862cd70eeff3')\"\n",
              "              title=\"Convert this dataframe to an interactive table.\"\n",
              "              style=\"display:none;\">\n",
              "        \n",
              "  <svg xmlns=\"http://www.w3.org/2000/svg\" height=\"24px\"viewBox=\"0 0 24 24\"\n",
              "       width=\"24px\">\n",
              "    <path d=\"M0 0h24v24H0V0z\" fill=\"none\"/>\n",
              "    <path d=\"M18.56 5.44l.94 2.06.94-2.06 2.06-.94-2.06-.94-.94-2.06-.94 2.06-2.06.94zm-11 1L8.5 8.5l.94-2.06 2.06-.94-2.06-.94L8.5 2.5l-.94 2.06-2.06.94zm10 10l.94 2.06.94-2.06 2.06-.94-2.06-.94-.94-2.06-.94 2.06-2.06.94z\"/><path d=\"M17.41 7.96l-1.37-1.37c-.4-.4-.92-.59-1.43-.59-.52 0-1.04.2-1.43.59L10.3 9.45l-7.72 7.72c-.78.78-.78 2.05 0 2.83L4 21.41c.39.39.9.59 1.41.59.51 0 1.02-.2 1.41-.59l7.78-7.78 2.81-2.81c.8-.78.8-2.07 0-2.86zM5.41 20L4 18.59l7.72-7.72 1.47 1.35L5.41 20z\"/>\n",
              "  </svg>\n",
              "      </button>\n",
              "      \n",
              "  <style>\n",
              "    .colab-df-container {\n",
              "      display:flex;\n",
              "      flex-wrap:wrap;\n",
              "      gap: 12px;\n",
              "    }\n",
              "\n",
              "    .colab-df-convert {\n",
              "      background-color: #E8F0FE;\n",
              "      border: none;\n",
              "      border-radius: 50%;\n",
              "      cursor: pointer;\n",
              "      display: none;\n",
              "      fill: #1967D2;\n",
              "      height: 32px;\n",
              "      padding: 0 0 0 0;\n",
              "      width: 32px;\n",
              "    }\n",
              "\n",
              "    .colab-df-convert:hover {\n",
              "      background-color: #E2EBFA;\n",
              "      box-shadow: 0px 1px 2px rgba(60, 64, 67, 0.3), 0px 1px 3px 1px rgba(60, 64, 67, 0.15);\n",
              "      fill: #174EA6;\n",
              "    }\n",
              "\n",
              "    [theme=dark] .colab-df-convert {\n",
              "      background-color: #3B4455;\n",
              "      fill: #D2E3FC;\n",
              "    }\n",
              "\n",
              "    [theme=dark] .colab-df-convert:hover {\n",
              "      background-color: #434B5C;\n",
              "      box-shadow: 0px 1px 3px 1px rgba(0, 0, 0, 0.15);\n",
              "      filter: drop-shadow(0px 1px 2px rgba(0, 0, 0, 0.3));\n",
              "      fill: #FFFFFF;\n",
              "    }\n",
              "  </style>\n",
              "\n",
              "      <script>\n",
              "        const buttonEl =\n",
              "          document.querySelector('#df-0d35adb5-873b-4356-ab02-862cd70eeff3 button.colab-df-convert');\n",
              "        buttonEl.style.display =\n",
              "          google.colab.kernel.accessAllowed ? 'block' : 'none';\n",
              "\n",
              "        async function convertToInteractive(key) {\n",
              "          const element = document.querySelector('#df-0d35adb5-873b-4356-ab02-862cd70eeff3');\n",
              "          const dataTable =\n",
              "            await google.colab.kernel.invokeFunction('convertToInteractive',\n",
              "                                                     [key], {});\n",
              "          if (!dataTable) return;\n",
              "\n",
              "          const docLinkHtml = 'Like what you see? Visit the ' +\n",
              "            '<a target=\"_blank\" href=https://colab.research.google.com/notebooks/data_table.ipynb>data table notebook</a>'\n",
              "            + ' to learn more about interactive tables.';\n",
              "          element.innerHTML = '';\n",
              "          dataTable['output_type'] = 'display_data';\n",
              "          await google.colab.output.renderOutput(dataTable, element);\n",
              "          const docLink = document.createElement('div');\n",
              "          docLink.innerHTML = docLinkHtml;\n",
              "          element.appendChild(docLink);\n",
              "        }\n",
              "      </script>\n",
              "    </div>\n",
              "  </div>\n",
              "  "
            ]
          },
          "metadata": {},
          "execution_count": 60
        }
      ],
      "source": [
        "\n",
        "df_test = pd.DataFrame(t_list, columns = ['test_name'])\n",
        "\n",
        "df_test['test_gender'] = df_test.apply(lambda x : x['test_name'].split('_')[1], axis = 1).astype('int')\n",
        "\n",
        "df_test.head()"
      ]
    },
    {
      "cell_type": "code",
      "execution_count": null,
      "metadata": {
        "colab": {
          "base_uri": "https://localhost:8080/"
        },
        "id": "5F4dyfKQbwpI",
        "outputId": "93814dc4-ee1a-4534-c175-edd5311f2dab"
      },
      "outputs": [
        {
          "output_type": "stream",
          "name": "stdout",
          "text": [
            "[1 1 1 1 1 1 0 1 0 1 1 1 1 1 1 1 0 1 1 1 0 1 0 0 1 0 1 0 0 1 0 0 0 1 0 0 0\n",
            " 0 1 0 0 1 1 0 0 1 0 0 0 0 0 1 1 1 0 1 0 1 1 1 0 0 1 0 0 1 0 1 0 1 1 1 0 1\n",
            " 0 0 1 0 1 1 1 1 1 0 0 1 0 1 0 0 1 0 0 1 0 0 1 0 1 0 0 0 0 0]\n"
          ]
        }
      ],
      "source": [
        "test_gender = np.array(df_test['test_gender'])\n",
        "\n",
        "print(test_gender)"
      ]
    },
    {
      "cell_type": "code",
      "execution_count": null,
      "metadata": {
        "id": "C-7-iGhzXdv3"
      },
      "outputs": [],
      "source": [
        "def test_dataset(images):\n",
        "    dataset = []\n",
        "    for image in tqdm(images):\n",
        "        image = \"all/\"+image\n",
        "        img = load_img(image, grayscale=True)\n",
        "        img = img.resize((128, 128))\n",
        "        img = np.array(img)\n",
        "        dataset.append(img)\n",
        "\n",
        "    dataset = np.array(dataset)\n",
        "\n",
        "    return dataset"
      ]
    },
    {
      "cell_type": "code",
      "execution_count": null,
      "metadata": {
        "colab": {
          "base_uri": "https://localhost:8080/",
          "height": 83,
          "referenced_widgets": [
            "01d8c3aa747d4e22b105945484e39b07",
            "a94ee1e9664a494880822d8b0ff23a34",
            "e4f17496915b4aafba0cce9c52f73f93",
            "0e735dfa8d9f4f7582f04964da976727",
            "6e79917b55a345db8e30e581bfed6951",
            "027986025cc34a30a6c15999bce89d5b",
            "c6a6444331c9467984bd8e6309fae125",
            "d935e4ed3a9a4ebc9869978617a861e5",
            "38f091b104ca4bb39865c01bb43c2a86",
            "2c95f955649f45d3808110fa8b134a9c",
            "516ec8eb1c1c4118a570c07408762076"
          ]
        },
        "id": "MW3LRVfbXd2l",
        "outputId": "fe318e00-6508-4ef7-f199-b000409962fc"
      },
      "outputs": [
        {
          "output_type": "display_data",
          "data": {
            "text/plain": [
              "  0%|          | 0/104 [00:00<?, ?it/s]"
            ],
            "application/vnd.jupyter.widget-view+json": {
              "version_major": 2,
              "version_minor": 0,
              "model_id": "01d8c3aa747d4e22b105945484e39b07"
            }
          },
          "metadata": {}
        },
        {
          "output_type": "stream",
          "name": "stderr",
          "text": [
            "/usr/local/lib/python3.8/dist-packages/keras_preprocessing/image/utils.py:107: UserWarning: grayscale is deprecated. Please use color_mode = \"grayscale\"\n",
            "  warnings.warn('grayscale is deprecated. Please use '\n"
          ]
        }
      ],
      "source": [
        "testset = test_dataset(df_test['test_name'])"
      ]
    },
    {
      "cell_type": "code",
      "execution_count": null,
      "metadata": {
        "id": "fTEue_mpBEWm"
      },
      "outputs": [],
      "source": []
    },
    {
      "cell_type": "code",
      "execution_count": null,
      "metadata": {
        "id": "v5bVhbL8BEZL"
      },
      "outputs": [],
      "source": [
        "gender_dict = {0:\"Male\", 1:\"Female\"}"
      ]
    },
    {
      "cell_type": "code",
      "source": [
        "input_shape = (128, 128, 1)"
      ],
      "metadata": {
        "id": "ELSOW_Eq8bUY"
      },
      "execution_count": null,
      "outputs": []
    },
    {
      "cell_type": "code",
      "execution_count": null,
      "metadata": {
        "id": "iOlZ04GGYEmQ"
      },
      "outputs": [],
      "source": [
        "inputs = Input((input_shape))\n",
        "# convolutional layers\n",
        "convolution_1 = Conv2D(32, kernel_size=(3, 3), activation='relu') (inputs)\n",
        "maxpool_1 = MaxPooling2D(pool_size=(2, 2)) (convolution_1)\n",
        "\n",
        "convolution_2 = Conv2D(64, kernel_size=(3, 3), activation='relu') (maxpool_1)\n",
        "maxpool_2 = MaxPooling2D(pool_size=(2, 2)) (convolution_2)\n",
        "\n",
        "convolution_3 = Conv2D(128, kernel_size=(3, 3), activation='relu') (maxpool_2)\n",
        "maxpool_3 = MaxPooling2D(pool_size=(2, 2)) (convolution_3)\n",
        "\n",
        "convolution_4 = Conv2D(256, kernel_size=(3, 3), activation='relu') (maxpool_3)\n",
        "maxpool_4 = MaxPooling2D(pool_size=(2, 2)) (convolution_4)\n",
        "\n",
        "flatten = Flatten() (maxpool_4)\n",
        "\n",
        "# fully connected layers\n",
        "dense_1 = Dense(256, activation='relu') (flatten)\n",
        "\n",
        "\n",
        "dropout_1 = Dropout(0.3) (dense_1)\n",
        "\n",
        "\n",
        "output_1 = Dense(1, activation='sigmoid', name='gender_out') (dropout_1)\n",
        "\n",
        "\n",
        "model = Model(inputs=[inputs], outputs=[output_1])\n",
        "\n",
        "model.compile(loss=['binary_crossentropy'], optimizer='adam', metrics=['accuracy'])"
      ]
    },
    {
      "cell_type": "code",
      "execution_count": null,
      "metadata": {
        "id": "ENmGFuVTPFgD",
        "colab": {
          "base_uri": "https://localhost:8080/"
        },
        "outputId": "666d5de9-bb83-4ee5-8a46-9d10bfbe2b39"
      },
      "outputs": [
        {
          "output_type": "stream",
          "name": "stdout",
          "text": [
            "Model: \"model_2\"\n",
            "_________________________________________________________________\n",
            " Layer (type)                Output Shape              Param #   \n",
            "=================================================================\n",
            " input_3 (InputLayer)        [(None, 128, 128, 1)]     0         \n",
            "                                                                 \n",
            " conv2d_8 (Conv2D)           (None, 126, 126, 32)      320       \n",
            "                                                                 \n",
            " max_pooling2d_8 (MaxPooling  (None, 63, 63, 32)       0         \n",
            " 2D)                                                             \n",
            "                                                                 \n",
            " conv2d_9 (Conv2D)           (None, 61, 61, 64)        18496     \n",
            "                                                                 \n",
            " max_pooling2d_9 (MaxPooling  (None, 30, 30, 64)       0         \n",
            " 2D)                                                             \n",
            "                                                                 \n",
            " conv2d_10 (Conv2D)          (None, 28, 28, 128)       73856     \n",
            "                                                                 \n",
            " max_pooling2d_10 (MaxPoolin  (None, 14, 14, 128)      0         \n",
            " g2D)                                                            \n",
            "                                                                 \n",
            " conv2d_11 (Conv2D)          (None, 12, 12, 256)       295168    \n",
            "                                                                 \n",
            " max_pooling2d_11 (MaxPoolin  (None, 6, 6, 256)        0         \n",
            " g2D)                                                            \n",
            "                                                                 \n",
            " flatten_2 (Flatten)         (None, 9216)              0         \n",
            "                                                                 \n",
            " dense_2 (Dense)             (None, 256)               2359552   \n",
            "                                                                 \n",
            " dropout_2 (Dropout)         (None, 256)               0         \n",
            "                                                                 \n",
            " gender_out (Dense)          (None, 1)                 257       \n",
            "                                                                 \n",
            "=================================================================\n",
            "Total params: 2,747,649\n",
            "Trainable params: 2,747,649\n",
            "Non-trainable params: 0\n",
            "_________________________________________________________________\n"
          ]
        }
      ],
      "source": [
        "model.summary()"
      ]
    },
    {
      "cell_type": "code",
      "execution_count": null,
      "metadata": {
        "id": "nE1yr8p2YErZ"
      },
      "outputs": [],
      "source": [
        "# plot the model\n",
        "from tensorflow.keras.utils import plot_model\n",
        "plot_model(model)"
      ]
    },
    {
      "cell_type": "code",
      "execution_count": null,
      "metadata": {
        "id": "ek6zULBRCaoM"
      },
      "outputs": [],
      "source": [
        "clahe = cv2.createCLAHE(clipLimit = 3, tileGridSize=(8,8))\n",
        "\n",
        "\n",
        "\n",
        "def extract_Clahe_features(images):\n",
        "    Clahe_features = []\n",
        "    for image in tqdm(images):\n",
        "        image = \"Balanced/\"+image\n",
        "        img = load_img(image, grayscale=True)\n",
        "        img = img.resize((128, 128) )\n",
        "        img = np.array(img)\n",
        "        clahe_img = clahe.apply(img)\n",
        "        Clahe_features.append(img)\n",
        "\n",
        "    Clahe_features = np.array(Clahe_features)\n",
        "\n",
        "    return Clahe_features\n",
        ""
      ]
    },
    {
      "cell_type": "code",
      "execution_count": null,
      "metadata": {
        "colab": {
          "base_uri": "https://localhost:8080/",
          "height": 49,
          "referenced_widgets": [
            "7e7cfa94bd00463f8304da7a4b93970e",
            "b6201407f9454a3f8bc8e1da00dfd2d5",
            "cc5758f77c4846f88f3dddcdd83bdf6b",
            "92366f0d750b4d3face1d2d356b780e2",
            "b099a76f418247538c61034fe9ccec6b",
            "6c3f365eb4544dc394f26d16edebaefe",
            "181b78423a1c4ac1bc24ccc7db9e3922",
            "b8ce6d0ef4df4a0f903ad9a2ad9812d8",
            "511d4b1c0a904702b2cf5470c4c8da56",
            "daa67cfcbf7a44c099903452af8f30f7",
            "e41cdb4d2b6d4d8886cd4427e5b942cd"
          ]
        },
        "id": "LqLeobiCCazg",
        "outputId": "14817e00-b332-4971-df52-9ba7eb137773"
      },
      "outputs": [
        {
          "output_type": "display_data",
          "data": {
            "text/plain": [
              "  0%|          | 0/800 [00:00<?, ?it/s]"
            ],
            "application/vnd.jupyter.widget-view+json": {
              "version_major": 2,
              "version_minor": 0,
              "model_id": "7e7cfa94bd00463f8304da7a4b93970e"
            }
          },
          "metadata": {}
        }
      ],
      "source": [
        "X_Clahe = extract_Clahe_features(df['train_name'])"
      ]
    },
    {
      "cell_type": "code",
      "execution_count": null,
      "metadata": {
        "colab": {
          "base_uri": "https://localhost:8080/"
        },
        "id": "OZiMYHiKWUuH",
        "outputId": "0cb561e8-f806-4155-ac96-b441314f286c"
      },
      "outputs": [
        {
          "output_type": "stream",
          "name": "stdout",
          "text": [
            "[1 1 0 0 0 1 1 0 0 0 0 1 0 1 1 0 0 0 1 0 0 0 0 1 1 1 1 1 1 1 0 1 1 1 1 1 0\n",
            " 0 0 1 0 1 1 0 0 1 0 1 1 1 0 0 0 0 1 0 0 0 1 0 1 0 0 0 1 1 1 0 1 0 1 1 1 0\n",
            " 1 1 1 0 1 0 1 0 1 0 1 0 0 1 0 0 1 1 1 0 0 1 0 0 1 1 0 0 1 0 0 0 1 1 0 0 0\n",
            " 1 1 0 1 1 0 1 1 1 0 0 0 1 0 1 1 0 1 0 0 1 1 0 0 0 0 1 0 0 0 0 1 1 0 1 1 0\n",
            " 1 1 1 1 0 0 0 0 1 1 1 1 1 0 0 0 0 0 1 0 1 1 0 1 1 1 1 0 0 1 1 0 0 1 1 0 0\n",
            " 1 0 1 1 0 1 0 1 1 0 1 0 0 1 0 0 0 0 0 1 0 1 1 1 0 0 0 1 0 0 0 1 1 0 1 0 0\n",
            " 1 1 1 1 0 1 1 0 0 0 0 0 0 1 0 0 1 1 0 1 1 1 0 0 1 1 1 0 1 1 0 0 1 1 0 1 0\n",
            " 1 0 0 0 1 1 0 1 1 0 1 0 1 1 1 0 1 1 0 0 1 1 0 1 1 0 0 0 1 0 0 0 1 1 0 0 0\n",
            " 1 0 1 1 0 0 0 1 1 1 1 0 1 1 1 1 1 1 0 0 0 1 1 1 1 0 0 0 0 0 1 0 1 1 1 1 0\n",
            " 1 1 0 1 1 1 1 1 1 0 1 1 0 0 1 1 1 1 0 1 0 0 0 1 0 1 1 0 0 1 0 1 1 1 1 0 0\n",
            " 0 1 0 0 0 1 0 1 1 0 1 0 0 1 0 0 0 1 1 1 0 1 0 0 0 0 1 0 1 0 1 1 0 1 1 1 1\n",
            " 1 0 1 0 1 0 1 0 0 0 1 0 0 1 0 1 0 0 0 0 0 0 1 1 0 1 0 1 1 1 1 0 1 0 0 0 1\n",
            " 0 1 1 1 1 1 1 1 0 1 1 0 0 1 1 1 0 0 0 0 0 1 0 0 0 0 0 0 0 1 1 0 1 0 0 0 1\n",
            " 0 0 0 1 0 0 0 1 1 1 1 0 0 1 0 1 0 1 1 1 1 0 1 0 0 1 0 1 0 0 1 0 1 1 0 0 1\n",
            " 1 1 0 1 1 0 1 0 1 0 0 1 0 1 0 1 0 0 0 1 1 1 1 0 1 0 1 1 1 0 0 1 1 0 0 1 1\n",
            " 0 0 0 1 1 1 0 0 1 0 0 1 1 0 0 0 1 0 0 1 0 0 0 0 1 1 1 0 1 0 1 0 0 1 1 1 0\n",
            " 0 1 1 0 1 0 1 1 1 1 0 0 1 1 1 0 0 0 1 1 1 0 1 1 0 1 1 1 0 0 1 1 1 0 0 1 1\n",
            " 1 0 0 0 1 1 1 1 0 1 1 1 1 0 0 1 1 1 1 1 0 0 1 0 0 0 1 0 1 0 0 1 0 1 1 1 1\n",
            " 1 0 0 1 1 0 0 0 0 1 1 1 0 0 1 0 1 0 0 0 1 0 0 0 1 0 0 0 0 0 0 1 1 0 1 0 0\n",
            " 0 0 0 0 1 0 0 1 0 1 1 0 1 0 0 0 0 1 1 1 1 1 1 1 0 0 0 1 1 0 0 0 0 1 0 1 1\n",
            " 0 0 1 1 1 0 0 0 1 1 0 1 0 0 0 1 0 1 1 0 0 0 0 0 1 0 1 1 0 1 0 1 1 0 1 1 1\n",
            " 1 1 0 1 0 0 1 0 0 0 0 0 1 1 1 1 1 0 0 0 1 0 0]\n"
          ]
        }
      ],
      "source": [
        "y_gender = np.array(df['train_gender'])\n",
        "\n",
        "print(y_gender)"
      ]
    },
    {
      "cell_type": "code",
      "execution_count": null,
      "metadata": {
        "id": "zuG4VLnxH9I6"
      },
      "outputs": [],
      "source": [
        "X_Clahe = X_Clahe/255.0"
      ]
    },
    {
      "cell_type": "markdown",
      "source": [
        "Hyperparameter 1"
      ],
      "metadata": {
        "id": "LZ6fZl-CBTg0"
      }
    },
    {
      "cell_type": "code",
      "execution_count": null,
      "metadata": {
        "colab": {
          "base_uri": "https://localhost:8080/"
        },
        "id": "uxQlk9P8N3lZ",
        "outputId": "2bf40a33-c61d-4d55-a2f7-23026283d83c"
      },
      "outputs": [
        {
          "output_type": "stream",
          "name": "stdout",
          "text": [
            "Epoch 1/10\n",
            "19/19 [==============================] - 22s 1s/step - loss: 0.6854 - accuracy: 0.5536 - val_loss: 0.6251 - val_accuracy: 0.6875\n",
            "Epoch 2/10\n",
            "19/19 [==============================] - 23s 1s/step - loss: 0.5835 - accuracy: 0.7107 - val_loss: 0.6275 - val_accuracy: 0.6417\n",
            "Epoch 3/10\n",
            "19/19 [==============================] - 22s 1s/step - loss: 0.4826 - accuracy: 0.7732 - val_loss: 0.4189 - val_accuracy: 0.8250\n",
            "Epoch 4/10\n",
            "19/19 [==============================] - 22s 1s/step - loss: 0.3282 - accuracy: 0.8571 - val_loss: 0.3616 - val_accuracy: 0.8500\n",
            "Epoch 5/10\n",
            "19/19 [==============================] - 21s 1s/step - loss: 0.2773 - accuracy: 0.9018 - val_loss: 0.3676 - val_accuracy: 0.8542\n",
            "Epoch 6/10\n",
            "19/19 [==============================] - 22s 1s/step - loss: 0.2131 - accuracy: 0.9054 - val_loss: 0.3492 - val_accuracy: 0.8458\n",
            "Epoch 7/10\n",
            "19/19 [==============================] - 22s 1s/step - loss: 0.2015 - accuracy: 0.9214 - val_loss: 0.3325 - val_accuracy: 0.8708\n",
            "Epoch 8/10\n",
            "19/19 [==============================] - 21s 1s/step - loss: 0.1656 - accuracy: 0.9268 - val_loss: 0.3560 - val_accuracy: 0.8583\n",
            "Epoch 9/10\n",
            "19/19 [==============================] - 22s 1s/step - loss: 0.1130 - accuracy: 0.9571 - val_loss: 0.3880 - val_accuracy: 0.8792\n",
            "Epoch 10/10\n",
            "19/19 [==============================] - 23s 1s/step - loss: 0.0974 - accuracy: 0.9643 - val_loss: 0.4178 - val_accuracy: 0.8708\n"
          ]
        }
      ],
      "source": [
        "model.compile(loss=['binary_crossentropy'], optimizer='adam', metrics=['accuracy'])\n",
        "history1 = model.fit(x=X_Clahe, y=y_gender, batch_size=30, epochs=10, validation_split=0.3)"
      ]
    },
    {
      "cell_type": "code",
      "execution_count": null,
      "metadata": {
        "colab": {
          "base_uri": "https://localhost:8080/",
          "height": 367
        },
        "id": "LeQHiU-J1M4Y",
        "outputId": "6032e284-d99a-4e7d-a887-1a9fd0735054"
      },
      "outputs": [
        {
          "output_type": "stream",
          "name": "stdout",
          "text": [
            "4/4 [==============================] - 1s 219ms/step\n"
          ]
        },
        {
          "output_type": "display_data",
          "data": {
            "text/plain": [
              "<Figure size 360x360 with 1 Axes>"
            ],
            "image/png": "[encoded data removed]"
          },
          "metadata": {
            "needs_background": "light"
          }
        }
      ],
      "source": [
        "pred1 = model.predict(testset)\n",
        "rounded_pred1 = np.round(pred1)\n",
        "\n",
        "res1 = tf.math.confusion_matrix(test_gender,rounded_pred1)\n",
        "import seaborn as sn\n",
        "\n",
        "plt.figure(figsize=(5,5))\n",
        "ax= plt.subplot()\n",
        "sn.heatmap(res1, annot=True, fmt = 'd', ax= ax ,cbar=False)\n",
        "\n",
        "# labels, title and ticks\n",
        "ax.set_xlabel('Predicted Gender');ax.set_ylabel('True Gender');\n",
        "ax.set_title('Confusion Matrix');\n",
        "ax.xaxis.set_ticklabels(['Male', 'Female']); ax.yaxis.set_ticklabels(['Male', 'Female']);"
      ]
    },
    {
      "cell_type": "code",
      "execution_count": null,
      "metadata": {
        "colab": {
          "base_uri": "https://localhost:8080/"
        },
        "id": "GJvUBDu4iaO9",
        "outputId": "12be0a04-8358-4c3f-8e7a-34f4a1fc1985"
      },
      "outputs": [
        {
          "output_type": "stream",
          "name": "stdout",
          "text": [
            "4/4 [==============================] - 1s 225ms/step - loss: 40.4825 - accuracy: 0.8846\n"
          ]
        },
        {
          "output_type": "execute_result",
          "data": {
            "text/plain": [
              "[40.48249053955078, 0.8846153616905212]"
            ]
          },
          "metadata": {},
          "execution_count": 85
        }
      ],
      "source": [
        "model.evaluate(testset, test_gender)"
      ]
    },
    {
      "cell_type": "code",
      "execution_count": null,
      "metadata": {
        "id": "EfDWbrqXhHZ8"
      },
      "outputs": [],
      "source": [
        "!rm -rf 'Train Dataset'"
      ]
    },
    {
      "cell_type": "markdown",
      "source": [
        "HyperParameter 2"
      ],
      "metadata": {
        "id": "RdWyPEqAAp13"
      }
    },
    {
      "cell_type": "code",
      "source": [
        "model.compile(loss=['binary_crossentropy'], optimizer='adam', metrics=['accuracy'])\n",
        "history2 = model.fit(x=X_Clahe, y=y_gender, batch_size=40, epochs=10, validation_split=0.3)"
      ],
      "metadata": {
        "colab": {
          "base_uri": "https://localhost:8080/"
        },
        "id": "D-W0rsVqApEd",
        "outputId": "79078db1-53d5-4a46-d334-5a52636bc260"
      },
      "execution_count": null,
      "outputs": [
        {
          "output_type": "stream",
          "name": "stdout",
          "text": [
            "Epoch 1/10\n",
            "14/14 [==============================] - 22s 2s/step - loss: 0.6927 - accuracy: 0.5214 - val_loss: 0.6891 - val_accuracy: 0.5000\n",
            "Epoch 2/10\n",
            "14/14 [==============================] - 22s 2s/step - loss: 0.6664 - accuracy: 0.5696 - val_loss: 0.6206 - val_accuracy: 0.6667\n",
            "Epoch 3/10\n",
            "14/14 [==============================] - 22s 2s/step - loss: 0.5843 - accuracy: 0.7143 - val_loss: 0.6062 - val_accuracy: 0.6833\n",
            "Epoch 4/10\n",
            "14/14 [==============================] - 23s 2s/step - loss: 0.4646 - accuracy: 0.7911 - val_loss: 0.4714 - val_accuracy: 0.7792\n",
            "Epoch 5/10\n",
            "14/14 [==============================] - 21s 2s/step - loss: 0.3876 - accuracy: 0.8339 - val_loss: 0.4140 - val_accuracy: 0.8417\n",
            "Epoch 6/10\n",
            "14/14 [==============================] - 21s 2s/step - loss: 0.3420 - accuracy: 0.8554 - val_loss: 0.3861 - val_accuracy: 0.8458\n",
            "Epoch 7/10\n",
            "14/14 [==============================] - 22s 2s/step - loss: 0.2562 - accuracy: 0.9000 - val_loss: 0.3212 - val_accuracy: 0.9000\n",
            "Epoch 8/10\n",
            "14/14 [==============================] - 21s 2s/step - loss: 0.2222 - accuracy: 0.9125 - val_loss: 0.3456 - val_accuracy: 0.8750\n",
            "Epoch 9/10\n",
            "14/14 [==============================] - 21s 2s/step - loss: 0.1868 - accuracy: 0.9321 - val_loss: 0.3561 - val_accuracy: 0.8792\n",
            "Epoch 10/10\n",
            "14/14 [==============================] - 21s 2s/step - loss: 0.1478 - accuracy: 0.9446 - val_loss: 0.3646 - val_accuracy: 0.8667\n"
          ]
        }
      ]
    },
    {
      "cell_type": "code",
      "source": [
        "pred2 = model.predict(testset)\n",
        "rounded_pred2 = np.round(pred2)\n",
        "\n",
        "res2 = tf.math.confusion_matrix(test_gender,rounded_pred1)\n",
        "import seaborn as sn\n",
        "\n",
        "plt.figure(figsize=(5,5))\n",
        "ax= plt.subplot()\n",
        "sn.heatmap(res2, annot=True, fmt = 'd', ax= ax ,cbar=False)\n",
        "\n",
        "# labels, title and ticks\n",
        "ax.set_xlabel('Predicted Gender');ax.set_ylabel('True Gender');\n",
        "ax.set_title('Confusion Matrix');\n",
        "ax.xaxis.set_ticklabels(['Male', 'Female']); ax.yaxis.set_ticklabels(['Male', 'Female']);"
      ],
      "metadata": {
        "colab": {
          "base_uri": "https://localhost:8080/",
          "height": 367
        },
        "id": "YAaxtkGwA0tC",
        "outputId": "caf928ff-8012-4433-b328-f1acce469dba"
      },
      "execution_count": null,
      "outputs": [
        {
          "output_type": "stream",
          "name": "stdout",
          "text": [
            "4/4 [==============================] - 1s 277ms/step\n"
          ]
        },
        {
          "output_type": "display_data",
          "data": {
            "text/plain": [
              "<Figure size 360x360 with 1 Axes>"
            ],
            "image/png": "[encoded data removed]"
          },
          "metadata": {
            "needs_background": "light"
          }
        }
      ]
    },
    {
      "cell_type": "code",
      "source": [
        "model.evaluate(testset, test_gender)"
      ],
      "metadata": {
        "colab": {
          "base_uri": "https://localhost:8080/"
        },
        "id": "MKuP4Az0A0Zs",
        "outputId": "2ecf7690-1bd1-465b-e174-9250efe0e09e"
      },
      "execution_count": null,
      "outputs": [
        {
          "output_type": "stream",
          "name": "stdout",
          "text": [
            "4/4 [==============================] - 1s 211ms/step - loss: 26.9414 - accuracy: 0.8942\n"
          ]
        },
        {
          "output_type": "execute_result",
          "data": {
            "text/plain": [
              "[26.941356658935547, 0.8942307829856873]"
            ]
          },
          "metadata": {},
          "execution_count": 89
        }
      ]
    },
    {
      "cell_type": "markdown",
      "source": [
        "Hyperparameter 3"
      ],
      "metadata": {
        "id": "2WWW96GqA6Ju"
      }
    },
    {
      "cell_type": "code",
      "source": [
        "model.compile(loss=['binary_crossentropy'], optimizer='adam', metrics=['accuracy'])\n",
        "history3 = model.fit(x=X_Clahe, y=y_gender, batch_size=30, epochs=20, validation_split=0.3)"
      ],
      "metadata": {
        "colab": {
          "base_uri": "https://localhost:8080/"
        },
        "id": "5MSiK6SrA3_W",
        "outputId": "78249449-87ef-4404-e44e-c0602895830f"
      },
      "execution_count": null,
      "outputs": [
        {
          "output_type": "stream",
          "name": "stdout",
          "text": [
            "Epoch 1/20\n",
            "19/19 [==============================] - 23s 1s/step - loss: 0.7126 - accuracy: 0.5161 - val_loss: 0.6871 - val_accuracy: 0.5542\n",
            "Epoch 2/20\n",
            "19/19 [==============================] - 21s 1s/step - loss: 0.6458 - accuracy: 0.6857 - val_loss: 0.6260 - val_accuracy: 0.6417\n",
            "Epoch 3/20\n",
            "19/19 [==============================] - 22s 1s/step - loss: 0.5416 - accuracy: 0.7143 - val_loss: 0.5075 - val_accuracy: 0.7625\n",
            "Epoch 4/20\n",
            "19/19 [==============================] - 23s 1s/step - loss: 0.4432 - accuracy: 0.8250 - val_loss: 0.4786 - val_accuracy: 0.7958\n",
            "Epoch 5/20\n",
            "19/19 [==============================] - 22s 1s/step - loss: 0.3891 - accuracy: 0.8268 - val_loss: 0.4000 - val_accuracy: 0.8292\n",
            "Epoch 6/20\n",
            "19/19 [==============================] - 22s 1s/step - loss: 0.3104 - accuracy: 0.8679 - val_loss: 0.3760 - val_accuracy: 0.8583\n",
            "Epoch 7/20\n",
            "19/19 [==============================] - 21s 1s/step - loss: 0.2954 - accuracy: 0.8714 - val_loss: 0.3228 - val_accuracy: 0.8708\n",
            "Epoch 8/20\n",
            "19/19 [==============================] - 21s 1s/step - loss: 0.2341 - accuracy: 0.9143 - val_loss: 0.3846 - val_accuracy: 0.8250\n",
            "Epoch 9/20\n",
            "19/19 [==============================] - 22s 1s/step - loss: 0.2226 - accuracy: 0.9071 - val_loss: 0.2964 - val_accuracy: 0.8958\n",
            "Epoch 10/20\n",
            "19/19 [==============================] - 22s 1s/step - loss: 0.1516 - accuracy: 0.9393 - val_loss: 0.3214 - val_accuracy: 0.8917\n",
            "Epoch 11/20\n",
            "19/19 [==============================] - 26s 1s/step - loss: 0.1415 - accuracy: 0.9464 - val_loss: 0.4124 - val_accuracy: 0.8625\n",
            "Epoch 12/20\n",
            "19/19 [==============================] - 21s 1s/step - loss: 0.1530 - accuracy: 0.9411 - val_loss: 0.3472 - val_accuracy: 0.8583\n",
            "Epoch 13/20\n",
            "19/19 [==============================] - 22s 1s/step - loss: 0.1133 - accuracy: 0.9536 - val_loss: 0.3521 - val_accuracy: 0.9042\n",
            "Epoch 14/20\n",
            "19/19 [==============================] - 22s 1s/step - loss: 0.0730 - accuracy: 0.9714 - val_loss: 0.3735 - val_accuracy: 0.8917\n",
            "Epoch 15/20\n",
            "19/19 [==============================] - 22s 1s/step - loss: 0.0507 - accuracy: 0.9821 - val_loss: 0.4500 - val_accuracy: 0.9000\n",
            "Epoch 16/20\n",
            "19/19 [==============================] - 22s 1s/step - loss: 0.0632 - accuracy: 0.9732 - val_loss: 0.4049 - val_accuracy: 0.9125\n",
            "Epoch 17/20\n",
            "19/19 [==============================] - 21s 1s/step - loss: 0.0600 - accuracy: 0.9768 - val_loss: 0.4522 - val_accuracy: 0.8917\n",
            "Epoch 18/20\n",
            "19/19 [==============================] - 21s 1s/step - loss: 0.0504 - accuracy: 0.9768 - val_loss: 0.5695 - val_accuracy: 0.8708\n",
            "Epoch 19/20\n",
            "19/19 [==============================] - 23s 1s/step - loss: 0.0290 - accuracy: 0.9929 - val_loss: 0.4517 - val_accuracy: 0.8792\n",
            "Epoch 20/20\n",
            "19/19 [==============================] - 22s 1s/step - loss: 0.0123 - accuracy: 1.0000 - val_loss: 0.5857 - val_accuracy: 0.8833\n"
          ]
        }
      ]
    },
    {
      "cell_type": "code",
      "source": [
        "pred3 = model.predict(testset)\n",
        "rounded_pred3 = np.round(pred3)\n",
        "\n",
        "res3 = tf.math.confusion_matrix(test_gender,rounded_pred3)\n",
        "import seaborn as sn\n",
        "\n",
        "plt.figure(figsize=(5,5))\n",
        "ax= plt.subplot()\n",
        "sn.heatmap(res3, annot=True, fmt = 'd', ax= ax ,cbar=False)\n",
        "\n",
        "# labels, title and ticks\n",
        "ax.set_xlabel('Predicted Gender');ax.set_ylabel('True Gender');\n",
        "ax.set_title('Confusion Matrix');\n",
        "ax.xaxis.set_ticklabels(['Male', 'Female']); ax.yaxis.set_ticklabels(['Male', 'Female']);"
      ],
      "metadata": {
        "colab": {
          "base_uri": "https://localhost:8080/",
          "height": 367
        },
        "id": "mmLreJ8tBCKL",
        "outputId": "8d68f73b-c6a4-47c7-d4b5-0fb39942913f"
      },
      "execution_count": null,
      "outputs": [
        {
          "output_type": "stream",
          "name": "stdout",
          "text": [
            "4/4 [==============================] - 1s 263ms/step\n"
          ]
        },
        {
          "output_type": "display_data",
          "data": {
            "text/plain": [
              "<Figure size 360x360 with 1 Axes>"
            ],
            "image/png": "[encoded data removed]"
          },
          "metadata": {
            "needs_background": "light"
          }
        }
      ]
    },
    {
      "cell_type": "code",
      "source": [
        "model.evaluate(testset, test_gender)"
      ],
      "metadata": {
        "colab": {
          "base_uri": "https://localhost:8080/"
        },
        "id": "DoZp05KEBB8L",
        "outputId": "dfd6d51f-be5e-418c-b1bd-67c4bbd2f99d"
      },
      "execution_count": null,
      "outputs": [
        {
          "output_type": "stream",
          "name": "stdout",
          "text": [
            "4/4 [==============================] - 1s 238ms/step - loss: 59.1999 - accuracy: 0.9135\n"
          ]
        },
        {
          "output_type": "execute_result",
          "data": {
            "text/plain": [
              "[59.199893951416016, 0.9134615659713745]"
            ]
          },
          "metadata": {},
          "execution_count": 94
        }
      ]
    },
    {
      "cell_type": "markdown",
      "source": [
        "Hyperparameter 4"
      ],
      "metadata": {
        "id": "sSMCMt5MBFts"
      }
    },
    {
      "cell_type": "code",
      "source": [
        "model.compile(loss=['binary_crossentropy'], optimizer='adam', metrics=['accuracy'])\n",
        "history1 = model.fit(x=X_Clahe, y=y_gender, batch_size=40, epochs=20, validation_split=0.3)"
      ],
      "metadata": {
        "colab": {
          "base_uri": "https://localhost:8080/"
        },
        "id": "ys9nMIvSBIOr",
        "outputId": "45b234a8-ded1-4821-8ac4-292b12b764f9"
      },
      "execution_count": null,
      "outputs": [
        {
          "output_type": "stream",
          "name": "stdout",
          "text": [
            "Epoch 1/20\n",
            "14/14 [==============================] - 29s 2s/step - loss: 0.7036 - accuracy: 0.5411 - val_loss: 0.6831 - val_accuracy: 0.4917\n",
            "Epoch 2/20\n",
            "14/14 [==============================] - 25s 2s/step - loss: 0.6344 - accuracy: 0.6161 - val_loss: 0.5860 - val_accuracy: 0.7042\n",
            "Epoch 3/20\n",
            "14/14 [==============================] - 22s 2s/step - loss: 0.5705 - accuracy: 0.7321 - val_loss: 0.5505 - val_accuracy: 0.7208\n",
            "Epoch 4/20\n",
            "14/14 [==============================] - 22s 2s/step - loss: 0.4802 - accuracy: 0.7839 - val_loss: 0.4632 - val_accuracy: 0.8250\n",
            "Epoch 5/20\n",
            "14/14 [==============================] - 23s 2s/step - loss: 0.3985 - accuracy: 0.8518 - val_loss: 0.3803 - val_accuracy: 0.8500\n",
            "Epoch 6/20\n",
            "14/14 [==============================] - 22s 2s/step - loss: 0.3228 - accuracy: 0.8554 - val_loss: 0.3939 - val_accuracy: 0.7792\n",
            "Epoch 7/20\n",
            "14/14 [==============================] - 22s 2s/step - loss: 0.2982 - accuracy: 0.8893 - val_loss: 0.3386 - val_accuracy: 0.8625\n",
            "Epoch 8/20\n",
            "14/14 [==============================] - 22s 2s/step - loss: 0.2303 - accuracy: 0.9125 - val_loss: 0.4411 - val_accuracy: 0.8292\n",
            "Epoch 9/20\n",
            "14/14 [==============================] - 22s 2s/step - loss: 0.2445 - accuracy: 0.9071 - val_loss: 0.3851 - val_accuracy: 0.8792\n",
            "Epoch 10/20\n",
            "14/14 [==============================] - 23s 2s/step - loss: 0.1918 - accuracy: 0.9232 - val_loss: 0.3397 - val_accuracy: 0.8542\n",
            "Epoch 11/20\n",
            "14/14 [==============================] - 22s 2s/step - loss: 0.1591 - accuracy: 0.9482 - val_loss: 0.3282 - val_accuracy: 0.9000\n",
            "Epoch 12/20\n",
            "14/14 [==============================] - 21s 2s/step - loss: 0.1189 - accuracy: 0.9589 - val_loss: 0.3509 - val_accuracy: 0.9083\n",
            "Epoch 13/20\n",
            "14/14 [==============================] - 22s 2s/step - loss: 0.0871 - accuracy: 0.9643 - val_loss: 0.3682 - val_accuracy: 0.8917\n",
            "Epoch 14/20\n",
            "14/14 [==============================] - 22s 2s/step - loss: 0.0754 - accuracy: 0.9768 - val_loss: 0.3746 - val_accuracy: 0.8875\n",
            "Epoch 15/20\n",
            "14/14 [==============================] - 24s 2s/step - loss: 0.0534 - accuracy: 0.9804 - val_loss: 0.3990 - val_accuracy: 0.9042\n",
            "Epoch 16/20\n",
            "14/14 [==============================] - 22s 2s/step - loss: 0.0411 - accuracy: 0.9893 - val_loss: 0.4571 - val_accuracy: 0.8875\n",
            "Epoch 17/20\n",
            "14/14 [==============================] - 23s 2s/step - loss: 0.0212 - accuracy: 0.9946 - val_loss: 0.5207 - val_accuracy: 0.8792\n",
            "Epoch 18/20\n",
            "14/14 [==============================] - 22s 2s/step - loss: 0.0228 - accuracy: 0.9964 - val_loss: 0.5927 - val_accuracy: 0.8750\n",
            "Epoch 19/20\n",
            "14/14 [==============================] - 21s 2s/step - loss: 0.0426 - accuracy: 0.9839 - val_loss: 0.4411 - val_accuracy: 0.8958\n",
            "Epoch 20/20\n",
            "14/14 [==============================] - 22s 2s/step - loss: 0.0188 - accuracy: 0.9982 - val_loss: 0.5385 - val_accuracy: 0.8917\n"
          ]
        }
      ]
    },
    {
      "cell_type": "code",
      "source": [
        "pred4 = model.predict(testset)\n",
        "rounded_pred4 = np.round(pred4)\n",
        "\n",
        "res4 = tf.math.confusion_matrix(test_gender,rounded_pred4)\n",
        "import seaborn as sn\n",
        "\n",
        "plt.figure(figsize=(5,5))\n",
        "ax= plt.subplot()\n",
        "sn.heatmap(res4, annot=True, fmt = 'd', ax= ax ,cbar=False)\n",
        "\n",
        "# labels, title and ticks\n",
        "ax.set_xlabel('Predicted Gender');ax.set_ylabel('True Gender');\n",
        "ax.set_title('Confusion Matrix');\n",
        "ax.xaxis.set_ticklabels(['Male', 'Female']); ax.yaxis.set_ticklabels(['Male', 'Female']);"
      ],
      "metadata": {
        "colab": {
          "base_uri": "https://localhost:8080/",
          "height": 367
        },
        "id": "oj3GzJ1NBJpg",
        "outputId": "23efb5f9-7212-4487-f100-37a690a6a76e"
      },
      "execution_count": null,
      "outputs": [
        {
          "output_type": "stream",
          "name": "stdout",
          "text": [
            "4/4 [==============================] - 1s 329ms/step\n"
          ]
        },
        {
          "output_type": "display_data",
          "data": {
            "text/plain": [
              "<Figure size 360x360 with 1 Axes>"
            ],
            "image/png": "[encoded data removed]"
          },
          "metadata": {
            "needs_background": "light"
          }
        }
      ]
    },
    {
      "cell_type": "code",
      "source": [
        "model.evaluate(testset, test_gender)"
      ],
      "metadata": {
        "colab": {
          "base_uri": "https://localhost:8080/"
        },
        "id": "5Fqv_Dw8BJgQ",
        "outputId": "b68f2279-db30-431e-bd81-ddb4c26de691"
      },
      "execution_count": null,
      "outputs": [
        {
          "output_type": "stream",
          "name": "stdout",
          "text": [
            "4/4 [==============================] - 2s 432ms/step - loss: 57.8849 - accuracy: 0.8942\n"
          ]
        },
        {
          "output_type": "execute_result",
          "data": {
            "text/plain": [
              "[57.88485336303711, 0.8942307829856873]"
            ]
          },
          "metadata": {},
          "execution_count": 98
        }
      ]
    }
  ],
  "metadata": {
    "colab": {
      "provenance": []
    },
    "kernelspec": {
      "display_name": "Python 3",
      "name": "python3"
    },
    "language_info": {
      "name": "python"
    },
    "widgets": {
      "application/vnd.jupyter.widget-state+json": {
        "01d8c3aa747d4e22b105945484e39b07": {
          "model_module": "@jupyter-widgets/controls",
          "model_name": "HBoxModel",
          "model_module_version": "1.5.0",
          "state": {
            "_dom_classes": [],
            "_model_module": "@jupyter-widgets/controls",
            "_model_module_version": "1.5.0",
            "_model_name": "HBoxModel",
            "_view_count": null,
            "_view_module": "@jupyter-widgets/controls",
            "_view_module_version": "1.5.0",
            "_view_name": "HBoxView",
            "box_style": "",
            "children": [
              "IPY_MODEL_a94ee1e9664a494880822d8b0ff23a34",
              "IPY_MODEL_e4f17496915b4aafba0cce9c52f73f93",
              "IPY_MODEL_0e735dfa8d9f4f7582f04964da976727"
            ],
            "layout": "IPY_MODEL_6e79917b55a345db8e30e581bfed6951"
          }
        },
        "a94ee1e9664a494880822d8b0ff23a34": {
          "model_module": "@jupyter-widgets/controls",
          "model_name": "HTMLModel",
          "model_module_version": "1.5.0",
          "state": {
            "_dom_classes": [],
            "_model_module": "@jupyter-widgets/controls",
            "_model_module_version": "1.5.0",
            "_model_name": "HTMLModel",
            "_view_count": null,
            "_view_module": "@jupyter-widgets/controls",
            "_view_module_version": "1.5.0",
            "_view_name": "HTMLView",
            "description": "",
            "description_tooltip": null,
            "layout": "IPY_MODEL_027986025cc34a30a6c15999bce89d5b",
            "placeholder": "​",
            "style": "IPY_MODEL_c6a6444331c9467984bd8e6309fae125",
            "value": "100%"
          }
        },
        "e4f17496915b4aafba0cce9c52f73f93": {
          "model_module": "@jupyter-widgets/controls",
          "model_name": "FloatProgressModel",
          "model_module_version": "1.5.0",
          "state": {
            "_dom_classes": [],
            "_model_module": "@jupyter-widgets/controls",
            "_model_module_version": "1.5.0",
            "_model_name": "FloatProgressModel",
            "_view_count": null,
            "_view_module": "@jupyter-widgets/controls",
            "_view_module_version": "1.5.0",
            "_view_name": "ProgressView",
            "bar_style": "success",
            "description": "",
            "description_tooltip": null,
            "layout": "IPY_MODEL_d935e4ed3a9a4ebc9869978617a861e5",
            "max": 104,
            "min": 0,
            "orientation": "horizontal",
            "style": "IPY_MODEL_38f091b104ca4bb39865c01bb43c2a86",
            "value": 104
          }
        },
        "0e735dfa8d9f4f7582f04964da976727": {
          "model_module": "@jupyter-widgets/controls",
          "model_name": "HTMLModel",
          "model_module_version": "1.5.0",
          "state": {
            "_dom_classes": [],
            "_model_module": "@jupyter-widgets/controls",
            "_model_module_version": "1.5.0",
            "_model_name": "HTMLModel",
            "_view_count": null,
            "_view_module": "@jupyter-widgets/controls",
            "_view_module_version": "1.5.0",
            "_view_name": "HTMLView",
            "description": "",
            "description_tooltip": null,
            "layout": "IPY_MODEL_2c95f955649f45d3808110fa8b134a9c",
            "placeholder": "​",
            "style": "IPY_MODEL_516ec8eb1c1c4118a570c07408762076",
            "value": " 104/104 [00:00&lt;00:00, 374.12it/s]"
          }
        },
        "6e79917b55a345db8e30e581bfed6951": {
          "model_module": "@jupyter-widgets/base",
          "model_name": "LayoutModel",
          "model_module_version": "1.2.0",
          "state": {
            "_model_module": "@jupyter-widgets/base",
            "_model_module_version": "1.2.0",
            "_model_name": "LayoutModel",
            "_view_count": null,
            "_view_module": "@jupyter-widgets/base",
            "_view_module_version": "1.2.0",
            "_view_name": "LayoutView",
            "align_content": null,
            "align_items": null,
            "align_self": null,
            "border": null,
            "bottom": null,
            "display": null,
            "flex": null,
            "flex_flow": null,
            "grid_area": null,
            "grid_auto_columns": null,
            "grid_auto_flow": null,
            "grid_auto_rows": null,
            "grid_column": null,
            "grid_gap": null,
            "grid_row": null,
            "grid_template_areas": null,
            "grid_template_columns": null,
            "grid_template_rows": null,
            "height": null,
            "justify_content": null,
            "justify_items": null,
            "left": null,
            "margin": null,
            "max_height": null,
            "max_width": null,
            "min_height": null,
            "min_width": null,
            "object_fit": null,
            "object_position": null,
            "order": null,
            "overflow": null,
            "overflow_x": null,
            "overflow_y": null,
            "padding": null,
            "right": null,
            "top": null,
            "visibility": null,
            "width": null
          }
        },
        "027986025cc34a30a6c15999bce89d5b": {
          "model_module": "@jupyter-widgets/base",
          "model_name": "LayoutModel",
          "model_module_version": "1.2.0",
          "state": {
            "_model_module": "@jupyter-widgets/base",
            "_model_module_version": "1.2.0",
            "_model_name": "LayoutModel",
            "_view_count": null,
            "_view_module": "@jupyter-widgets/base",
            "_view_module_version": "1.2.0",
            "_view_name": "LayoutView",
            "align_content": null,
            "align_items": null,
            "align_self": null,
            "border": null,
            "bottom": null,
            "display": null,
            "flex": null,
            "flex_flow": null,
            "grid_area": null,
            "grid_auto_columns": null,
            "grid_auto_flow": null,
            "grid_auto_rows": null,
            "grid_column": null,
            "grid_gap": null,
            "grid_row": null,
            "grid_template_areas": null,
            "grid_template_columns": null,
            "grid_template_rows": null,
            "height": null,
            "justify_content": null,
            "justify_items": null,
            "left": null,
            "margin": null,
            "max_height": null,
            "max_width": null,
            "min_height": null,
            "min_width": null,
            "object_fit": null,
            "object_position": null,
            "order": null,
            "overflow": null,
            "overflow_x": null,
            "overflow_y": null,
            "padding": null,
            "right": null,
            "top": null,
            "visibility": null,
            "width": null
          }
        },
        "c6a6444331c9467984bd8e6309fae125": {
          "model_module": "@jupyter-widgets/controls",
          "model_name": "DescriptionStyleModel",
          "model_module_version": "1.5.0",
          "state": {
            "_model_module": "@jupyter-widgets/controls",
            "_model_module_version": "1.5.0",
            "_model_name": "DescriptionStyleModel",
            "_view_count": null,
            "_view_module": "@jupyter-widgets/base",
            "_view_module_version": "1.2.0",
            "_view_name": "StyleView",
            "description_width": ""
          }
        },
        "d935e4ed3a9a4ebc9869978617a861e5": {
          "model_module": "@jupyter-widgets/base",
          "model_name": "LayoutModel",
          "model_module_version": "1.2.0",
          "state": {
            "_model_module": "@jupyter-widgets/base",
            "_model_module_version": "1.2.0",
            "_model_name": "LayoutModel",
            "_view_count": null,
            "_view_module": "@jupyter-widgets/base",
            "_view_module_version": "1.2.0",
            "_view_name": "LayoutView",
            "align_content": null,
            "align_items": null,
            "align_self": null,
            "border": null,
            "bottom": null,
            "display": null,
            "flex": null,
            "flex_flow": null,
            "grid_area": null,
            "grid_auto_columns": null,
            "grid_auto_flow": null,
            "grid_auto_rows": null,
            "grid_column": null,
            "grid_gap": null,
            "grid_row": null,
            "grid_template_areas": null,
            "grid_template_columns": null,
            "grid_template_rows": null,
            "height": null,
            "justify_content": null,
            "justify_items": null,
            "left": null,
            "margin": null,
            "max_height": null,
            "max_width": null,
            "min_height": null,
            "min_width": null,
            "object_fit": null,
            "object_position": null,
            "order": null,
            "overflow": null,
            "overflow_x": null,
            "overflow_y": null,
            "padding": null,
            "right": null,
            "top": null,
            "visibility": null,
            "width": null
          }
        },
        "38f091b104ca4bb39865c01bb43c2a86": {
          "model_module": "@jupyter-widgets/controls",
          "model_name": "ProgressStyleModel",
          "model_module_version": "1.5.0",
          "state": {
            "_model_module": "@jupyter-widgets/controls",
            "_model_module_version": "1.5.0",
            "_model_name": "ProgressStyleModel",
            "_view_count": null,
            "_view_module": "@jupyter-widgets/base",
            "_view_module_version": "1.2.0",
            "_view_name": "StyleView",
            "bar_color": null,
            "description_width": ""
          }
        },
        "2c95f955649f45d3808110fa8b134a9c": {
          "model_module": "@jupyter-widgets/base",
          "model_name": "LayoutModel",
          "model_module_version": "1.2.0",
          "state": {
            "_model_module": "@jupyter-widgets/base",
            "_model_module_version": "1.2.0",
            "_model_name": "LayoutModel",
            "_view_count": null,
            "_view_module": "@jupyter-widgets/base",
            "_view_module_version": "1.2.0",
            "_view_name": "LayoutView",
            "align_content": null,
            "align_items": null,
            "align_self": null,
            "border": null,
            "bottom": null,
            "display": null,
            "flex": null,
            "flex_flow": null,
            "grid_area": null,
            "grid_auto_columns": null,
            "grid_auto_flow": null,
            "grid_auto_rows": null,
            "grid_column": null,
            "grid_gap": null,
            "grid_row": null,
            "grid_template_areas": null,
            "grid_template_columns": null,
            "grid_template_rows": null,
            "height": null,
            "justify_content": null,
            "justify_items": null,
            "left": null,
            "margin": null,
            "max_height": null,
            "max_width": null,
            "min_height": null,
            "min_width": null,
            "object_fit": null,
            "object_position": null,
            "order": null,
            "overflow": null,
            "overflow_x": null,
            "overflow_y": null,
            "padding": null,
            "right": null,
            "top": null,
            "visibility": null,
            "width": null
          }
        },
        "516ec8eb1c1c4118a570c07408762076": {
          "model_module": "@jupyter-widgets/controls",
          "model_name": "DescriptionStyleModel",
          "model_module_version": "1.5.0",
          "state": {
            "_model_module": "@jupyter-widgets/controls",
            "_model_module_version": "1.5.0",
            "_model_name": "DescriptionStyleModel",
            "_view_count": null,
            "_view_module": "@jupyter-widgets/base",
            "_view_module_version": "1.2.0",
            "_view_name": "StyleView",
            "description_width": ""
          }
        },
        "7e7cfa94bd00463f8304da7a4b93970e": {
          "model_module": "@jupyter-widgets/controls",
          "model_name": "HBoxModel",
          "model_module_version": "1.5.0",
          "state": {
            "_dom_classes": [],
            "_model_module": "@jupyter-widgets/controls",
            "_model_module_version": "1.5.0",
            "_model_name": "HBoxModel",
            "_view_count": null,
            "_view_module": "@jupyter-widgets/controls",
            "_view_module_version": "1.5.0",
            "_view_name": "HBoxView",
            "box_style": "",
            "children": [
              "IPY_MODEL_b6201407f9454a3f8bc8e1da00dfd2d5",
              "IPY_MODEL_cc5758f77c4846f88f3dddcdd83bdf6b",
              "IPY_MODEL_92366f0d750b4d3face1d2d356b780e2"
            ],
            "layout": "IPY_MODEL_b099a76f418247538c61034fe9ccec6b"
          }
        },
        "b6201407f9454a3f8bc8e1da00dfd2d5": {
          "model_module": "@jupyter-widgets/controls",
          "model_name": "HTMLModel",
          "model_module_version": "1.5.0",
          "state": {
            "_dom_classes": [],
            "_model_module": "@jupyter-widgets/controls",
            "_model_module_version": "1.5.0",
            "_model_name": "HTMLModel",
            "_view_count": null,
            "_view_module": "@jupyter-widgets/controls",
            "_view_module_version": "1.5.0",
            "_view_name": "HTMLView",
            "description": "",
            "description_tooltip": null,
            "layout": "IPY_MODEL_6c3f365eb4544dc394f26d16edebaefe",
            "placeholder": "​",
            "style": "IPY_MODEL_181b78423a1c4ac1bc24ccc7db9e3922",
            "value": "100%"
          }
        },
        "cc5758f77c4846f88f3dddcdd83bdf6b": {
          "model_module": "@jupyter-widgets/controls",
          "model_name": "FloatProgressModel",
          "model_module_version": "1.5.0",
          "state": {
            "_dom_classes": [],
            "_model_module": "@jupyter-widgets/controls",
            "_model_module_version": "1.5.0",
            "_model_name": "FloatProgressModel",
            "_view_count": null,
            "_view_module": "@jupyter-widgets/controls",
            "_view_module_version": "1.5.0",
            "_view_name": "ProgressView",
            "bar_style": "success",
            "description": "",
            "description_tooltip": null,
            "layout": "IPY_MODEL_b8ce6d0ef4df4a0f903ad9a2ad9812d8",
            "max": 800,
            "min": 0,
            "orientation": "horizontal",
            "style": "IPY_MODEL_511d4b1c0a904702b2cf5470c4c8da56",
            "value": 800
          }
        },
        "92366f0d750b4d3face1d2d356b780e2": {
          "model_module": "@jupyter-widgets/controls",
          "model_name": "HTMLModel",
          "model_module_version": "1.5.0",
          "state": {
            "_dom_classes": [],
            "_model_module": "@jupyter-widgets/controls",
            "_model_module_version": "1.5.0",
            "_model_name": "HTMLModel",
            "_view_count": null,
            "_view_module": "@jupyter-widgets/controls",
            "_view_module_version": "1.5.0",
            "_view_name": "HTMLView",
            "description": "",
            "description_tooltip": null,
            "layout": "IPY_MODEL_daa67cfcbf7a44c099903452af8f30f7",
            "placeholder": "​",
            "style": "IPY_MODEL_e41cdb4d2b6d4d8886cd4427e5b942cd",
            "value": " 800/800 [00:01&lt;00:00, 490.08it/s]"
          }
        },
        "b099a76f418247538c61034fe9ccec6b": {
          "model_module": "@jupyter-widgets/base",
          "model_name": "LayoutModel",
          "model_module_version": "1.2.0",
          "state": {
            "_model_module": "@jupyter-widgets/base",
            "_model_module_version": "1.2.0",
            "_model_name": "LayoutModel",
            "_view_count": null,
            "_view_module": "@jupyter-widgets/base",
            "_view_module_version": "1.2.0",
            "_view_name": "LayoutView",
            "align_content": null,
            "align_items": null,
            "align_self": null,
            "border": null,
            "bottom": null,
            "display": null,
            "flex": null,
            "flex_flow": null,
            "grid_area": null,
            "grid_auto_columns": null,
            "grid_auto_flow": null,
            "grid_auto_rows": null,
            "grid_column": null,
            "grid_gap": null,
            "grid_row": null,
            "grid_template_areas": null,
            "grid_template_columns": null,
            "grid_template_rows": null,
            "height": null,
            "justify_content": null,
            "justify_items": null,
            "left": null,
            "margin": null,
            "max_height": null,
            "max_width": null,
            "min_height": null,
            "min_width": null,
            "object_fit": null,
            "object_position": null,
            "order": null,
            "overflow": null,
            "overflow_x": null,
            "overflow_y": null,
            "padding": null,
            "right": null,
            "top": null,
            "visibility": null,
            "width": null
          }
        },
        "6c3f365eb4544dc394f26d16edebaefe": {
          "model_module": "@jupyter-widgets/base",
          "model_name": "LayoutModel",
          "model_module_version": "1.2.0",
          "state": {
            "_model_module": "@jupyter-widgets/base",
            "_model_module_version": "1.2.0",
            "_model_name": "LayoutModel",
            "_view_count": null,
            "_view_module": "@jupyter-widgets/base",
            "_view_module_version": "1.2.0",
            "_view_name": "LayoutView",
            "align_content": null,
            "align_items": null,
            "align_self": null,
            "border": null,
            "bottom": null,
            "display": null,
            "flex": null,
            "flex_flow": null,
            "grid_area": null,
            "grid_auto_columns": null,
            "grid_auto_flow": null,
            "grid_auto_rows": null,
            "grid_column": null,
            "grid_gap": null,
            "grid_row": null,
            "grid_template_areas": null,
            "grid_template_columns": null,
            "grid_template_rows": null,
            "height": null,
            "justify_content": null,
            "justify_items": null,
            "left": null,
            "margin": null,
            "max_height": null,
            "max_width": null,
            "min_height": null,
            "min_width": null,
            "object_fit": null,
            "object_position": null,
            "order": null,
            "overflow": null,
            "overflow_x": null,
            "overflow_y": null,
            "padding": null,
            "right": null,
            "top": null,
            "visibility": null,
            "width": null
          }
        },
        "181b78423a1c4ac1bc24ccc7db9e3922": {
          "model_module": "@jupyter-widgets/controls",
          "model_name": "DescriptionStyleModel",
          "model_module_version": "1.5.0",
          "state": {
            "_model_module": "@jupyter-widgets/controls",
            "_model_module_version": "1.5.0",
            "_model_name": "DescriptionStyleModel",
            "_view_count": null,
            "_view_module": "@jupyter-widgets/base",
            "_view_module_version": "1.2.0",
            "_view_name": "StyleView",
            "description_width": ""
          }
        },
        "b8ce6d0ef4df4a0f903ad9a2ad9812d8": {
          "model_module": "@jupyter-widgets/base",
          "model_name": "LayoutModel",
          "model_module_version": "1.2.0",
          "state": {
            "_model_module": "@jupyter-widgets/base",
            "_model_module_version": "1.2.0",
            "_model_name": "LayoutModel",
            "_view_count": null,
            "_view_module": "@jupyter-widgets/base",
            "_view_module_version": "1.2.0",
            "_view_name": "LayoutView",
            "align_content": null,
            "align_items": null,
            "align_self": null,
            "border": null,
            "bottom": null,
            "display": null,
            "flex": null,
            "flex_flow": null,
            "grid_area": null,
            "grid_auto_columns": null,
            "grid_auto_flow": null,
            "grid_auto_rows": null,
            "grid_column": null,
            "grid_gap": null,
            "grid_row": null,
            "grid_template_areas": null,
            "grid_template_columns": null,
            "grid_template_rows": null,
            "height": null,
            "justify_content": null,
            "justify_items": null,
            "left": null,
            "margin": null,
            "max_height": null,
            "max_width": null,
            "min_height": null,
            "min_width": null,
            "object_fit": null,
            "object_position": null,
            "order": null,
            "overflow": null,
            "overflow_x": null,
            "overflow_y": null,
            "padding": null,
            "right": null,
            "top": null,
            "visibility": null,
            "width": null
          }
        },
        "511d4b1c0a904702b2cf5470c4c8da56": {
          "model_module": "@jupyter-widgets/controls",
          "model_name": "ProgressStyleModel",
          "model_module_version": "1.5.0",
          "state": {
            "_model_module": "@jupyter-widgets/controls",
            "_model_module_version": "1.5.0",
            "_model_name": "ProgressStyleModel",
            "_view_count": null,
            "_view_module": "@jupyter-widgets/base",
            "_view_module_version": "1.2.0",
            "_view_name": "StyleView",
            "bar_color": null,
            "description_width": ""
          }
        },
        "daa67cfcbf7a44c099903452af8f30f7": {
          "model_module": "@jupyter-widgets/base",
          "model_name": "LayoutModel",
          "model_module_version": "1.2.0",
          "state": {
            "_model_module": "@jupyter-widgets/base",
            "_model_module_version": "1.2.0",
            "_model_name": "LayoutModel",
            "_view_count": null,
            "_view_module": "@jupyter-widgets/base",
            "_view_module_version": "1.2.0",
            "_view_name": "LayoutView",
            "align_content": null,
            "align_items": null,
            "align_self": null,
            "border": null,
            "bottom": null,
            "display": null,
            "flex": null,
            "flex_flow": null,
            "grid_area": null,
            "grid_auto_columns": null,
            "grid_auto_flow": null,
            "grid_auto_rows": null,
            "grid_column": null,
            "grid_gap": null,
            "grid_row": null,
            "grid_template_areas": null,
            "grid_template_columns": null,
            "grid_template_rows": null,
            "height": null,
            "justify_content": null,
            "justify_items": null,
            "left": null,
            "margin": null,
            "max_height": null,
            "max_width": null,
            "min_height": null,
            "min_width": null,
            "object_fit": null,
            "object_position": null,
            "order": null,
            "overflow": null,
            "overflow_x": null,
            "overflow_y": null,
            "padding": null,
            "right": null,
            "top": null,
            "visibility": null,
            "width": null
          }
        },
        "e41cdb4d2b6d4d8886cd4427e5b942cd": {
          "model_module": "@jupyter-widgets/controls",
          "model_name": "DescriptionStyleModel",
          "model_module_version": "1.5.0",
          "state": {
            "_model_module": "@jupyter-widgets/controls",
            "_model_module_version": "1.5.0",
            "_model_name": "DescriptionStyleModel",
            "_view_count": null,
            "_view_module": "@jupyter-widgets/base",
            "_view_module_version": "1.2.0",
            "_view_name": "StyleView",
            "description_width": ""
          }
        }
      }
    }
  },
  "nbformat": 4,
  "nbformat_minor": 0
}