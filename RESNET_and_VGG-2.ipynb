{
  "cells": [
    {
      "cell_type": "code",
      "execution_count": null,
      "metadata": {
        "id": "jvwpsl2Oxyqb"
      },
      "outputs": [],
      "source": [
        "from google.colab.patches import cv2_imshow\n",
        "from skimage import io\n",
        "import os\n",
        "\n",
        "\n",
        "import pandas as pd\n",
        "import numpy as np\n",
        "import os\n",
        "import tensorflow as tf\n",
        "import cv2\n",
        "\n",
        "from  matplotlib import pyplot as plt\n",
        "import matplotlib.image as mpimg\n",
        "from matplotlib.image import imread\n",
        "import random\n",
        "import seaborn as sns\n",
        "from tqdm.notebook import tqdm\n",
        "from PIL import Image\n",
        "\n",
        "\n",
        "import tensorflow as tf\n",
        "from keras_preprocessing.image import load_img\n",
        "from keras.models import Sequential, Model\n",
        "from keras.layers import Dense, Conv2D, Dropout, Flatten, MaxPooling2D, BatchNormalization, Input"
      ]
    },
    {
      "cell_type": "code",
      "execution_count": null,
      "metadata": {
        "colab": {
          "base_uri": "https://localhost:8080/"
        },
        "id": "8zVR1anqvmMM",
        "outputId": "b92a5cba-ccbc-44cd-ec5b-4a70576b9884"
      },
      "outputs": [
        {
          "output_type": "stream",
          "name": "stdout",
          "text": [
            "Done\n"
          ]
        }
      ],
      "source": [
        "from zipfile import ZipFile\n",
        "filename = \"Balanced.zip\"\n",
        "\n",
        "with ZipFile(filename, 'r') as zip:\n",
        "  zip.extractall()\n",
        "  print(\"Done\")"
      ]
    },
    {
      "cell_type": "code",
      "execution_count": null,
      "metadata": {
        "id": "8UCj6bHmY34k"
      },
      "outputs": [],
      "source": [
        "!pip install -q keras"
      ]
    },
    {
      "cell_type": "code",
      "execution_count": null,
      "metadata": {
        "id": "D8T_qxTYv6kY"
      },
      "outputs": [],
      "source": []
    },
    {
      "cell_type": "code",
      "execution_count": null,
      "metadata": {
        "colab": {
          "base_uri": "https://localhost:8080/"
        },
        "id": "jqk-_igDv6nJ",
        "outputId": "cd7ac232-817e-4d92-8b0d-5296d820bc64"
      },
      "outputs": [
        {
          "output_type": "execute_result",
          "data": {
            "text/plain": [
              "800"
            ]
          },
          "metadata": {},
          "execution_count": 4
        }
      ],
      "source": [
        "len(os.listdir('Balanced'))"
      ]
    },
    {
      "cell_type": "code",
      "execution_count": null,
      "metadata": {
        "colab": {
          "base_uri": "https://localhost:8080/"
        },
        "id": "5BBGE-sZv6px",
        "outputId": "b9a8874a-440a-4f5a-d723-49c629021918"
      },
      "outputs": [
        {
          "output_type": "stream",
          "name": "stdout",
          "text": [
            "Number of images: 800\n",
            "24_1_3_20170104234737428.jpg.chip.jpg\n"
          ]
        }
      ],
      "source": [
        "f_list = os.listdir('Balanced')\n",
        "\n",
        "\n",
        "f_num = len(f_list)\n",
        "print('Number of images:', f_num)\n",
        "print(f_list[0])"
      ]
    },
    {
      "cell_type": "code",
      "source": [
        "df = pd.DataFrame(f_list, columns = ['train_name'])\n",
        "\n",
        "df['train_gender'] = df.apply(lambda x : x['train_name'].split('_')[1], axis = 1).astype('int')\n",
        "\n",
        "df['train_demographical_area'] = df.apply(lambda x : x['train_name'].split('_')[2], axis = 1).astype('int')\n",
        "df.head()"
      ],
      "metadata": {
        "colab": {
          "base_uri": "https://localhost:8080/",
          "height": 204
        },
        "id": "NozN6MNN8Lsl",
        "outputId": "55434586-e1a6-4c65-ac8c-e7bbaecc635f"
      },
      "execution_count": null,
      "outputs": [
        {
          "output_type": "execute_result",
          "data": {
            "text/plain": [
              "                              train_name  train_gender  \\\n",
              "0  24_1_3_20170104234737428.jpg.chip.jpg             1   \n",
              "1  30_1_0_20170109012829305.jpg.chip.jpg             1   \n",
              "2  28_0_2_20170116162829960.jpg.chip.jpg             0   \n",
              "3  29_0_3_20170119153035762.jpg.chip.jpg             0   \n",
              "4  30_0_2_20170103235423316.jpg.chip.jpg             0   \n",
              "\n",
              "   train_demographical_area  \n",
              "0                         3  \n",
              "1                         0  \n",
              "2                         2  \n",
              "3                         3  \n",
              "4                         2  "
            ],
            "text/html": [
              "\n",
              "  <div id=\"df-f28b4439-ecd3-418c-8b73-93625aaf7f2d\">\n",
              "    <div class=\"colab-df-container\">\n",
              "      <div>\n",
              "<style scoped>\n",
              "    .dataframe tbody tr th:only-of-type {\n",
              "        vertical-align: middle;\n",
              "    }\n",
              "\n",
              "    .dataframe tbody tr th {\n",
              "        vertical-align: top;\n",
              "    }\n",
              "\n",
              "    .dataframe thead th {\n",
              "        text-align: right;\n",
              "    }\n",
              "</style>\n",
              "<table border=\"1\" class=\"dataframe\">\n",
              "  <thead>\n",
              "    <tr style=\"text-align: right;\">\n",
              "      <th></th>\n",
              "      <th>train_name</th>\n",
              "      <th>train_gender</th>\n",
              "      <th>train_demographical_area</th>\n",
              "    </tr>\n",
              "  </thead>\n",
              "  <tbody>\n",
              "    <tr>\n",
              "      <th>0</th>\n",
              "      <td>24_1_3_20170104234737428.jpg.chip.jpg</td>\n",
              "      <td>1</td>\n",
              "      <td>3</td>\n",
              "    </tr>\n",
              "    <tr>\n",
              "      <th>1</th>\n",
              "      <td>30_1_0_20170109012829305.jpg.chip.jpg</td>\n",
              "      <td>1</td>\n",
              "      <td>0</td>\n",
              "    </tr>\n",
              "    <tr>\n",
              "      <th>2</th>\n",
              "      <td>28_0_2_20170116162829960.jpg.chip.jpg</td>\n",
              "      <td>0</td>\n",
              "      <td>2</td>\n",
              "    </tr>\n",
              "    <tr>\n",
              "      <th>3</th>\n",
              "      <td>29_0_3_20170119153035762.jpg.chip.jpg</td>\n",
              "      <td>0</td>\n",
              "      <td>3</td>\n",
              "    </tr>\n",
              "    <tr>\n",
              "      <th>4</th>\n",
              "      <td>30_0_2_20170103235423316.jpg.chip.jpg</td>\n",
              "      <td>0</td>\n",
              "      <td>2</td>\n",
              "    </tr>\n",
              "  </tbody>\n",
              "</table>\n",
              "</div>\n",
              "      <button class=\"colab-df-convert\" onclick=\"convertToInteractive('df-f28b4439-ecd3-418c-8b73-93625aaf7f2d')\"\n",
              "              title=\"Convert this dataframe to an interactive table.\"\n",
              "              style=\"display:none;\">\n",
              "        \n",
              "  <svg xmlns=\"http://www.w3.org/2000/svg\" height=\"24px\"viewBox=\"0 0 24 24\"\n",
              "       width=\"24px\">\n",
              "    <path d=\"M0 0h24v24H0V0z\" fill=\"none\"/>\n",
              "    <path d=\"M18.56 5.44l.94 2.06.94-2.06 2.06-.94-2.06-.94-.94-2.06-.94 2.06-2.06.94zm-11 1L8.5 8.5l.94-2.06 2.06-.94-2.06-.94L8.5 2.5l-.94 2.06-2.06.94zm10 10l.94 2.06.94-2.06 2.06-.94-2.06-.94-.94-2.06-.94 2.06-2.06.94z\"/><path d=\"M17.41 7.96l-1.37-1.37c-.4-.4-.92-.59-1.43-.59-.52 0-1.04.2-1.43.59L10.3 9.45l-7.72 7.72c-.78.78-.78 2.05 0 2.83L4 21.41c.39.39.9.59 1.41.59.51 0 1.02-.2 1.41-.59l7.78-7.78 2.81-2.81c.8-.78.8-2.07 0-2.86zM5.41 20L4 18.59l7.72-7.72 1.47 1.35L5.41 20z\"/>\n",
              "  </svg>\n",
              "      </button>\n",
              "      \n",
              "  <style>\n",
              "    .colab-df-container {\n",
              "      display:flex;\n",
              "      flex-wrap:wrap;\n",
              "      gap: 12px;\n",
              "    }\n",
              "\n",
              "    .colab-df-convert {\n",
              "      background-color: #E8F0FE;\n",
              "      border: none;\n",
              "      border-radius: 50%;\n",
              "      cursor: pointer;\n",
              "      display: none;\n",
              "      fill: #1967D2;\n",
              "      height: 32px;\n",
              "      padding: 0 0 0 0;\n",
              "      width: 32px;\n",
              "    }\n",
              "\n",
              "    .colab-df-convert:hover {\n",
              "      background-color: #E2EBFA;\n",
              "      box-shadow: 0px 1px 2px rgba(60, 64, 67, 0.3), 0px 1px 3px 1px rgba(60, 64, 67, 0.15);\n",
              "      fill: #174EA6;\n",
              "    }\n",
              "\n",
              "    [theme=dark] .colab-df-convert {\n",
              "      background-color: #3B4455;\n",
              "      fill: #D2E3FC;\n",
              "    }\n",
              "\n",
              "    [theme=dark] .colab-df-convert:hover {\n",
              "      background-color: #434B5C;\n",
              "      box-shadow: 0px 1px 3px 1px rgba(0, 0, 0, 0.15);\n",
              "      filter: drop-shadow(0px 1px 2px rgba(0, 0, 0, 0.3));\n",
              "      fill: #FFFFFF;\n",
              "    }\n",
              "  </style>\n",
              "\n",
              "      <script>\n",
              "        const buttonEl =\n",
              "          document.querySelector('#df-f28b4439-ecd3-418c-8b73-93625aaf7f2d button.colab-df-convert');\n",
              "        buttonEl.style.display =\n",
              "          google.colab.kernel.accessAllowed ? 'block' : 'none';\n",
              "\n",
              "        async function convertToInteractive(key) {\n",
              "          const element = document.querySelector('#df-f28b4439-ecd3-418c-8b73-93625aaf7f2d');\n",
              "          const dataTable =\n",
              "            await google.colab.kernel.invokeFunction('convertToInteractive',\n",
              "                                                     [key], {});\n",
              "          if (!dataTable) return;\n",
              "\n",
              "          const docLinkHtml = 'Like what you see? Visit the ' +\n",
              "            '<a target=\"_blank\" href=https://colab.research.google.com/notebooks/data_table.ipynb>data table notebook</a>'\n",
              "            + ' to learn more about interactive tables.';\n",
              "          element.innerHTML = '';\n",
              "          dataTable['output_type'] = 'display_data';\n",
              "          await google.colab.output.renderOutput(dataTable, element);\n",
              "          const docLink = document.createElement('div');\n",
              "          docLink.innerHTML = docLinkHtml;\n",
              "          element.appendChild(docLink);\n",
              "        }\n",
              "      </script>\n",
              "    </div>\n",
              "  </div>\n",
              "  "
            ]
          },
          "metadata": {},
          "execution_count": 6
        }
      ]
    },
    {
      "cell_type": "code",
      "execution_count": null,
      "metadata": {
        "id": "v5bVhbL8BEZL"
      },
      "outputs": [],
      "source": [
        "gender_dict = {0:\"Male\", 1:\"Female\"}"
      ]
    },
    {
      "cell_type": "code",
      "execution_count": null,
      "metadata": {
        "id": "ek6zULBRCaoM"
      },
      "outputs": [],
      "source": [
        "clahe = cv2.createCLAHE(clipLimit = 3, tileGridSize=(8,8))\n",
        "\n",
        "\n",
        "\n",
        "def extract_Clahe_features(images):\n",
        "    Clahe_features = []\n",
        "    for image in tqdm(images):\n",
        "        image = \"Balanced/\"+image\n",
        "        img = load_img(image)\n",
        "        img = img.resize((224, 224), )\n",
        "        img = np.array(img)\n",
        "        Clahe_features.append(img)\n",
        "\n",
        "    Clahe_features = np.array(Clahe_features)\n",
        "\n",
        "    return Clahe_features\n",
        ""
      ]
    },
    {
      "cell_type": "code",
      "execution_count": null,
      "metadata": {
        "colab": {
          "base_uri": "https://localhost:8080/",
          "height": 49,
          "referenced_widgets": [
            "3015301f679343fc97027374270c0747",
            "4dd702baa09141df91eb7dce1e0239aa",
            "1663ea125476432184be4aa4e28eec30",
            "b7c26a6fb1cc47eeb1b733ac97102a09",
            "0486b6b61cf64496ab532f8122a6dc80",
            "93762a255fc84545b74cd5c23502af7e",
            "de411de4c8fb4b48a34cb471569f051d",
            "ca6d5d1e539b4d23a292df62d074ee7f",
            "8fd026057d794e30b557eb1dd3413e5e",
            "50a967289f984ccfa4fac9ef52fe4de0",
            "ebe7022ce1d5434798f631cb3a3c864e"
          ]
        },
        "id": "LqLeobiCCazg",
        "outputId": "2da10122-e0f8-4c98-eecf-958f524e06d1"
      },
      "outputs": [
        {
          "output_type": "display_data",
          "data": {
            "text/plain": [
              "  0%|          | 0/800 [00:00<?, ?it/s]"
            ],
            "application/vnd.jupyter.widget-view+json": {
              "version_major": 2,
              "version_minor": 0,
              "model_id": "3015301f679343fc97027374270c0747"
            }
          },
          "metadata": {}
        }
      ],
      "source": [
        "X_Clahe = extract_Clahe_features(df['train_name'])"
      ]
    },
    {
      "cell_type": "code",
      "execution_count": null,
      "metadata": {
        "colab": {
          "base_uri": "https://localhost:8080/"
        },
        "id": "OZiMYHiKWUuH",
        "outputId": "102ca00f-868a-4177-bc8c-2a611ff0a27d"
      },
      "outputs": [
        {
          "output_type": "stream",
          "name": "stdout",
          "text": [
            "[1 1 0 0 0 1 1 0 0 0 0 1 0 1 1 0 0 0 1 0 0 0 0 1 1 1 1 1 1 1 0 1 1 1 1 1 0\n",
            " 0 0 1 0 1 1 0 0 1 0 1 1 1 0 0 0 0 1 0 0 0 1 0 1 0 0 0 1 1 1 0 1 0 1 1 1 0\n",
            " 1 1 1 0 1 0 1 0 1 0 1 0 0 1 0 0 1 1 1 0 0 1 0 0 1 1 0 0 1 0 0 0 1 1 0 0 0\n",
            " 1 1 0 1 1 0 1 1 1 0 0 0 1 0 1 1 0 1 0 0 1 1 0 0 0 0 1 0 0 0 0 1 1 0 1 1 0\n",
            " 1 1 1 1 0 0 0 0 1 1 1 1 1 0 0 0 0 0 1 0 1 1 0 1 1 1 1 0 0 1 1 0 0 1 1 0 0\n",
            " 1 0 1 1 0 1 0 1 1 0 1 0 0 1 0 0 0 0 0 1 0 1 1 1 0 0 0 1 0 0 0 1 1 0 1 0 0\n",
            " 1 1 1 1 0 1 1 0 0 0 0 0 0 1 0 0 1 1 0 1 1 1 0 0 1 1 1 0 1 1 0 0 1 1 0 1 0\n",
            " 1 0 0 0 1 1 0 1 1 0 1 0 1 1 1 0 1 1 0 0 1 1 0 1 1 0 0 0 1 0 0 0 1 1 0 0 0\n",
            " 1 0 1 1 0 0 0 1 1 1 1 0 1 1 1 1 1 1 0 0 0 1 1 1 1 0 0 0 0 0 1 0 1 1 1 1 0\n",
            " 1 1 0 1 1 1 1 1 1 0 1 1 0 0 1 1 1 1 0 1 0 0 0 1 0 1 1 0 0 1 0 1 1 1 1 0 0\n",
            " 0 1 0 0 0 1 0 1 1 0 1 0 0 1 0 0 0 1 1 1 0 1 0 0 0 0 1 0 1 0 1 1 0 1 1 1 1\n",
            " 1 0 1 0 1 0 1 0 0 0 1 0 0 1 0 1 0 0 0 0 0 0 1 1 0 1 0 1 1 1 1 0 1 0 0 0 1\n",
            " 0 1 1 1 1 1 1 1 0 1 1 0 0 1 1 1 0 0 0 0 0 1 0 0 0 0 0 0 0 1 1 0 1 0 0 0 1\n",
            " 0 0 0 1 0 0 0 1 1 1 1 0 0 1 0 1 0 1 1 1 1 0 1 0 0 1 0 1 0 0 1 0 1 1 0 0 1\n",
            " 1 1 0 1 1 0 1 0 1 0 0 1 0 1 0 1 0 0 0 1 1 1 1 0 1 0 1 1 1 0 0 1 1 0 0 1 1\n",
            " 0 0 0 1 1 1 0 0 1 0 0 1 1 0 0 0 1 0 0 1 0 0 0 0 1 1 1 0 1 0 1 0 0 1 1 1 0\n",
            " 0 1 1 0 1 0 1 1 1 1 0 0 1 1 1 0 0 0 1 1 1 0 1 1 0 1 1 1 0 0 1 1 1 0 0 1 1\n",
            " 1 0 0 0 1 1 1 1 0 1 1 1 1 0 0 1 1 1 1 1 0 0 1 0 0 0 1 0 1 0 0 1 0 1 1 1 1\n",
            " 1 0 0 1 1 0 0 0 0 1 1 1 0 0 1 0 1 0 0 0 1 0 0 0 1 0 0 0 0 0 0 1 1 0 1 0 0\n",
            " 0 0 0 0 1 0 0 1 0 1 1 0 1 0 0 0 0 1 1 1 1 1 1 1 0 0 0 1 1 0 0 0 0 1 0 1 1\n",
            " 0 0 1 1 1 0 0 0 1 1 0 1 0 0 0 1 0 1 1 0 0 0 0 0 1 0 1 1 0 1 0 1 1 0 1 1 1\n",
            " 1 1 0 1 0 0 1 0 0 0 0 0 1 1 1 1 1 0 0 0 1 0 0]\n"
          ]
        }
      ],
      "source": [
        "y_gender = np.array(df['train_gender'])\n",
        "\n",
        "print(y_gender)"
      ]
    },
    {
      "cell_type": "code",
      "execution_count": null,
      "metadata": {
        "id": "zuG4VLnxH9I6"
      },
      "outputs": [],
      "source": [
        "X_Clahe = X_Clahe/255.0"
      ]
    },
    {
      "cell_type": "code",
      "source": [
        "from zipfile import ZipFile\n",
        "filename = \"all.zip\"\n",
        "\n",
        "with ZipFile(filename, 'r') as zip:\n",
        "  zip.extractall()\n",
        "  print(\"Done\")"
      ],
      "metadata": {
        "colab": {
          "base_uri": "https://localhost:8080/"
        },
        "id": "ZoywT2G4GroA",
        "outputId": "4cb0304a-f464-4837-b059-9aad4d2bd2fb"
      },
      "execution_count": null,
      "outputs": [
        {
          "output_type": "stream",
          "name": "stdout",
          "text": [
            "Done\n"
          ]
        }
      ]
    },
    {
      "cell_type": "code",
      "source": [
        "t_list = os.listdir('all')\n",
        "\n",
        "\n",
        "t_num = len(t_list)\n",
        "print('Number of images:', t_num)\n",
        "print(t_list)"
      ],
      "metadata": {
        "colab": {
          "base_uri": "https://localhost:8080/"
        },
        "id": "xxn1iXRHGrhS",
        "outputId": "e56e3635-1791-420f-fed7-5700f9181c93"
      },
      "execution_count": null,
      "outputs": [
        {
          "output_type": "stream",
          "name": "stdout",
          "text": [
            "Number of images: 104\n",
            "['31_1_3_20170119155508987.jpg.chip.jpg', '31_1_2_20170104020928085.jpg.chip.jpg', '31_1_1_20170103183224642.jpg.chip.jpg', '31_1_1_20170112210531485.jpg.chip.jpg', '31_1_3_20170119200201348.jpg.chip.jpg', '31_1_0_20170103182528433.jpg.chip.jpg', '31_0_3_20170104231444482.jpg.chip.jpg', '31_1_3_20170104235836460.jpg.chip.jpg', '31_0_3_20170104220255896.jpg.chip.jpg', '31_1_2_20170116191331056.jpg.chip.jpg', '31_1_2_20170109141257277.jpg.chip.jpg', '31_1_1_20170112211518637.jpg.chip.jpg', '31_1_1_20170112213126246.jpg.chip.jpg', '31_1_0_20170103183155451.jpg.chip.jpg', '31_1_0_20170103182536130.jpg.chip.jpg', '31_1_3_20170109140727630.jpg.chip.jpg', '31_0_2_20170116193441821.jpg.chip.jpg', '31_1_0_20170103163117935.jpg.chip.jpg', '31_1_0_20170104235124347.jpg.chip.jpg', '31_1_3_20170117181717125.jpg.chip.jpg', '31_0_2_20170116191346864.jpg.chip.jpg', '31_1_2_20170109003538257.jpg.chip.jpg', '31_0_0_20170104201726242.jpg.chip.jpg', '31_0_2_20170116170946512.jpg.chip.jpg', '31_1_1_20170104165300328.jpg.chip.jpg', '31_0_2_20170116170840810.jpg.chip.jpg', '31_1_3_20170117164736883.jpg.chip.jpg', '31_0_3_20170104232701442.jpg.chip.jpg', '31_0_3_20170117181555388.jpg.chip.jpg', '31_1_0_20170104172947139.jpg.chip.jpg', '31_0_3_20170119160307619.jpg.chip.jpg', '31_0_3_20170104214647533.jpg.chip.jpg', '31_0_1_20170113175708996.jpg.chip.jpg', '31_1_2_20170104020444076.jpg.chip.jpg', '31_0_1_20170113175408636.jpg.chip.jpg', '31_0_3_20170119195941627.jpg.chip.jpg', '31_0_2_20170116170847276.jpg.chip.jpg', '31_0_2_20170116191334762.jpg.chip.jpg', '31_1_2_20170104234746818.jpg.chip.jpg', '31_0_1_20170113142511604.jpg.chip.jpg', '31_0_3_20170104204851228.jpg.chip.jpg', '31_1_3_20170117170731113.jpg.chip.jpg', '31_1_3_20170109132020731.jpg.chip.jpg', '31_0_0_20170105163411563.jpg.chip.jpg', '31_0_1_20170116002854242.jpg.chip.jpg', '31_1_3_20170104234925395.jpg.chip.jpg', '31_0_2_20170116191327593.jpg.chip.jpg', '31_0_0_20170104170131913.jpg.chip.jpg', '31_0_1_20170116003537510.jpg.chip.jpg', '31_0_0_20170104201545729.jpg.chip.jpg', '31_0_3_20170104230610969.jpg.chip.jpg', '31_1_0_20170119200057620.jpg.chip.jpg', '31_1_1_20170112204529987.jpg.chip.jpg', '31_1_1_20170112234534056.jpg.chip.jpg', '31_0_3_20170104232355440.jpg.chip.jpg', '31_1_2_20170116170736523.jpg.chip.jpg', '31_0_1_20170113142352298.jpg.chip.jpg', '31_1_0_20170103163445702.jpg.chip.jpg', '31_1_0_20170103181436000.jpg.chip.jpg', '31_1_1_20170112231537686.jpg.chip.jpg', '31_0_3_20170119195940339.jpg.chip.jpg', '31_0_0_20170104202003656.jpg.chip.jpg', '31_1_3_20170119200101732.jpg.chip.jpg', '31_0_3_20170104165548728.jpg.chip.jpg', '31_0_0_20170105165008674.jpg.chip.jpg', '31_1_2_20170116191228244.jpg.chip.jpg', '31_0_0_20170113142314661.jpg.chip.jpg', '31_1_3_20170104235227202.jpg.chip.jpg', '31_0_1_20170113182315918.jpg.chip.jpg', '31_1_2_20170116191358099.jpg.chip.jpg', '31_1_3_20170109134554005.jpg.chip.jpg', '31_1_1_20170111204355636.jpg.chip.jpg', '31_0_3_20170104230731169.jpg.chip.jpg', '31_1_1_20170105001003876.jpg.chip.jpg', '31_0_0_20170108230119324.jpg.chip.jpg', '31_0_1_20170113174744610.jpg.chip.jpg', '31_1_0_20170120134909814.jpg.chip.jpg', '31_0_1_20170113151333608.jpg.chip.jpg', '31_1_0_20170103182729649.jpg.chip.jpg', '31_1_0_20170104234835075.jpg.chip.jpg', '31_1_2_20170105161436755.jpg.chip.jpg', '31_1_2_20170104020811717.jpg.chip.jpg', '31_1_1_20170112210802028.jpg.chip.jpg', '31_0_2_20170117120426927.jpg.chip.jpg', '31_0_1_20170114032310376.jpg.chip.jpg', '31_1_0_20170103180729440.jpg.chip.jpg', '31_0_0_20170105164926876.jpg.chip.jpg', '31_1_0_20170103182531906.jpg.chip.jpg', '31_0_1_20170113173411619.jpg.chip.jpg', '31_0_2_20170116191350922.jpg.chip.jpg', '31_1_0_20170103183812243.jpg.chip.jpg', '31_0_0_20170104201938890.jpg.chip.jpg', '31_0_0_20170117203033455.jpg.chip.jpg', '31_1_2_20170104022004181.jpg.chip.jpg', '31_0_0_20170105173759693.jpg.chip.jpg', '31_0_1_20170113173408993.jpg.chip.jpg', '31_1_2_20170104023111549.jpg.chip.jpg', '31_0_3_20170119195935948.jpg.chip.jpg', '31_1_3_20170119200159884.jpg.chip.jpg', '31_0_0_20170111181750350.jpg.chip.jpg', '31_0_1_20170113151857048.jpg.chip.jpg', '31_0_2_20170116170844078.jpg.chip.jpg', '31_0_2_20170116191320975.jpg.chip.jpg', '31_0_2_20170116183822859.jpg.chip.jpg']\n"
          ]
        }
      ]
    },
    {
      "cell_type": "code",
      "source": [
        "\n",
        "df_test = pd.DataFrame(t_list, columns = ['test_name'])\n",
        "\n",
        "df_test['test_gender'] = df_test.apply(lambda x : x['test_name'].split('_')[1], axis = 1).astype('int')\n",
        "\n",
        "df_test.head()"
      ],
      "metadata": {
        "colab": {
          "base_uri": "https://localhost:8080/",
          "height": 204
        },
        "id": "I9Hl9UfzGrbe",
        "outputId": "fcc7ec52-dbe7-48a6-dba0-b43d563e0f38"
      },
      "execution_count": null,
      "outputs": [
        {
          "output_type": "execute_result",
          "data": {
            "text/plain": [
              "                               test_name  test_gender\n",
              "0  31_1_3_20170119155508987.jpg.chip.jpg            1\n",
              "1  31_1_2_20170104020928085.jpg.chip.jpg            1\n",
              "2  31_1_1_20170103183224642.jpg.chip.jpg            1\n",
              "3  31_1_1_20170112210531485.jpg.chip.jpg            1\n",
              "4  31_1_3_20170119200201348.jpg.chip.jpg            1"
            ],
            "text/html": [
              "\n",
              "  <div id=\"df-5d029707-40e7-40a8-8c6f-529f6e89ec6b\">\n",
              "    <div class=\"colab-df-container\">\n",
              "      <div>\n",
              "<style scoped>\n",
              "    .dataframe tbody tr th:only-of-type {\n",
              "        vertical-align: middle;\n",
              "    }\n",
              "\n",
              "    .dataframe tbody tr th {\n",
              "        vertical-align: top;\n",
              "    }\n",
              "\n",
              "    .dataframe thead th {\n",
              "        text-align: right;\n",
              "    }\n",
              "</style>\n",
              "<table border=\"1\" class=\"dataframe\">\n",
              "  <thead>\n",
              "    <tr style=\"text-align: right;\">\n",
              "      <th></th>\n",
              "      <th>test_name</th>\n",
              "      <th>test_gender</th>\n",
              "    </tr>\n",
              "  </thead>\n",
              "  <tbody>\n",
              "    <tr>\n",
              "      <th>0</th>\n",
              "      <td>31_1_3_20170119155508987.jpg.chip.jpg</td>\n",
              "      <td>1</td>\n",
              "    </tr>\n",
              "    <tr>\n",
              "      <th>1</th>\n",
              "      <td>31_1_2_20170104020928085.jpg.chip.jpg</td>\n",
              "      <td>1</td>\n",
              "    </tr>\n",
              "    <tr>\n",
              "      <th>2</th>\n",
              "      <td>31_1_1_20170103183224642.jpg.chip.jpg</td>\n",
              "      <td>1</td>\n",
              "    </tr>\n",
              "    <tr>\n",
              "      <th>3</th>\n",
              "      <td>31_1_1_20170112210531485.jpg.chip.jpg</td>\n",
              "      <td>1</td>\n",
              "    </tr>\n",
              "    <tr>\n",
              "      <th>4</th>\n",
              "      <td>31_1_3_20170119200201348.jpg.chip.jpg</td>\n",
              "      <td>1</td>\n",
              "    </tr>\n",
              "  </tbody>\n",
              "</table>\n",
              "</div>\n",
              "      <button class=\"colab-df-convert\" onclick=\"convertToInteractive('df-5d029707-40e7-40a8-8c6f-529f6e89ec6b')\"\n",
              "              title=\"Convert this dataframe to an interactive table.\"\n",
              "              style=\"display:none;\">\n",
              "        \n",
              "  <svg xmlns=\"http://www.w3.org/2000/svg\" height=\"24px\"viewBox=\"0 0 24 24\"\n",
              "       width=\"24px\">\n",
              "    <path d=\"M0 0h24v24H0V0z\" fill=\"none\"/>\n",
              "    <path d=\"M18.56 5.44l.94 2.06.94-2.06 2.06-.94-2.06-.94-.94-2.06-.94 2.06-2.06.94zm-11 1L8.5 8.5l.94-2.06 2.06-.94-2.06-.94L8.5 2.5l-.94 2.06-2.06.94zm10 10l.94 2.06.94-2.06 2.06-.94-2.06-.94-.94-2.06-.94 2.06-2.06.94z\"/><path d=\"M17.41 7.96l-1.37-1.37c-.4-.4-.92-.59-1.43-.59-.52 0-1.04.2-1.43.59L10.3 9.45l-7.72 7.72c-.78.78-.78 2.05 0 2.83L4 21.41c.39.39.9.59 1.41.59.51 0 1.02-.2 1.41-.59l7.78-7.78 2.81-2.81c.8-.78.8-2.07 0-2.86zM5.41 20L4 18.59l7.72-7.72 1.47 1.35L5.41 20z\"/>\n",
              "  </svg>\n",
              "      </button>\n",
              "      \n",
              "  <style>\n",
              "    .colab-df-container {\n",
              "      display:flex;\n",
              "      flex-wrap:wrap;\n",
              "      gap: 12px;\n",
              "    }\n",
              "\n",
              "    .colab-df-convert {\n",
              "      background-color: #E8F0FE;\n",
              "      border: none;\n",
              "      border-radius: 50%;\n",
              "      cursor: pointer;\n",
              "      display: none;\n",
              "      fill: #1967D2;\n",
              "      height: 32px;\n",
              "      padding: 0 0 0 0;\n",
              "      width: 32px;\n",
              "    }\n",
              "\n",
              "    .colab-df-convert:hover {\n",
              "      background-color: #E2EBFA;\n",
              "      box-shadow: 0px 1px 2px rgba(60, 64, 67, 0.3), 0px 1px 3px 1px rgba(60, 64, 67, 0.15);\n",
              "      fill: #174EA6;\n",
              "    }\n",
              "\n",
              "    [theme=dark] .colab-df-convert {\n",
              "      background-color: #3B4455;\n",
              "      fill: #D2E3FC;\n",
              "    }\n",
              "\n",
              "    [theme=dark] .colab-df-convert:hover {\n",
              "      background-color: #434B5C;\n",
              "      box-shadow: 0px 1px 3px 1px rgba(0, 0, 0, 0.15);\n",
              "      filter: drop-shadow(0px 1px 2px rgba(0, 0, 0, 0.3));\n",
              "      fill: #FFFFFF;\n",
              "    }\n",
              "  </style>\n",
              "\n",
              "      <script>\n",
              "        const buttonEl =\n",
              "          document.querySelector('#df-5d029707-40e7-40a8-8c6f-529f6e89ec6b button.colab-df-convert');\n",
              "        buttonEl.style.display =\n",
              "          google.colab.kernel.accessAllowed ? 'block' : 'none';\n",
              "\n",
              "        async function convertToInteractive(key) {\n",
              "          const element = document.querySelector('#df-5d029707-40e7-40a8-8c6f-529f6e89ec6b');\n",
              "          const dataTable =\n",
              "            await google.colab.kernel.invokeFunction('convertToInteractive',\n",
              "                                                     [key], {});\n",
              "          if (!dataTable) return;\n",
              "\n",
              "          const docLinkHtml = 'Like what you see? Visit the ' +\n",
              "            '<a target=\"_blank\" href=https://colab.research.google.com/notebooks/data_table.ipynb>data table notebook</a>'\n",
              "            + ' to learn more about interactive tables.';\n",
              "          element.innerHTML = '';\n",
              "          dataTable['output_type'] = 'display_data';\n",
              "          await google.colab.output.renderOutput(dataTable, element);\n",
              "          const docLink = document.createElement('div');\n",
              "          docLink.innerHTML = docLinkHtml;\n",
              "          element.appendChild(docLink);\n",
              "        }\n",
              "      </script>\n",
              "    </div>\n",
              "  </div>\n",
              "  "
            ]
          },
          "metadata": {},
          "execution_count": 14
        }
      ]
    },
    {
      "cell_type": "code",
      "source": [
        "test_gender = np.array(df_test['test_gender'])\n",
        "\n",
        "print(test_gender)"
      ],
      "metadata": {
        "colab": {
          "base_uri": "https://localhost:8080/"
        },
        "id": "Qd94Ej5oGrUa",
        "outputId": "bcd88bbf-9a0b-453e-edd8-7ca827fe433a"
      },
      "execution_count": null,
      "outputs": [
        {
          "output_type": "stream",
          "name": "stdout",
          "text": [
            "[1 1 1 1 1 1 0 1 0 1 1 1 1 1 1 1 0 1 1 1 0 1 0 0 1 0 1 0 0 1 0 0 0 1 0 0 0\n",
            " 0 1 0 0 1 1 0 0 1 0 0 0 0 0 1 1 1 0 1 0 1 1 1 0 0 1 0 0 1 0 1 0 1 1 1 0 1\n",
            " 0 0 1 0 1 1 1 1 1 0 0 1 0 1 0 0 1 0 0 1 0 0 1 0 1 0 0 0 0 0]\n"
          ]
        }
      ]
    },
    {
      "cell_type": "code",
      "source": [
        "def test_dataset(images):\n",
        "    dataset = []\n",
        "    for image in tqdm(images):\n",
        "        image = \"all/\"+image\n",
        "        img = load_img(image, )\n",
        "        img = img.resize((224, 224))\n",
        "        img = np.array(img)\n",
        "        dataset.append(img)\n",
        "\n",
        "    dataset = np.array(dataset)\n",
        "\n",
        "    return dataset"
      ],
      "metadata": {
        "id": "Ql623uxiGdA-"
      },
      "execution_count": null,
      "outputs": []
    },
    {
      "cell_type": "code",
      "source": [
        "testset_RGB = test_dataset(df_test['test_name'])"
      ],
      "metadata": {
        "colab": {
          "base_uri": "https://localhost:8080/",
          "height": 49,
          "referenced_widgets": [
            "ea7798c0f76c48dba69d6c12954fe079",
            "afa88debbcbd45d1868a8cd63d8f848a",
            "30bb36013fb64250bbf50e36c7debba7",
            "48e1b183682b4831b0a6e0743b9f0846",
            "a284c8df078c432eb14e9b3f6ec79d82",
            "8ae1e634ff894b90a7537881f9b6b287",
            "95675af4dde9492d816db4f74b37eeb2",
            "62a2b525d761492c975a038a764459fb",
            "bb7cd74354b74ca9a8a976706c64caa9",
            "eec9017810d04d548f904e7a70b64c1c",
            "fdb790284c1d49d5a863f4de70b2ce40"
          ]
        },
        "id": "_DFUHVZuGdD4",
        "outputId": "cf958c5d-4fa9-47ce-ed3b-712765e4baf1"
      },
      "execution_count": null,
      "outputs": [
        {
          "output_type": "display_data",
          "data": {
            "text/plain": [
              "  0%|          | 0/104 [00:00<?, ?it/s]"
            ],
            "application/vnd.jupyter.widget-view+json": {
              "version_major": 2,
              "version_minor": 0,
              "model_id": "ea7798c0f76c48dba69d6c12954fe079"
            }
          },
          "metadata": {}
        }
      ]
    },
    {
      "cell_type": "code",
      "source": [
        "testset_RGB.shape"
      ],
      "metadata": {
        "colab": {
          "base_uri": "https://localhost:8080/"
        },
        "id": "1XemfTZdHS1d",
        "outputId": "698a02f2-7582-4991-f941-4107d294f367"
      },
      "execution_count": null,
      "outputs": [
        {
          "output_type": "execute_result",
          "data": {
            "text/plain": [
              "(104, 224, 224, 3)"
            ]
          },
          "metadata": {},
          "execution_count": 19
        }
      ]
    },
    {
      "cell_type": "code",
      "source": [
        "features = testset_RGB.reshape(len(testset_RGB), 224, 224, 3)"
      ],
      "metadata": {
        "id": "BjEdyIdkHvCv"
      },
      "execution_count": null,
      "outputs": []
    },
    {
      "cell_type": "code",
      "source": [
        "from tensorflow.keras.applications.resnet50 import ResNet50\n",
        "from tensorflow.keras.applications.resnet50 import preprocess_input, decode_predictions\n",
        "from tensorflow.keras.applications.vgg16 import VGG16\n"
      ],
      "metadata": {
        "id": "nAvVtL0yGdb5"
      },
      "execution_count": null,
      "outputs": []
    },
    {
      "cell_type": "code",
      "source": [
        "\n",
        "vggg = Sequential()\n",
        "\n",
        "vggg.add(VGG16(weights='imagenet'))\n",
        "vggg.add(Flatten())\n",
        "vggg.add(Dense(1, activation='sigmoid'))\n",
        "\n",
        "vggg.layers[0].trainable = False"
      ],
      "metadata": {
        "colab": {
          "base_uri": "https://localhost:8080/"
        },
        "id": "G_qHDfN_lVOF",
        "outputId": "41f43fc4-30e7-4c4d-9db9-0dbbc0f876a2"
      },
      "execution_count": null,
      "outputs": [
        {
          "output_type": "stream",
          "name": "stdout",
          "text": [
            "Downloading data from https://storage.googleapis.com/tensorflow/keras-applications/vgg16/vgg16_weights_tf_dim_ordering_tf_kernels.h5\n",
            "553467096/553467096 [==============================] - 5s 0us/step\n"
          ]
        }
      ]
    },
    {
      "cell_type": "code",
      "source": [
        "vggg.summary()"
      ],
      "metadata": {
        "colab": {
          "base_uri": "https://localhost:8080/"
        },
        "id": "i2tcUVKrlfzO",
        "outputId": "769de783-8f33-4d54-cfcf-9d33d6ccfce0"
      },
      "execution_count": null,
      "outputs": [
        {
          "output_type": "stream",
          "name": "stdout",
          "text": [
            "Model: \"sequential\"\n",
            "_________________________________________________________________\n",
            " Layer (type)                Output Shape              Param #   \n",
            "=================================================================\n",
            " vgg16 (Functional)          (None, 1000)              138357544 \n",
            "                                                                 \n",
            " flatten (Flatten)           (None, 1000)              0         \n",
            "                                                                 \n",
            " dense (Dense)               (None, 1)                 1001      \n",
            "                                                                 \n",
            "=================================================================\n",
            "Total params: 138,358,545\n",
            "Trainable params: 1,001\n",
            "Non-trainable params: 138,357,544\n",
            "_________________________________________________________________\n"
          ]
        }
      ]
    },
    {
      "cell_type": "code",
      "source": [
        "vggg.compile(optimizer='adam', loss='binary_crossentropy', metrics=['accuracy'])"
      ],
      "metadata": {
        "id": "GmYu9fH7lu3Y"
      },
      "execution_count": null,
      "outputs": []
    },
    {
      "cell_type": "code",
      "source": [
        "vgg_history = vggg.fit(x=X_Clahe, y=y_gender, batch_size=32, epochs=4, validation_split=0.2)"
      ],
      "metadata": {
        "colab": {
          "base_uri": "https://localhost:8080/"
        },
        "id": "pihHGKbrlz-P",
        "outputId": "5eea639c-78e2-4625-b6b2-68a637205971"
      },
      "execution_count": null,
      "outputs": [
        {
          "output_type": "stream",
          "name": "stdout",
          "text": [
            "Epoch 1/4\n",
            "20/20 [==============================] - 420s 21s/step - loss: 0.6931 - accuracy: 0.5109 - val_loss: 0.6936 - val_accuracy: 0.4563\n",
            "Epoch 2/4\n",
            "20/20 [==============================] - 432s 22s/step - loss: 0.6929 - accuracy: 0.5109 - val_loss: 0.6936 - val_accuracy: 0.4563\n",
            "Epoch 3/4\n",
            "20/20 [==============================] - 416s 21s/step - loss: 0.6928 - accuracy: 0.5109 - val_loss: 0.6935 - val_accuracy: 0.4563\n",
            "Epoch 4/4\n",
            "20/20 [==============================] - 419s 21s/step - loss: 0.6927 - accuracy: 0.5109 - val_loss: 0.6938 - val_accuracy: 0.4563\n"
          ]
        }
      ]
    },
    {
      "cell_type": "code",
      "source": [
        "vggg.evaluate(features,  test_gender)"
      ],
      "metadata": {
        "colab": {
          "base_uri": "https://localhost:8080/"
        },
        "id": "Ckd_DO44stZG",
        "outputId": "93eac8d0-a97c-492e-9eca-7b1764822601"
      },
      "execution_count": null,
      "outputs": [
        {
          "output_type": "stream",
          "name": "stdout",
          "text": [
            "4/4 [==============================] - 65s 13s/step - loss: 0.6934 - accuracy: 0.4519\n"
          ]
        },
        {
          "output_type": "execute_result",
          "data": {
            "text/plain": [
              "[0.693389892578125, 0.45192307233810425]"
            ]
          },
          "metadata": {},
          "execution_count": 29
        }
      ]
    },
    {
      "cell_type": "code",
      "source": [
        "vggg_pred = vggg.predict(features)"
      ],
      "metadata": {
        "colab": {
          "base_uri": "https://localhost:8080/"
        },
        "id": "0QFq1m8ctKZx",
        "outputId": "51ac9189-0ab6-42f5-bfc4-be360ec8ea2f"
      },
      "execution_count": null,
      "outputs": [
        {
          "output_type": "stream",
          "name": "stdout",
          "text": [
            "4/4 [==============================] - 59s 14s/step\n"
          ]
        }
      ]
    },
    {
      "cell_type": "code",
      "source": [
        "rounded_vgg_pred = np.round(vggg_pred)"
      ],
      "metadata": {
        "id": "aEWsJBFutKdY"
      },
      "execution_count": null,
      "outputs": []
    },
    {
      "cell_type": "code",
      "source": [
        "vgg_matrix = tf.math.confusion_matrix(test_gender,rounded_vgg_pred)\n",
        "import seaborn as sn\n",
        "\n",
        "plt.figure(figsize=(5,5))\n",
        "ax= plt.subplot()\n",
        "sn.heatmap(vgg_matrix, annot=True, fmt = 'd', ax= ax ,cbar=False)\n",
        "\n",
        "# labels, title and ticks\n",
        "ax.set_xlabel('Predicted Gender');ax.set_ylabel('True Gender');\n",
        "ax.set_title('Confusion Matrix');\n",
        "ax.xaxis.set_ticklabels(['Male', 'Female']); ax.yaxis.set_ticklabels(['Male', 'Female']);"
      ],
      "metadata": {
        "colab": {
          "base_uri": "https://localhost:8080/",
          "height": 350
        },
        "id": "v0zJGSWLtKgT",
        "outputId": "9b77abd4-8a63-4063-d1ee-fe20d9bcfbf9"
      },
      "execution_count": null,
      "outputs": [
        {
          "output_type": "display_data",
          "data": {
            "text/plain": [
              "<Figure size 360x360 with 1 Axes>"
            ],
            "image/png": "[encoded data removed]"
          },
          "metadata": {
            "needs_background": "light"
          }
        }
      ]
    },
    {
      "cell_type": "code",
      "source": [
        "\n",
        "resnett = Sequential()\n",
        "\n",
        "resnett.add(ResNet50(weights='imagenet'))\n",
        "resnett.add(Flatten())\n",
        "resnett.add(Dense(1, activation='sigmoid'))\n",
        "\n",
        "resnett.layers[0].trainable = False\n"
      ],
      "metadata": {
        "id": "kJ2DesZcGded",
        "colab": {
          "base_uri": "https://localhost:8080/"
        },
        "outputId": "b1a41155-0b52-4320-8a2d-ea32cc810015"
      },
      "execution_count": null,
      "outputs": [
        {
          "output_type": "stream",
          "name": "stdout",
          "text": [
            "Downloading data from https://storage.googleapis.com/tensorflow/keras-applications/resnet/resnet50_weights_tf_dim_ordering_tf_kernels.h5\n",
            "102967424/102967424 [==============================] - 1s 0us/step\n"
          ]
        }
      ]
    },
    {
      "cell_type": "code",
      "source": [
        "resnett.summary()"
      ],
      "metadata": {
        "colab": {
          "base_uri": "https://localhost:8080/"
        },
        "id": "oT_f9ds-RvO-",
        "outputId": "0ed25015-661b-437a-dc5a-76b359391bce"
      },
      "execution_count": null,
      "outputs": [
        {
          "output_type": "stream",
          "name": "stdout",
          "text": [
            "Model: \"sequential_1\"\n",
            "_________________________________________________________________\n",
            " Layer (type)                Output Shape              Param #   \n",
            "=================================================================\n",
            " resnet50 (Functional)       (None, 1000)              25636712  \n",
            "                                                                 \n",
            " flatten_1 (Flatten)         (None, 1000)              0         \n",
            "                                                                 \n",
            " dense_1 (Dense)             (None, 1)                 1001      \n",
            "                                                                 \n",
            "=================================================================\n",
            "Total params: 25,637,713\n",
            "Trainable params: 1,001\n",
            "Non-trainable params: 25,636,712\n",
            "_________________________________________________________________\n"
          ]
        }
      ]
    },
    {
      "cell_type": "code",
      "source": [
        "resnett.compile(optimizer='adam', loss='binary_crossentropy', metrics=['accuracy'])"
      ],
      "metadata": {
        "id": "TkSTOrejHHZK"
      },
      "execution_count": null,
      "outputs": []
    },
    {
      "cell_type": "code",
      "source": [
        "resnet_history = resnett.fit(x=X_Clahe, y=y_gender, batch_size=30, epochs=4, validation_split=0.2)"
      ],
      "metadata": {
        "id": "8NpRLvDF2eeu",
        "colab": {
          "base_uri": "https://localhost:8080/"
        },
        "outputId": "cc934278-585c-4d1b-e053-922048ef90eb"
      },
      "execution_count": null,
      "outputs": [
        {
          "output_type": "stream",
          "name": "stdout",
          "text": [
            "Epoch 1/4\n",
            "22/22 [==============================] - 136s 6s/step - loss: 0.6934 - accuracy: 0.4891 - val_loss: 0.6928 - val_accuracy: 0.5437\n",
            "Epoch 2/4\n",
            "22/22 [==============================] - 127s 6s/step - loss: 0.6932 - accuracy: 0.4875 - val_loss: 0.6931 - val_accuracy: 0.5750\n",
            "Epoch 3/4\n",
            "22/22 [==============================] - 127s 6s/step - loss: 0.6932 - accuracy: 0.4891 - val_loss: 0.6932 - val_accuracy: 0.4563\n",
            "Epoch 4/4\n",
            "22/22 [==============================] - ETA: 0s - loss: 0.6931 - accuracy: 0.5109"
          ]
        }
      ]
    },
    {
      "cell_type": "code",
      "source": [
        "resnett.evaluate(testset_RGB,  test_gender)"
      ],
      "metadata": {
        "colab": {
          "base_uri": "https://localhost:8080/"
        },
        "id": "FHO-1UnRx5Vu",
        "outputId": "704b2521-4768-4ff7-c600-2b8b853e7a47"
      },
      "execution_count": null,
      "outputs": [
        {
          "output_type": "stream",
          "name": "stdout",
          "text": [
            "4/4 [==============================] - 18s 4s/step - loss: 0.6916 - accuracy: 0.6154\n"
          ]
        },
        {
          "output_type": "execute_result",
          "data": {
            "text/plain": [
              "[0.6915665864944458, 0.6153846383094788]"
            ]
          },
          "metadata": {},
          "execution_count": 34
        }
      ]
    },
    {
      "cell_type": "code",
      "source": [
        "resnett_pred = resnett.predict(testset_RGB)"
      ],
      "metadata": {
        "colab": {
          "base_uri": "https://localhost:8080/"
        },
        "id": "Vf7Uf7gTx5NJ",
        "outputId": "1f0bc879-2917-42aa-ae48-89fb754f2894"
      },
      "execution_count": null,
      "outputs": [
        {
          "output_type": "stream",
          "name": "stdout",
          "text": [
            "4/4 [==============================] - 18s 4s/step\n"
          ]
        }
      ]
    },
    {
      "cell_type": "code",
      "source": [
        "rounded_resnett_pred = np.round(resnett_pred)"
      ],
      "metadata": {
        "id": "DCBQilf8x5DR"
      },
      "execution_count": null,
      "outputs": []
    },
    {
      "cell_type": "code",
      "source": [
        "resnet_matrix = tf.math.confusion_matrix(test_gender,rounded_resnett_pred)\n",
        "import seaborn as sn\n",
        "\n",
        "plt.figure(figsize=(5,5))\n",
        "ax= plt.subplot()\n",
        "sn.heatmap(resnet_matrix, annot=True, fmt = 'd', ax= ax ,cbar=False)\n",
        "\n",
        "# labels, title and ticks\n",
        "ax.set_xlabel('Predicted Gender');ax.set_ylabel('True Gender');\n",
        "ax.set_title('Confusion Matrix');\n",
        "ax.xaxis.set_ticklabels(['Male', 'Female']); ax.yaxis.set_ticklabels(['Male', 'Female']);"
      ],
      "metadata": {
        "colab": {
          "base_uri": "https://localhost:8080/",
          "height": 350
        },
        "id": "s7ghYuVwyB7i",
        "outputId": "3ede6db8-870b-456b-aaaa-6f99188eecf3"
      },
      "execution_count": null,
      "outputs": [
        {
          "output_type": "display_data",
          "data": {
            "text/plain": [
              "<Figure size 360x360 with 1 Axes>"
            ],
            "image/png": "[encoded data removed]"
          },
          "metadata": {
            "needs_background": "light"
          }
        }
      ]
    }
  ],
  "metadata": {
    "colab": {
      "provenance": []
    },
    "kernelspec": {
      "display_name": "Python 3",
      "name": "python3"
    },
    "language_info": {
      "name": "python"
    },
    "widgets": {
      "application/vnd.jupyter.widget-state+json": {
        "3015301f679343fc97027374270c0747": {
          "model_module": "@jupyter-widgets/controls",
          "model_name": "HBoxModel",
          "model_module_version": "1.5.0",
          "state": {
            "_dom_classes": [],
            "_model_module": "@jupyter-widgets/controls",
            "_model_module_version": "1.5.0",
            "_model_name": "HBoxModel",
            "_view_count": null,
            "_view_module": "@jupyter-widgets/controls",
            "_view_module_version": "1.5.0",
            "_view_name": "HBoxView",
            "box_style": "",
            "children": [
              "IPY_MODEL_4dd702baa09141df91eb7dce1e0239aa",
              "IPY_MODEL_1663ea125476432184be4aa4e28eec30",
              "IPY_MODEL_b7c26a6fb1cc47eeb1b733ac97102a09"
            ],
            "layout": "IPY_MODEL_0486b6b61cf64496ab532f8122a6dc80"
          }
        },
        "4dd702baa09141df91eb7dce1e0239aa": {
          "model_module": "@jupyter-widgets/controls",
          "model_name": "HTMLModel",
          "model_module_version": "1.5.0",
          "state": {
            "_dom_classes": [],
            "_model_module": "@jupyter-widgets/controls",
            "_model_module_version": "1.5.0",
            "_model_name": "HTMLModel",
            "_view_count": null,
            "_view_module": "@jupyter-widgets/controls",
            "_view_module_version": "1.5.0",
            "_view_name": "HTMLView",
            "description": "",
            "description_tooltip": null,
            "layout": "IPY_MODEL_93762a255fc84545b74cd5c23502af7e",
            "placeholder": "​",
            "style": "IPY_MODEL_de411de4c8fb4b48a34cb471569f051d",
            "value": "100%"
          }
        },
        "1663ea125476432184be4aa4e28eec30": {
          "model_module": "@jupyter-widgets/controls",
          "model_name": "FloatProgressModel",
          "model_module_version": "1.5.0",
          "state": {
            "_dom_classes": [],
            "_model_module": "@jupyter-widgets/controls",
            "_model_module_version": "1.5.0",
            "_model_name": "FloatProgressModel",
            "_view_count": null,
            "_view_module": "@jupyter-widgets/controls",
            "_view_module_version": "1.5.0",
            "_view_name": "ProgressView",
            "bar_style": "success",
            "description": "",
            "description_tooltip": null,
            "layout": "IPY_MODEL_ca6d5d1e539b4d23a292df62d074ee7f",
            "max": 800,
            "min": 0,
            "orientation": "horizontal",
            "style": "IPY_MODEL_8fd026057d794e30b557eb1dd3413e5e",
            "value": 800
          }
        },
        "b7c26a6fb1cc47eeb1b733ac97102a09": {
          "model_module": "@jupyter-widgets/controls",
          "model_name": "HTMLModel",
          "model_module_version": "1.5.0",
          "state": {
            "_dom_classes": [],
            "_model_module": "@jupyter-widgets/controls",
            "_model_module_version": "1.5.0",
            "_model_name": "HTMLModel",
            "_view_count": null,
            "_view_module": "@jupyter-widgets/controls",
            "_view_module_version": "1.5.0",
            "_view_name": "HTMLView",
            "description": "",
            "description_tooltip": null,
            "layout": "IPY_MODEL_50a967289f984ccfa4fac9ef52fe4de0",
            "placeholder": "​",
            "style": "IPY_MODEL_ebe7022ce1d5434798f631cb3a3c864e",
            "value": " 800/800 [00:01&lt;00:00, 425.70it/s]"
          }
        },
        "0486b6b61cf64496ab532f8122a6dc80": {
          "model_module": "@jupyter-widgets/base",
          "model_name": "LayoutModel",
          "model_module_version": "1.2.0",
          "state": {
            "_model_module": "@jupyter-widgets/base",
            "_model_module_version": "1.2.0",
            "_model_name": "LayoutModel",
            "_view_count": null,
            "_view_module": "@jupyter-widgets/base",
            "_view_module_version": "1.2.0",
            "_view_name": "LayoutView",
            "align_content": null,
            "align_items": null,
            "align_self": null,
            "border": null,
            "bottom": null,
            "display": null,
            "flex": null,
            "flex_flow": null,
            "grid_area": null,
            "grid_auto_columns": null,
            "grid_auto_flow": null,
            "grid_auto_rows": null,
            "grid_column": null,
            "grid_gap": null,
            "grid_row": null,
            "grid_template_areas": null,
            "grid_template_columns": null,
            "grid_template_rows": null,
            "height": null,
            "justify_content": null,
            "justify_items": null,
            "left": null,
            "margin": null,
            "max_height": null,
            "max_width": null,
            "min_height": null,
            "min_width": null,
            "object_fit": null,
            "object_position": null,
            "order": null,
            "overflow": null,
            "overflow_x": null,
            "overflow_y": null,
            "padding": null,
            "right": null,
            "top": null,
            "visibility": null,
            "width": null
          }
        },
        "93762a255fc84545b74cd5c23502af7e": {
          "model_module": "@jupyter-widgets/base",
          "model_name": "LayoutModel",
          "model_module_version": "1.2.0",
          "state": {
            "_model_module": "@jupyter-widgets/base",
            "_model_module_version": "1.2.0",
            "_model_name": "LayoutModel",
            "_view_count": null,
            "_view_module": "@jupyter-widgets/base",
            "_view_module_version": "1.2.0",
            "_view_name": "LayoutView",
            "align_content": null,
            "align_items": null,
            "align_self": null,
            "border": null,
            "bottom": null,
            "display": null,
            "flex": null,
            "flex_flow": null,
            "grid_area": null,
            "grid_auto_columns": null,
            "grid_auto_flow": null,
            "grid_auto_rows": null,
            "grid_column": null,
            "grid_gap": null,
            "grid_row": null,
            "grid_template_areas": null,
            "grid_template_columns": null,
            "grid_template_rows": null,
            "height": null,
            "justify_content": null,
            "justify_items": null,
            "left": null,
            "margin": null,
            "max_height": null,
            "max_width": null,
            "min_height": null,
            "min_width": null,
            "object_fit": null,
            "object_position": null,
            "order": null,
            "overflow": null,
            "overflow_x": null,
            "overflow_y": null,
            "padding": null,
            "right": null,
            "top": null,
            "visibility": null,
            "width": null
          }
        },
        "de411de4c8fb4b48a34cb471569f051d": {
          "model_module": "@jupyter-widgets/controls",
          "model_name": "DescriptionStyleModel",
          "model_module_version": "1.5.0",
          "state": {
            "_model_module": "@jupyter-widgets/controls",
            "_model_module_version": "1.5.0",
            "_model_name": "DescriptionStyleModel",
            "_view_count": null,
            "_view_module": "@jupyter-widgets/base",
            "_view_module_version": "1.2.0",
            "_view_name": "StyleView",
            "description_width": ""
          }
        },
        "ca6d5d1e539b4d23a292df62d074ee7f": {
          "model_module": "@jupyter-widgets/base",
          "model_name": "LayoutModel",
          "model_module_version": "1.2.0",
          "state": {
            "_model_module": "@jupyter-widgets/base",
            "_model_module_version": "1.2.0",
            "_model_name": "LayoutModel",
            "_view_count": null,
            "_view_module": "@jupyter-widgets/base",
            "_view_module_version": "1.2.0",
            "_view_name": "LayoutView",
            "align_content": null,
            "align_items": null,
            "align_self": null,
            "border": null,
            "bottom": null,
            "display": null,
            "flex": null,
            "flex_flow": null,
            "grid_area": null,
            "grid_auto_columns": null,
            "grid_auto_flow": null,
            "grid_auto_rows": null,
            "grid_column": null,
            "grid_gap": null,
            "grid_row": null,
            "grid_template_areas": null,
            "grid_template_columns": null,
            "grid_template_rows": null,
            "height": null,
            "justify_content": null,
            "justify_items": null,
            "left": null,
            "margin": null,
            "max_height": null,
            "max_width": null,
            "min_height": null,
            "min_width": null,
            "object_fit": null,
            "object_position": null,
            "order": null,
            "overflow": null,
            "overflow_x": null,
            "overflow_y": null,
            "padding": null,
            "right": null,
            "top": null,
            "visibility": null,
            "width": null
          }
        },
        "8fd026057d794e30b557eb1dd3413e5e": {
          "model_module": "@jupyter-widgets/controls",
          "model_name": "ProgressStyleModel",
          "model_module_version": "1.5.0",
          "state": {
            "_model_module": "@jupyter-widgets/controls",
            "_model_module_version": "1.5.0",
            "_model_name": "ProgressStyleModel",
            "_view_count": null,
            "_view_module": "@jupyter-widgets/base",
            "_view_module_version": "1.2.0",
            "_view_name": "StyleView",
            "bar_color": null,
            "description_width": ""
          }
        },
        "50a967289f984ccfa4fac9ef52fe4de0": {
          "model_module": "@jupyter-widgets/base",
          "model_name": "LayoutModel",
          "model_module_version": "1.2.0",
          "state": {
            "_model_module": "@jupyter-widgets/base",
            "_model_module_version": "1.2.0",
            "_model_name": "LayoutModel",
            "_view_count": null,
            "_view_module": "@jupyter-widgets/base",
            "_view_module_version": "1.2.0",
            "_view_name": "LayoutView",
            "align_content": null,
            "align_items": null,
            "align_self": null,
            "border": null,
            "bottom": null,
            "display": null,
            "flex": null,
            "flex_flow": null,
            "grid_area": null,
            "grid_auto_columns": null,
            "grid_auto_flow": null,
            "grid_auto_rows": null,
            "grid_column": null,
            "grid_gap": null,
            "grid_row": null,
            "grid_template_areas": null,
            "grid_template_columns": null,
            "grid_template_rows": null,
            "height": null,
            "justify_content": null,
            "justify_items": null,
            "left": null,
            "margin": null,
            "max_height": null,
            "max_width": null,
            "min_height": null,
            "min_width": null,
            "object_fit": null,
            "object_position": null,
            "order": null,
            "overflow": null,
            "overflow_x": null,
            "overflow_y": null,
            "padding": null,
            "right": null,
            "top": null,
            "visibility": null,
            "width": null
          }
        },
        "ebe7022ce1d5434798f631cb3a3c864e": {
          "model_module": "@jupyter-widgets/controls",
          "model_name": "DescriptionStyleModel",
          "model_module_version": "1.5.0",
          "state": {
            "_model_module": "@jupyter-widgets/controls",
            "_model_module_version": "1.5.0",
            "_model_name": "DescriptionStyleModel",
            "_view_count": null,
            "_view_module": "@jupyter-widgets/base",
            "_view_module_version": "1.2.0",
            "_view_name": "StyleView",
            "description_width": ""
          }
        },
        "ea7798c0f76c48dba69d6c12954fe079": {
          "model_module": "@jupyter-widgets/controls",
          "model_name": "HBoxModel",
          "model_module_version": "1.5.0",
          "state": {
            "_dom_classes": [],
            "_model_module": "@jupyter-widgets/controls",
            "_model_module_version": "1.5.0",
            "_model_name": "HBoxModel",
            "_view_count": null,
            "_view_module": "@jupyter-widgets/controls",
            "_view_module_version": "1.5.0",
            "_view_name": "HBoxView",
            "box_style": "",
            "children": [
              "IPY_MODEL_afa88debbcbd45d1868a8cd63d8f848a",
              "IPY_MODEL_30bb36013fb64250bbf50e36c7debba7",
              "IPY_MODEL_48e1b183682b4831b0a6e0743b9f0846"
            ],
            "layout": "IPY_MODEL_a284c8df078c432eb14e9b3f6ec79d82"
          }
        },
        "afa88debbcbd45d1868a8cd63d8f848a": {
          "model_module": "@jupyter-widgets/controls",
          "model_name": "HTMLModel",
          "model_module_version": "1.5.0",
          "state": {
            "_dom_classes": [],
            "_model_module": "@jupyter-widgets/controls",
            "_model_module_version": "1.5.0",
            "_model_name": "HTMLModel",
            "_view_count": null,
            "_view_module": "@jupyter-widgets/controls",
            "_view_module_version": "1.5.0",
            "_view_name": "HTMLView",
            "description": "",
            "description_tooltip": null,
            "layout": "IPY_MODEL_8ae1e634ff894b90a7537881f9b6b287",
            "placeholder": "​",
            "style": "IPY_MODEL_95675af4dde9492d816db4f74b37eeb2",
            "value": "100%"
          }
        },
        "30bb36013fb64250bbf50e36c7debba7": {
          "model_module": "@jupyter-widgets/controls",
          "model_name": "FloatProgressModel",
          "model_module_version": "1.5.0",
          "state": {
            "_dom_classes": [],
            "_model_module": "@jupyter-widgets/controls",
            "_model_module_version": "1.5.0",
            "_model_name": "FloatProgressModel",
            "_view_count": null,
            "_view_module": "@jupyter-widgets/controls",
            "_view_module_version": "1.5.0",
            "_view_name": "ProgressView",
            "bar_style": "success",
            "description": "",
            "description_tooltip": null,
            "layout": "IPY_MODEL_62a2b525d761492c975a038a764459fb",
            "max": 104,
            "min": 0,
            "orientation": "horizontal",
            "style": "IPY_MODEL_bb7cd74354b74ca9a8a976706c64caa9",
            "value": 104
          }
        },
        "48e1b183682b4831b0a6e0743b9f0846": {
          "model_module": "@jupyter-widgets/controls",
          "model_name": "HTMLModel",
          "model_module_version": "1.5.0",
          "state": {
            "_dom_classes": [],
            "_model_module": "@jupyter-widgets/controls",
            "_model_module_version": "1.5.0",
            "_model_name": "HTMLModel",
            "_view_count": null,
            "_view_module": "@jupyter-widgets/controls",
            "_view_module_version": "1.5.0",
            "_view_name": "HTMLView",
            "description": "",
            "description_tooltip": null,
            "layout": "IPY_MODEL_eec9017810d04d548f904e7a70b64c1c",
            "placeholder": "​",
            "style": "IPY_MODEL_fdb790284c1d49d5a863f4de70b2ce40",
            "value": " 104/104 [00:00&lt;00:00, 160.14it/s]"
          }
        },
        "a284c8df078c432eb14e9b3f6ec79d82": {
          "model_module": "@jupyter-widgets/base",
          "model_name": "LayoutModel",
          "model_module_version": "1.2.0",
          "state": {
            "_model_module": "@jupyter-widgets/base",
            "_model_module_version": "1.2.0",
            "_model_name": "LayoutModel",
            "_view_count": null,
            "_view_module": "@jupyter-widgets/base",
            "_view_module_version": "1.2.0",
            "_view_name": "LayoutView",
            "align_content": null,
            "align_items": null,
            "align_self": null,
            "border": null,
            "bottom": null,
            "display": null,
            "flex": null,
            "flex_flow": null,
            "grid_area": null,
            "grid_auto_columns": null,
            "grid_auto_flow": null,
            "grid_auto_rows": null,
            "grid_column": null,
            "grid_gap": null,
            "grid_row": null,
            "grid_template_areas": null,
            "grid_template_columns": null,
            "grid_template_rows": null,
            "height": null,
            "justify_content": null,
            "justify_items": null,
            "left": null,
            "margin": null,
            "max_height": null,
            "max_width": null,
            "min_height": null,
            "min_width": null,
            "object_fit": null,
            "object_position": null,
            "order": null,
            "overflow": null,
            "overflow_x": null,
            "overflow_y": null,
            "padding": null,
            "right": null,
            "top": null,
            "visibility": null,
            "width": null
          }
        },
        "8ae1e634ff894b90a7537881f9b6b287": {
          "model_module": "@jupyter-widgets/base",
          "model_name": "LayoutModel",
          "model_module_version": "1.2.0",
          "state": {
            "_model_module": "@jupyter-widgets/base",
            "_model_module_version": "1.2.0",
            "_model_name": "LayoutModel",
            "_view_count": null,
            "_view_module": "@jupyter-widgets/base",
            "_view_module_version": "1.2.0",
            "_view_name": "LayoutView",
            "align_content": null,
            "align_items": null,
            "align_self": null,
            "border": null,
            "bottom": null,
            "display": null,
            "flex": null,
            "flex_flow": null,
            "grid_area": null,
            "grid_auto_columns": null,
            "grid_auto_flow": null,
            "grid_auto_rows": null,
            "grid_column": null,
            "grid_gap": null,
            "grid_row": null,
            "grid_template_areas": null,
            "grid_template_columns": null,
            "grid_template_rows": null,
            "height": null,
            "justify_content": null,
            "justify_items": null,
            "left": null,
            "margin": null,
            "max_height": null,
            "max_width": null,
            "min_height": null,
            "min_width": null,
            "object_fit": null,
            "object_position": null,
            "order": null,
            "overflow": null,
            "overflow_x": null,
            "overflow_y": null,
            "padding": null,
            "right": null,
            "top": null,
            "visibility": null,
            "width": null
          }
        },
        "95675af4dde9492d816db4f74b37eeb2": {
          "model_module": "@jupyter-widgets/controls",
          "model_name": "DescriptionStyleModel",
          "model_module_version": "1.5.0",
          "state": {
            "_model_module": "@jupyter-widgets/controls",
            "_model_module_version": "1.5.0",
            "_model_name": "DescriptionStyleModel",
            "_view_count": null,
            "_view_module": "@jupyter-widgets/base",
            "_view_module_version": "1.2.0",
            "_view_name": "StyleView",
            "description_width": ""
          }
        },
        "62a2b525d761492c975a038a764459fb": {
          "model_module": "@jupyter-widgets/base",
          "model_name": "LayoutModel",
          "model_module_version": "1.2.0",
          "state": {
            "_model_module": "@jupyter-widgets/base",
            "_model_module_version": "1.2.0",
            "_model_name": "LayoutModel",
            "_view_count": null,
            "_view_module": "@jupyter-widgets/base",
            "_view_module_version": "1.2.0",
            "_view_name": "LayoutView",
            "align_content": null,
            "align_items": null,
            "align_self": null,
            "border": null,
            "bottom": null,
            "display": null,
            "flex": null,
            "flex_flow": null,
            "grid_area": null,
            "grid_auto_columns": null,
            "grid_auto_flow": null,
            "grid_auto_rows": null,
            "grid_column": null,
            "grid_gap": null,
            "grid_row": null,
            "grid_template_areas": null,
            "grid_template_columns": null,
            "grid_template_rows": null,
            "height": null,
            "justify_content": null,
            "justify_items": null,
            "left": null,
            "margin": null,
            "max_height": null,
            "max_width": null,
            "min_height": null,
            "min_width": null,
            "object_fit": null,
            "object_position": null,
            "order": null,
            "overflow": null,
            "overflow_x": null,
            "overflow_y": null,
            "padding": null,
            "right": null,
            "top": null,
            "visibility": null,
            "width": null
          }
        },
        "bb7cd74354b74ca9a8a976706c64caa9": {
          "model_module": "@jupyter-widgets/controls",
          "model_name": "ProgressStyleModel",
          "model_module_version": "1.5.0",
          "state": {
            "_model_module": "@jupyter-widgets/controls",
            "_model_module_version": "1.5.0",
            "_model_name": "ProgressStyleModel",
            "_view_count": null,
            "_view_module": "@jupyter-widgets/base",
            "_view_module_version": "1.2.0",
            "_view_name": "StyleView",
            "bar_color": null,
            "description_width": ""
          }
        },
        "eec9017810d04d548f904e7a70b64c1c": {
          "model_module": "@jupyter-widgets/base",
          "model_name": "LayoutModel",
          "model_module_version": "1.2.0",
          "state": {
            "_model_module": "@jupyter-widgets/base",
            "_model_module_version": "1.2.0",
            "_model_name": "LayoutModel",
            "_view_count": null,
            "_view_module": "@jupyter-widgets/base",
            "_view_module_version": "1.2.0",
            "_view_name": "LayoutView",
            "align_content": null,
            "align_items": null,
            "align_self": null,
            "border": null,
            "bottom": null,
            "display": null,
            "flex": null,
            "flex_flow": null,
            "grid_area": null,
            "grid_auto_columns": null,
            "grid_auto_flow": null,
            "grid_auto_rows": null,
            "grid_column": null,
            "grid_gap": null,
            "grid_row": null,
            "grid_template_areas": null,
            "grid_template_columns": null,
            "grid_template_rows": null,
            "height": null,
            "justify_content": null,
            "justify_items": null,
            "left": null,
            "margin": null,
            "max_height": null,
            "max_width": null,
            "min_height": null,
            "min_width": null,
            "object_fit": null,
            "object_position": null,
            "order": null,
            "overflow": null,
            "overflow_x": null,
            "overflow_y": null,
            "padding": null,
            "right": null,
            "top": null,
            "visibility": null,
            "width": null
          }
        },
        "fdb790284c1d49d5a863f4de70b2ce40": {
          "model_module": "@jupyter-widgets/controls",
          "model_name": "DescriptionStyleModel",
          "model_module_version": "1.5.0",
          "state": {
            "_model_module": "@jupyter-widgets/controls",
            "_model_module_version": "1.5.0",
            "_model_name": "DescriptionStyleModel",
            "_view_count": null,
            "_view_module": "@jupyter-widgets/base",
            "_view_module_version": "1.2.0",
            "_view_name": "StyleView",
            "description_width": ""
          }
        }
      }
    }
  },
  "nbformat": 4,
  "nbformat_minor": 0
}