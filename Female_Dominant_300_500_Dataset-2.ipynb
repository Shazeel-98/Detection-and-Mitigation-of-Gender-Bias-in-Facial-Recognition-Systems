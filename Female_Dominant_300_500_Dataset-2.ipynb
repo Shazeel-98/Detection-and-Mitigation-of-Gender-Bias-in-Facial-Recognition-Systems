{
  "cells": [
    {
      "cell_type": "code",
      "execution_count": null,
      "metadata": {
        "id": "jvwpsl2Oxyqb"
      },
      "outputs": [],
      "source": [
        "from google.colab.patches import cv2_imshow\n",
        "from skimage import io\n",
        "import os\n",
        "\n",
        "\n",
        "import pandas as pd\n",
        "import numpy as np\n",
        "import os\n",
        "import tensorflow as tf\n",
        "import cv2\n",
        "\n",
        "from  matplotlib import pyplot as plt\n",
        "import matplotlib.image as mpimg\n",
        "from matplotlib.image import imread\n",
        "import random\n",
        "import seaborn as sns\n",
        "from tqdm.notebook import tqdm\n",
        "from PIL import Image\n",
        "\n",
        "from sklearn.metrics import confusion_matrix\n",
        "from sklearn.metrics import ConfusionMatrixDisplay\n",
        "import tensorflow as tf\n",
        "from keras_preprocessing.image import load_img\n",
        "from keras.models import Sequential, Model\n",
        "from keras.layers import Dense, Conv2D, Dropout, Flatten, MaxPooling2D, BatchNormalization, Input"
      ]
    },
    {
      "cell_type": "code",
      "execution_count": null,
      "metadata": {
        "colab": {
          "base_uri": "https://localhost:8080/"
        },
        "id": "8zVR1anqvmMM",
        "outputId": "1cd98105-2176-4e37-9225-f3f1b2a710a3"
      },
      "outputs": [
        {
          "output_type": "stream",
          "name": "stdout",
          "text": [
            "Done\n"
          ]
        }
      ],
      "source": [
        "from zipfile import ZipFile\n",
        "filename = \"Female Dominant 300 500.zip\"\n",
        "\n",
        "with ZipFile(filename, 'r') as zip:\n",
        "  zip.extractall()\n",
        "  print(\"Done\")"
      ]
    },
    {
      "cell_type": "code",
      "execution_count": null,
      "metadata": {
        "id": "8UCj6bHmY34k"
      },
      "outputs": [],
      "source": [
        "!pip install -q keras"
      ]
    },
    {
      "cell_type": "code",
      "execution_count": null,
      "metadata": {
        "id": "FOmZN3h2Al0c"
      },
      "outputs": [],
      "source": [
        "!pip install tensorflow"
      ]
    },
    {
      "cell_type": "code",
      "execution_count": null,
      "metadata": {
        "id": "D8T_qxTYv6kY"
      },
      "outputs": [],
      "source": []
    },
    {
      "cell_type": "code",
      "execution_count": null,
      "metadata": {
        "colab": {
          "base_uri": "https://localhost:8080/"
        },
        "id": "jqk-_igDv6nJ",
        "outputId": "a7f16ab4-214a-40ac-f4ed-fd2a39952266"
      },
      "outputs": [
        {
          "output_type": "execute_result",
          "data": {
            "text/plain": [
              "800"
            ]
          },
          "metadata": {},
          "execution_count": 27
        }
      ],
      "source": [
        "len(os.listdir('Female Dominant 300 500'))"
      ]
    },
    {
      "cell_type": "code",
      "execution_count": null,
      "metadata": {
        "colab": {
          "base_uri": "https://localhost:8080/"
        },
        "id": "5BBGE-sZv6px",
        "outputId": "07ecf38a-5cb3-42a3-8f05-dc8007987d7c"
      },
      "outputs": [
        {
          "output_type": "stream",
          "name": "stdout",
          "text": [
            "Number of images: 800\n",
            "24_1_3_20170104234737428.jpg.chip.jpg\n"
          ]
        }
      ],
      "source": [
        "f_list = os.listdir('Female Dominant 300 500')\n",
        "\n",
        "\n",
        "f_num = len(f_list)\n",
        "print('Number of images:', f_num)\n",
        "print(f_list[0])"
      ]
    },
    {
      "cell_type": "code",
      "source": [
        "df = pd.DataFrame(f_list, columns = ['train_name'])\n",
        "\n",
        "df['train_gender'] = df.apply(lambda x : x['train_name'].split('_')[1], axis = 1).astype('int')\n",
        "\n",
        "df['train_demographical_area'] = df.apply(lambda x : x['train_name'].split('_')[2], axis = 1).astype('int')\n",
        "df.head()"
      ],
      "metadata": {
        "colab": {
          "base_uri": "https://localhost:8080/",
          "height": 204
        },
        "id": "NozN6MNN8Lsl",
        "outputId": "d1e50704-12f2-4189-f1b0-672f4fb5a0bf"
      },
      "execution_count": null,
      "outputs": [
        {
          "output_type": "execute_result",
          "data": {
            "text/plain": [
              "                              train_name  train_gender  \\\n",
              "0  24_1_3_20170104234737428.jpg.chip.jpg             1   \n",
              "1  30_1_0_20170109012829305.jpg.chip.jpg             1   \n",
              "2  28_0_2_20170116162829960.jpg.chip.jpg             0   \n",
              "3  29_0_3_20170119153035762.jpg.chip.jpg             0   \n",
              "4  30_0_2_20170103235423316.jpg.chip.jpg             0   \n",
              "\n",
              "   train_demographical_area  \n",
              "0                         3  \n",
              "1                         0  \n",
              "2                         2  \n",
              "3                         3  \n",
              "4                         2  "
            ],
            "text/html": [
              "\n",
              "  <div id=\"df-299953c2-f2d0-4604-83b9-f22134ef82ce\">\n",
              "    <div class=\"colab-df-container\">\n",
              "      <div>\n",
              "<style scoped>\n",
              "    .dataframe tbody tr th:only-of-type {\n",
              "        vertical-align: middle;\n",
              "    }\n",
              "\n",
              "    .dataframe tbody tr th {\n",
              "        vertical-align: top;\n",
              "    }\n",
              "\n",
              "    .dataframe thead th {\n",
              "        text-align: right;\n",
              "    }\n",
              "</style>\n",
              "<table border=\"1\" class=\"dataframe\">\n",
              "  <thead>\n",
              "    <tr style=\"text-align: right;\">\n",
              "      <th></th>\n",
              "      <th>train_name</th>\n",
              "      <th>train_gender</th>\n",
              "      <th>train_demographical_area</th>\n",
              "    </tr>\n",
              "  </thead>\n",
              "  <tbody>\n",
              "    <tr>\n",
              "      <th>0</th>\n",
              "      <td>24_1_3_20170104234737428.jpg.chip.jpg</td>\n",
              "      <td>1</td>\n",
              "      <td>3</td>\n",
              "    </tr>\n",
              "    <tr>\n",
              "      <th>1</th>\n",
              "      <td>30_1_0_20170109012829305.jpg.chip.jpg</td>\n",
              "      <td>1</td>\n",
              "      <td>0</td>\n",
              "    </tr>\n",
              "    <tr>\n",
              "      <th>2</th>\n",
              "      <td>28_0_2_20170116162829960.jpg.chip.jpg</td>\n",
              "      <td>0</td>\n",
              "      <td>2</td>\n",
              "    </tr>\n",
              "    <tr>\n",
              "      <th>3</th>\n",
              "      <td>29_0_3_20170119153035762.jpg.chip.jpg</td>\n",
              "      <td>0</td>\n",
              "      <td>3</td>\n",
              "    </tr>\n",
              "    <tr>\n",
              "      <th>4</th>\n",
              "      <td>30_0_2_20170103235423316.jpg.chip.jpg</td>\n",
              "      <td>0</td>\n",
              "      <td>2</td>\n",
              "    </tr>\n",
              "  </tbody>\n",
              "</table>\n",
              "</div>\n",
              "      <button class=\"colab-df-convert\" onclick=\"convertToInteractive('df-299953c2-f2d0-4604-83b9-f22134ef82ce')\"\n",
              "              title=\"Convert this dataframe to an interactive table.\"\n",
              "              style=\"display:none;\">\n",
              "        \n",
              "  <svg xmlns=\"http://www.w3.org/2000/svg\" height=\"24px\"viewBox=\"0 0 24 24\"\n",
              "       width=\"24px\">\n",
              "    <path d=\"M0 0h24v24H0V0z\" fill=\"none\"/>\n",
              "    <path d=\"M18.56 5.44l.94 2.06.94-2.06 2.06-.94-2.06-.94-.94-2.06-.94 2.06-2.06.94zm-11 1L8.5 8.5l.94-2.06 2.06-.94-2.06-.94L8.5 2.5l-.94 2.06-2.06.94zm10 10l.94 2.06.94-2.06 2.06-.94-2.06-.94-.94-2.06-.94 2.06-2.06.94z\"/><path d=\"M17.41 7.96l-1.37-1.37c-.4-.4-.92-.59-1.43-.59-.52 0-1.04.2-1.43.59L10.3 9.45l-7.72 7.72c-.78.78-.78 2.05 0 2.83L4 21.41c.39.39.9.59 1.41.59.51 0 1.02-.2 1.41-.59l7.78-7.78 2.81-2.81c.8-.78.8-2.07 0-2.86zM5.41 20L4 18.59l7.72-7.72 1.47 1.35L5.41 20z\"/>\n",
              "  </svg>\n",
              "      </button>\n",
              "      \n",
              "  <style>\n",
              "    .colab-df-container {\n",
              "      display:flex;\n",
              "      flex-wrap:wrap;\n",
              "      gap: 12px;\n",
              "    }\n",
              "\n",
              "    .colab-df-convert {\n",
              "      background-color: #E8F0FE;\n",
              "      border: none;\n",
              "      border-radius: 50%;\n",
              "      cursor: pointer;\n",
              "      display: none;\n",
              "      fill: #1967D2;\n",
              "      height: 32px;\n",
              "      padding: 0 0 0 0;\n",
              "      width: 32px;\n",
              "    }\n",
              "\n",
              "    .colab-df-convert:hover {\n",
              "      background-color: #E2EBFA;\n",
              "      box-shadow: 0px 1px 2px rgba(60, 64, 67, 0.3), 0px 1px 3px 1px rgba(60, 64, 67, 0.15);\n",
              "      fill: #174EA6;\n",
              "    }\n",
              "\n",
              "    [theme=dark] .colab-df-convert {\n",
              "      background-color: #3B4455;\n",
              "      fill: #D2E3FC;\n",
              "    }\n",
              "\n",
              "    [theme=dark] .colab-df-convert:hover {\n",
              "      background-color: #434B5C;\n",
              "      box-shadow: 0px 1px 3px 1px rgba(0, 0, 0, 0.15);\n",
              "      filter: drop-shadow(0px 1px 2px rgba(0, 0, 0, 0.3));\n",
              "      fill: #FFFFFF;\n",
              "    }\n",
              "  </style>\n",
              "\n",
              "      <script>\n",
              "        const buttonEl =\n",
              "          document.querySelector('#df-299953c2-f2d0-4604-83b9-f22134ef82ce button.colab-df-convert');\n",
              "        buttonEl.style.display =\n",
              "          google.colab.kernel.accessAllowed ? 'block' : 'none';\n",
              "\n",
              "        async function convertToInteractive(key) {\n",
              "          const element = document.querySelector('#df-299953c2-f2d0-4604-83b9-f22134ef82ce');\n",
              "          const dataTable =\n",
              "            await google.colab.kernel.invokeFunction('convertToInteractive',\n",
              "                                                     [key], {});\n",
              "          if (!dataTable) return;\n",
              "\n",
              "          const docLinkHtml = 'Like what you see? Visit the ' +\n",
              "            '<a target=\"_blank\" href=https://colab.research.google.com/notebooks/data_table.ipynb>data table notebook</a>'\n",
              "            + ' to learn more about interactive tables.';\n",
              "          element.innerHTML = '';\n",
              "          dataTable['output_type'] = 'display_data';\n",
              "          await google.colab.output.renderOutput(dataTable, element);\n",
              "          const docLink = document.createElement('div');\n",
              "          docLink.innerHTML = docLinkHtml;\n",
              "          element.appendChild(docLink);\n",
              "        }\n",
              "      </script>\n",
              "    </div>\n",
              "  </div>\n",
              "  "
            ]
          },
          "metadata": {},
          "execution_count": 5
        }
      ]
    },
    {
      "cell_type": "code",
      "execution_count": null,
      "metadata": {
        "colab": {
          "base_uri": "https://localhost:8080/",
          "height": 281
        },
        "id": "CWos9AyTzvjb",
        "outputId": "b8ce2cba-9091-4165-a1b2-2cb93c754b55"
      },
      "outputs": [
        {
          "output_type": "execute_result",
          "data": {
            "text/plain": [
              "Text(0.5, 1.0, 'Demographic Region Distribution in Dataset')"
            ]
          },
          "metadata": {},
          "execution_count": 6
        },
        {
          "output_type": "display_data",
          "data": {
            "text/plain": [
              "<Figure size 432x288 with 1 Axes>"
            ],
            "image/png": "[encoded data removed]"
          },
          "metadata": {}
        }
      ],
      "source": [
        "df['train_demographical_area'].value_counts().plot.pie(autopct=\"%1.1f%%\", labels = ['White' , 'Black' , 'Asian' , 'Indian'])\n",
        "plt.legend()\n",
        "plt.title(\"Demographic Region Distribution in Dataset\")"
      ]
    },
    {
      "cell_type": "code",
      "execution_count": null,
      "metadata": {
        "colab": {
          "base_uri": "https://localhost:8080/",
          "height": 281
        },
        "id": "PmKAHR8KzsQk",
        "outputId": "dd3947e1-d038-4ee4-fa36-dd1954a415d2"
      },
      "outputs": [
        {
          "output_type": "execute_result",
          "data": {
            "text/plain": [
              "Text(0.5, 1.0, 'Gender Distribution in Dataset')"
            ]
          },
          "metadata": {},
          "execution_count": 7
        },
        {
          "output_type": "display_data",
          "data": {
            "text/plain": [
              "<Figure size 432x288 with 1 Axes>"
            ],
            "image/png": "[encoded data removed]"
          },
          "metadata": {}
        }
      ],
      "source": [
        "df['train_gender'].value_counts().plot.pie(autopct=\"%1.1f%%\", labels = ['Male' , 'Female'])\n",
        "plt.legend()\n",
        "plt.title('Gender Distribution in Dataset')"
      ]
    },
    {
      "cell_type": "code",
      "execution_count": null,
      "metadata": {
        "colab": {
          "base_uri": "https://localhost:8080/"
        },
        "id": "QroT_NBpTWf0",
        "outputId": "0bb30585-7ee6-4594-bd28-7b3843c3156f"
      },
      "outputs": [
        {
          "output_type": "stream",
          "name": "stdout",
          "text": [
            "Done\n"
          ]
        }
      ],
      "source": [
        "from zipfile import ZipFile\n",
        "filename = \"all.zip\"\n",
        "\n",
        "with ZipFile(filename, 'r') as zip:\n",
        "  zip.extractall()\n",
        "  print(\"Done\")"
      ]
    },
    {
      "cell_type": "code",
      "execution_count": null,
      "metadata": {
        "colab": {
          "base_uri": "https://localhost:8080/"
        },
        "id": "YXLZAl-CXyWD",
        "outputId": "e3b58b1f-d861-4c82-9142-4d76f7801529"
      },
      "outputs": [
        {
          "output_type": "stream",
          "name": "stdout",
          "text": [
            "Number of images: 104\n",
            "['24_1_3_20170104234737428.jpg.chip.jpg', '30_1_0_20170109012829305.jpg.chip.jpg', '28_0_2_20170116162829960.jpg.chip.jpg', '29_0_3_20170119153035762.jpg.chip.jpg', '30_0_2_20170103235423316.jpg.chip.jpg', '29_1_2_20170116163921292.jpg.chip.jpg', '28_1_1_20170112230737559.jpg.chip.jpg', '29_0_1_20170104220317630.jpg.chip.jpg', '27_0_1_20170113175536164.jpg.chip.jpg', '26_0_1_20170113134328745.jpg.chip.jpg', '25_1_3_20170104222350215.jpg.chip.jpg', '28_0_2_20170116162117606.jpg.chip.jpg', '22_1_3_20170104222547654.jpg.chip.jpg', '29_1_1_20170112205844564.jpg.chip.jpg', '23_0_2_20170116172858865.jpg.chip.jpg', '37_1_3_20170109141945326.jpg.chip.jpg', '25_0_1_20170113145615148.jpg.chip.jpg', '25_1_2_20170104020339110.jpg.chip.jpg', '27_0_2_20170116174628743.jpg.chip.jpg', '23_0_0_20170117144550331.jpg.chip.jpg', '24_0_1_20170113132543250.jpg.chip.jpg', '25_0_2_20170104192902767.jpg.chip.jpg', '25_1_0_20170104022204452.jpg.chip.jpg', '26_1_1_20170112233658982.jpg.chip.jpg', '29_1_0_20170109002758865.jpg.chip.jpg', '28_1_1_20170112233537928.jpg.chip.jpg', '22_1_1_20170112214852574.jpg.chip.jpg', '26_1_1_20170112235910121.jpg.chip.jpg', '25_0_1_20170113150958863.jpg.chip.jpg', '24_1_0_20170104022714148.jpg.chip.jpg', '23_1_0_20170105183727831.jpg.chip.jpg', '24_1_3_20170104232545657.jpg.chip.jpg', '34_1_3_20170109141950796.jpg.chip.jpg', '23_1_0_20170112234027666.jpg.chip.jpg', '25_1_3_20170104222218775.jpg.chip.jpg', '35_1_3_20170109135835957.jpg.chip.jpg', '32_1_2_20170109135928794.jpg.chip.jpg', '34_1_0_20170104022106301.jpg.chip.jpg', '24_0_1_20170113133945657.jpg.chip.jpg', '25_0_3_20170104230516489.jpg.chip.jpg', '23_1_2_20170116164541818.jpg.chip.jpg', '29_0_3_20170119170547814.jpg.chip.jpg', '26_1_2_20170116163413372.jpg.chip.jpg', '30_1_3_20170117181327196.jpg.chip.jpg', '26_0_3_20170117153628556.jpg.chip.jpg', '23_1_0_20170105002627948.jpg.chip.jpg', '28_0_3_20170104230628769.jpg.chip.jpg', '34_1_1_20170112231510054.jpg.chip.jpg', '28_1_2_20170109141410232.jpg.chip.jpg', '28_1_2_20170116161312148.jpg.chip.jpg', '25_1_0_20170104023032454.jpg.chip.jpg', '30_0_3_20170119164115989.jpg.chip.jpg', '29_0_2_20170116214521042.jpg.chip.jpg', '29_0_3_20170117180819737.jpg.chip.jpg', '30_0_2_20170112205508972.jpg.chip.jpg', '24_1_2_20170105184025097.jpg.chip.jpg', '27_0_0_20170117175924156.jpg.chip.jpg', '26_0_0_20170104172735675.jpg.chip.jpg', '22_1_1_20170112192911566.jpg.chip.jpg', '28_0_0_20170105164905292.jpg.chip.jpg', '26_1_0_20170105183935352.jpg.chip.jpg', '24_0_3_20170104230213449.jpg.chip.jpg', '34_1_0_20170104174537956.jpg.chip.jpg', '28_0_0_20170105161713835.jpg.chip.jpg', '32_1_2_20170116164625227.jpg.chip.jpg', '30_0_3_20170119195646516.jpg.chip.jpg', '29_1_2_20170116163011756.jpg.chip.jpg', '27_1_2_20170116163739668.jpg.chip.jpg', '27_0_1_20170113155149675.jpg.chip.jpg', '24_1_1_20170112230733998.jpg.chip.jpg', '23_1_1_20170112203943260.jpg.chip.jpg', '24_0_3_20170115230942077.jpg.chip.jpg', '28_1_2_20170105162418251.jpg.chip.jpg', '37_1_3_20170119152842760.jpg.chip.jpg', '29_1_2_20170116163132225.jpg.chip.jpg', '23_1_3_20170119164419982.jpg.chip.jpg', '29_1_2_20170116164242023.jpg.chip.jpg', '35_1_2_20170105162414267.jpg.chip.jpg', '28_1_0_20170116220243853.jpg.chip.jpg', '25_1_0_20170104021242700.jpg.chip.jpg', '28_0_1_20170113142237196.jpg.chip.jpg', '27_1_0_20170109013152498.jpg.chip.jpg', '37_1_1_20170113001818716.jpg.chip.jpg', '26_0_2_20170116180203819.jpg.chip.jpg', '22_1_0_20170103180211110.jpg.chip.jpg', '27_0_1_20170113135657435.jpg.chip.jpg', '29_0_3_20170119164635285.jpg.chip.jpg', '24_1_0_20170105000615467.jpg.chip.jpg', '29_1_1_20170105183913087.jpg.chip.jpg', '35_1_2_20170116164706883.jpg.chip.jpg', '35_1_0_20170116201544674.jpg.chip.jpg', '29_1_0_20170105163239939.jpg.chip.jpg', '24_0_2_20170104021847349.jpg.chip.jpg', '26_1_2_20170116164549452.jpg.chip.jpg', '24_0_2_20161219192221394.jpg.chip.jpg', '32_1_1_20170112213013302.jpg.chip.jpg', '28_0_2_20170116162328748.jpg.chip.jpg', '25_1_1_20170112205034330.jpg.chip.jpg', '25_1_2_20170104021040316.jpg.chip.jpg', '25_0_3_20170104230227202.jpg.chip.jpg', '35_1_3_20170104235558235.jpg.chip.jpg', '26_1_1_20170112235515129.jpg.chip.jpg', '29_0_1_20170104202114602.jpg.chip.jpg', '25_0_0_20170104011143168.jpg.chip.jpg', '28_0_2_20170116162019874.jpg.chip.jpg', '28_1_3_20170119194448739.jpg.chip.jpg', '23_1_3_20170117185811408.jpg.chip.jpg', '27_0_3_20170119193304964.jpg.chip.jpg', '37_1_1_20170115235037275.jpg.chip.jpg', '30_0_2_20170107212049636.jpg.chip.jpg', '29_0_0_20170104230319649.jpg.chip.jpg', '24_1_2_20170105162251371.jpg.chip.jpg', '24_0_1_20170113134042697.jpg.chip.jpg', '29_1_3_20170104232346298.jpg.chip.jpg', '35_1_1_20170112210358868.jpg.chip.jpg', '37_1_0_20170103181740689.jpg.chip.jpg', '25_1_3_20170104222509455.jpg.chip.jpg', '29_0_3_20170119165856407.jpg.chip.jpg', '22_1_1_20170112230505525.jpg.chip.jpg', '37_1_3_20170119163035788.jpg.chip.jpg', '24_1_1_20170112231700838.jpg.chip.jpg', '27_1_1_20170112234451680.jpg.chip.jpg', '25_0_1_20170113151453752.jpg.chip.jpg', '32_1_3_20170109132040475.jpg.chip.jpg', '23_1_2_20170104020053452.jpg.chip.jpg', '25_0_1_20170113151354352.jpg.chip.jpg', '29_1_0_20170105172818813.jpg.chip.jpg', '27_0_2_20170116172514816.jpg.chip.jpg', '26_1_0_20170104235143076.jpg.chip.jpg', '30_0_1_20170116191707734.jpg.chip.jpg', '30_0_0_20170117130639687.jpg.chip.jpg', '35_1_0_20170116201625242.jpg.chip.jpg', '26_1_1_20170112235057871.jpg.chip.jpg', '30_1_3_20170117145238579.jpg.chip.jpg', '32_1_0_20170103182605514.jpg.chip.jpg', '28_0_0_20170103181320400.jpg.chip.jpg', '34_1_1_20170108230211421.jpg.chip.jpg', '26_0_0_20170103235702988.jpg.chip.jpg', '30_0_3_20170119155845146.jpg.chip.jpg', '29_0_2_20170116173703903.jpg.chip.jpg', '34_1_1_20170104165020320.jpg.chip.jpg', '27_1_3_20170119155634673.jpg.chip.jpg', '30_0_2_20170113132649300.jpg.chip.jpg', '26_0_1_20170113134653322.jpg.chip.jpg', '29_1_0_20170111182452813.jpg.chip.jpg', '24_1_2_20170104021559044.jpg.chip.jpg', '26_1_3_20170104232518026.jpg.chip.jpg', '29_1_2_20170116164937910.jpg.chip.jpg', '34_1_2_20170104201443273.jpg.chip.jpg', '32_1_0_20170103181503793.jpg.chip.jpg', '27_0_0_20170117192029218.jpg.chip.jpg', '23_1_1_20170103212737732.jpg.chip.jpg', '24_1_0_20170105003235308.jpg.chip.jpg', '27_1_2_20170116163658895.jpg.chip.jpg', '22_1_0_20170103235726923.jpg.chip.jpg', '29_0_2_20170116205917784.jpg.chip.jpg', '29_0_0_20170104201134466.jpg.chip.jpg', '34_1_0_20170103230321513.jpg.chip.jpg', '25_0_0_20170113174036233.jpg.chip.jpg', '29_1_0_20170109132341425.jpg.chip.jpg', '30_1_3_20170117181352869.jpg.chip.jpg', '29_1_3_20170104214540068.jpg.chip.jpg', '28_0_1_20170113142348356.jpg.chip.jpg', '37_1_2_20170105172724340.jpg.chip.jpg', '27_0_0_20170117202049702.jpg.chip.jpg', '26_0_1_20170113134356512.jpg.chip.jpg', '30_0_3_20170119195729476.jpg.chip.jpg', '28_1_2_20170105162338411.jpg.chip.jpg', '30_1_0_20170109141417666.jpg.chip.jpg', '23_1_0_20170112234126720.jpg.chip.jpg', '35_1_0_20170116203950507.jpg.chip.jpg', '24_0_3_20170104230211113.jpg.chip.jpg', '24_1_3_20170104232256105.jpg.chip.jpg', '24_1_2_20170109213251114.jpg.chip.jpg', '27_1_1_20170113000852746.jpg.chip.jpg', '29_0_1_20170113134101015.jpg.chip.jpg', '35_1_0_20170114033327130.jpg.chip.jpg', '29_0_3_20170117180751226.jpg.chip.jpg', '25_1_1_20170112205059883.jpg.chip.jpg', '23_1_3_20170119164040174.jpg.chip.jpg', '25_0_2_20170104021424381.jpg.chip.jpg', '26_0_3_20170117153930604.jpg.chip.jpg', '26_1_0_20170105183649031.jpg.chip.jpg', '23_1_1_20170112192422750.jpg.chip.jpg', '30_0_3_20170119195653219.jpg.chip.jpg', '24_1_0_20170105162704533.jpg.chip.jpg', '35_1_2_20170116164727094.jpg.chip.jpg', '26_1_1_20170112234340711.jpg.chip.jpg', '28_1_2_20170105000553851.jpg.chip.jpg', '37_1_1_20170112220140249.jpg.chip.jpg', '27_1_1_20170113001034770.jpg.chip.jpg', '23_0_3_20170119164331517.jpg.chip.jpg', '35_1_2_20170109010122762.jpg.chip.jpg', '34_1_3_20170119152703935.jpg.chip.jpg', '23_1_2_20170116172757270.jpg.chip.jpg', '30_1_1_20170113195544997.jpg.chip.jpg', '35_1_1_20170112204654001.jpg.chip.jpg', '26_0_2_20170116180402719.jpg.chip.jpg', '28_0_1_20170113142412428.jpg.chip.jpg', '30_1_0_20170116191956794.jpg.chip.jpg', '30_0_0_20170117130638578.jpg.chip.jpg', '27_0_2_20170116172745659.jpg.chip.jpg', '37_1_2_20170105172732733.jpg.chip.jpg', '28_0_3_20170113153014880.jpg.chip.jpg', '29_0_2_20170116190156845.jpg.chip.jpg', '35_1_3_20170109140914004.jpg.chip.jpg', '22_1_2_20170104231245440.jpg.chip.jpg', '28_0_3_20170104232432992.jpg.chip.jpg', '27_1_2_20170116163736839.jpg.chip.jpg', '27_1_3_20170119193219282.jpg.chip.jpg', '32_1_0_20170103180822745.jpg.chip.jpg', '26_0_3_20170117154452224.jpg.chip.jpg', '30_0_0_20170117131018041.jpg.chip.jpg', '32_1_2_20170116162312021.jpg.chip.jpg', '32_1_2_20170109141342355.jpg.chip.jpg', '35_1_2_20170116164633129.jpg.chip.jpg', '34_1_1_20170113000209880.jpg.chip.jpg', '28_0_1_20170113145447677.jpg.chip.jpg', '26_0_3_20170117153919644.jpg.chip.jpg', '27_0_3_20170119194317923.jpg.chip.jpg', '28_1_0_20170116202056699.jpg.chip.jpg', '34_1_2_20170104023010725.jpg.chip.jpg', '25_1_3_20170104214624646.jpg.chip.jpg', '32_1_3_20170109134532682.jpg.chip.jpg', '26_0_1_20170113134355472.jpg.chip.jpg', '25_1_2_20170104015850244.jpg.chip.jpg', '27_1_1_20170112234549479.jpg.chip.jpg', '29_1_3_20170104222730103.jpg.chip.jpg', '22_1_0_20170105002545990.jpg.chip.jpg', '25_0_0_20170113181532013.jpg.chip.jpg', '22_1_3_20170104222126558.jpg.chip.jpg', '32_1_2_20170109141403511.jpg.chip.jpg', '24_0_3_20170104230147273.jpg.chip.jpg', '26_0_1_20170113134354008.jpg.chip.jpg', '27_0_0_20170117192017055.jpg.chip.jpg', '27_0_2_20170116172528863.jpg.chip.jpg', '25_0_3_20170104214432805.jpg.chip.jpg', '26_0_3_20170117154224766.jpg.chip.jpg', '27_1_0_20170105000743720.jpg.chip.jpg', '26_0_2_20170116180332055.jpg.chip.jpg', '29_1_2_20170116163350492.jpg.chip.jpg', '22_1_3_20170104222220913.jpg.chip.jpg', '32_1_1_20170112213704768.jpg.chip.jpg', '23_1_0_20170112234128328.jpg.chip.jpg', '32_1_0_20170103181759833.jpg.chip.jpg', '29_1_3_20170104232524938.jpg.chip.jpg', '26_1_3_20170104234454339.jpg.chip.jpg', '26_0_2_20170116180219752.jpg.chip.jpg', '22_1_1_20170112203821018.jpg.chip.jpg', '24_1_2_20170104022044502.jpg.chip.jpg', '22_1_2_20170114033415747.jpg.chip.jpg', '32_1_3_20170104235736013.jpg.chip.jpg', '23_1_2_20170104020318141.jpg.chip.jpg', '28_1_0_20170116214232243.jpg.chip.jpg', '24_0_2_20170104020029454.jpg.chip.jpg', '26_0_3_20170117154449286.jpg.chip.jpg', '24_1_2_20170104021917324.jpg.chip.jpg', '30_1_3_20170117150440114.jpg.chip.jpg', '29_0_2_20170116172141170.jpg.chip.jpg', '28_1_0_20170116220300753.jpg.chip.jpg', '24_0_3_20170117144123778.jpg.chip.jpg', '26_1_2_20170116163008149.jpg.chip.jpg', '26_0_0_20170103181224784.jpg.chip.jpg', '27_0_3_20170119194352188.jpg.chip.jpg', '25_0_2_20170116174816852.jpg.chip.jpg', '22_1_0_20170104021327948.jpg.chip.jpg', '26_1_0_20170105163517523.jpg.chip.jpg', '24_0_0_20170116215529092.jpg.chip.jpg', '28_1_3_20170119194934347.jpg.chip.jpg', '27_1_0_20170104021653885.jpg.chip.jpg', '24_0_1_20170113132554696.jpg.chip.jpg', '30_1_0_20170105170137612.jpg.chip.jpg', '25_1_2_20170104020655188.jpg.chip.jpg', '22_1_0_20170104165415377.jpg.chip.jpg', '29_0_1_20170112214947864.jpg.chip.jpg', '29_1_2_20170116163331282.jpg.chip.jpg', '28_1_1_20170112234152465.jpg.chip.jpg', '23_0_3_20170119164316726.jpg.chip.jpg', '35_1_2_20170112191512046.jpg.chip.jpg', '28_1_3_20170119194821963.jpg.chip.jpg', '34_1_2_20170116191659122.jpg.chip.jpg', '32_1_1_20170112215155305.jpg.chip.jpg', '26_1_1_20170112235540169.jpg.chip.jpg', '34_1_1_20170112213659687.jpg.chip.jpg', '23_0_2_20170116172908582.jpg.chip.jpg', '22_1_2_20170116161424702.jpg.chip.jpg', '28_1_1_20170112234500344.jpg.chip.jpg', '35_1_3_20170104234658417.jpg.chip.jpg', '29_0_1_20170113133331563.jpg.chip.jpg', '27_0_2_20170116170914365.jpg.chip.jpg', '30_0_0_20170117131024540.jpg.chip.jpg', '29_1_1_20170112214912446.jpg.chip.jpg', '27_0_3_20170119194353171.jpg.chip.jpg', '29_0_2_20170116172041615.jpg.chip.jpg', '25_0_3_20170104214610101.jpg.chip.jpg', '32_1_0_20170103182609772.jpg.chip.jpg', '34_1_2_20170109140259136.jpg.chip.jpg', '22_1_3_20170104222151616.jpg.chip.jpg', '23_1_2_20170107213827250.jpg.chip.jpg', '24_0_0_20170114030346768.jpg.chip.jpg', '24_1_0_20170104234820025.jpg.chip.jpg', '24_0_0_20170114032026665.jpg.chip.jpg', '23_1_0_20170111182452759.jpg.chip.jpg', '23_0_3_20170119164313321.jpg.chip.jpg', '24_0_2_20170104020112732.jpg.chip.jpg', '26_0_1_20170113134349843.jpg.chip.jpg', '24_1_3_20170104231931545.jpg.chip.jpg', '23_1_0_20170112234220808.jpg.chip.jpg', '27_1_0_20170105162221371.jpg.chip.jpg', '22_1_3_20170104222214551.jpg.chip.jpg', '28_0_1_20170113142405196.jpg.chip.jpg', '30_1_2_20170105161432042.jpg.chip.jpg', '23_1_1_20170112204436531.jpg.chip.jpg', '23_1_1_20170112203929794.jpg.chip.jpg', '32_1_0_20170103182600698.jpg.chip.jpg', '35_1_0_20170116201420399.jpg.chip.jpg', '27_1_3_20170119155424633.jpg.chip.jpg', '29_1_0_20170109134431956.jpg.chip.jpg', '23_1_2_20170104021026844.jpg.chip.jpg', '27_0_3_20170119194326882.jpg.chip.jpg', '29_0_0_20170104192604087.jpg.chip.jpg', '32_1_1_20170112210630029.jpg.chip.jpg', '22_1_1_20170105183837056.jpg.chip.jpg', '23_1_3_20170119164425613.jpg.chip.jpg', '27_1_2_20170116163625314.jpg.chip.jpg', '37_1_1_20170116001322849.jpg.chip.jpg', '26_0_1_20170113134400497.jpg.chip.jpg', '29_0_0_20170105163720435.jpg.chip.jpg', '30_0_3_20170119153044871.jpg.chip.jpg', '25_0_1_20170113145218790.jpg.chip.jpg', '30_1_2_20170104022925822.jpg.chip.jpg', '28_0_0_20170104202019890.jpg.chip.jpg', '27_1_2_20170116163651888.jpg.chip.jpg', '26_1_3_20170104235019355.jpg.chip.jpg', '30_1_0_20170108225424420.jpg.chip.jpg', '24_1_1_20170112231628815.jpg.chip.jpg', '23_1_3_20170119164326981.jpg.chip.jpg', '28_1_3_20170119164514645.jpg.chip.jpg', '26_1_2_20170116163019946.jpg.chip.jpg', '22_1_3_20170104222612607.jpg.chip.jpg', '26_1_0_20170105002839534.jpg.chip.jpg', '37_1_2_20170105162546659.jpg.chip.jpg', '27_1_0_20170109132133665.jpg.chip.jpg', '24_1_1_20170112204854107.jpg.chip.jpg', '34_1_3_20170119152405425.jpg.chip.jpg', '30_1_1_20170113011704335.jpg.chip.jpg', '37_1_0_20170103163519252.jpg.chip.jpg', '26_0_1_20170113134330586.jpg.chip.jpg', '29_0_3_20170119164049077.jpg.chip.jpg', '29_1_2_20170116164927601.jpg.chip.jpg', '22_1_2_20170116162023656.jpg.chip.jpg', '24_1_2_20170104021300885.jpg.chip.jpg', '32_1_0_20170103182614674.jpg.chip.jpg', '24_1_1_20170112204824258.jpg.chip.jpg', '29_0_0_20170104201127146.jpg.chip.jpg', '30_1_0_20170116191315733.jpg.chip.jpg', '25_0_1_20170113150701015.jpg.chip.jpg', '32_1_1_20170112213321285.jpg.chip.jpg', '35_1_3_20170104231728913.jpg.chip.jpg', '32_1_1_20170112215044104.jpg.chip.jpg', '27_0_0_20170117202105807.jpg.chip.jpg', '26_1_0_20170104235427939.jpg.chip.jpg', '30_0_1_20170116010659651.jpg.chip.jpg', '30_1_1_20170114024643760.jpg.chip.jpg', '25_1_0_20170105000610412.jpg.chip.jpg', '24_0_1_20170103212749284.jpg.chip.jpg', '26_0_0_20170103235457445.jpg.chip.jpg', '30_1_2_20170104020950540.jpg.chip.jpg', '34_1_0_20170104170153185.jpg.chip.jpg', '25_1_1_20170103182259857.jpg.chip.jpg', '23_1_3_20170119155754275.jpg.chip.jpg', '27_1_3_20170119163731380.jpg.chip.jpg', '32_1_3_20170104232241306.jpg.chip.jpg', '22_1_3_20170104222553543.jpg.chip.jpg', '23_0_1_20170114032011297.jpg.chip.jpg', '30_0_0_20170117130933486.jpg.chip.jpg', '35_1_1_20170112193019582.jpg.chip.jpg', '25_0_3_20170104214558568.jpg.chip.jpg', '25_1_1_20170112193002220.jpg.chip.jpg', '27_1_2_20170116163734036.jpg.chip.jpg', '30_0_2_20170116163429712.jpg.chip.jpg', '29_1_1_20170109134854367.jpg.chip.jpg', '30_0_1_20170116214710372.jpg.chip.jpg', '25_1_3_20170104222511735.jpg.chip.jpg', '28_0_3_20170109002910810.jpg.chip.jpg', '32_1_2_20170116164214489.jpg.chip.jpg', '28_1_2_20170104021815094.jpg.chip.jpg', '24_0_1_20170112204730931.jpg.chip.jpg', '24_0_0_20170115230945548.jpg.chip.jpg', '30_0_0_20170117130641193.jpg.chip.jpg', '22_1_2_20170104022012028.jpg.chip.jpg', '25_1_1_20170103230312265.jpg.chip.jpg', '34_1_1_20170112234631399.jpg.chip.jpg', '30_1_3_20170117181341092.jpg.chip.jpg', '24_1_2_20170104021837189.jpg.chip.jpg', '34_1_3_20170119155627753.jpg.chip.jpg', '30_0_1_20170116011020977.jpg.chip.jpg', '29_0_1_20170113133129655.jpg.chip.jpg', '28_0_0_20170105164834828.jpg.chip.jpg', '30_1_3_20170117181345172.jpg.chip.jpg', '32_1_3_20170104235603636.jpg.chip.jpg', '30_1_1_20170113012621729.jpg.chip.jpg', '29_0_2_20170116182206717.jpg.chip.jpg', '28_1_2_20170104022917342.jpg.chip.jpg', '35_1_3_20170104235206234.jpg.chip.jpg', '28_1_1_20170112231943575.jpg.chip.jpg', '25_0_0_20170105162443771.jpg.chip.jpg', '35_1_1_20170112191352903.jpg.chip.jpg', '30_1_1_20170113013050208.jpg.chip.jpg', '30_1_3_20170117181342861.jpg.chip.jpg', '28_1_2_20170104023041166.jpg.chip.jpg', '34_1_2_20170105172720493.jpg.chip.jpg', '22_1_0_20170103183738666.jpg.chip.jpg', '37_1_3_20170109132653966.jpg.chip.jpg', '28_1_3_20170119154512882.jpg.chip.jpg', '29_0_1_20170108235740510.jpg.chip.jpg', '30_1_2_20170105002521620.jpg.chip.jpg', '23_0_0_20170117144620972.jpg.chip.jpg', '29_1_0_20170105165153564.jpg.chip.jpg', '29_1_0_20170109134017138.jpg.chip.jpg', '25_0_0_20170105184137702.jpg.chip.jpg', '24_0_2_20161219192432539.jpg.chip.jpg', '25_0_3_20170104214602149.jpg.chip.jpg', '37_1_2_20170104005945096.jpg.chip.jpg', '26_1_3_20170104235113586.jpg.chip.jpg', '29_0_3_20170117180817266.jpg.chip.jpg', '25_1_3_20161220222256467.jpg.chip.jpg', '24_1_3_20170104234808251.jpg.chip.jpg', '23_0_3_20170119164352326.jpg.chip.jpg', '23_0_3_20170119164314853.jpg.chip.jpg', '27_0_1_20170113135622875.jpg.chip.jpg', '34_1_0_20170105001216267.jpg.chip.jpg', '30_0_1_20170116213438554.jpg.chip.jpg', '26_0_0_20170104170627658.jpg.chip.jpg', '29_1_3_20170104232621386.jpg.chip.jpg', '29_1_1_20170112204807283.jpg.chip.jpg', '28_0_2_20170113190312841.jpg.chip.jpg', '28_1_1_20170112235036823.jpg.chip.jpg', '24_0_1_20170113132717504.jpg.chip.jpg', '25_1_2_20170104020903060.jpg.chip.jpg', '35_1_2_20170116164245925.jpg.chip.jpg', '27_1_3_20170119194359132.jpg.chip.jpg', '29_1_1_20170112211222837.jpg.chip.jpg', '28_0_1_20170113142308413.jpg.chip.jpg', '34_1_2_20170105164106036.jpg.chip.jpg', '24_1_1_20170112231342878.jpg.chip.jpg', '35_1_3_20170104223440424.jpg.chip.jpg', '29_0_3_20170119152247249.jpg.chip.jpg', '29_0_0_20170104202211753.jpg.chip.jpg', '28_0_1_20170113145739893.jpg.chip.jpg', '23_1_1_20170103223013127.jpg.chip.jpg', '26_1_3_20170104235111171.jpg.chip.jpg', '25_1_0_20170104234942017.jpg.chip.jpg', '24_1_1_20170112231707948.jpg.chip.jpg', '22_1_2_20170116162441662.jpg.chip.jpg', '25_1_2_20170104021412148.jpg.chip.jpg', '37_1_1_20170114024523051.jpg.chip.jpg', '28_1_3_20170119194616045.jpg.chip.jpg', '24_1_0_20170104022030117.jpg.chip.jpg', '34_1_3_20170119165307574.jpg.chip.jpg', '30_0_3_20170119195732475.jpg.chip.jpg', '23_1_2_20170116172803446.jpg.chip.jpg', '29_1_3_20170104223300263.jpg.chip.jpg', '30_0_1_20170116024856991.jpg.chip.jpg', '30_1_0_20170116201303368.jpg.chip.jpg', '34_1_0_20170104235402171.jpg.chip.jpg', '26_1_2_20170116171202584.jpg.chip.jpg', '23_1_2_20170105162602515.jpg.chip.jpg', '26_0_1_20170113134358506.jpg.chip.jpg', '24_0_0_20170116213539070.jpg.chip.jpg', '34_1_1_20170113000302889.jpg.chip.jpg', '26_0_0_20170103235356420.jpg.chip.jpg', '23_1_1_20170112204431018.jpg.chip.jpg', '26_0_0_20170104165824281.jpg.chip.jpg', '28_0_3_20170104220258078.jpg.chip.jpg', '26_0_1_20170113134332736.jpg.chip.jpg', '30_0_0_20170117131016260.jpg.chip.jpg', '29_0_0_20170104201322098.jpg.chip.jpg', '25_0_0_20170104004153743.jpg.chip.jpg', '25_0_0_20170110231839623.jpg.chip.jpg', '29_1_2_20170116163403273.jpg.chip.jpg', '28_1_0_20170116211814489.jpg.chip.jpg', '24_0_3_20170104230150057.jpg.chip.jpg', '28_1_3_20170119194949914.jpg.chip.jpg', '25_0_2_20170116170511407.jpg.chip.jpg', '25_0_1_20170113151512351.jpg.chip.jpg', '35_1_3_20170104235136827.jpg.chip.jpg', '27_1_0_20170109132420616.jpg.chip.jpg', '25_0_2_20170116165108577.jpg.chip.jpg', '28_0_3_20170116024927038.jpg.chip.jpg', '22_1_3_20170104222152991.jpg.chip.jpg', '25_0_2_20170116172425264.jpg.chip.jpg', '29_0_0_20170104202110730.jpg.chip.jpg', '37_1_3_20170117183437046.jpg.chip.jpg', '35_1_1_20170112204427427.jpg.chip.jpg', '27_1_1_20170113002029522.jpg.chip.jpg', '23_1_0_20170112234124928.jpg.chip.jpg', '26_1_1_20170112231645231.jpg.chip.jpg', '22_1_0_20170105183534558.jpg.chip.jpg', '27_0_0_20170117184509194.jpg.chip.jpg', '22_1_2_20170104022959942.jpg.chip.jpg', '25_1_0_20170104183350805.jpg.chip.jpg', '27_0_0_20170117195011835.jpg.chip.jpg', '27_1_2_20170116163645443.jpg.chip.jpg', '34_1_0_20170104173038042.jpg.chip.jpg', '35_1_1_20170112205159460.jpg.chip.jpg', '25_1_0_20170103183722595.jpg.chip.jpg', '22_1_0_20170105184130182.jpg.chip.jpg', '30_1_1_20170113011807912.jpg.chip.jpg', '27_0_2_20170116172522727.jpg.chip.jpg', '27_1_2_20170116163705155.jpg.chip.jpg', '29_0_1_20170104172519610.jpg.chip.jpg', '28_0_1_20170113142355492.jpg.chip.jpg', '29_1_3_20170104232729436.jpg.chip.jpg', '25_0_3_20170104230440360.jpg.chip.jpg', '26_1_0_20170105183644799.jpg.chip.jpg', '24_0_2_20170104234829387.jpg.chip.jpg', '27_0_2_20170116171028124.jpg.chip.jpg', '32_1_2_20170113002101524.jpg.chip.jpg', '32_1_3_20170109140230761.jpg.chip.jpg', '27_1_3_20170119164348390.jpg.chip.jpg', '27_0_3_20170119193411154.jpg.chip.jpg', '34_1_3_20170119163642029.jpg.chip.jpg', '23_1_2_20170105162514564.jpg.chip.jpg', '37_1_0_20170103175351545.jpg.chip.jpg', '25_1_2_20170104015838780.jpg.chip.jpg', '28_0_0_20170104022908893.jpg.chip.jpg', '27_0_3_20170119193400258.jpg.chip.jpg', '29_1_0_20170105002624350.jpg.chip.jpg', '35_1_1_20170112203826226.jpg.chip.jpg', '23_1_1_20170112234139392.jpg.chip.jpg', '26_0_0_20170104194358449.jpg.chip.jpg', '27_1_0_20170109002819172.jpg.chip.jpg', '30_1_0_20170105165034356.jpg.chip.jpg', '28_0_3_20170104220242582.jpg.chip.jpg', '26_1_3_20170104235148954.jpg.chip.jpg', '23_0_2_20170116172906979.jpg.chip.jpg', '32_1_3_20170105003157142.jpg.chip.jpg', '25_1_2_20170104021048828.jpg.chip.jpg', '23_0_0_20170117144552915.jpg.chip.jpg', '24_0_2_20170104015809173.jpg.chip.jpg', '32_1_2_20170109135854714.jpg.chip.jpg', '25_0_3_20170104214444117.jpg.chip.jpg', '25_1_1_20170112205043660.jpg.chip.jpg', '35_1_2_20170116165645870.jpg.chip.jpg', '34_1_3_20170119200614779.jpg.chip.jpg', '30_0_2_20170116163100468.jpg.chip.jpg', '23_1_0_20170112234244982.jpg.chip.jpg', '28_0_1_20170113141915947.jpg.chip.jpg', '25_0_2_20170116161438706.jpg.chip.jpg', '32_1_3_20170104235157578.jpg.chip.jpg', '24_0_2_20161219190613907.jpg.chip.jpg', '26_1_1_20170112235543761.jpg.chip.jpg', '32_1_0_20170103182408417.jpg.chip.jpg', '26_1_2_20170116163914678.jpg.chip.jpg', '24_1_0_20170105000720347.jpg.chip.jpg', '24_1_0_20170104234624491.jpg.chip.jpg', '35_1_1_20170112210437469.jpg.chip.jpg', '34_1_1_20170112213636293.jpg.chip.jpg', '29_0_2_20170116193337129.jpg.chip.jpg', '24_1_1_20170112230626278.jpg.chip.jpg', '24_1_1_20170112220135559.jpg.chip.jpg', '26_1_0_20170105183657951.jpg.chip.jpg', '30_0_0_20170117130653432.jpg.chip.jpg', '28_0_3_20170105175516710.jpg.chip.jpg', '30_1_1_20170113012657328.jpg.chip.jpg', '27_1_2_20170116163742635.jpg.chip.jpg', '29_0_0_20170104205704132.jpg.chip.jpg', '27_0_1_20170113150450280.jpg.chip.jpg', '22_1_1_20170112203855123.jpg.chip.jpg', '24_1_2_20170112204451203.jpg.chip.jpg', '32_1_3_20170109134440488.jpg.chip.jpg', '29_0_3_20170119165447462.jpg.chip.jpg', '22_1_2_20170105183412088.jpg.chip.jpg', '26_1_2_20170116163558042.jpg.chip.jpg', '29_0_2_20170116190029257.jpg.chip.jpg', '24_0_1_20170103181218960.jpg.chip.jpg', '29_1_1_20170112205213493.jpg.chip.jpg', '35_1_2_20170104173050489.jpg.chip.jpg', '28_1_0_20170116214208669.jpg.chip.jpg', '27_1_3_20170119194417435.jpg.chip.jpg', '35_1_1_20170112210403180.jpg.chip.jpg', '35_1_0_20170116201620219.jpg.chip.jpg', '32_1_2_20170116163345446.jpg.chip.jpg', '35_1_1_20170112191127473.jpg.chip.jpg', '27_0_2_20170116173713171.jpg.chip.jpg', '28_0_0_20170105164855636.jpg.chip.jpg', '24_0_2_20170104020102786.jpg.chip.jpg', '23_0_1_20170113195604509.jpg.chip.jpg', '28_1_0_20170116211818606.jpg.chip.jpg', '24_0_1_20170113134010217.jpg.chip.jpg', '27_0_2_20170116165457643.jpg.chip.jpg', '35_1_0_20170116201640357.jpg.chip.jpg', '30_1_0_20170109012211696.jpg.chip.jpg', '22_1_3_20170104214416853.jpg.chip.jpg', '25_1_3_20170104222454999.jpg.chip.jpg', '23_1_0_20170112234202903.jpg.chip.jpg', '26_1_3_20170104232550697.jpg.chip.jpg', '35_1_3_20170104232853676.jpg.chip.jpg', '27_0_3_20170119194349003.jpg.chip.jpg', '26_1_3_20170104235102538.jpg.chip.jpg', '34_1_0_20170103183211424.jpg.chip.jpg', '27_1_3_20170119194359962.jpg.chip.jpg', '30_1_2_20170104021318733.jpg.chip.jpg', '23_0_2_20170116172912257.jpg.chip.jpg', '25_0_0_20170104011300160.jpg.chip.jpg', '22_1_0_20170103163248351.jpg.chip.jpg', '30_1_1_20170113010438590.jpg.chip.jpg', '28_0_3_20170104220743173.jpg.chip.jpg', '29_1_1_20170112210246493.jpg.chip.jpg', '24_0_3_20170117145945091.jpg.chip.jpg', '35_1_0_20170113005254692.jpg.chip.jpg', '30_1_0_20170109001620649.jpg.chip.jpg', '25_1_1_20170112191319941.jpg.chip.jpg', '34_1_2_20170104022134829.jpg.chip.jpg', '25_1_1_20170112192328981.jpg.chip.jpg', '27_1_0_20170105183347327.jpg.chip.jpg', '27_1_1_20170113001031147.jpg.chip.jpg', '30_1_2_20170104192931704.jpg.chip.jpg', '23_1_1_20170112234052856.jpg.chip.jpg', '24_0_0_20170116201407910.jpg.chip.jpg', '24_0_3_20170104214521685.jpg.chip.jpg', '24_0_0_20170116205530259.jpg.chip.jpg', '32_1_2_20170116174801584.jpg.chip.jpg', '24_1_3_20170104231950346.jpg.chip.jpg', '25_1_1_20170112191300605.jpg.chip.jpg', '34_1_1_20170112234456968.jpg.chip.jpg', '29_1_1_20170112211746397.jpg.chip.jpg', '23_1_1_20170112234048553.jpg.chip.jpg', '30_0_0_20170117130654291.jpg.chip.jpg', '24_1_2_20170104234618170.jpg.chip.jpg', '25_1_1_20170112192945622.jpg.chip.jpg', '26_1_2_20170116162412165.jpg.chip.jpg', '27_0_3_20170119193403898.jpg.chip.jpg', '26_0_2_20170116180358437.jpg.chip.jpg', '22_1_1_20170112202834858.jpg.chip.jpg', '29_1_3_20170104223010439.jpg.chip.jpg', '25_1_2_20170104020239939.jpg.chip.jpg', '28_0_0_20170105162351171.jpg.chip.jpg', '26_1_0_20170105003228731.jpg.chip.jpg', '23_1_3_20170119164422814.jpg.chip.jpg', '28_1_2_20170109002652355.jpg.chip.jpg', '25_0_1_20170113151735327.jpg.chip.jpg', '34_1_2_20170104204327523.jpg.chip.jpg', '25_0_3_20170104214613229.jpg.chip.jpg', '27_0_1_20170113150706765.jpg.chip.jpg', '25_1_0_20170104022944286.jpg.chip.jpg', '27_1_1_20170113000855147.jpg.chip.jpg', '24_1_3_20170104232305465.jpg.chip.jpg', '28_0_3_20170104232323178.jpg.chip.jpg', '26_1_0_20170105163250483.jpg.chip.jpg', '37_1_0_20170103182837146.jpg.chip.jpg', '34_1_0_20170104233858010.jpg.chip.jpg', '23_1_2_20170116163648817.jpg.chip.jpg', '25_1_0_20170104165326705.jpg.chip.jpg', '23_0_0_20170117144555155.jpg.chip.jpg', '29_1_3_20170104232640192.jpg.chip.jpg', '28_1_2_20170108224230864.jpg.chip.jpg', '30_1_2_20170104021619821.jpg.chip.jpg', '32_1_1_20170112210500948.jpg.chip.jpg', '28_1_1_20170112234742977.jpg.chip.jpg', '22_1_3_20170104222607551.jpg.chip.jpg', '32_1_1_20170112215208374.jpg.chip.jpg', '27_0_1_20170113135628651.jpg.chip.jpg', '27_1_2_20170116163729639.jpg.chip.jpg', '28_0_2_20170116163443678.jpg.chip.jpg', '37_1_0_20170103182950794.jpg.chip.jpg', '26_0_2_20170116180708812.jpg.chip.jpg', '22_1_1_20170112203832467.jpg.chip.jpg', '34_1_1_20170112204814042.jpg.chip.jpg', '27_0_2_20170116172036208.jpg.chip.jpg', '27_1_0_20170104234600194.jpg.chip.jpg', '27_0_0_20170117202102927.jpg.chip.jpg', '23_0_1_20170113150913751.jpg.chip.jpg', '37_1_2_20170105164301196.jpg.chip.jpg', '22_1_1_20170112230530733.jpg.chip.jpg', '30_1_1_20170113011218830.jpg.chip.jpg', '22_1_1_20170112230450501.jpg.chip.jpg', '24_1_1_20170112230612966.jpg.chip.jpg', '24_0_0_20170116214204433.jpg.chip.jpg', '28_1_1_20170112234143831.jpg.chip.jpg', '22_1_2_20170108224643996.jpg.chip.jpg', '25_0_3_20170104220223342.jpg.chip.jpg', '30_0_2_20161219190337805.jpg.chip.jpg', '30_1_3_20170117181328835.jpg.chip.jpg', '25_0_2_20170116174828896.jpg.chip.jpg', '26_0_3_20170117153621606.jpg.chip.jpg', '26_1_1_20170112235250049.jpg.chip.jpg', '24_1_3_20170104231953658.jpg.chip.jpg', '26_0_2_20170116180011320.jpg.chip.jpg', '32_1_1_20170112212952111.jpg.chip.jpg', '26_0_0_20170104022546750.jpg.chip.jpg', '27_0_0_20170117175813577.jpg.chip.jpg', '26_0_3_20170117154317645.jpg.chip.jpg', '27_0_3_20170119193359595.jpg.chip.jpg', '24_1_3_20170104231937977.jpg.chip.jpg', '30_0_1_20170116213558934.jpg.chip.jpg', '26_0_3_20170117153922501.jpg.chip.jpg', '34_1_3_20170119164445358.jpg.chip.jpg', '34_1_3_20170119152656528.jpg.chip.jpg', '30_0_1_20170116010647849.jpg.chip.jpg', '28_0_0_20170103225936561.jpg.chip.jpg', '29_0_0_20170104235501676.jpg.chip.jpg', '23_1_3_20170119164432343.jpg.chip.jpg', '28_1_3_20170119194924075.jpg.chip.jpg', '24_0_1_20170113134105544.jpg.chip.jpg', '26_1_2_20170116173312689.jpg.chip.jpg', '30_0_0_20170117130646482.jpg.chip.jpg', '28_0_2_20170116163928068.jpg.chip.jpg', '23_0_1_20170114030131616.jpg.chip.jpg', '28_0_2_20170107212142294.jpg.chip.jpg', '27_0_0_20170117175803620.jpg.chip.jpg', '28_0_2_20170112213615815.jpg.chip.jpg', '24_0_3_20170117145631891.jpg.chip.jpg', '28_1_1_20170112234526480.jpg.chip.jpg', '32_1_3_20170104232404770.jpg.chip.jpg', '25_0_2_20170116165101483.jpg.chip.jpg', '30_1_1_20170113011304520.jpg.chip.jpg', '27_1_3_20170119193234322.jpg.chip.jpg', '24_0_3_20170104230212395.jpg.chip.jpg', '29_1_1_20170112211511508.jpg.chip.jpg', '24_0_0_20170116205634434.jpg.chip.jpg', '26_0_2_20170116180352453.jpg.chip.jpg', '23_0_2_20170116172904718.jpg.chip.jpg', '25_1_3_20170104222315121.jpg.chip.jpg', '25_1_0_20170104021710995.jpg.chip.jpg', '30_1_3_20170117154720797.jpg.chip.jpg', '29_1_0_20170109010152767.jpg.chip.jpg', '30_1_3_20170117153305045.jpg.chip.jpg', '23_1_3_20170119152429983.jpg.chip.jpg', '27_1_1_20170113001019472.jpg.chip.jpg', '25_0_2_20170116161907519.jpg.chip.jpg', '26_0_2_20170116180330029.jpg.chip.jpg', '25_0_1_20170113151350864.jpg.chip.jpg', '27_1_1_20170113001021322.jpg.chip.jpg', '30_0_2_20170104022125085.jpg.chip.jpg', '34_1_0_20170103183147490.jpg.chip.jpg', '27_0_1_20170113155126130.jpg.chip.jpg', '28_0_1_20170113145417934.jpg.chip.jpg', '29_1_2_20170116164713504.jpg.chip.jpg', '24_0_2_20170103223924087.jpg.chip.jpg', '25_1_3_20170104222305855.jpg.chip.jpg', '30_1_2_20170104020413511.jpg.chip.jpg', '34_1_3_20170105002136348.jpg.chip.jpg', '26_0_0_20170104200830216.jpg.chip.jpg', '26_1_1_20170112233445111.jpg.chip.jpg', '32_1_0_20170103182602906.jpg.chip.jpg', '30_1_2_20170104020459348.jpg.chip.jpg', '26_1_3_20170104232952337.jpg.chip.jpg', '30_0_3_20170119162644734.jpg.chip.jpg', '30_0_1_20170116214526846.jpg.chip.jpg', '27_1_1_20170113011238888.jpg.chip.jpg', '27_1_3_20170119194407555.jpg.chip.jpg', '35_1_3_20170104231848138.jpg.chip.jpg', '23_0_1_20170113195548821.jpg.chip.jpg', '28_1_0_20170116205749382.jpg.chip.jpg', '30_0_1_20170116025831395.jpg.chip.jpg', '25_0_0_20170104214616710.jpg.chip.jpg', '24_1_3_20170104231939707.jpg.chip.jpg', '27_0_1_20170113142300658.jpg.chip.jpg', '29_1_3_20170104232728113.jpg.chip.jpg', '25_1_3_20170104222459455.jpg.chip.jpg', '25_0_1_20170113145422493.jpg.chip.jpg', '28_0_0_20170105162616443.jpg.chip.jpg', '25_0_0_20170105163328603.jpg.chip.jpg', '35_1_0_20170116201535811.jpg.chip.jpg', '26_0_2_20170116175955916.jpg.chip.jpg', '24_1_0_20170104022800709.jpg.chip.jpg', '30_0_2_20170104022129599.jpg.chip.jpg', '32_1_0_20170103181859185.jpg.chip.jpg', '28_1_3_20170119194940491.jpg.chip.jpg', '28_1_3_20170119194459995.jpg.chip.jpg', '35_1_0_20170116201540728.jpg.chip.jpg', '28_0_2_20170116164225550.jpg.chip.jpg', '25_1_2_20170104020610884.jpg.chip.jpg', '22_1_2_20170104021940541.jpg.chip.jpg', '30_0_3_20170119151354302.jpg.chip.jpg', '28_1_1_20170112234557232.jpg.chip.jpg', '34_1_2_20170116171155691.jpg.chip.jpg', '27_1_0_20170105183939496.jpg.chip.jpg', '30_1_2_20170104164904841.jpg.chip.jpg', '32_1_1_20170112215200081.jpg.chip.jpg', '22_1_0_20170103163108007.jpg.chip.jpg', '24_0_0_20170116204032263.jpg.chip.jpg', '23_1_3_20170119164424022.jpg.chip.jpg', '27_0_1_20170113155235889.jpg.chip.jpg', '30_0_3_20170119155828315.jpg.chip.jpg', '28_1_0_20170116213524092.jpg.chip.jpg', '30_0_2_20170104021209963.jpg.chip.jpg', '26_0_3_20170117153613636.jpg.chip.jpg', '35_1_2_20170116175203095.jpg.chip.jpg', '29_0_1_20170103235915646.jpg.chip.jpg', '28_1_0_20170116214251849.jpg.chip.jpg', '26_1_3_20170104235016242.jpg.chip.jpg', '24_1_0_20170104233906146.jpg.chip.jpg', '23_0_0_20170117144618155.jpg.chip.jpg', '34_1_2_20170108224608753.jpg.chip.jpg', '29_0_1_20170113133201673.jpg.chip.jpg', '26_1_2_20170116163918033.jpg.chip.jpg', '29_0_2_20170116192725270.jpg.chip.jpg']\n"
          ]
        }
      ],
      "source": [
        "t_list = os.listdir('all')\n",
        "\n",
        "\n",
        "t_num = len(t_list)\n",
        "print('Number of images:', t_num)\n",
        "print(f_list)"
      ]
    },
    {
      "cell_type": "code",
      "execution_count": null,
      "metadata": {
        "colab": {
          "base_uri": "https://localhost:8080/",
          "height": 204
        },
        "id": "vaZ8Rta4XdpS",
        "outputId": "896c1ba0-47aa-4bb0-c982-81a5ee4fe56b"
      },
      "outputs": [
        {
          "output_type": "execute_result",
          "data": {
            "text/plain": [
              "                               test_name  test_gender\n",
              "0  31_1_3_20170119155508987.jpg.chip.jpg            1\n",
              "1  31_1_2_20170104020928085.jpg.chip.jpg            1\n",
              "2  31_1_1_20170103183224642.jpg.chip.jpg            1\n",
              "3  31_1_1_20170112210531485.jpg.chip.jpg            1\n",
              "4  31_1_3_20170119200201348.jpg.chip.jpg            1"
            ],
            "text/html": [
              "\n",
              "  <div id=\"df-43d10a8f-be49-4589-825f-0c78741d10a7\">\n",
              "    <div class=\"colab-df-container\">\n",
              "      <div>\n",
              "<style scoped>\n",
              "    .dataframe tbody tr th:only-of-type {\n",
              "        vertical-align: middle;\n",
              "    }\n",
              "\n",
              "    .dataframe tbody tr th {\n",
              "        vertical-align: top;\n",
              "    }\n",
              "\n",
              "    .dataframe thead th {\n",
              "        text-align: right;\n",
              "    }\n",
              "</style>\n",
              "<table border=\"1\" class=\"dataframe\">\n",
              "  <thead>\n",
              "    <tr style=\"text-align: right;\">\n",
              "      <th></th>\n",
              "      <th>test_name</th>\n",
              "      <th>test_gender</th>\n",
              "    </tr>\n",
              "  </thead>\n",
              "  <tbody>\n",
              "    <tr>\n",
              "      <th>0</th>\n",
              "      <td>31_1_3_20170119155508987.jpg.chip.jpg</td>\n",
              "      <td>1</td>\n",
              "    </tr>\n",
              "    <tr>\n",
              "      <th>1</th>\n",
              "      <td>31_1_2_20170104020928085.jpg.chip.jpg</td>\n",
              "      <td>1</td>\n",
              "    </tr>\n",
              "    <tr>\n",
              "      <th>2</th>\n",
              "      <td>31_1_1_20170103183224642.jpg.chip.jpg</td>\n",
              "      <td>1</td>\n",
              "    </tr>\n",
              "    <tr>\n",
              "      <th>3</th>\n",
              "      <td>31_1_1_20170112210531485.jpg.chip.jpg</td>\n",
              "      <td>1</td>\n",
              "    </tr>\n",
              "    <tr>\n",
              "      <th>4</th>\n",
              "      <td>31_1_3_20170119200201348.jpg.chip.jpg</td>\n",
              "      <td>1</td>\n",
              "    </tr>\n",
              "  </tbody>\n",
              "</table>\n",
              "</div>\n",
              "      <button class=\"colab-df-convert\" onclick=\"convertToInteractive('df-43d10a8f-be49-4589-825f-0c78741d10a7')\"\n",
              "              title=\"Convert this dataframe to an interactive table.\"\n",
              "              style=\"display:none;\">\n",
              "        \n",
              "  <svg xmlns=\"http://www.w3.org/2000/svg\" height=\"24px\"viewBox=\"0 0 24 24\"\n",
              "       width=\"24px\">\n",
              "    <path d=\"M0 0h24v24H0V0z\" fill=\"none\"/>\n",
              "    <path d=\"M18.56 5.44l.94 2.06.94-2.06 2.06-.94-2.06-.94-.94-2.06-.94 2.06-2.06.94zm-11 1L8.5 8.5l.94-2.06 2.06-.94-2.06-.94L8.5 2.5l-.94 2.06-2.06.94zm10 10l.94 2.06.94-2.06 2.06-.94-2.06-.94-.94-2.06-.94 2.06-2.06.94z\"/><path d=\"M17.41 7.96l-1.37-1.37c-.4-.4-.92-.59-1.43-.59-.52 0-1.04.2-1.43.59L10.3 9.45l-7.72 7.72c-.78.78-.78 2.05 0 2.83L4 21.41c.39.39.9.59 1.41.59.51 0 1.02-.2 1.41-.59l7.78-7.78 2.81-2.81c.8-.78.8-2.07 0-2.86zM5.41 20L4 18.59l7.72-7.72 1.47 1.35L5.41 20z\"/>\n",
              "  </svg>\n",
              "      </button>\n",
              "      \n",
              "  <style>\n",
              "    .colab-df-container {\n",
              "      display:flex;\n",
              "      flex-wrap:wrap;\n",
              "      gap: 12px;\n",
              "    }\n",
              "\n",
              "    .colab-df-convert {\n",
              "      background-color: #E8F0FE;\n",
              "      border: none;\n",
              "      border-radius: 50%;\n",
              "      cursor: pointer;\n",
              "      display: none;\n",
              "      fill: #1967D2;\n",
              "      height: 32px;\n",
              "      padding: 0 0 0 0;\n",
              "      width: 32px;\n",
              "    }\n",
              "\n",
              "    .colab-df-convert:hover {\n",
              "      background-color: #E2EBFA;\n",
              "      box-shadow: 0px 1px 2px rgba(60, 64, 67, 0.3), 0px 1px 3px 1px rgba(60, 64, 67, 0.15);\n",
              "      fill: #174EA6;\n",
              "    }\n",
              "\n",
              "    [theme=dark] .colab-df-convert {\n",
              "      background-color: #3B4455;\n",
              "      fill: #D2E3FC;\n",
              "    }\n",
              "\n",
              "    [theme=dark] .colab-df-convert:hover {\n",
              "      background-color: #434B5C;\n",
              "      box-shadow: 0px 1px 3px 1px rgba(0, 0, 0, 0.15);\n",
              "      filter: drop-shadow(0px 1px 2px rgba(0, 0, 0, 0.3));\n",
              "      fill: #FFFFFF;\n",
              "    }\n",
              "  </style>\n",
              "\n",
              "      <script>\n",
              "        const buttonEl =\n",
              "          document.querySelector('#df-43d10a8f-be49-4589-825f-0c78741d10a7 button.colab-df-convert');\n",
              "        buttonEl.style.display =\n",
              "          google.colab.kernel.accessAllowed ? 'block' : 'none';\n",
              "\n",
              "        async function convertToInteractive(key) {\n",
              "          const element = document.querySelector('#df-43d10a8f-be49-4589-825f-0c78741d10a7');\n",
              "          const dataTable =\n",
              "            await google.colab.kernel.invokeFunction('convertToInteractive',\n",
              "                                                     [key], {});\n",
              "          if (!dataTable) return;\n",
              "\n",
              "          const docLinkHtml = 'Like what you see? Visit the ' +\n",
              "            '<a target=\"_blank\" href=https://colab.research.google.com/notebooks/data_table.ipynb>data table notebook</a>'\n",
              "            + ' to learn more about interactive tables.';\n",
              "          element.innerHTML = '';\n",
              "          dataTable['output_type'] = 'display_data';\n",
              "          await google.colab.output.renderOutput(dataTable, element);\n",
              "          const docLink = document.createElement('div');\n",
              "          docLink.innerHTML = docLinkHtml;\n",
              "          element.appendChild(docLink);\n",
              "        }\n",
              "      </script>\n",
              "    </div>\n",
              "  </div>\n",
              "  "
            ]
          },
          "metadata": {},
          "execution_count": 10
        }
      ],
      "source": [
        "\n",
        "df_test = pd.DataFrame(t_list, columns = ['test_name'])\n",
        "\n",
        "df_test['test_gender'] = df_test.apply(lambda x : x['test_name'].split('_')[1], axis = 1).astype('int')\n",
        "\n",
        "df_test.head()"
      ]
    },
    {
      "cell_type": "code",
      "execution_count": null,
      "metadata": {
        "colab": {
          "base_uri": "https://localhost:8080/"
        },
        "id": "5F4dyfKQbwpI",
        "outputId": "a9c424ad-5c09-4007-a70a-7ae01e084e83"
      },
      "outputs": [
        {
          "output_type": "stream",
          "name": "stdout",
          "text": [
            "[1 1 1 1 1 1 0 1 0 1 1 1 1 1 1 1 0 1 1 1 0 1 0 0 1 0 1 0 0 1 0 0 0 1 0 0 0\n",
            " 0 1 0 0 1 1 0 0 1 0 0 0 0 0 1 1 1 0 1 0 1 1 1 0 0 1 0 0 1 0 1 0 1 1 1 0 1\n",
            " 0 0 1 0 1 1 1 1 1 0 0 1 0 1 0 0 1 0 0 1 0 0 1 0 1 0 0 0 0 0]\n"
          ]
        }
      ],
      "source": [
        "test_gender = np.array(df_test['test_gender'])\n",
        "\n",
        "print(test_gender)"
      ]
    },
    {
      "cell_type": "code",
      "execution_count": null,
      "metadata": {
        "id": "C-7-iGhzXdv3"
      },
      "outputs": [],
      "source": [
        "def test_dataset(images):\n",
        "    dataset = []\n",
        "    for image in tqdm(images):\n",
        "        image = \"all/\"+image\n",
        "        img = load_img(image, grayscale=True)\n",
        "        img = img.resize((128, 128))\n",
        "        img = np.array(img)\n",
        "        dataset.append(img)\n",
        "\n",
        "    dataset = np.array(dataset)\n",
        "\n",
        "    return dataset"
      ]
    },
    {
      "cell_type": "code",
      "execution_count": null,
      "metadata": {
        "colab": {
          "base_uri": "https://localhost:8080/",
          "height": 103,
          "referenced_widgets": [
            "1d57cd62264543fd9c6f4bc805983c6f",
            "1f055e96daac4cc4a261c02240f15b50",
            "4a5a0591cdb4491583091d3b3c35b0f1",
            "6cd96060824b4fabb1cd526a9d05bdbe",
            "13e1a4fd5e744ac8a29ba1860792f3c7",
            "4304e6667a6744e08570e468fc3ebf07",
            "45627b16fcb94b00b589d81550a4c523",
            "586cb4d28ba44e2eb6e2a67bf12ccdc2",
            "ac160e40ccde463dba57bbdaa3439674",
            "1e68b54ebdc047cf820a7d5442971bd9",
            "0e4f88ba57f64d099edd259ae3fa7d03"
          ]
        },
        "id": "MW3LRVfbXd2l",
        "outputId": "54d3aaa3-5d46-41fc-b788-29366037ec4e"
      },
      "outputs": [
        {
          "output_type": "display_data",
          "data": {
            "text/plain": [
              "  0%|          | 0/104 [00:00<?, ?it/s]"
            ],
            "application/vnd.jupyter.widget-view+json": {
              "version_major": 2,
              "version_minor": 0,
              "model_id": "1d57cd62264543fd9c6f4bc805983c6f"
            }
          },
          "metadata": {}
        },
        {
          "output_type": "stream",
          "name": "stderr",
          "text": [
            "/usr/local/lib/python3.8/dist-packages/keras_preprocessing/image/utils.py:107: UserWarning: grayscale is deprecated. Please use color_mode = \"grayscale\"\n",
            "  warnings.warn('grayscale is deprecated. Please use '\n"
          ]
        }
      ],
      "source": [
        "testset = test_dataset(df_test['test_name'])"
      ]
    },
    {
      "cell_type": "code",
      "execution_count": null,
      "metadata": {
        "id": "fTEue_mpBEWm"
      },
      "outputs": [],
      "source": []
    },
    {
      "cell_type": "code",
      "execution_count": null,
      "metadata": {
        "id": "v5bVhbL8BEZL"
      },
      "outputs": [],
      "source": [
        "gender_dict = {0:\"Male\", 1:\"Female\"}"
      ]
    },
    {
      "cell_type": "code",
      "source": [
        "input_shape = (128, 128, 1)"
      ],
      "metadata": {
        "id": "ELSOW_Eq8bUY"
      },
      "execution_count": null,
      "outputs": []
    },
    {
      "cell_type": "code",
      "execution_count": null,
      "metadata": {
        "id": "iOlZ04GGYEmQ"
      },
      "outputs": [],
      "source": [
        "inputs = Input((input_shape))\n",
        "# convolutional layers\n",
        "convolution_1 = Conv2D(32, kernel_size=(3, 3), activation='relu') (inputs)\n",
        "maxpool_1 = MaxPooling2D(pool_size=(2, 2)) (convolution_1)\n",
        "\n",
        "convolution_2 = Conv2D(64, kernel_size=(3, 3), activation='relu') (maxpool_1)\n",
        "maxpool_2 = MaxPooling2D(pool_size=(2, 2)) (convolution_2)\n",
        "\n",
        "convolution_3 = Conv2D(128, kernel_size=(3, 3), activation='relu') (maxpool_2)\n",
        "maxpool_3 = MaxPooling2D(pool_size=(2, 2)) (convolution_3)\n",
        "\n",
        "convolution_4 = Conv2D(256, kernel_size=(3, 3), activation='relu') (maxpool_3)\n",
        "maxpool_4 = MaxPooling2D(pool_size=(2, 2)) (convolution_4)\n",
        "\n",
        "flatten = Flatten() (maxpool_4)\n",
        "\n",
        "# fully connected layers\n",
        "dense_1 = Dense(256, activation='relu') (flatten)\n",
        "\n",
        "\n",
        "dropout_1 = Dropout(0.3) (dense_1)\n",
        "\n",
        "\n",
        "output_1 = Dense(1, activation='sigmoid', name='gender_out') (dropout_1)\n",
        "\n",
        "\n",
        "model = Model(inputs=[inputs], outputs=[output_1])\n",
        "\n",
        "model.compile(loss=['binary_crossentropy'], optimizer='adam', metrics=['accuracy'])"
      ]
    },
    {
      "cell_type": "code",
      "execution_count": null,
      "metadata": {
        "id": "ENmGFuVTPFgD",
        "colab": {
          "base_uri": "https://localhost:8080/"
        },
        "outputId": "11bb68a4-85cb-4ae8-86c2-d3f985e6df3b"
      },
      "outputs": [
        {
          "output_type": "stream",
          "name": "stdout",
          "text": [
            "Model: \"model\"\n",
            "_________________________________________________________________\n",
            " Layer (type)                Output Shape              Param #   \n",
            "=================================================================\n",
            " input_1 (InputLayer)        [(None, 128, 128, 1)]     0         \n",
            "                                                                 \n",
            " conv2d (Conv2D)             (None, 126, 126, 32)      320       \n",
            "                                                                 \n",
            " max_pooling2d (MaxPooling2D  (None, 63, 63, 32)       0         \n",
            " )                                                               \n",
            "                                                                 \n",
            " conv2d_1 (Conv2D)           (None, 61, 61, 64)        18496     \n",
            "                                                                 \n",
            " max_pooling2d_1 (MaxPooling  (None, 30, 30, 64)       0         \n",
            " 2D)                                                             \n",
            "                                                                 \n",
            " conv2d_2 (Conv2D)           (None, 28, 28, 128)       73856     \n",
            "                                                                 \n",
            " max_pooling2d_2 (MaxPooling  (None, 14, 14, 128)      0         \n",
            " 2D)                                                             \n",
            "                                                                 \n",
            " conv2d_3 (Conv2D)           (None, 12, 12, 256)       295168    \n",
            "                                                                 \n",
            " max_pooling2d_3 (MaxPooling  (None, 6, 6, 256)        0         \n",
            " 2D)                                                             \n",
            "                                                                 \n",
            " flatten (Flatten)           (None, 9216)              0         \n",
            "                                                                 \n",
            " dense (Dense)               (None, 256)               2359552   \n",
            "                                                                 \n",
            " dropout (Dropout)           (None, 256)               0         \n",
            "                                                                 \n",
            " gender_out (Dense)          (None, 1)                 257       \n",
            "                                                                 \n",
            "=================================================================\n",
            "Total params: 2,747,649\n",
            "Trainable params: 2,747,649\n",
            "Non-trainable params: 0\n",
            "_________________________________________________________________\n"
          ]
        }
      ],
      "source": [
        "model.summary()"
      ]
    },
    {
      "cell_type": "code",
      "execution_count": null,
      "metadata": {
        "id": "nE1yr8p2YErZ"
      },
      "outputs": [],
      "source": [
        "# plot the model\n",
        "from tensorflow.keras.utils import plot_model\n",
        "plot_model(model)"
      ]
    },
    {
      "cell_type": "code",
      "execution_count": null,
      "metadata": {
        "id": "ek6zULBRCaoM"
      },
      "outputs": [],
      "source": [
        "clahe = cv2.createCLAHE(clipLimit = 3, tileGridSize=(8,8))\n",
        "\n",
        "\n",
        "\n",
        "def extract_Clahe_features(images):\n",
        "    Clahe_features = []\n",
        "    for image in tqdm(images):\n",
        "        image = \"Female Dominant 300 500/\"+image\n",
        "        img = load_img(image, grayscale=True)\n",
        "        img = img.resize((128, 128) )\n",
        "        img = np.array(img)\n",
        "        clahe_img = clahe.apply(img)\n",
        "        Clahe_features.append(img)\n",
        "\n",
        "    Clahe_features = np.array(Clahe_features)\n",
        "\n",
        "    return Clahe_features\n",
        ""
      ]
    },
    {
      "cell_type": "code",
      "execution_count": null,
      "metadata": {
        "colab": {
          "base_uri": "https://localhost:8080/",
          "height": 49,
          "referenced_widgets": [
            "96c824c0f47a4a6dbcbb0b067f0e3486",
            "6e9314edaed14337925c96f985d6b44f",
            "3a51aade38944df4a68aaf1ec636c311",
            "d2e9076dc4b24026bacdd10b3f1c53cf",
            "31acff078172448e829805d6083d1eb4",
            "5789c64470a342c7b560da2f6304d4bb",
            "8efe55088f45476f8a1f665f90b0fe6d",
            "3da258e558684fde8f3cc8aeaf5f831e",
            "020b65ffff2c4336a71e0da8bce057fa",
            "016b6fe2eaf544dfb8db191401c3e5cb",
            "df90ea2d1983400ca96692dcaaeddf7d"
          ]
        },
        "id": "LqLeobiCCazg",
        "outputId": "956952af-45e1-4ee8-da9a-44bc12bd1ce6"
      },
      "outputs": [
        {
          "output_type": "display_data",
          "data": {
            "text/plain": [
              "  0%|          | 0/800 [00:00<?, ?it/s]"
            ],
            "application/vnd.jupyter.widget-view+json": {
              "version_major": 2,
              "version_minor": 0,
              "model_id": "96c824c0f47a4a6dbcbb0b067f0e3486"
            }
          },
          "metadata": {}
        }
      ],
      "source": [
        "X_Clahe = extract_Clahe_features(df['train_name'])"
      ]
    },
    {
      "cell_type": "code",
      "execution_count": null,
      "metadata": {
        "colab": {
          "base_uri": "https://localhost:8080/"
        },
        "id": "OZiMYHiKWUuH",
        "outputId": "b6273bc3-2b8a-48db-fc86-ac0df4e6f490"
      },
      "outputs": [
        {
          "output_type": "stream",
          "name": "stdout",
          "text": [
            "[1 1 0 0 0 1 1 0 0 0 1 0 1 1 0 1 0 1 0 0 0 0 1 1 1 1 1 1 0 1 1 1 1 1 1 1 1\n",
            " 1 0 0 1 0 1 1 0 1 0 1 1 1 1 0 0 0 0 1 0 0 1 0 1 0 1 0 1 0 1 1 0 1 1 0 1 1\n",
            " 1 1 1 1 1 1 0 1 1 0 1 0 0 1 1 1 1 1 0 1 0 1 0 1 1 0 1 1 0 0 0 1 1 0 1 0 0\n",
            " 1 0 1 1 1 1 0 1 1 1 1 0 1 1 0 1 0 1 0 0 1 1 1 1 0 1 0 0 0 1 1 0 0 1 1 1 1\n",
            " 1 1 0 1 1 1 1 0 0 1 0 1 1 1 0 1 0 0 0 1 1 1 1 0 1 1 1 0 1 0 1 1 0 0 1 1 0\n",
            " 1 1 1 1 1 1 0 1 1 1 1 1 0 0 1 0 0 1 0 0 1 1 0 1 1 1 0 0 1 1 1 1 0 0 0 1 1\n",
            " 1 1 0 1 1 1 1 0 1 1 0 0 0 0 0 0 1 0 1 1 1 1 1 1 1 0 1 1 1 1 1 1 0 0 1 1 0\n",
            " 1 0 1 0 0 0 1 1 0 1 1 0 1 1 1 0 1 1 0 1 1 1 1 1 1 0 1 1 1 0 0 0 1 0 0 0 1\n",
            " 1 1 1 0 1 0 1 0 0 0 1 1 1 1 0 1 1 1 1 1 1 1 1 0 0 1 1 1 1 1 0 0 0 0 1 0 1\n",
            " 1 1 1 1 1 1 1 1 1 1 1 1 1 1 0 0 1 1 1 1 1 0 1 0 1 1 1 0 1 0 1 1 0 0 1 1 1\n",
            " 1 1 1 1 0 0 1 0 1 1 0 1 0 1 0 1 1 0 0 0 1 1 1 1 1 1 0 0 0 1 1 1 0 1 1 1 0\n",
            " 1 1 1 1 1 1 1 1 0 1 0 1 1 0 0 0 1 1 0 1 1 0 0 0 1 0 0 1 1 0 1 0 1 1 1 1 0\n",
            " 1 1 1 0 0 0 1 1 1 1 1 1 1 1 1 1 0 1 1 0 1 1 1 1 0 0 1 0 1 0 0 0 0 0 0 0 1\n",
            " 1 0 1 0 0 1 1 0 0 1 0 0 1 1 1 1 1 1 0 1 1 0 1 1 1 1 1 1 0 1 0 0 1 0 1 0 0\n",
            " 1 1 1 0 1 1 1 1 0 0 1 1 1 0 1 1 0 1 0 1 1 0 0 1 0 1 1 1 0 1 0 0 1 0 1 1 1\n",
            " 1 1 1 1 0 1 1 1 0 0 1 1 0 0 1 1 1 0 1 1 0 0 1 1 1 1 1 1 1 1 0 0 0 0 1 0 0\n",
            " 1 1 1 1 1 1 1 0 1 1 1 1 0 0 1 1 0 1 0 1 1 1 1 1 1 1 1 1 0 0 0 1 1 1 1 1 1\n",
            " 0 1 1 1 0 0 1 1 1 0 1 1 1 0 1 0 0 1 1 1 0 1 1 1 1 1 0 1 1 1 1 1 1 1 0 1 0\n",
            " 1 0 1 1 0 1 0 0 1 1 1 1 1 0 1 1 0 0 1 0 0 1 1 0 1 0 0 0 0 1 0 0 1 1 0 0 0\n",
            " 1 1 0 1 0 0 0 0 0 0 0 1 1 0 1 1 0 1 0 0 0 1 1 1 1 1 1 1 0 0 0 1 0 1 0 0 1\n",
            " 0 1 1 1 0 1 1 1 1 0 0 1 1 1 0 1 0 0 1 0 1 1 0 0 0 1 0 1 0 1 1 1 1 0 1 1 0\n",
            " 1 1 1 1 1 1 0 1 0 0 1 0 0 1 0 1 1 1 0 1 0 1 0]\n"
          ]
        }
      ],
      "source": [
        "y_gender = np.array(df['train_gender'])\n",
        "\n",
        "print(y_gender)"
      ]
    },
    {
      "cell_type": "code",
      "execution_count": null,
      "metadata": {
        "id": "zuG4VLnxH9I6"
      },
      "outputs": [],
      "source": [
        "X_Clahe = X_Clahe/255.0"
      ]
    },
    {
      "cell_type": "markdown",
      "source": [
        "Hyperparameter 1"
      ],
      "metadata": {
        "id": "LZ6fZl-CBTg0"
      }
    },
    {
      "cell_type": "code",
      "execution_count": null,
      "metadata": {
        "colab": {
          "base_uri": "https://localhost:8080/"
        },
        "id": "uxQlk9P8N3lZ",
        "outputId": "a5c3ed47-8294-468f-bb12-085ccc424eb8"
      },
      "outputs": [
        {
          "output_type": "stream",
          "name": "stdout",
          "text": [
            "Epoch 1/10\n",
            "19/19 [==============================] - 32s 2s/step - loss: 0.6561 - accuracy: 0.6196 - val_loss: 0.6577 - val_accuracy: 0.6083\n",
            "Epoch 2/10\n",
            "19/19 [==============================] - 25s 1s/step - loss: 0.6147 - accuracy: 0.6607 - val_loss: 0.5424 - val_accuracy: 0.7208\n",
            "Epoch 3/10\n",
            "19/19 [==============================] - 22s 1s/step - loss: 0.5127 - accuracy: 0.7286 - val_loss: 0.4586 - val_accuracy: 0.7625\n",
            "Epoch 4/10\n",
            "19/19 [==============================] - 23s 1s/step - loss: 0.4211 - accuracy: 0.7946 - val_loss: 0.4288 - val_accuracy: 0.8375\n",
            "Epoch 5/10\n",
            "19/19 [==============================] - 22s 1s/step - loss: 0.3704 - accuracy: 0.8232 - val_loss: 0.3419 - val_accuracy: 0.8583\n",
            "Epoch 6/10\n",
            "19/19 [==============================] - 23s 1s/step - loss: 0.3276 - accuracy: 0.8464 - val_loss: 0.3311 - val_accuracy: 0.8833\n",
            "Epoch 7/10\n",
            "19/19 [==============================] - 23s 1s/step - loss: 0.2750 - accuracy: 0.8786 - val_loss: 0.3080 - val_accuracy: 0.8792\n",
            "Epoch 8/10\n",
            "19/19 [==============================] - 24s 1s/step - loss: 0.2566 - accuracy: 0.8911 - val_loss: 0.4284 - val_accuracy: 0.8417\n",
            "Epoch 9/10\n",
            "19/19 [==============================] - 22s 1s/step - loss: 0.2462 - accuracy: 0.8964 - val_loss: 0.2891 - val_accuracy: 0.8708\n",
            "Epoch 10/10\n",
            "19/19 [==============================] - 22s 1s/step - loss: 0.1948 - accuracy: 0.9214 - val_loss: 0.2780 - val_accuracy: 0.8917\n"
          ]
        }
      ],
      "source": [
        "model.compile(loss=['binary_crossentropy'], optimizer='adam', metrics=['accuracy'])\n",
        "history1 = model.fit(x=X_Clahe, y=y_gender, batch_size=30, epochs=10, validation_split=0.3)"
      ]
    },
    {
      "cell_type": "code",
      "execution_count": null,
      "metadata": {
        "colab": {
          "base_uri": "https://localhost:8080/",
          "height": 367
        },
        "id": "LeQHiU-J1M4Y",
        "outputId": "ef27bbe9-ab08-42cc-c457-cd7574f388df"
      },
      "outputs": [
        {
          "output_type": "stream",
          "name": "stdout",
          "text": [
            "4/4 [==============================] - 1s 232ms/step\n"
          ]
        },
        {
          "output_type": "display_data",
          "data": {
            "text/plain": [
              "<Figure size 360x360 with 1 Axes>"
            ],
            "image/png": "[encoded data removed]"
          },
          "metadata": {
            "needs_background": "light"
          }
        }
      ],
      "source": [
        "pred1 = model.predict(testset)\n",
        "rounded_pred1 = np.round(pred1)\n",
        "\n",
        "res1 = tf.math.confusion_matrix(test_gender,rounded_pred1)\n",
        "import seaborn as sn\n",
        "\n",
        "plt.figure(figsize=(5,5))\n",
        "ax= plt.subplot()\n",
        "sn.heatmap(res1, annot=True, fmt = 'd', ax= ax ,cbar=False)\n",
        "\n",
        "# labels, title and ticks\n",
        "ax.set_xlabel('Predicted Gender');ax.set_ylabel('True Gender');\n",
        "ax.set_title('Confusion Matrix');\n",
        "ax.xaxis.set_ticklabels(['Male', 'Female']); ax.yaxis.set_ticklabels(['Male', 'Female']);"
      ]
    },
    {
      "cell_type": "code",
      "execution_count": null,
      "metadata": {
        "colab": {
          "base_uri": "https://localhost:8080/"
        },
        "id": "GJvUBDu4iaO9",
        "outputId": "76e3eee3-b8af-4364-cf14-cd478872739c"
      },
      "outputs": [
        {
          "output_type": "stream",
          "name": "stdout",
          "text": [
            "4/4 [==============================] - 3s 575ms/step - loss: 20.8039 - accuracy: 0.8750\n"
          ]
        },
        {
          "output_type": "execute_result",
          "data": {
            "text/plain": [
              "[20.80386734008789, 0.875]"
            ]
          },
          "metadata": {},
          "execution_count": 24
        }
      ],
      "source": [
        "model.evaluate(testset, test_gender)"
      ]
    },
    {
      "cell_type": "code",
      "execution_count": null,
      "metadata": {
        "id": "EfDWbrqXhHZ8"
      },
      "outputs": [],
      "source": [
        "!rm -rf 'Train Dataset'"
      ]
    },
    {
      "cell_type": "markdown",
      "source": [
        "HyperParameter 2"
      ],
      "metadata": {
        "id": "RdWyPEqAAp13"
      }
    },
    {
      "cell_type": "code",
      "source": [
        "model.compile(loss=['binary_crossentropy'], optimizer='adam', metrics=['accuracy'])\n",
        "history2 = model.fit(x=X_Clahe, y=y_gender, batch_size=40, epochs=10, validation_split=0.3)"
      ],
      "metadata": {
        "id": "D-W0rsVqApEd",
        "colab": {
          "base_uri": "https://localhost:8080/"
        },
        "outputId": "0b14a684-a9d5-41ae-98ba-b4720cde8a7d"
      },
      "execution_count": null,
      "outputs": [
        {
          "output_type": "stream",
          "name": "stdout",
          "text": [
            "Epoch 1/10\n",
            "14/14 [==============================] - 22s 1s/step - loss: 0.6642 - accuracy: 0.6000 - val_loss: 0.6477 - val_accuracy: 0.6083\n",
            "Epoch 2/10\n",
            "14/14 [==============================] - 21s 1s/step - loss: 0.6042 - accuracy: 0.6732 - val_loss: 0.5694 - val_accuracy: 0.6833\n",
            "Epoch 3/10\n",
            "14/14 [==============================] - 22s 2s/step - loss: 0.5207 - accuracy: 0.7536 - val_loss: 0.4762 - val_accuracy: 0.7708\n",
            "Epoch 4/10\n",
            "14/14 [==============================] - 21s 1s/step - loss: 0.4306 - accuracy: 0.7857 - val_loss: 0.3854 - val_accuracy: 0.8708\n",
            "Epoch 5/10\n",
            "14/14 [==============================] - 21s 1s/step - loss: 0.3762 - accuracy: 0.8429 - val_loss: 0.3434 - val_accuracy: 0.8792\n",
            "Epoch 6/10\n",
            "14/14 [==============================] - 21s 1s/step - loss: 0.3170 - accuracy: 0.8696 - val_loss: 0.2863 - val_accuracy: 0.8917\n",
            "Epoch 7/10\n",
            "14/14 [==============================] - 21s 1s/step - loss: 0.2742 - accuracy: 0.8786 - val_loss: 0.3494 - val_accuracy: 0.8417\n",
            "Epoch 8/10\n",
            "14/14 [==============================] - 21s 1s/step - loss: 0.2325 - accuracy: 0.8946 - val_loss: 0.3358 - val_accuracy: 0.8917\n",
            "Epoch 9/10\n",
            "14/14 [==============================] - 21s 1s/step - loss: 0.1862 - accuracy: 0.9232 - val_loss: 0.2959 - val_accuracy: 0.8833\n",
            "Epoch 10/10\n",
            "14/14 [==============================] - 22s 2s/step - loss: 0.2004 - accuracy: 0.9179 - val_loss: 0.2759 - val_accuracy: 0.8917\n"
          ]
        }
      ]
    },
    {
      "cell_type": "code",
      "source": [
        "pred2 = model.predict(testset)\n",
        "rounded_pred2 = np.round(pred2)\n",
        "\n",
        "res2 = tf.math.confusion_matrix(test_gender,rounded_pred2)\n",
        "import seaborn as sn\n",
        "\n",
        "plt.figure(figsize=(5,5))\n",
        "ax= plt.subplot()\n",
        "sn.heatmap(res2, annot=True, fmt = 'd', ax= ax ,cbar=False)\n",
        "\n",
        "# labels, title and ticks\n",
        "ax.set_xlabel('Predicted Gender');ax.set_ylabel('True Gender');\n",
        "ax.set_title('Confusion Matrix');\n",
        "ax.xaxis.set_ticklabels(['Male', 'Female']); ax.yaxis.set_ticklabels(['Male', 'Female']);"
      ],
      "metadata": {
        "id": "YAaxtkGwA0tC",
        "colab": {
          "base_uri": "https://localhost:8080/",
          "height": 367
        },
        "outputId": "55eebfb6-2e01-4688-cd96-737490d60ba8"
      },
      "execution_count": null,
      "outputs": [
        {
          "output_type": "stream",
          "name": "stdout",
          "text": [
            "4/4 [==============================] - 1s 225ms/step\n"
          ]
        },
        {
          "output_type": "display_data",
          "data": {
            "text/plain": [
              "<Figure size 360x360 with 1 Axes>"
            ],
            "image/png": "[encoded data removed]"
          },
          "metadata": {
            "needs_background": "light"
          }
        }
      ]
    },
    {
      "cell_type": "code",
      "source": [
        "model.evaluate(testset, test_gender)"
      ],
      "metadata": {
        "id": "MKuP4Az0A0Zs",
        "colab": {
          "base_uri": "https://localhost:8080/"
        },
        "outputId": "fef1c9c1-9288-4b8d-8c3b-60d6df22f5cc"
      },
      "execution_count": null,
      "outputs": [
        {
          "output_type": "stream",
          "name": "stdout",
          "text": [
            "4/4 [==============================] - 1s 219ms/step - loss: 22.9535 - accuracy: 0.8558\n"
          ]
        },
        {
          "output_type": "execute_result",
          "data": {
            "text/plain": [
              "[22.953472137451172, 0.8557692170143127]"
            ]
          },
          "metadata": {},
          "execution_count": 35
        }
      ]
    },
    {
      "cell_type": "markdown",
      "source": [
        "Hyperparameter 3"
      ],
      "metadata": {
        "id": "2WWW96GqA6Ju"
      }
    },
    {
      "cell_type": "code",
      "source": [
        "model.compile(loss=['binary_crossentropy'], optimizer='adam', metrics=['accuracy'])\n",
        "history3 = model.fit(x=X_Clahe, y=y_gender, batch_size=30, epochs=20, validation_split=0.3)"
      ],
      "metadata": {
        "id": "5MSiK6SrA3_W",
        "colab": {
          "base_uri": "https://localhost:8080/"
        },
        "outputId": "1e69509e-019d-467d-fa72-545fa67aa162"
      },
      "execution_count": null,
      "outputs": [
        {
          "output_type": "stream",
          "name": "stdout",
          "text": [
            "Epoch 1/20\n",
            "19/19 [==============================] - 22s 1s/step - loss: 0.6518 - accuracy: 0.6339 - val_loss: 0.6256 - val_accuracy: 0.6083\n",
            "Epoch 2/20\n",
            "19/19 [==============================] - 21s 1s/step - loss: 0.5800 - accuracy: 0.6857 - val_loss: 0.4993 - val_accuracy: 0.7625\n",
            "Epoch 3/20\n",
            "19/19 [==============================] - 21s 1s/step - loss: 0.4819 - accuracy: 0.7696 - val_loss: 0.4444 - val_accuracy: 0.8208\n",
            "Epoch 4/20\n",
            "19/19 [==============================] - 21s 1s/step - loss: 0.3857 - accuracy: 0.8161 - val_loss: 0.3434 - val_accuracy: 0.8708\n",
            "Epoch 5/20\n",
            "19/19 [==============================] - 21s 1s/step - loss: 0.3443 - accuracy: 0.8429 - val_loss: 0.3089 - val_accuracy: 0.8750\n",
            "Epoch 6/20\n",
            "19/19 [==============================] - 21s 1s/step - loss: 0.2780 - accuracy: 0.8893 - val_loss: 0.3513 - val_accuracy: 0.8458\n",
            "Epoch 7/20\n",
            "19/19 [==============================] - 22s 1s/step - loss: 0.2514 - accuracy: 0.8893 - val_loss: 0.4642 - val_accuracy: 0.7958\n",
            "Epoch 8/20\n",
            "19/19 [==============================] - 21s 1s/step - loss: 0.2818 - accuracy: 0.8786 - val_loss: 0.2922 - val_accuracy: 0.8958\n",
            "Epoch 9/20\n",
            "19/19 [==============================] - 21s 1s/step - loss: 0.1996 - accuracy: 0.9143 - val_loss: 0.2933 - val_accuracy: 0.9000\n",
            "Epoch 10/20\n",
            "19/19 [==============================] - 21s 1s/step - loss: 0.1436 - accuracy: 0.9375 - val_loss: 0.4050 - val_accuracy: 0.8792\n",
            "Epoch 11/20\n",
            "19/19 [==============================] - 21s 1s/step - loss: 0.1356 - accuracy: 0.9464 - val_loss: 0.3004 - val_accuracy: 0.8833\n",
            "Epoch 12/20\n",
            "19/19 [==============================] - 21s 1s/step - loss: 0.1097 - accuracy: 0.9500 - val_loss: 0.3494 - val_accuracy: 0.8792\n",
            "Epoch 13/20\n",
            "19/19 [==============================] - 21s 1s/step - loss: 0.0796 - accuracy: 0.9750 - val_loss: 0.3531 - val_accuracy: 0.8917\n",
            "Epoch 14/20\n",
            "19/19 [==============================] - 22s 1s/step - loss: 0.0586 - accuracy: 0.9750 - val_loss: 0.4196 - val_accuracy: 0.8833\n",
            "Epoch 15/20\n",
            "19/19 [==============================] - 21s 1s/step - loss: 0.0514 - accuracy: 0.9821 - val_loss: 0.5523 - val_accuracy: 0.8875\n",
            "Epoch 16/20\n",
            "19/19 [==============================] - 21s 1s/step - loss: 0.0536 - accuracy: 0.9839 - val_loss: 0.4717 - val_accuracy: 0.9000\n",
            "Epoch 17/20\n",
            "19/19 [==============================] - 21s 1s/step - loss: 0.0752 - accuracy: 0.9625 - val_loss: 0.4223 - val_accuracy: 0.8958\n",
            "Epoch 18/20\n",
            "19/19 [==============================] - 21s 1s/step - loss: 0.0461 - accuracy: 0.9857 - val_loss: 0.4312 - val_accuracy: 0.8750\n",
            "Epoch 19/20\n",
            "19/19 [==============================] - 21s 1s/step - loss: 0.0312 - accuracy: 0.9911 - val_loss: 0.5019 - val_accuracy: 0.8958\n",
            "Epoch 20/20\n",
            "19/19 [==============================] - 21s 1s/step - loss: 0.0111 - accuracy: 0.9982 - val_loss: 0.5777 - val_accuracy: 0.8958\n"
          ]
        }
      ]
    },
    {
      "cell_type": "code",
      "source": [
        "pred3 = model.predict(testset)\n",
        "rounded_pred3 = np.round(pred3)\n",
        "\n",
        "res3 = tf.math.confusion_matrix(test_gender,rounded_pred3)\n",
        "import seaborn as sn\n",
        "\n",
        "plt.figure(figsize=(5,5))\n",
        "ax= plt.subplot()\n",
        "sn.heatmap(res3, annot=True, fmt = 'd', ax= ax ,cbar=False)\n",
        "\n",
        "# labels, title and ticks\n",
        "ax.set_xlabel('Predicted Gender');ax.set_ylabel('True Gender');\n",
        "ax.set_title('Confusion Matrix');\n",
        "ax.xaxis.set_ticklabels(['Male', 'Female']); ax.yaxis.set_ticklabels(['Male', 'Female']);"
      ],
      "metadata": {
        "id": "mmLreJ8tBCKL",
        "colab": {
          "base_uri": "https://localhost:8080/",
          "height": 367
        },
        "outputId": "c19ba5e6-8d19-4765-c154-18abb11224c8"
      },
      "execution_count": null,
      "outputs": [
        {
          "output_type": "stream",
          "name": "stdout",
          "text": [
            "4/4 [==============================] - 1s 217ms/step\n"
          ]
        },
        {
          "output_type": "display_data",
          "data": {
            "text/plain": [
              "<Figure size 360x360 with 1 Axes>"
            ],
            "image/png": "[encoded data removed]"
          },
          "metadata": {
            "needs_background": "light"
          }
        }
      ]
    },
    {
      "cell_type": "code",
      "source": [
        "model.evaluate(testset, test_gender)"
      ],
      "metadata": {
        "id": "DoZp05KEBB8L",
        "colab": {
          "base_uri": "https://localhost:8080/"
        },
        "outputId": "667145a6-aaa6-4cdb-e67e-25943f3c256f"
      },
      "execution_count": null,
      "outputs": [
        {
          "output_type": "stream",
          "name": "stdout",
          "text": [
            "4/4 [==============================] - 1s 219ms/step - loss: 41.2300 - accuracy: 0.9327\n"
          ]
        },
        {
          "output_type": "execute_result",
          "data": {
            "text/plain": [
              "[41.22998046875, 0.932692289352417]"
            ]
          },
          "metadata": {},
          "execution_count": 39
        }
      ]
    },
    {
      "cell_type": "markdown",
      "source": [
        "Hyperparameter 4"
      ],
      "metadata": {
        "id": "sSMCMt5MBFts"
      }
    },
    {
      "cell_type": "code",
      "source": [
        "model.compile(loss=['binary_crossentropy'], optimizer='adam', metrics=['accuracy'])\n",
        "history4 = model.fit(x=X_Clahe, y=y_gender, batch_size=40, epochs=20, validation_split=0.3)"
      ],
      "metadata": {
        "id": "ys9nMIvSBIOr",
        "colab": {
          "base_uri": "https://localhost:8080/"
        },
        "outputId": "bc16d410-903b-47c5-e445-4ffdcfd86f48"
      },
      "execution_count": null,
      "outputs": [
        {
          "output_type": "stream",
          "name": "stdout",
          "text": [
            "Epoch 1/20\n",
            "14/14 [==============================] - 22s 1s/step - loss: 0.6864 - accuracy: 0.5821 - val_loss: 0.6679 - val_accuracy: 0.6083\n",
            "Epoch 2/20\n",
            "14/14 [==============================] - 21s 1s/step - loss: 0.6177 - accuracy: 0.6554 - val_loss: 0.5664 - val_accuracy: 0.6958\n",
            "Epoch 3/20\n",
            "14/14 [==============================] - 21s 1s/step - loss: 0.5474 - accuracy: 0.7214 - val_loss: 0.5140 - val_accuracy: 0.7625\n",
            "Epoch 4/20\n",
            "14/14 [==============================] - 21s 1s/step - loss: 0.4786 - accuracy: 0.7625 - val_loss: 0.5036 - val_accuracy: 0.7292\n",
            "Epoch 5/20\n",
            "14/14 [==============================] - 21s 1s/step - loss: 0.4391 - accuracy: 0.7875 - val_loss: 0.4077 - val_accuracy: 0.8458\n",
            "Epoch 6/20\n",
            "14/14 [==============================] - 21s 1s/step - loss: 0.3853 - accuracy: 0.8214 - val_loss: 0.3532 - val_accuracy: 0.8542\n",
            "Epoch 7/20\n",
            "14/14 [==============================] - 21s 1s/step - loss: 0.3292 - accuracy: 0.8482 - val_loss: 0.3196 - val_accuracy: 0.8833\n",
            "Epoch 8/20\n",
            "14/14 [==============================] - 22s 2s/step - loss: 0.2884 - accuracy: 0.8643 - val_loss: 0.3242 - val_accuracy: 0.8833\n",
            "Epoch 9/20\n",
            "14/14 [==============================] - 21s 1s/step - loss: 0.2806 - accuracy: 0.8893 - val_loss: 0.3528 - val_accuracy: 0.8625\n",
            "Epoch 10/20\n",
            "14/14 [==============================] - 21s 2s/step - loss: 0.2411 - accuracy: 0.8875 - val_loss: 0.3021 - val_accuracy: 0.8917\n",
            "Epoch 11/20\n",
            "14/14 [==============================] - 21s 1s/step - loss: 0.2215 - accuracy: 0.9107 - val_loss: 0.3239 - val_accuracy: 0.8875\n",
            "Epoch 12/20\n",
            "14/14 [==============================] - 21s 2s/step - loss: 0.1759 - accuracy: 0.9196 - val_loss: 0.3190 - val_accuracy: 0.8750\n",
            "Epoch 13/20\n",
            "14/14 [==============================] - 21s 2s/step - loss: 0.1562 - accuracy: 0.9393 - val_loss: 0.3518 - val_accuracy: 0.8833\n",
            "Epoch 14/20\n",
            "14/14 [==============================] - 21s 1s/step - loss: 0.1075 - accuracy: 0.9625 - val_loss: 0.3476 - val_accuracy: 0.9083\n",
            "Epoch 15/20\n",
            "14/14 [==============================] - 21s 1s/step - loss: 0.1071 - accuracy: 0.9536 - val_loss: 0.3404 - val_accuracy: 0.8750\n",
            "Epoch 16/20\n",
            "14/14 [==============================] - 22s 2s/step - loss: 0.0841 - accuracy: 0.9643 - val_loss: 0.4581 - val_accuracy: 0.8750\n",
            "Epoch 17/20\n",
            "14/14 [==============================] - 21s 1s/step - loss: 0.0708 - accuracy: 0.9786 - val_loss: 0.3547 - val_accuracy: 0.9042\n",
            "Epoch 18/20\n",
            "14/14 [==============================] - 21s 2s/step - loss: 0.0516 - accuracy: 0.9857 - val_loss: 0.4420 - val_accuracy: 0.9083\n",
            "Epoch 19/20\n",
            "14/14 [==============================] - 21s 1s/step - loss: 0.0336 - accuracy: 0.9893 - val_loss: 0.4909 - val_accuracy: 0.8667\n",
            "Epoch 20/20\n",
            "14/14 [==============================] - 21s 1s/step - loss: 0.0201 - accuracy: 0.9964 - val_loss: 0.5724 - val_accuracy: 0.8958\n"
          ]
        }
      ]
    },
    {
      "cell_type": "code",
      "source": [
        "pred4 = model.predict(testset)\n",
        "rounded_pred4 = np.round(pred4)\n",
        "\n",
        "res4 = tf.math.confusion_matrix(test_gender,rounded_pred4)\n",
        "import seaborn as sn\n",
        "\n",
        "plt.figure(figsize=(5,5))\n",
        "ax= plt.subplot()\n",
        "sn.heatmap(res4, annot=True, fmt = 'd', ax= ax ,cbar=False)\n",
        "\n",
        "# labels, title and ticks\n",
        "ax.set_xlabel('Predicted Gender');ax.set_ylabel('True Gender');\n",
        "ax.set_title('Confusion Matrix');\n",
        "ax.xaxis.set_ticklabels(['Male', 'Female']); ax.yaxis.set_ticklabels(['Male', 'Female']);"
      ],
      "metadata": {
        "id": "oj3GzJ1NBJpg",
        "colab": {
          "base_uri": "https://localhost:8080/",
          "height": 367
        },
        "outputId": "6940d9cb-11f0-4297-d85d-dbda9611def1"
      },
      "execution_count": null,
      "outputs": [
        {
          "output_type": "stream",
          "name": "stdout",
          "text": [
            "4/4 [==============================] - 1s 226ms/step\n"
          ]
        },
        {
          "output_type": "display_data",
          "data": {
            "text/plain": [
              "<Figure size 360x360 with 1 Axes>"
            ],
            "image/png": "[encoded data removed]"
          },
          "metadata": {
            "needs_background": "light"
          }
        }
      ]
    },
    {
      "cell_type": "code",
      "source": [
        "model.evaluate(testset, test_gender)"
      ],
      "metadata": {
        "id": "5Fqv_Dw8BJgQ",
        "colab": {
          "base_uri": "https://localhost:8080/"
        },
        "outputId": "39c817d7-2e4e-4876-8ef0-07ff7d77d7d7"
      },
      "execution_count": null,
      "outputs": [
        {
          "output_type": "stream",
          "name": "stdout",
          "text": [
            "4/4 [==============================] - 1s 258ms/step - loss: 46.5860 - accuracy: 0.8942\n"
          ]
        },
        {
          "output_type": "execute_result",
          "data": {
            "text/plain": [
              "[46.58596420288086, 0.8942307829856873]"
            ]
          },
          "metadata": {},
          "execution_count": 43
        }
      ]
    }
  ],
  "metadata": {
    "colab": {
      "provenance": []
    },
    "kernelspec": {
      "display_name": "Python 3",
      "name": "python3"
    },
    "language_info": {
      "name": "python"
    },
    "widgets": {
      "application/vnd.jupyter.widget-state+json": {
        "1d57cd62264543fd9c6f4bc805983c6f": {
          "model_module": "@jupyter-widgets/controls",
          "model_name": "HBoxModel",
          "model_module_version": "1.5.0",
          "state": {
            "_dom_classes": [],
            "_model_module": "@jupyter-widgets/controls",
            "_model_module_version": "1.5.0",
            "_model_name": "HBoxModel",
            "_view_count": null,
            "_view_module": "@jupyter-widgets/controls",
            "_view_module_version": "1.5.0",
            "_view_name": "HBoxView",
            "box_style": "",
            "children": [
              "IPY_MODEL_1f055e96daac4cc4a261c02240f15b50",
              "IPY_MODEL_4a5a0591cdb4491583091d3b3c35b0f1",
              "IPY_MODEL_6cd96060824b4fabb1cd526a9d05bdbe"
            ],
            "layout": "IPY_MODEL_13e1a4fd5e744ac8a29ba1860792f3c7"
          }
        },
        "1f055e96daac4cc4a261c02240f15b50": {
          "model_module": "@jupyter-widgets/controls",
          "model_name": "HTMLModel",
          "model_module_version": "1.5.0",
          "state": {
            "_dom_classes": [],
            "_model_module": "@jupyter-widgets/controls",
            "_model_module_version": "1.5.0",
            "_model_name": "HTMLModel",
            "_view_count": null,
            "_view_module": "@jupyter-widgets/controls",
            "_view_module_version": "1.5.0",
            "_view_name": "HTMLView",
            "description": "",
            "description_tooltip": null,
            "layout": "IPY_MODEL_4304e6667a6744e08570e468fc3ebf07",
            "placeholder": "​",
            "style": "IPY_MODEL_45627b16fcb94b00b589d81550a4c523",
            "value": "100%"
          }
        },
        "4a5a0591cdb4491583091d3b3c35b0f1": {
          "model_module": "@jupyter-widgets/controls",
          "model_name": "FloatProgressModel",
          "model_module_version": "1.5.0",
          "state": {
            "_dom_classes": [],
            "_model_module": "@jupyter-widgets/controls",
            "_model_module_version": "1.5.0",
            "_model_name": "FloatProgressModel",
            "_view_count": null,
            "_view_module": "@jupyter-widgets/controls",
            "_view_module_version": "1.5.0",
            "_view_name": "ProgressView",
            "bar_style": "success",
            "description": "",
            "description_tooltip": null,
            "layout": "IPY_MODEL_586cb4d28ba44e2eb6e2a67bf12ccdc2",
            "max": 104,
            "min": 0,
            "orientation": "horizontal",
            "style": "IPY_MODEL_ac160e40ccde463dba57bbdaa3439674",
            "value": 104
          }
        },
        "6cd96060824b4fabb1cd526a9d05bdbe": {
          "model_module": "@jupyter-widgets/controls",
          "model_name": "HTMLModel",
          "model_module_version": "1.5.0",
          "state": {
            "_dom_classes": [],
            "_model_module": "@jupyter-widgets/controls",
            "_model_module_version": "1.5.0",
            "_model_name": "HTMLModel",
            "_view_count": null,
            "_view_module": "@jupyter-widgets/controls",
            "_view_module_version": "1.5.0",
            "_view_name": "HTMLView",
            "description": "",
            "description_tooltip": null,
            "layout": "IPY_MODEL_1e68b54ebdc047cf820a7d5442971bd9",
            "placeholder": "​",
            "style": "IPY_MODEL_0e4f88ba57f64d099edd259ae3fa7d03",
            "value": " 104/104 [00:00&lt;00:00, 442.82it/s]"
          }
        },
        "13e1a4fd5e744ac8a29ba1860792f3c7": {
          "model_module": "@jupyter-widgets/base",
          "model_name": "LayoutModel",
          "model_module_version": "1.2.0",
          "state": {
            "_model_module": "@jupyter-widgets/base",
            "_model_module_version": "1.2.0",
            "_model_name": "LayoutModel",
            "_view_count": null,
            "_view_module": "@jupyter-widgets/base",
            "_view_module_version": "1.2.0",
            "_view_name": "LayoutView",
            "align_content": null,
            "align_items": null,
            "align_self": null,
            "border": null,
            "bottom": null,
            "display": null,
            "flex": null,
            "flex_flow": null,
            "grid_area": null,
            "grid_auto_columns": null,
            "grid_auto_flow": null,
            "grid_auto_rows": null,
            "grid_column": null,
            "grid_gap": null,
            "grid_row": null,
            "grid_template_areas": null,
            "grid_template_columns": null,
            "grid_template_rows": null,
            "height": null,
            "justify_content": null,
            "justify_items": null,
            "left": null,
            "margin": null,
            "max_height": null,
            "max_width": null,
            "min_height": null,
            "min_width": null,
            "object_fit": null,
            "object_position": null,
            "order": null,
            "overflow": null,
            "overflow_x": null,
            "overflow_y": null,
            "padding": null,
            "right": null,
            "top": null,
            "visibility": null,
            "width": null
          }
        },
        "4304e6667a6744e08570e468fc3ebf07": {
          "model_module": "@jupyter-widgets/base",
          "model_name": "LayoutModel",
          "model_module_version": "1.2.0",
          "state": {
            "_model_module": "@jupyter-widgets/base",
            "_model_module_version": "1.2.0",
            "_model_name": "LayoutModel",
            "_view_count": null,
            "_view_module": "@jupyter-widgets/base",
            "_view_module_version": "1.2.0",
            "_view_name": "LayoutView",
            "align_content": null,
            "align_items": null,
            "align_self": null,
            "border": null,
            "bottom": null,
            "display": null,
            "flex": null,
            "flex_flow": null,
            "grid_area": null,
            "grid_auto_columns": null,
            "grid_auto_flow": null,
            "grid_auto_rows": null,
            "grid_column": null,
            "grid_gap": null,
            "grid_row": null,
            "grid_template_areas": null,
            "grid_template_columns": null,
            "grid_template_rows": null,
            "height": null,
            "justify_content": null,
            "justify_items": null,
            "left": null,
            "margin": null,
            "max_height": null,
            "max_width": null,
            "min_height": null,
            "min_width": null,
            "object_fit": null,
            "object_position": null,
            "order": null,
            "overflow": null,
            "overflow_x": null,
            "overflow_y": null,
            "padding": null,
            "right": null,
            "top": null,
            "visibility": null,
            "width": null
          }
        },
        "45627b16fcb94b00b589d81550a4c523": {
          "model_module": "@jupyter-widgets/controls",
          "model_name": "DescriptionStyleModel",
          "model_module_version": "1.5.0",
          "state": {
            "_model_module": "@jupyter-widgets/controls",
            "_model_module_version": "1.5.0",
            "_model_name": "DescriptionStyleModel",
            "_view_count": null,
            "_view_module": "@jupyter-widgets/base",
            "_view_module_version": "1.2.0",
            "_view_name": "StyleView",
            "description_width": ""
          }
        },
        "586cb4d28ba44e2eb6e2a67bf12ccdc2": {
          "model_module": "@jupyter-widgets/base",
          "model_name": "LayoutModel",
          "model_module_version": "1.2.0",
          "state": {
            "_model_module": "@jupyter-widgets/base",
            "_model_module_version": "1.2.0",
            "_model_name": "LayoutModel",
            "_view_count": null,
            "_view_module": "@jupyter-widgets/base",
            "_view_module_version": "1.2.0",
            "_view_name": "LayoutView",
            "align_content": null,
            "align_items": null,
            "align_self": null,
            "border": null,
            "bottom": null,
            "display": null,
            "flex": null,
            "flex_flow": null,
            "grid_area": null,
            "grid_auto_columns": null,
            "grid_auto_flow": null,
            "grid_auto_rows": null,
            "grid_column": null,
            "grid_gap": null,
            "grid_row": null,
            "grid_template_areas": null,
            "grid_template_columns": null,
            "grid_template_rows": null,
            "height": null,
            "justify_content": null,
            "justify_items": null,
            "left": null,
            "margin": null,
            "max_height": null,
            "max_width": null,
            "min_height": null,
            "min_width": null,
            "object_fit": null,
            "object_position": null,
            "order": null,
            "overflow": null,
            "overflow_x": null,
            "overflow_y": null,
            "padding": null,
            "right": null,
            "top": null,
            "visibility": null,
            "width": null
          }
        },
        "ac160e40ccde463dba57bbdaa3439674": {
          "model_module": "@jupyter-widgets/controls",
          "model_name": "ProgressStyleModel",
          "model_module_version": "1.5.0",
          "state": {
            "_model_module": "@jupyter-widgets/controls",
            "_model_module_version": "1.5.0",
            "_model_name": "ProgressStyleModel",
            "_view_count": null,
            "_view_module": "@jupyter-widgets/base",
            "_view_module_version": "1.2.0",
            "_view_name": "StyleView",
            "bar_color": null,
            "description_width": ""
          }
        },
        "1e68b54ebdc047cf820a7d5442971bd9": {
          "model_module": "@jupyter-widgets/base",
          "model_name": "LayoutModel",
          "model_module_version": "1.2.0",
          "state": {
            "_model_module": "@jupyter-widgets/base",
            "_model_module_version": "1.2.0",
            "_model_name": "LayoutModel",
            "_view_count": null,
            "_view_module": "@jupyter-widgets/base",
            "_view_module_version": "1.2.0",
            "_view_name": "LayoutView",
            "align_content": null,
            "align_items": null,
            "align_self": null,
            "border": null,
            "bottom": null,
            "display": null,
            "flex": null,
            "flex_flow": null,
            "grid_area": null,
            "grid_auto_columns": null,
            "grid_auto_flow": null,
            "grid_auto_rows": null,
            "grid_column": null,
            "grid_gap": null,
            "grid_row": null,
            "grid_template_areas": null,
            "grid_template_columns": null,
            "grid_template_rows": null,
            "height": null,
            "justify_content": null,
            "justify_items": null,
            "left": null,
            "margin": null,
            "max_height": null,
            "max_width": null,
            "min_height": null,
            "min_width": null,
            "object_fit": null,
            "object_position": null,
            "order": null,
            "overflow": null,
            "overflow_x": null,
            "overflow_y": null,
            "padding": null,
            "right": null,
            "top": null,
            "visibility": null,
            "width": null
          }
        },
        "0e4f88ba57f64d099edd259ae3fa7d03": {
          "model_module": "@jupyter-widgets/controls",
          "model_name": "DescriptionStyleModel",
          "model_module_version": "1.5.0",
          "state": {
            "_model_module": "@jupyter-widgets/controls",
            "_model_module_version": "1.5.0",
            "_model_name": "DescriptionStyleModel",
            "_view_count": null,
            "_view_module": "@jupyter-widgets/base",
            "_view_module_version": "1.2.0",
            "_view_name": "StyleView",
            "description_width": ""
          }
        },
        "96c824c0f47a4a6dbcbb0b067f0e3486": {
          "model_module": "@jupyter-widgets/controls",
          "model_name": "HBoxModel",
          "model_module_version": "1.5.0",
          "state": {
            "_dom_classes": [],
            "_model_module": "@jupyter-widgets/controls",
            "_model_module_version": "1.5.0",
            "_model_name": "HBoxModel",
            "_view_count": null,
            "_view_module": "@jupyter-widgets/controls",
            "_view_module_version": "1.5.0",
            "_view_name": "HBoxView",
            "box_style": "",
            "children": [
              "IPY_MODEL_6e9314edaed14337925c96f985d6b44f",
              "IPY_MODEL_3a51aade38944df4a68aaf1ec636c311",
              "IPY_MODEL_d2e9076dc4b24026bacdd10b3f1c53cf"
            ],
            "layout": "IPY_MODEL_31acff078172448e829805d6083d1eb4"
          }
        },
        "6e9314edaed14337925c96f985d6b44f": {
          "model_module": "@jupyter-widgets/controls",
          "model_name": "HTMLModel",
          "model_module_version": "1.5.0",
          "state": {
            "_dom_classes": [],
            "_model_module": "@jupyter-widgets/controls",
            "_model_module_version": "1.5.0",
            "_model_name": "HTMLModel",
            "_view_count": null,
            "_view_module": "@jupyter-widgets/controls",
            "_view_module_version": "1.5.0",
            "_view_name": "HTMLView",
            "description": "",
            "description_tooltip": null,
            "layout": "IPY_MODEL_5789c64470a342c7b560da2f6304d4bb",
            "placeholder": "​",
            "style": "IPY_MODEL_8efe55088f45476f8a1f665f90b0fe6d",
            "value": "100%"
          }
        },
        "3a51aade38944df4a68aaf1ec636c311": {
          "model_module": "@jupyter-widgets/controls",
          "model_name": "FloatProgressModel",
          "model_module_version": "1.5.0",
          "state": {
            "_dom_classes": [],
            "_model_module": "@jupyter-widgets/controls",
            "_model_module_version": "1.5.0",
            "_model_name": "FloatProgressModel",
            "_view_count": null,
            "_view_module": "@jupyter-widgets/controls",
            "_view_module_version": "1.5.0",
            "_view_name": "ProgressView",
            "bar_style": "success",
            "description": "",
            "description_tooltip": null,
            "layout": "IPY_MODEL_3da258e558684fde8f3cc8aeaf5f831e",
            "max": 800,
            "min": 0,
            "orientation": "horizontal",
            "style": "IPY_MODEL_020b65ffff2c4336a71e0da8bce057fa",
            "value": 800
          }
        },
        "d2e9076dc4b24026bacdd10b3f1c53cf": {
          "model_module": "@jupyter-widgets/controls",
          "model_name": "HTMLModel",
          "model_module_version": "1.5.0",
          "state": {
            "_dom_classes": [],
            "_model_module": "@jupyter-widgets/controls",
            "_model_module_version": "1.5.0",
            "_model_name": "HTMLModel",
            "_view_count": null,
            "_view_module": "@jupyter-widgets/controls",
            "_view_module_version": "1.5.0",
            "_view_name": "HTMLView",
            "description": "",
            "description_tooltip": null,
            "layout": "IPY_MODEL_016b6fe2eaf544dfb8db191401c3e5cb",
            "placeholder": "​",
            "style": "IPY_MODEL_df90ea2d1983400ca96692dcaaeddf7d",
            "value": " 800/800 [00:01&lt;00:00, 459.12it/s]"
          }
        },
        "31acff078172448e829805d6083d1eb4": {
          "model_module": "@jupyter-widgets/base",
          "model_name": "LayoutModel",
          "model_module_version": "1.2.0",
          "state": {
            "_model_module": "@jupyter-widgets/base",
            "_model_module_version": "1.2.0",
            "_model_name": "LayoutModel",
            "_view_count": null,
            "_view_module": "@jupyter-widgets/base",
            "_view_module_version": "1.2.0",
            "_view_name": "LayoutView",
            "align_content": null,
            "align_items": null,
            "align_self": null,
            "border": null,
            "bottom": null,
            "display": null,
            "flex": null,
            "flex_flow": null,
            "grid_area": null,
            "grid_auto_columns": null,
            "grid_auto_flow": null,
            "grid_auto_rows": null,
            "grid_column": null,
            "grid_gap": null,
            "grid_row": null,
            "grid_template_areas": null,
            "grid_template_columns": null,
            "grid_template_rows": null,
            "height": null,
            "justify_content": null,
            "justify_items": null,
            "left": null,
            "margin": null,
            "max_height": null,
            "max_width": null,
            "min_height": null,
            "min_width": null,
            "object_fit": null,
            "object_position": null,
            "order": null,
            "overflow": null,
            "overflow_x": null,
            "overflow_y": null,
            "padding": null,
            "right": null,
            "top": null,
            "visibility": null,
            "width": null
          }
        },
        "5789c64470a342c7b560da2f6304d4bb": {
          "model_module": "@jupyter-widgets/base",
          "model_name": "LayoutModel",
          "model_module_version": "1.2.0",
          "state": {
            "_model_module": "@jupyter-widgets/base",
            "_model_module_version": "1.2.0",
            "_model_name": "LayoutModel",
            "_view_count": null,
            "_view_module": "@jupyter-widgets/base",
            "_view_module_version": "1.2.0",
            "_view_name": "LayoutView",
            "align_content": null,
            "align_items": null,
            "align_self": null,
            "border": null,
            "bottom": null,
            "display": null,
            "flex": null,
            "flex_flow": null,
            "grid_area": null,
            "grid_auto_columns": null,
            "grid_auto_flow": null,
            "grid_auto_rows": null,
            "grid_column": null,
            "grid_gap": null,
            "grid_row": null,
            "grid_template_areas": null,
            "grid_template_columns": null,
            "grid_template_rows": null,
            "height": null,
            "justify_content": null,
            "justify_items": null,
            "left": null,
            "margin": null,
            "max_height": null,
            "max_width": null,
            "min_height": null,
            "min_width": null,
            "object_fit": null,
            "object_position": null,
            "order": null,
            "overflow": null,
            "overflow_x": null,
            "overflow_y": null,
            "padding": null,
            "right": null,
            "top": null,
            "visibility": null,
            "width": null
          }
        },
        "8efe55088f45476f8a1f665f90b0fe6d": {
          "model_module": "@jupyter-widgets/controls",
          "model_name": "DescriptionStyleModel",
          "model_module_version": "1.5.0",
          "state": {
            "_model_module": "@jupyter-widgets/controls",
            "_model_module_version": "1.5.0",
            "_model_name": "DescriptionStyleModel",
            "_view_count": null,
            "_view_module": "@jupyter-widgets/base",
            "_view_module_version": "1.2.0",
            "_view_name": "StyleView",
            "description_width": ""
          }
        },
        "3da258e558684fde8f3cc8aeaf5f831e": {
          "model_module": "@jupyter-widgets/base",
          "model_name": "LayoutModel",
          "model_module_version": "1.2.0",
          "state": {
            "_model_module": "@jupyter-widgets/base",
            "_model_module_version": "1.2.0",
            "_model_name": "LayoutModel",
            "_view_count": null,
            "_view_module": "@jupyter-widgets/base",
            "_view_module_version": "1.2.0",
            "_view_name": "LayoutView",
            "align_content": null,
            "align_items": null,
            "align_self": null,
            "border": null,
            "bottom": null,
            "display": null,
            "flex": null,
            "flex_flow": null,
            "grid_area": null,
            "grid_auto_columns": null,
            "grid_auto_flow": null,
            "grid_auto_rows": null,
            "grid_column": null,
            "grid_gap": null,
            "grid_row": null,
            "grid_template_areas": null,
            "grid_template_columns": null,
            "grid_template_rows": null,
            "height": null,
            "justify_content": null,
            "justify_items": null,
            "left": null,
            "margin": null,
            "max_height": null,
            "max_width": null,
            "min_height": null,
            "min_width": null,
            "object_fit": null,
            "object_position": null,
            "order": null,
            "overflow": null,
            "overflow_x": null,
            "overflow_y": null,
            "padding": null,
            "right": null,
            "top": null,
            "visibility": null,
            "width": null
          }
        },
        "020b65ffff2c4336a71e0da8bce057fa": {
          "model_module": "@jupyter-widgets/controls",
          "model_name": "ProgressStyleModel",
          "model_module_version": "1.5.0",
          "state": {
            "_model_module": "@jupyter-widgets/controls",
            "_model_module_version": "1.5.0",
            "_model_name": "ProgressStyleModel",
            "_view_count": null,
            "_view_module": "@jupyter-widgets/base",
            "_view_module_version": "1.2.0",
            "_view_name": "StyleView",
            "bar_color": null,
            "description_width": ""
          }
        },
        "016b6fe2eaf544dfb8db191401c3e5cb": {
          "model_module": "@jupyter-widgets/base",
          "model_name": "LayoutModel",
          "model_module_version": "1.2.0",
          "state": {
            "_model_module": "@jupyter-widgets/base",
            "_model_module_version": "1.2.0",
            "_model_name": "LayoutModel",
            "_view_count": null,
            "_view_module": "@jupyter-widgets/base",
            "_view_module_version": "1.2.0",
            "_view_name": "LayoutView",
            "align_content": null,
            "align_items": null,
            "align_self": null,
            "border": null,
            "bottom": null,
            "display": null,
            "flex": null,
            "flex_flow": null,
            "grid_area": null,
            "grid_auto_columns": null,
            "grid_auto_flow": null,
            "grid_auto_rows": null,
            "grid_column": null,
            "grid_gap": null,
            "grid_row": null,
            "grid_template_areas": null,
            "grid_template_columns": null,
            "grid_template_rows": null,
            "height": null,
            "justify_content": null,
            "justify_items": null,
            "left": null,
            "margin": null,
            "max_height": null,
            "max_width": null,
            "min_height": null,
            "min_width": null,
            "object_fit": null,
            "object_position": null,
            "order": null,
            "overflow": null,
            "overflow_x": null,
            "overflow_y": null,
            "padding": null,
            "right": null,
            "top": null,
            "visibility": null,
            "width": null
          }
        },
        "df90ea2d1983400ca96692dcaaeddf7d": {
          "model_module": "@jupyter-widgets/controls",
          "model_name": "DescriptionStyleModel",
          "model_module_version": "1.5.0",
          "state": {
            "_model_module": "@jupyter-widgets/controls",
            "_model_module_version": "1.5.0",
            "_model_name": "DescriptionStyleModel",
            "_view_count": null,
            "_view_module": "@jupyter-widgets/base",
            "_view_module_version": "1.2.0",
            "_view_name": "StyleView",
            "description_width": ""
          }
        }
      }
    }
  },
  "nbformat": 4,
  "nbformat_minor": 0
}